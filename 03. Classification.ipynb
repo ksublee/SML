{
 "cells": [
  {
   "cell_type": "code",
   "execution_count": 1,
   "metadata": {},
   "outputs": [],
   "source": [
    "%matplotlib inline"
   ]
  },
  {
   "cell_type": "markdown",
   "metadata": {},
   "source": [
    "# Classification\n",
    "\n",
    "반응변수가 질적 변수인 경우들이 많이 있다.\n",
    "\n",
    "질적 변수들의 예:\n",
    "\n",
    "\\begin{align*}\n",
    "&\\textrm{eye color} \\in \\{ \\textrm{brown}, \\textrm{blue}, \\textrm{green} \\}  \\\\\n",
    "&\\textrm{email} \\in \\{\\textrm{spam}, \\textrm{ham} \\} \n",
    "\\end{align*}\n",
    "\n",
    "질적 반응변수를 예측하는 분류 (classfication)에 대해 알아보자. 크게 두 가지 방법이 있다.\n",
    "\n",
    "* 주어진 입력 변수 $X$에 대해 클래스를 결정하는 함수 $C(X)$를 찾는 방법  \n",
    "* 입력 변수 $X$가 특정 클래스들에 속하는 확률들을 구하는 방법\n",
    "\n",
    "질적 반응 변수가 두 개의 클래스로 이루어진 경우 선형회귀 방법 또한 잘 작동한다. \n",
    "\n",
    "이 경우, 하나의 클래스에 대한 $Y$값을 0으로, 다른 클래스에 대한 $Y$값을 1로 설정하여 선형회귀를 진행한다.\n",
    "\n",
    "이렇게 하는 것은 나중에 살펴볼 linear discriminat analysis 방법과 동치라고 알려져 있다.\n",
    "\n",
    "하지만, 클래스의 숫자가 늘어나면 선형회귀 방법은 적용하기 어렵다. \n",
    "\n",
    "예를 들어, 응급실에 환자가 도착한 경우, 증상에 따른 분류를 다음의 숫자들로 치환하여 선형회귀를 진행하는 경우를 가정해 보자.\n",
    "\n",
    "$$\n",
    "    Y = \n",
    "\\begin{cases}\n",
    "    1, & \\text{if stroke;} \\\\\n",
    "    2, & \\text{if drug overdose;} \\\\\n",
    "    3, & \\text{if epileptic seizure.}\n",
    "\\end{cases}\n",
    "$$\n",
    "\n",
    "하지만, 위 코딩은 $Y$에 순서 구조와 거리 구조를 강제하며, 이는 질적 변수의 특징이 아니다.\n",
    "\n",
    "따라서 분류를 위해 특별히 고안된 방법들을 사용하는 것이 좋겠다."
   ]
  },
  {
   "cell_type": "markdown",
   "metadata": {},
   "source": [
    "## Logistic regression\n",
    "\n",
    "balance라는 입력 변수를 이용하여 default의 여부를 예측하는 문제를 생각해 보자. Default에 대한 반응변수 $Y$는 다음과 같이 코딩한다.\n",
    "\n",
    "$$\n",
    "    Y = \n",
    "\\begin{cases}\n",
    "    0, & \\text{if No;} \\\\\n",
    "    1, & \\text{if Yes.} \n",
    "\\end{cases}\n",
    "$$\n",
    "\n",
    "주어진 $X$에 대해 default가 발생할 확률을 다음과 같이 표현하자.\n",
    "\n",
    "$$ p(X) = \\mathbb P (Y = 1 | X)$$\n",
    "\n",
    "따라서,\n",
    "\n",
    "$$ 1 - p(X) = \\mathbb P (Y = 0 | X)$$\n",
    "\n",
    "Logistic regression에서는 다음의 식을 가정한다.\n",
    "\n",
    "$$ p(X) = \\frac{e^{\\theta_0 + \\theta_1 X}}{1 + e^{\\theta_0 + \\theta_1 X}} $$\n",
    "\n",
    "위와 같이 가정하면 $\\theta$나 $X$의 값에 상관없이 $p(X)$는 항상 0과 1 사이의 값을 취한다.\n",
    "\n",
    "또한, 위 식은 다음으로도 표현되며, 이 값은 $p(X)$의 log odds 혹은 logit transformation이라고도 불리운다.\n",
    "\n",
    "$$ \\log \\left( \\frac{p(X)}{1 - p(X)}\\right)  = \\theta_0 + \\theta_1 X $$"
   ]
  },
  {
   "cell_type": "markdown",
   "metadata": {},
   "source": [
    "### Maximum likelihood method\n",
    "\n",
    "위 확률모형의 $\\theta$들을 추정하기 위한 전통적인 방법으로 maximum likelihood estimation (MLE)가 있다.\n",
    "\n",
    "관찰값 $\\{x_i, y_i \\}$들이 주어졌을 때, logistic regression의 모수 $\\theta_0, \\theta_1$을 추정하기 위해, likelihood 함수를 정의하자.\n",
    "\n",
    "$$ \\ell (\\theta_0, \\theta_1) = \\prod_{i:y_i=1} p(x_i) \\prod_{i:y_i=0}(1-p(x_i)) $$\n",
    "\n",
    "여기서 \n",
    "\n",
    "$$p(x_i) = p_i = \\frac{e^{\\theta_0 + \\theta_1 x_i}}{1 + e^{\\theta_0 + \\theta_1 x_i}} = \\frac{1}{1 + e^{-\\theta_0 - \\theta_1 x_i}} $$ \n",
    "\n",
    "이므로 위 식의 우변은 $\\theta_0, \\theta_1$의 함수이다.\n",
    "\n",
    "추정량 $\\hat \\theta_0, \\hat \\theta_1$은 $\\ell (\\theta_0, \\theta_1)$를 최대화하는 값들로 다음으로 표현된다.\n",
    "\n",
    "$$ \\hat \\theta_0, \\hat \\theta_1 = \\arg \\max_{\\theta_0, \\theta_1} \\ell (\\theta_0, \\theta_1) $$\n",
    "\n",
    "이는 log-likelihood 함수를 최대화하는 것과 동치이다.\n",
    "\n",
    "$$ \\hat \\theta_0, \\hat \\theta_1 = \\arg \\max_{\\theta_0, \\theta_1} \\log \\ell (\\theta_0, \\theta_1) = \\arg \\max_{\\theta_0, \\theta_1}  \\sum_{i=1}^{N} \\left[ y_i \\log(p_i) + (1 - y_i)\\log(1- p_i) \\right]$$\n",
    "\n",
    "$\\hat \\theta_0, \\hat \\theta_1$의 추정치가 결정되면 이를 이용하여 주어진 $X$에 대해 default 확률을 추정할 수 있다.\n",
    "\n",
    "$$ \\hat p(X) = \\frac{e^{\\hat \\theta_0 + \\hat \\theta_1 X}}{1 + e^{\\hat \\theta_0 + \\hat \\theta_1 X}} $$"
   ]
  },
  {
   "cell_type": "markdown",
   "metadata": {},
   "source": [
    "## 여러 입력변수로 확장\n",
    "\n",
    "로지스틱 회귀는 자연스럽게 여러 입력변수를 가지는 모형으로도 확장 가능하다.\n",
    "\n",
    "$$ \\log \\left( \\frac{p(X)}{1 - p(X)}\\right)  = \\theta_0 + \\theta_1 X_1 + \\cdots + \\theta_p X_p  $$\n",
    "\n",
    "혹은,\n",
    "\n",
    "$$ p(X) = \\frac{e^{\\theta_0 + \\theta_1 X_1 + \\cdots + \\theta_p X_p}}{1 + e^{\\theta_0 + \\theta_1 X_1 + \\cdots + \\theta_p X_p}} $$\n"
   ]
  },
  {
   "cell_type": "markdown",
   "metadata": {},
   "source": [
    "## 로지스틱 회귀의 gradient vector\n",
    "\n",
    "앞서 공부한 경사하강법은 로지스틱 회귀방법에도 적용 가능하다.\n",
    "\n",
    "### 비용함수\n",
    "\n",
    "훈련 샘플 하나에 대한 손실 함수를 다음으로 두자.\n",
    "\n",
    "$$ c(\\boldsymbol{\\theta}) = \\left\\{\\begin{array}{lr}\n",
    "        -\\log(p), & \\text{if } y = 1\\\\\n",
    "        -\\log(1 - p), & \\text{if } y = 0\\\\\n",
    "        \\end{array}\\right.\n",
    "$$\n",
    "\n",
    "이를 전체 샘플에 평균으로 적용하여 확장하면, 비용함수는 결국 음의 log-likelihood 함수로\n",
    "\n",
    "$$ J(\\boldsymbol{\\theta}) = -\\frac{1}{N} \\sum_{i=1}^{N} \\left[ y_i \\log(p_i) + (1 - y_i)\\log(1- p_i) \\right]$$\n",
    "이며, 여기서\n",
    "$$ \\ p_i = \\sigma(\\boldsymbol{\\theta} \\cdot x_i) = \\frac{1}{1 + \\exp( - \\boldsymbol{\\theta} \\cdot x_i)} = \\frac{1}{1 + \\exp( - \\theta_0 - x_{i1} \\theta_1 - \\cdots -  x_{ip} \\theta_p )}. $$"
   ]
  },
  {
   "cell_type": "markdown",
   "metadata": {},
   "source": [
    "### Gradient vector\n",
    "\n",
    "다음에 대해\n",
    "$$ \\sigma(t) = \\frac{1}{1 + \\exp(-t)} $$\n",
    "미분은\n",
    "$$ \\frac{d}{d t}\\sigma(t) = \\sigma(t) (1 - \\sigma(t))$$\n",
    "와 같이 주어지므로, 비용함수의 편미분을 다음과 같이 계산할 수 있다.\n",
    "\n",
    "\\begin{align*}\n",
    "\\frac{\\partial }{\\partial \\theta_j} J(\\theta) &= -\\frac{1}{N} \\sum_{i=1}^{N} \n",
    "\\left[ y_i  \\frac{ \\frac{\\partial }{\\partial \\theta_j} \\sigma(\\theta \\cdot x_i)}{\\sigma(\\theta \\cdot x_i)} + (1 - y_i)  \\frac{ \\frac{\\partial }{\\partial \\theta_j} \\left\\{ 1 - \\sigma(\\theta \\cdot x_i) \\right\\} }{1 - \\sigma(\\theta \\cdot x_i)} \\right]\\\\\n",
    "&= -\\frac{1}{N} \\sum_{i=1}^{N} \n",
    "\\left[ y_i  \\frac{\\sigma(\\theta \\cdot x_i)(1 - \\sigma(\\theta \\cdot x_i)) }{\\sigma(\\theta \\cdot x_i)}x_{ij} + (1 - y_i)  \\frac{ \\sigma(\\theta \\cdot x_i)(1 - \\sigma(\\theta \\cdot x_i)) } {1 - \\sigma(\\theta \\cdot x_i)}x_{ij} \\right] \\\\\n",
    "&= - \\frac{1}{N}  \\sum_{i=1}^{N} \\left[ y_i - \\sigma(\\theta \\cdot x_i) y_i - \\sigma(\\theta \\cdot x_i) + \\sigma(\\theta \\cdot x_i) y_i \\right] x_{ij} \\\\\n",
    "& = \\frac{1}{N}  \\sum_{i=1}^{N} \\left[ \\sigma(\\theta \\cdot x_i) - y_i\\right] x_{ij} \\\\\n",
    "& = \\frac{1}{N}  \\mathbf x_j^{\\top} ( \\sigma(\\mathbf X \\theta) - \\mathbf y).\n",
    "\\end{align*}\n",
    "\n",
    "따라서 비용함수의 gradient vector는\n",
    "\\begin{equation*}\n",
    "\\nabla_\\theta J (\\theta) =  \\frac{1}{N} \\mathbf X^{\\top} ( \\sigma(\\mathbf X \\theta) - \\mathbf y) = \\frac{1}{N} \\mathbf X^{\\top} \\left( \\frac{1}{1 + \\exp(- \\mathbf X \\theta)} - \\mathbf y \\right)\n",
    "\\end{equation*}\n",
    "이고,\n",
    "\n",
    "현재의 $\\boldsymbol{\\theta}$에서 다음 스텝에서의 $\\boldsymbol{\\theta}^{\\text{(next step)}}$는 다음과 같다.\n",
    "\n",
    "$$ \\boldsymbol{\\theta}^{\\text{(next step)}} = \\boldsymbol{\\theta} - \\eta \\nabla_\\theta J (\\theta) $$"
   ]
  },
  {
   "cell_type": "markdown",
   "metadata": {},
   "source": [
    "물론 logistic regression을 진행하기 위해 매번 gradient를 계산하는 코드를 직접 작성할 필요는 없다.  \n",
    "```sklearn.linear_model.LogisticRegression```을 이용하여 예제를 진행해 본다."
   ]
  },
  {
   "cell_type": "markdown",
   "metadata": {},
   "source": [
    "### Iris dataset example\n",
    "\n",
    "[Iris Dataset](https://scikit-learn.org/stable/auto_examples/datasets/plot_iris_dataset.html)"
   ]
  },
  {
   "cell_type": "code",
   "execution_count": 2,
   "metadata": {},
   "outputs": [],
   "source": [
    "from sklearn import datasets\n",
    "iris = datasets.load_iris()"
   ]
  },
  {
   "cell_type": "code",
   "execution_count": 3,
   "metadata": {},
   "outputs": [
    {
     "data": {
      "text/plain": [
       "['data',\n",
       " 'target',\n",
       " 'frame',\n",
       " 'target_names',\n",
       " 'DESCR',\n",
       " 'feature_names',\n",
       " 'filename',\n",
       " 'data_module']"
      ]
     },
     "execution_count": 3,
     "metadata": {},
     "output_type": "execute_result"
    }
   ],
   "source": [
    "list(iris.keys())"
   ]
  },
  {
   "cell_type": "code",
   "execution_count": 4,
   "metadata": {},
   "outputs": [
    {
     "data": {
      "text/plain": [
       "['sepal length (cm)',\n",
       " 'sepal width (cm)',\n",
       " 'petal length (cm)',\n",
       " 'petal width (cm)']"
      ]
     },
     "execution_count": 4,
     "metadata": {},
     "output_type": "execute_result"
    }
   ],
   "source": [
    "iris[\"feature_names\"]"
   ]
  },
  {
   "cell_type": "code",
   "execution_count": 5,
   "metadata": {},
   "outputs": [
    {
     "data": {
      "text/plain": [
       "array(['setosa', 'versicolor', 'virginica'], dtype='<U10')"
      ]
     },
     "execution_count": 5,
     "metadata": {},
     "output_type": "execute_result"
    }
   ],
   "source": [
    "iris[\"target_names\"]"
   ]
  },
  {
   "cell_type": "code",
   "execution_count": 6,
   "metadata": {},
   "outputs": [
    {
     "data": {
      "text/html": [
       "<div>\n",
       "<style scoped>\n",
       "    .dataframe tbody tr th:only-of-type {\n",
       "        vertical-align: middle;\n",
       "    }\n",
       "\n",
       "    .dataframe tbody tr th {\n",
       "        vertical-align: top;\n",
       "    }\n",
       "\n",
       "    .dataframe thead th {\n",
       "        text-align: right;\n",
       "    }\n",
       "</style>\n",
       "<table border=\"1\" class=\"dataframe\">\n",
       "  <thead>\n",
       "    <tr style=\"text-align: right;\">\n",
       "      <th></th>\n",
       "      <th>sepal length (cm)</th>\n",
       "      <th>sepal width (cm)</th>\n",
       "      <th>petal length (cm)</th>\n",
       "      <th>petal width (cm)</th>\n",
       "    </tr>\n",
       "  </thead>\n",
       "  <tbody>\n",
       "    <tr>\n",
       "      <th>0</th>\n",
       "      <td>5.1</td>\n",
       "      <td>3.5</td>\n",
       "      <td>1.4</td>\n",
       "      <td>0.2</td>\n",
       "    </tr>\n",
       "    <tr>\n",
       "      <th>1</th>\n",
       "      <td>4.9</td>\n",
       "      <td>3.0</td>\n",
       "      <td>1.4</td>\n",
       "      <td>0.2</td>\n",
       "    </tr>\n",
       "    <tr>\n",
       "      <th>2</th>\n",
       "      <td>4.7</td>\n",
       "      <td>3.2</td>\n",
       "      <td>1.3</td>\n",
       "      <td>0.2</td>\n",
       "    </tr>\n",
       "    <tr>\n",
       "      <th>3</th>\n",
       "      <td>4.6</td>\n",
       "      <td>3.1</td>\n",
       "      <td>1.5</td>\n",
       "      <td>0.2</td>\n",
       "    </tr>\n",
       "    <tr>\n",
       "      <th>4</th>\n",
       "      <td>5.0</td>\n",
       "      <td>3.6</td>\n",
       "      <td>1.4</td>\n",
       "      <td>0.2</td>\n",
       "    </tr>\n",
       "    <tr>\n",
       "      <th>...</th>\n",
       "      <td>...</td>\n",
       "      <td>...</td>\n",
       "      <td>...</td>\n",
       "      <td>...</td>\n",
       "    </tr>\n",
       "    <tr>\n",
       "      <th>145</th>\n",
       "      <td>6.7</td>\n",
       "      <td>3.0</td>\n",
       "      <td>5.2</td>\n",
       "      <td>2.3</td>\n",
       "    </tr>\n",
       "    <tr>\n",
       "      <th>146</th>\n",
       "      <td>6.3</td>\n",
       "      <td>2.5</td>\n",
       "      <td>5.0</td>\n",
       "      <td>1.9</td>\n",
       "    </tr>\n",
       "    <tr>\n",
       "      <th>147</th>\n",
       "      <td>6.5</td>\n",
       "      <td>3.0</td>\n",
       "      <td>5.2</td>\n",
       "      <td>2.0</td>\n",
       "    </tr>\n",
       "    <tr>\n",
       "      <th>148</th>\n",
       "      <td>6.2</td>\n",
       "      <td>3.4</td>\n",
       "      <td>5.4</td>\n",
       "      <td>2.3</td>\n",
       "    </tr>\n",
       "    <tr>\n",
       "      <th>149</th>\n",
       "      <td>5.9</td>\n",
       "      <td>3.0</td>\n",
       "      <td>5.1</td>\n",
       "      <td>1.8</td>\n",
       "    </tr>\n",
       "  </tbody>\n",
       "</table>\n",
       "<p>150 rows × 4 columns</p>\n",
       "</div>"
      ],
      "text/plain": [
       "     sepal length (cm)  sepal width (cm)  petal length (cm)  petal width (cm)\n",
       "0                  5.1               3.5                1.4               0.2\n",
       "1                  4.9               3.0                1.4               0.2\n",
       "2                  4.7               3.2                1.3               0.2\n",
       "3                  4.6               3.1                1.5               0.2\n",
       "4                  5.0               3.6                1.4               0.2\n",
       "..                 ...               ...                ...               ...\n",
       "145                6.7               3.0                5.2               2.3\n",
       "146                6.3               2.5                5.0               1.9\n",
       "147                6.5               3.0                5.2               2.0\n",
       "148                6.2               3.4                5.4               2.3\n",
       "149                5.9               3.0                5.1               1.8\n",
       "\n",
       "[150 rows x 4 columns]"
      ]
     },
     "execution_count": 6,
     "metadata": {},
     "output_type": "execute_result"
    }
   ],
   "source": [
    "import pandas as pd\n",
    "pd.DataFrame(iris[\"data\"], columns=iris[\"feature_names\"])"
   ]
  },
  {
   "cell_type": "markdown",
   "metadata": {},
   "source": [
    "먼저 $X =$ petal width이며, 이 때 붓꽃의 품종이 virginica인가 아닌가를 판단하는 예제를 진행해 보자.  "
   ]
  },
  {
   "cell_type": "code",
   "execution_count": 7,
   "metadata": {},
   "outputs": [
    {
     "data": {
      "text/plain": [
       "array([0, 0, 0, 0, 0, 0, 0, 0, 0, 0, 0, 0, 0, 0, 0, 0, 0, 0, 0, 0, 0, 0,\n",
       "       0, 0, 0, 0, 0, 0, 0, 0, 0, 0, 0, 0, 0, 0, 0, 0, 0, 0, 0, 0, 0, 0,\n",
       "       0, 0, 0, 0, 0, 0, 0, 0, 0, 0, 0, 0, 0, 0, 0, 0, 0, 0, 0, 0, 0, 0,\n",
       "       0, 0, 0, 0, 0, 0, 0, 0, 0, 0, 0, 0, 0, 0, 0, 0, 0, 0, 0, 0, 0, 0,\n",
       "       0, 0, 0, 0, 0, 0, 0, 0, 0, 0, 0, 0, 1, 1, 1, 1, 1, 1, 1, 1, 1, 1,\n",
       "       1, 1, 1, 1, 1, 1, 1, 1, 1, 1, 1, 1, 1, 1, 1, 1, 1, 1, 1, 1, 1, 1,\n",
       "       1, 1, 1, 1, 1, 1, 1, 1, 1, 1, 1, 1, 1, 1, 1, 1, 1, 1])"
      ]
     },
     "execution_count": 7,
     "metadata": {},
     "output_type": "execute_result"
    }
   ],
   "source": [
    "import numpy as np\n",
    "X = iris[\"data\"][:, 3:] # petal width\n",
    "y = (iris[\"target\"] == 2).astype(int)  # virginica인가, 아닌가로 구분\n",
    "y"
   ]
  },
  {
   "cell_type": "code",
   "execution_count": 8,
   "metadata": {},
   "outputs": [
    {
     "data": {
      "text/html": [
       "<div>\n",
       "<style scoped>\n",
       "    .dataframe tbody tr th:only-of-type {\n",
       "        vertical-align: middle;\n",
       "    }\n",
       "\n",
       "    .dataframe tbody tr th {\n",
       "        vertical-align: top;\n",
       "    }\n",
       "\n",
       "    .dataframe thead th {\n",
       "        text-align: right;\n",
       "    }\n",
       "</style>\n",
       "<table border=\"1\" class=\"dataframe\">\n",
       "  <thead>\n",
       "    <tr style=\"text-align: right;\">\n",
       "      <th></th>\n",
       "      <th>petal width</th>\n",
       "      <th>virginica</th>\n",
       "    </tr>\n",
       "  </thead>\n",
       "  <tbody>\n",
       "    <tr>\n",
       "      <th>0</th>\n",
       "      <td>0.2</td>\n",
       "      <td>0.0</td>\n",
       "    </tr>\n",
       "    <tr>\n",
       "      <th>1</th>\n",
       "      <td>0.2</td>\n",
       "      <td>0.0</td>\n",
       "    </tr>\n",
       "    <tr>\n",
       "      <th>2</th>\n",
       "      <td>0.2</td>\n",
       "      <td>0.0</td>\n",
       "    </tr>\n",
       "    <tr>\n",
       "      <th>3</th>\n",
       "      <td>0.2</td>\n",
       "      <td>0.0</td>\n",
       "    </tr>\n",
       "    <tr>\n",
       "      <th>4</th>\n",
       "      <td>0.2</td>\n",
       "      <td>0.0</td>\n",
       "    </tr>\n",
       "    <tr>\n",
       "      <th>...</th>\n",
       "      <td>...</td>\n",
       "      <td>...</td>\n",
       "    </tr>\n",
       "    <tr>\n",
       "      <th>145</th>\n",
       "      <td>2.3</td>\n",
       "      <td>1.0</td>\n",
       "    </tr>\n",
       "    <tr>\n",
       "      <th>146</th>\n",
       "      <td>1.9</td>\n",
       "      <td>1.0</td>\n",
       "    </tr>\n",
       "    <tr>\n",
       "      <th>147</th>\n",
       "      <td>2.0</td>\n",
       "      <td>1.0</td>\n",
       "    </tr>\n",
       "    <tr>\n",
       "      <th>148</th>\n",
       "      <td>2.3</td>\n",
       "      <td>1.0</td>\n",
       "    </tr>\n",
       "    <tr>\n",
       "      <th>149</th>\n",
       "      <td>1.8</td>\n",
       "      <td>1.0</td>\n",
       "    </tr>\n",
       "  </tbody>\n",
       "</table>\n",
       "<p>150 rows × 2 columns</p>\n",
       "</div>"
      ],
      "text/plain": [
       "     petal width  virginica\n",
       "0            0.2        0.0\n",
       "1            0.2        0.0\n",
       "2            0.2        0.0\n",
       "3            0.2        0.0\n",
       "4            0.2        0.0\n",
       "..           ...        ...\n",
       "145          2.3        1.0\n",
       "146          1.9        1.0\n",
       "147          2.0        1.0\n",
       "148          2.3        1.0\n",
       "149          1.8        1.0\n",
       "\n",
       "[150 rows x 2 columns]"
      ]
     },
     "execution_count": 8,
     "metadata": {},
     "output_type": "execute_result"
    }
   ],
   "source": [
    "pd.DataFrame(np.c_[X, y], columns=(\"petal width\", \"virginica\"))"
   ]
  },
  {
   "cell_type": "markdown",
   "metadata": {},
   "source": [
    "진행하기에 앞서 앞 단원에서 했던 것처럼, 직접 gradient를 이용하여 $\\theta$를 추정해 보자."
   ]
  },
  {
   "cell_type": "code",
   "execution_count": 9,
   "metadata": {},
   "outputs": [
    {
     "data": {
      "text/plain": [
       "array([[-12.36961123],\n",
       "       [  7.56309795]])"
      ]
     },
     "execution_count": 9,
     "metadata": {},
     "output_type": "execute_result"
    }
   ],
   "source": [
    "Xb = np.c_[np.ones((X.shape[0], 1)), X]\n",
    "\n",
    "eta = 0.05\n",
    "n_iteration = 20000\n",
    "N = len(y)\n",
    "\n",
    "theta = np.array([[0],[0]])\n",
    "evolution = np.ravel(theta)\n",
    "\n",
    "for _ in range(n_iteration):\n",
    "    grad = 1 / N * Xb.T @ ( 1 / (1 + np.exp(-Xb @ theta)) - y.reshape(-1,1))\n",
    "    # update theta\n",
    "    theta = theta - eta * grad\n",
    "    evolution = np.vstack((evolution, np.ravel(theta)))\n",
    "\n",
    "theta"
   ]
  },
  {
   "cell_type": "code",
   "execution_count": 10,
   "metadata": {},
   "outputs": [
    {
     "data": {
      "text/plain": [
       "0.9402841518512881"
      ]
     },
     "execution_count": 10,
     "metadata": {},
     "output_type": "execute_result"
    }
   ],
   "source": [
    "# 새로운 테스트 값에 대해 확률 예측\n",
    "xtest = 2\n",
    "np.exp(theta[0,0] + theta[1,0] * xtest) / (1 + np.exp(theta[0,0] + theta[1,0] * xtest))"
   ]
  },
  {
   "cell_type": "markdown",
   "metadata": {},
   "source": [
    "log-likelihood 함수가 어떻게 생겼는지 살펴보자.  \n",
    "\n",
    "아래 그림에 따르면, 이 문제는 추정이 잘 되는 케이스는 아니다."
   ]
  },
  {
   "cell_type": "code",
   "execution_count": 11,
   "metadata": {},
   "outputs": [],
   "source": [
    "def llf(theta, X, y):\n",
    "    llh = 0\n",
    "    for i in range(X.shape[0]):\n",
    "        p = 1 / (1 + np.exp(-  X[i,:] @ theta))\n",
    "        llh += y[i] * np.log(p) + (1 - y[i]) * np.log(1 - p)\n",
    "    return llh               "
   ]
  },
  {
   "cell_type": "code",
   "execution_count": 12,
   "metadata": {},
   "outputs": [],
   "source": [
    "theta1 = np.linspace(-30, 0, 100)\n",
    "theta2 = np.linspace(0, 14, 100)\n",
    "Theta1, Theta2 = np.meshgrid(theta1, theta2)\n",
    "\n",
    "Z = np.zeros_like(Theta1)\n",
    "\n",
    "for i in range(Z.shape[0]):\n",
    "    for j in range(Z.shape[1]):\n",
    "        Z[i,j] = -llf([Theta1[i,j], Theta2[i,j]], Xb, y)"
   ]
  },
  {
   "cell_type": "code",
   "execution_count": 13,
   "metadata": {},
   "outputs": [],
   "source": [
    "import matplotlib.pyplot as plt\n",
    "import matplotlib as mpl"
   ]
  },
  {
   "cell_type": "code",
   "execution_count": 14,
   "metadata": {},
   "outputs": [
    {
     "data": {
      "image/png": "[encoded data removed]",
      "text/plain": [
       "<Figure size 720x504 with 1 Axes>"
      ]
     },
     "metadata": {
      "needs_background": "light"
     },
     "output_type": "display_data"
    }
   ],
   "source": [
    "fig = plt.figure(figsize = (10,7))\n",
    "\n",
    "#contour plot for LLF\n",
    "\n",
    "contours = plt.contour(Theta1, Theta2, Z, \n",
    "                       levels = 30, \n",
    "                       cmap=mpl.cm.bwr)\n",
    "plt.clabel(contours, inline = True, fontsize = 10)\n",
    "plt.plot(evolution[:,0], evolution[:,1], color='green')\n",
    "\n",
    "plt.show()"
   ]
  },
  {
   "cell_type": "markdown",
   "metadata": {},
   "source": [
    "### ```sklearn.linear_model.LogisticRegression```\n",
    "\n",
    "[sklearn.linear_model.LogisticRegression](https://scikit-learn.org/stable/modules/generated/sklearn.linear_model.LogisticRegression.html)\n",
    "\n",
    "\n",
    "```LogisticRegression()``` : 생성자\n",
    "\n",
    "* ```fit()``` : 모델 훈련\n",
    "\n",
    "* ```predict_proba()``` : 확률 추정\n",
    "\n",
    "* ```predict()``` : class label 추정"
   ]
  },
  {
   "cell_type": "code",
   "execution_count": 15,
   "metadata": {},
   "outputs": [
    {
     "data": {
      "text/html": [
       "<style>#sk-container-id-1 {color: black;background-color: white;}#sk-container-id-1 pre{padding: 0;}#sk-container-id-1 div.sk-toggleable {background-color: white;}#sk-container-id-1 label.sk-toggleable__label {cursor: pointer;display: block;width: 100%;margin-bottom: 0;padding: 0.3em;box-sizing: border-box;text-align: center;}#sk-container-id-1 label.sk-toggleable__label-arrow:before {content: \"▸\";float: left;margin-right: 0.25em;color: #696969;}#sk-container-id-1 label.sk-toggleable__label-arrow:hover:before {color: black;}#sk-container-id-1 div.sk-estimator:hover label.sk-toggleable__label-arrow:before {color: black;}#sk-container-id-1 div.sk-toggleable__content {max-height: 0;max-width: 0;overflow: hidden;text-align: left;background-color: #f0f8ff;}#sk-container-id-1 div.sk-toggleable__content pre {margin: 0.2em;color: black;border-radius: 0.25em;background-color: #f0f8ff;}#sk-container-id-1 input.sk-toggleable__control:checked~div.sk-toggleable__content {max-height: 200px;max-width: 100%;overflow: auto;}#sk-container-id-1 input.sk-toggleable__control:checked~label.sk-toggleable__label-arrow:before {content: \"▾\";}#sk-container-id-1 div.sk-estimator input.sk-toggleable__control:checked~label.sk-toggleable__label {background-color: #d4ebff;}#sk-container-id-1 div.sk-label input.sk-toggleable__control:checked~label.sk-toggleable__label {background-color: #d4ebff;}#sk-container-id-1 input.sk-hidden--visually {border: 0;clip: rect(1px 1px 1px 1px);clip: rect(1px, 1px, 1px, 1px);height: 1px;margin: -1px;overflow: hidden;padding: 0;position: absolute;width: 1px;}#sk-container-id-1 div.sk-estimator {font-family: monospace;background-color: #f0f8ff;border: 1px dotted black;border-radius: 0.25em;box-sizing: border-box;margin-bottom: 0.5em;}#sk-container-id-1 div.sk-estimator:hover {background-color: #d4ebff;}#sk-container-id-1 div.sk-parallel-item::after {content: \"\";width: 100%;border-bottom: 1px solid gray;flex-grow: 1;}#sk-container-id-1 div.sk-label:hover label.sk-toggleable__label {background-color: #d4ebff;}#sk-container-id-1 div.sk-serial::before {content: \"\";position: absolute;border-left: 1px solid gray;box-sizing: border-box;top: 0;bottom: 0;left: 50%;z-index: 0;}#sk-container-id-1 div.sk-serial {display: flex;flex-direction: column;align-items: center;background-color: white;padding-right: 0.2em;padding-left: 0.2em;position: relative;}#sk-container-id-1 div.sk-item {position: relative;z-index: 1;}#sk-container-id-1 div.sk-parallel {display: flex;align-items: stretch;justify-content: center;background-color: white;position: relative;}#sk-container-id-1 div.sk-item::before, #sk-container-id-1 div.sk-parallel-item::before {content: \"\";position: absolute;border-left: 1px solid gray;box-sizing: border-box;top: 0;bottom: 0;left: 50%;z-index: -1;}#sk-container-id-1 div.sk-parallel-item {display: flex;flex-direction: column;z-index: 1;position: relative;background-color: white;}#sk-container-id-1 div.sk-parallel-item:first-child::after {align-self: flex-end;width: 50%;}#sk-container-id-1 div.sk-parallel-item:last-child::after {align-self: flex-start;width: 50%;}#sk-container-id-1 div.sk-parallel-item:only-child::after {width: 0;}#sk-container-id-1 div.sk-dashed-wrapped {border: 1px dashed gray;margin: 0 0.4em 0.5em 0.4em;box-sizing: border-box;padding-bottom: 0.4em;background-color: white;}#sk-container-id-1 div.sk-label label {font-family: monospace;font-weight: bold;display: inline-block;line-height: 1.2em;}#sk-container-id-1 div.sk-label-container {text-align: center;}#sk-container-id-1 div.sk-container {/* jupyter's `normalize.less` sets `[hidden] { display: none; }` but bootstrap.min.css set `[hidden] { display: none !important; }` so we also need the `!important` here to be able to override the default hidden behavior on the sphinx rendered scikit-learn.org. See: https://github.com/scikit-learn/scikit-learn/issues/21755 */display: inline-block !important;position: relative;}#sk-container-id-1 div.sk-text-repr-fallback {display: none;}</style><div id=\"sk-container-id-1\" class=\"sk-top-container\"><div class=\"sk-text-repr-fallback\"><pre>LogisticRegression()</pre><b>In a Jupyter environment, please rerun this cell to show the HTML representation or trust the notebook. <br />On GitHub, the HTML representation is unable to render, please try loading this page with nbviewer.org.</b></div><div class=\"sk-container\" hidden><div class=\"sk-item\"><div class=\"sk-estimator sk-toggleable\"><input class=\"sk-toggleable__control sk-hidden--visually\" id=\"sk-estimator-id-1\" type=\"checkbox\" checked><label for=\"sk-estimator-id-1\" class=\"sk-toggleable__label sk-toggleable__label-arrow\">LogisticRegression</label><div class=\"sk-toggleable__content\"><pre>LogisticRegression()</pre></div></div></div></div></div>"
      ],
      "text/plain": [
       "LogisticRegression()"
      ]
     },
     "execution_count": 15,
     "metadata": {},
     "output_type": "execute_result"
    }
   ],
   "source": [
    "from sklearn.linear_model import LogisticRegression\n",
    "\n",
    "log_reg = LogisticRegression()\n",
    "log_reg "
   ]
  },
  {
   "cell_type": "code",
   "execution_count": 16,
   "metadata": {},
   "outputs": [
    {
     "data": {
      "text/html": [
       "<style>#sk-container-id-2 {color: black;background-color: white;}#sk-container-id-2 pre{padding: 0;}#sk-container-id-2 div.sk-toggleable {background-color: white;}#sk-container-id-2 label.sk-toggleable__label {cursor: pointer;display: block;width: 100%;margin-bottom: 0;padding: 0.3em;box-sizing: border-box;text-align: center;}#sk-container-id-2 label.sk-toggleable__label-arrow:before {content: \"▸\";float: left;margin-right: 0.25em;color: #696969;}#sk-container-id-2 label.sk-toggleable__label-arrow:hover:before {color: black;}#sk-container-id-2 div.sk-estimator:hover label.sk-toggleable__label-arrow:before {color: black;}#sk-container-id-2 div.sk-toggleable__content {max-height: 0;max-width: 0;overflow: hidden;text-align: left;background-color: #f0f8ff;}#sk-container-id-2 div.sk-toggleable__content pre {margin: 0.2em;color: black;border-radius: 0.25em;background-color: #f0f8ff;}#sk-container-id-2 input.sk-toggleable__control:checked~div.sk-toggleable__content {max-height: 200px;max-width: 100%;overflow: auto;}#sk-container-id-2 input.sk-toggleable__control:checked~label.sk-toggleable__label-arrow:before {content: \"▾\";}#sk-container-id-2 div.sk-estimator input.sk-toggleable__control:checked~label.sk-toggleable__label {background-color: #d4ebff;}#sk-container-id-2 div.sk-label input.sk-toggleable__control:checked~label.sk-toggleable__label {background-color: #d4ebff;}#sk-container-id-2 input.sk-hidden--visually {border: 0;clip: rect(1px 1px 1px 1px);clip: rect(1px, 1px, 1px, 1px);height: 1px;margin: -1px;overflow: hidden;padding: 0;position: absolute;width: 1px;}#sk-container-id-2 div.sk-estimator {font-family: monospace;background-color: #f0f8ff;border: 1px dotted black;border-radius: 0.25em;box-sizing: border-box;margin-bottom: 0.5em;}#sk-container-id-2 div.sk-estimator:hover {background-color: #d4ebff;}#sk-container-id-2 div.sk-parallel-item::after {content: \"\";width: 100%;border-bottom: 1px solid gray;flex-grow: 1;}#sk-container-id-2 div.sk-label:hover label.sk-toggleable__label {background-color: #d4ebff;}#sk-container-id-2 div.sk-serial::before {content: \"\";position: absolute;border-left: 1px solid gray;box-sizing: border-box;top: 0;bottom: 0;left: 50%;z-index: 0;}#sk-container-id-2 div.sk-serial {display: flex;flex-direction: column;align-items: center;background-color: white;padding-right: 0.2em;padding-left: 0.2em;position: relative;}#sk-container-id-2 div.sk-item {position: relative;z-index: 1;}#sk-container-id-2 div.sk-parallel {display: flex;align-items: stretch;justify-content: center;background-color: white;position: relative;}#sk-container-id-2 div.sk-item::before, #sk-container-id-2 div.sk-parallel-item::before {content: \"\";position: absolute;border-left: 1px solid gray;box-sizing: border-box;top: 0;bottom: 0;left: 50%;z-index: -1;}#sk-container-id-2 div.sk-parallel-item {display: flex;flex-direction: column;z-index: 1;position: relative;background-color: white;}#sk-container-id-2 div.sk-parallel-item:first-child::after {align-self: flex-end;width: 50%;}#sk-container-id-2 div.sk-parallel-item:last-child::after {align-self: flex-start;width: 50%;}#sk-container-id-2 div.sk-parallel-item:only-child::after {width: 0;}#sk-container-id-2 div.sk-dashed-wrapped {border: 1px dashed gray;margin: 0 0.4em 0.5em 0.4em;box-sizing: border-box;padding-bottom: 0.4em;background-color: white;}#sk-container-id-2 div.sk-label label {font-family: monospace;font-weight: bold;display: inline-block;line-height: 1.2em;}#sk-container-id-2 div.sk-label-container {text-align: center;}#sk-container-id-2 div.sk-container {/* jupyter's `normalize.less` sets `[hidden] { display: none; }` but bootstrap.min.css set `[hidden] { display: none !important; }` so we also need the `!important` here to be able to override the default hidden behavior on the sphinx rendered scikit-learn.org. See: https://github.com/scikit-learn/scikit-learn/issues/21755 */display: inline-block !important;position: relative;}#sk-container-id-2 div.sk-text-repr-fallback {display: none;}</style><div id=\"sk-container-id-2\" class=\"sk-top-container\"><div class=\"sk-text-repr-fallback\"><pre>LogisticRegression()</pre><b>In a Jupyter environment, please rerun this cell to show the HTML representation or trust the notebook. <br />On GitHub, the HTML representation is unable to render, please try loading this page with nbviewer.org.</b></div><div class=\"sk-container\" hidden><div class=\"sk-item\"><div class=\"sk-estimator sk-toggleable\"><input class=\"sk-toggleable__control sk-hidden--visually\" id=\"sk-estimator-id-2\" type=\"checkbox\" checked><label for=\"sk-estimator-id-2\" class=\"sk-toggleable__label sk-toggleable__label-arrow\">LogisticRegression</label><div class=\"sk-toggleable__content\"><pre>LogisticRegression()</pre></div></div></div></div></div>"
      ],
      "text/plain": [
       "LogisticRegression()"
      ]
     },
     "execution_count": 16,
     "metadata": {},
     "output_type": "execute_result"
    }
   ],
   "source": [
    "log_reg.fit(X, y)"
   ]
  },
  {
   "cell_type": "code",
   "execution_count": 17,
   "metadata": {},
   "outputs": [
    {
     "data": {
      "text/plain": [
       "(array([-7.1947083]), array([[4.3330846]]))"
      ]
     },
     "execution_count": 17,
     "metadata": {},
     "output_type": "execute_result"
    }
   ],
   "source": [
    "log_reg.intercept_, log_reg.coef_"
   ]
  },
  {
   "cell_type": "markdown",
   "metadata": {},
   "source": [
    "어떤 numerical solver를 사용하냐에 따라 추정치가 달라질 수 있다.  \n",
    "\n",
    "전의 그림에도 보았듯이 likelihood의 global maximum이 명확하지 않아 발생하는 문제이다."
   ]
  },
  {
   "cell_type": "code",
   "execution_count": 18,
   "metadata": {},
   "outputs": [
    {
     "data": {
      "text/plain": [
       "(array([-4.22209186]), array([[2.61789264]]))"
      ]
     },
     "execution_count": 18,
     "metadata": {},
     "output_type": "execute_result"
    }
   ],
   "source": [
    "log_reg_liblinear = LogisticRegression(solver = 'liblinear').fit(X, y)\n",
    "log_reg_liblinear.intercept_, log_reg_liblinear.coef_"
   ]
  },
  {
   "cell_type": "markdown",
   "metadata": {},
   "source": [
    "```predict_proba()```를 이용하여, 새로운 $x$값들에 대해 virginica에 속할 확률을 계산하기.\n",
    "\n",
    "반환값은 각 클래스에 속할 확률을 순서대로 나열한다.\n",
    "\n",
    "내부적으로는 모수 추정치와 $p = 1 / (1 + e^{-\\hat \\theta \\cdot x_i})$의 공식을 이용한다.  "
   ]
  },
  {
   "cell_type": "code",
   "execution_count": 19,
   "metadata": {},
   "outputs": [],
   "source": [
    "X_new = np.linspace(0, 3, 1000).reshape(-1, 1) # -1 stands for unknown dimension\n",
    "y_proba = log_reg.predict_proba(X_new)"
   ]
  },
  {
   "cell_type": "code",
   "execution_count": 20,
   "metadata": {},
   "outputs": [
    {
     "data": {
      "text/plain": [
       "array([[9.99250016e-01, 7.49984089e-04],\n",
       "       [9.99240201e-01, 7.59799387e-04],\n",
       "       [9.99230257e-01, 7.69743043e-04],\n",
       "       ...,\n",
       "       [3.08374822e-03, 9.96916252e-01],\n",
       "       [3.04400296e-03, 9.96955997e-01],\n",
       "       [3.00476842e-03, 9.96995232e-01]])"
      ]
     },
     "execution_count": 20,
     "metadata": {},
     "output_type": "execute_result"
    }
   ],
   "source": [
    "y_proba"
   ]
  },
  {
   "cell_type": "markdown",
   "metadata": {},
   "source": [
    "Virginica일 확률과 그렇지 않을 확률을 비교하여, 관찰된 ```petal_width```로 해당 붓꽃이 virginica 품종에 속할지 예측한다.\n",
    "\n",
    "```predict()``` method를 이용할 수도 있다.  "
   ]
  },
  {
   "cell_type": "code",
   "execution_count": 21,
   "metadata": {},
   "outputs": [],
   "source": [
    "class_prediction = log_reg.predict(X_new)"
   ]
  },
  {
   "cell_type": "code",
   "execution_count": 22,
   "metadata": {},
   "outputs": [
    {
     "data": {
      "text/html": [
       "<div>\n",
       "<style scoped>\n",
       "    .dataframe tbody tr th:only-of-type {\n",
       "        vertical-align: middle;\n",
       "    }\n",
       "\n",
       "    .dataframe tbody tr th {\n",
       "        vertical-align: top;\n",
       "    }\n",
       "\n",
       "    .dataframe thead th {\n",
       "        text-align: right;\n",
       "    }\n",
       "</style>\n",
       "<table border=\"1\" class=\"dataframe\">\n",
       "  <thead>\n",
       "    <tr style=\"text-align: right;\">\n",
       "      <th></th>\n",
       "      <th>petal_width</th>\n",
       "      <th>p(not virginica)</th>\n",
       "      <th>p(virginica)</th>\n",
       "      <th>class</th>\n",
       "    </tr>\n",
       "  </thead>\n",
       "  <tbody>\n",
       "    <tr>\n",
       "      <th>16</th>\n",
       "      <td>0.048048</td>\n",
       "      <td>0.999077</td>\n",
       "      <td>0.000923</td>\n",
       "      <td>0.0</td>\n",
       "    </tr>\n",
       "    <tr>\n",
       "      <th>180</th>\n",
       "      <td>0.540541</td>\n",
       "      <td>0.992252</td>\n",
       "      <td>0.007748</td>\n",
       "      <td>0.0</td>\n",
       "    </tr>\n",
       "    <tr>\n",
       "      <th>215</th>\n",
       "      <td>0.645646</td>\n",
       "      <td>0.987836</td>\n",
       "      <td>0.012164</td>\n",
       "      <td>0.0</td>\n",
       "    </tr>\n",
       "    <tr>\n",
       "      <th>260</th>\n",
       "      <td>0.780781</td>\n",
       "      <td>0.978364</td>\n",
       "      <td>0.021636</td>\n",
       "      <td>0.0</td>\n",
       "    </tr>\n",
       "    <tr>\n",
       "      <th>389</th>\n",
       "      <td>1.168168</td>\n",
       "      <td>0.894063</td>\n",
       "      <td>0.105937</td>\n",
       "      <td>0.0</td>\n",
       "    </tr>\n",
       "    <tr>\n",
       "      <th>398</th>\n",
       "      <td>1.195195</td>\n",
       "      <td>0.882449</td>\n",
       "      <td>0.117551</td>\n",
       "      <td>0.0</td>\n",
       "    </tr>\n",
       "    <tr>\n",
       "      <th>550</th>\n",
       "      <td>1.651652</td>\n",
       "      <td>0.509489</td>\n",
       "      <td>0.490511</td>\n",
       "      <td>0.0</td>\n",
       "    </tr>\n",
       "    <tr>\n",
       "      <th>759</th>\n",
       "      <td>2.279279</td>\n",
       "      <td>0.064068</td>\n",
       "      <td>0.935932</td>\n",
       "      <td>1.0</td>\n",
       "    </tr>\n",
       "    <tr>\n",
       "      <th>914</th>\n",
       "      <td>2.744745</td>\n",
       "      <td>0.009027</td>\n",
       "      <td>0.990973</td>\n",
       "      <td>1.0</td>\n",
       "    </tr>\n",
       "    <tr>\n",
       "      <th>986</th>\n",
       "      <td>2.960961</td>\n",
       "      <td>0.003557</td>\n",
       "      <td>0.996443</td>\n",
       "      <td>1.0</td>\n",
       "    </tr>\n",
       "  </tbody>\n",
       "</table>\n",
       "</div>"
      ],
      "text/plain": [
       "     petal_width  p(not virginica)  p(virginica)  class\n",
       "16      0.048048          0.999077      0.000923    0.0\n",
       "180     0.540541          0.992252      0.007748    0.0\n",
       "215     0.645646          0.987836      0.012164    0.0\n",
       "260     0.780781          0.978364      0.021636    0.0\n",
       "389     1.168168          0.894063      0.105937    0.0\n",
       "398     1.195195          0.882449      0.117551    0.0\n",
       "550     1.651652          0.509489      0.490511    0.0\n",
       "759     2.279279          0.064068      0.935932    1.0\n",
       "914     2.744745          0.009027      0.990973    1.0\n",
       "986     2.960961          0.003557      0.996443    1.0"
      ]
     },
     "execution_count": 22,
     "metadata": {},
     "output_type": "execute_result"
    }
   ],
   "source": [
    "df = pd.DataFrame(np.c_[X_new, y_proba, class_prediction], columns = (\"petal_width\",  \"p(not virginica)\", \"p(virginica)\", \"class\"))\n",
    "df.sample(n = 10).sort_values(\"petal_width\")"
   ]
  },
  {
   "cell_type": "code",
   "execution_count": 23,
   "metadata": {
    "scrolled": false
   },
   "outputs": [
    {
     "data": {
      "image/png": "[encoded data removed]",
      "text/plain": [
       "<Figure size 576x432 with 1 Axes>"
      ]
     },
     "metadata": {
      "needs_background": "light"
     },
     "output_type": "display_data"
    }
   ],
   "source": [
    "plt.figure(figsize=(8, 6))\n",
    "plt.plot(X_new, y_proba[:, 1], \"g-\", label = \"virginica\")\n",
    "plt.plot(X_new, y_proba[:, 0], \"b--\", label = \"Not virginica\")\n",
    "plt.legend()\n",
    "plt.xlabel(\"Petal width\")\n",
    "plt.ylabel(\"Probability\")\n",
    "plt.show()"
   ]
  },
  {
   "cell_type": "markdown",
   "metadata": {},
   "source": [
    "### Petal length와 Petal width에 따른 분류\n",
    "\n",
    "$X$가 여러 개 있는 경우로도 쉽게 확장할 수 있다.  \n",
    "\n",
    "Petal length와 Petal width에 따라 virginica 여부를 예측해 보자."
   ]
  },
  {
   "cell_type": "code",
   "execution_count": 24,
   "metadata": {},
   "outputs": [
    {
     "data": {
      "text/html": [
       "<div>\n",
       "<style scoped>\n",
       "    .dataframe tbody tr th:only-of-type {\n",
       "        vertical-align: middle;\n",
       "    }\n",
       "\n",
       "    .dataframe tbody tr th {\n",
       "        vertical-align: top;\n",
       "    }\n",
       "\n",
       "    .dataframe thead th {\n",
       "        text-align: right;\n",
       "    }\n",
       "</style>\n",
       "<table border=\"1\" class=\"dataframe\">\n",
       "  <thead>\n",
       "    <tr style=\"text-align: right;\">\n",
       "      <th></th>\n",
       "      <th>petal length</th>\n",
       "      <th>petal width</th>\n",
       "      <th>virginica</th>\n",
       "    </tr>\n",
       "  </thead>\n",
       "  <tbody>\n",
       "    <tr>\n",
       "      <th>0</th>\n",
       "      <td>1.4</td>\n",
       "      <td>0.2</td>\n",
       "      <td>0.0</td>\n",
       "    </tr>\n",
       "    <tr>\n",
       "      <th>1</th>\n",
       "      <td>1.4</td>\n",
       "      <td>0.2</td>\n",
       "      <td>0.0</td>\n",
       "    </tr>\n",
       "    <tr>\n",
       "      <th>2</th>\n",
       "      <td>1.3</td>\n",
       "      <td>0.2</td>\n",
       "      <td>0.0</td>\n",
       "    </tr>\n",
       "    <tr>\n",
       "      <th>3</th>\n",
       "      <td>1.5</td>\n",
       "      <td>0.2</td>\n",
       "      <td>0.0</td>\n",
       "    </tr>\n",
       "    <tr>\n",
       "      <th>4</th>\n",
       "      <td>1.4</td>\n",
       "      <td>0.2</td>\n",
       "      <td>0.0</td>\n",
       "    </tr>\n",
       "    <tr>\n",
       "      <th>...</th>\n",
       "      <td>...</td>\n",
       "      <td>...</td>\n",
       "      <td>...</td>\n",
       "    </tr>\n",
       "    <tr>\n",
       "      <th>145</th>\n",
       "      <td>5.2</td>\n",
       "      <td>2.3</td>\n",
       "      <td>1.0</td>\n",
       "    </tr>\n",
       "    <tr>\n",
       "      <th>146</th>\n",
       "      <td>5.0</td>\n",
       "      <td>1.9</td>\n",
       "      <td>1.0</td>\n",
       "    </tr>\n",
       "    <tr>\n",
       "      <th>147</th>\n",
       "      <td>5.2</td>\n",
       "      <td>2.0</td>\n",
       "      <td>1.0</td>\n",
       "    </tr>\n",
       "    <tr>\n",
       "      <th>148</th>\n",
       "      <td>5.4</td>\n",
       "      <td>2.3</td>\n",
       "      <td>1.0</td>\n",
       "    </tr>\n",
       "    <tr>\n",
       "      <th>149</th>\n",
       "      <td>5.1</td>\n",
       "      <td>1.8</td>\n",
       "      <td>1.0</td>\n",
       "    </tr>\n",
       "  </tbody>\n",
       "</table>\n",
       "<p>150 rows × 3 columns</p>\n",
       "</div>"
      ],
      "text/plain": [
       "     petal length  petal width  virginica\n",
       "0             1.4          0.2        0.0\n",
       "1             1.4          0.2        0.0\n",
       "2             1.3          0.2        0.0\n",
       "3             1.5          0.2        0.0\n",
       "4             1.4          0.2        0.0\n",
       "..            ...          ...        ...\n",
       "145           5.2          2.3        1.0\n",
       "146           5.0          1.9        1.0\n",
       "147           5.2          2.0        1.0\n",
       "148           5.4          2.3        1.0\n",
       "149           5.1          1.8        1.0\n",
       "\n",
       "[150 rows x 3 columns]"
      ]
     },
     "execution_count": 24,
     "metadata": {},
     "output_type": "execute_result"
    }
   ],
   "source": [
    "X = iris[\"data\"][:, 2:] # petal length and width\n",
    "pd.DataFrame(np.c_[X, y], columns=(\"petal length\", \"petal width\", \"virginica\"))"
   ]
  },
  {
   "cell_type": "code",
   "execution_count": 25,
   "metadata": {},
   "outputs": [
    {
     "data": {
      "text/plain": [
       "(array([-17.5481106]), array([[2.77762524, 2.38552012]]))"
      ]
     },
     "execution_count": 25,
     "metadata": {},
     "output_type": "execute_result"
    }
   ],
   "source": [
    "log_reg2 = LogisticRegression().fit(X, y)\n",
    "log_reg2.intercept_, log_reg2.coef_"
   ]
  },
  {
   "cell_type": "code",
   "execution_count": 26,
   "metadata": {},
   "outputs": [],
   "source": [
    "X1_new = np.linspace(0, 7, 1000).reshape(-1, 1) # for petal length\n",
    "X2_new = np.linspace(0, 3, 1000).reshape(-1, 1) # for petal width"
   ]
  },
  {
   "cell_type": "markdown",
   "metadata": {},
   "source": [
    "Feature 변수가 두 개이므로, ```predict_proba()```이나 ```predict()```를 사용할 때 인자를 $n\\times 2$의 array로 넣어준다."
   ]
  },
  {
   "cell_type": "code",
   "execution_count": 27,
   "metadata": {},
   "outputs": [
    {
     "data": {
      "text/html": [
       "<div>\n",
       "<style scoped>\n",
       "    .dataframe tbody tr th:only-of-type {\n",
       "        vertical-align: middle;\n",
       "    }\n",
       "\n",
       "    .dataframe tbody tr th {\n",
       "        vertical-align: top;\n",
       "    }\n",
       "\n",
       "    .dataframe thead th {\n",
       "        text-align: right;\n",
       "    }\n",
       "</style>\n",
       "<table border=\"1\" class=\"dataframe\">\n",
       "  <thead>\n",
       "    <tr style=\"text-align: right;\">\n",
       "      <th></th>\n",
       "      <th>petal length</th>\n",
       "      <th>petal width</th>\n",
       "      <th>p(not virginica)</th>\n",
       "      <th>p(virginica)</th>\n",
       "      <th>class</th>\n",
       "    </tr>\n",
       "  </thead>\n",
       "  <tbody>\n",
       "    <tr>\n",
       "      <th>52</th>\n",
       "      <td>0.364364</td>\n",
       "      <td>0.156156</td>\n",
       "      <td>1.000000</td>\n",
       "      <td>9.555829e-08</td>\n",
       "      <td>0.0</td>\n",
       "    </tr>\n",
       "    <tr>\n",
       "      <th>328</th>\n",
       "      <td>2.298298</td>\n",
       "      <td>0.984985</td>\n",
       "      <td>0.999851</td>\n",
       "      <td>1.485266e-04</td>\n",
       "      <td>0.0</td>\n",
       "    </tr>\n",
       "    <tr>\n",
       "      <th>442</th>\n",
       "      <td>3.097097</td>\n",
       "      <td>1.327327</td>\n",
       "      <td>0.996918</td>\n",
       "      <td>3.081755e-03</td>\n",
       "      <td>0.0</td>\n",
       "    </tr>\n",
       "    <tr>\n",
       "      <th>443</th>\n",
       "      <td>3.104104</td>\n",
       "      <td>1.330330</td>\n",
       "      <td>0.996835</td>\n",
       "      <td>3.164651e-03</td>\n",
       "      <td>0.0</td>\n",
       "    </tr>\n",
       "    <tr>\n",
       "      <th>528</th>\n",
       "      <td>3.699700</td>\n",
       "      <td>1.585586</td>\n",
       "      <td>0.970381</td>\n",
       "      <td>2.961865e-02</td>\n",
       "      <td>0.0</td>\n",
       "    </tr>\n",
       "    <tr>\n",
       "      <th>692</th>\n",
       "      <td>4.848849</td>\n",
       "      <td>2.078078</td>\n",
       "      <td>0.293702</td>\n",
       "      <td>7.062980e-01</td>\n",
       "      <td>1.0</td>\n",
       "    </tr>\n",
       "    <tr>\n",
       "      <th>842</th>\n",
       "      <td>5.899900</td>\n",
       "      <td>2.528529</td>\n",
       "      <td>0.007604</td>\n",
       "      <td>9.923961e-01</td>\n",
       "      <td>1.0</td>\n",
       "    </tr>\n",
       "    <tr>\n",
       "      <th>849</th>\n",
       "      <td>5.948949</td>\n",
       "      <td>2.549550</td>\n",
       "      <td>0.006319</td>\n",
       "      <td>9.936809e-01</td>\n",
       "      <td>1.0</td>\n",
       "    </tr>\n",
       "    <tr>\n",
       "      <th>876</th>\n",
       "      <td>6.138138</td>\n",
       "      <td>2.630631</td>\n",
       "      <td>0.003089</td>\n",
       "      <td>9.969108e-01</td>\n",
       "      <td>1.0</td>\n",
       "    </tr>\n",
       "    <tr>\n",
       "      <th>901</th>\n",
       "      <td>6.313313</td>\n",
       "      <td>2.705706</td>\n",
       "      <td>0.001590</td>\n",
       "      <td>9.984100e-01</td>\n",
       "      <td>1.0</td>\n",
       "    </tr>\n",
       "  </tbody>\n",
       "</table>\n",
       "</div>"
      ],
      "text/plain": [
       "     petal length  petal width  p(not virginica)  p(virginica)  class\n",
       "52       0.364364     0.156156          1.000000  9.555829e-08    0.0\n",
       "328      2.298298     0.984985          0.999851  1.485266e-04    0.0\n",
       "442      3.097097     1.327327          0.996918  3.081755e-03    0.0\n",
       "443      3.104104     1.330330          0.996835  3.164651e-03    0.0\n",
       "528      3.699700     1.585586          0.970381  2.961865e-02    0.0\n",
       "692      4.848849     2.078078          0.293702  7.062980e-01    1.0\n",
       "842      5.899900     2.528529          0.007604  9.923961e-01    1.0\n",
       "849      5.948949     2.549550          0.006319  9.936809e-01    1.0\n",
       "876      6.138138     2.630631          0.003089  9.969108e-01    1.0\n",
       "901      6.313313     2.705706          0.001590  9.984100e-01    1.0"
      ]
     },
     "execution_count": 27,
     "metadata": {},
     "output_type": "execute_result"
    }
   ],
   "source": [
    "y_proba = log_reg2.predict_proba(np.c_[X1_new, X2_new])\n",
    "y_prediction = log_reg2.predict(np.c_[X1_new, X2_new])\n",
    "df = pd.DataFrame(np.c_[X1_new, X2_new, y_proba, y_prediction], \n",
    "             columns=(\"petal length\", \"petal width\", \"p(not virginica)\", \"p(virginica)\", \"class\"))\n",
    "df.sample(10).sort_values([\"petal length\", \"petal width\"])"
   ]
  },
  {
   "cell_type": "markdown",
   "metadata": {},
   "source": [
    "<img src=\"data:image/png;base64,iVBORw0KGgoAAAANSUhEUgAAAsgAAAEYCAYAAABBfQDEAAAAOXRFWHRTb2Z0d2FyZQBNYXRwbG90bGliIHZlcnNpb24zLjMuMywgaHR0cHM6Ly9tYXRwbG90bGliLm9yZy/Il7ecAAAACXBIWXMAAAsTAAALEwEAmpwYAADlM0lEQVR4nOzdd1xUV/r48c8wQ+/SlG7vYIktKppojBWN0USNGkusMCbbvrv5ZdPWzW62ZTcOWGKMBWyJRoMajSUK9i5gw05vCjN0Zpg5vz9Qo7HNiEiI5/168Vq5c+45596ZDQ8Pzz1HIYRAkiRJkiRJkqRqVnU9AUmSJEmSJEn6JZEBsiRJkiRJkiTdQQbIkiRJkiRJknQHGSBLkiRJkiRJ0h1kgCxJkiRJkiRJd1DV9QSeJk9PTxEcHHz7+6r0bMquF1Bgq6SwshyTyYSNjQ3t27c3qz9RUY7+0lmsnJxRevhg5ez62HMrK86lVJeJnYMH9s7eqKztH7svS2SUpmAwVeJq44WrjRdKxTP1kZAkSZIk6Vfo+PHj14UQXo97/jMVDQUHB3Ps2LHb31ccSUT7+QqKv9lGsamCza298R38IlP/OReF1U/J9bVr1/LBBx8QGRnJm2++iYuLCwDGguvo1ixEu2oBxrxLWLs2wfWNCFxGTUHp4mbR3Aqyz3Iq/nNSjsVSpT+Lb9PehISpaRIyAqXS+olc/88JITicv4m41ChO3tiBtdUNwhq+zvCgOTR37VwrY0qSJEmSJNU2hUKRWqPzn6V1kJ977jlxZ4B8S1V2Hrov1qJbuAZjTj7WzYNxjXgDl0kjUbo606tXL/bv3w+Ak5MTkyZNIjIykpYtWwIgDAZKdmxAGxtFxbG9KOwdcA4fj9sENbYt2lk0x4qyQs4e+orkvfMpunEFR1c/2veaRdvnp+Hg7F3zm/AAqSVn2ZwWzc7M5VQYS2nl2p3wIDW9Go7C2sqm1saVJEmSJEl60hQKxXEhxHOPfb4MkH8i9HqK1/2AThNDxaFTKBwdqBjdn17rv0BXXHxP+wEDBqBWqxk0aBBKpRKAirMn0cVGUbxpFaKyAvvuL+A2Xo3ji8NQqMxP2JtMRq6d2ULy3mjSzm/HSmlDi85jCAlT4xP42O/3I5UadGzPXMqWtPlkll2kgW0jBvlPZ3DADBrYNaq1cSVJkiRJkp4UGSBb4FEB8p0qjiWj1cRQsmYLJfpKvm/lyYqSbFIy0u5p26RJEyIiIpgyZQpubm4AGAtvoPt6MbrVC6jKSkPlG4jruNm4jpqKsoGnRfMuyD1PUryG80dXYKgsoWFwd0LC1DTrMAqlqnayuyZh4vj1H4hLncex69tQKazp3fA1hgVG0MqtOwqFolbGlSRJkiRJqikZIFuguXuw2LNxB75hzcwO8KryblD05dfo5q/CkJnDkYaOrPZQsPVsIj+/d15eXmRkZGBj81PQKqqqKP1xE9pYDeWHdqOwtcN52DjcxquxbdPBovnry4s4d2QZSQlRaPMv4uDsQ7tes2j3/HQcXWsvu5tZepFNaVHsyFxGWVURLVy7EB6opnfD0dgo7WptXEmSJEmSpMchA2QLBKsaid8ZR+MR4ktIZBgt33gOawfzMrDCYKBk4060mhgq9h4j09aKb1o2YPW1sxQW6QCYPn06ixYtemAflRdOo42Novi7GER5GXade+E2QY3TS6+gsDb/QTxhMpF2fjuJCfNIPbsVKysVzTqOJjRsDj7B3Wotu1teVcKurBV8lzqPjNIUXKw9GRwwg8GBM/Gy86+VMSVJkiRJkiwlA2QLdO7UWayYrSEpai/XEzOxdXegzdTutJ/dG9fGHmb3U5l4Dq0mhuKVmyirKGdbC09iKvNYuWE9IR073tX2vffew8XFhbfeegsPj+oxjLpCitYvRbcyGkP6FVQ+friOnYnL69NReVj2IJ427yJJe6M5d3gp+ooivAM6E9JnDs07vobKunayu0IITt3YxXep8ziSvxmFwoqePiMJD1TT1r2XLL+QJEmSJKlOyQDZArdqkIUQZO27QpImnsvfJiFMgsbD2hISGUZA/5ZmB3jGG4XolqyrLr9IzcA6wBfXWWNxnfYaSs8GXL9+HX9/fyorK7Gzs2PcuHGo1Wo6dOgAgDAaKU3Yii5GQ9m+7SisbXAa/DpuE9TYhXSx6Nr0FcWkHI0lMUFDYe457Bw9addzOu17zsLJvfayuzllV9mSvoBt6YspqdLSxDmU8CA1fRuNw1b5dNZyliRJkiRJupMMkC1wv4f0SjK1JC/Yx+lF+6m4Xop7ax9CIsNoNbErNk62ZvUrjEZKN/2IVhND+Y+HUNjZ4jx2KEvdjLz733/d075Xr16o1WpeeeUVrG+WVugvn0e7MpqiDcsQpSXYhXbDdYIa54GjUdiY/yCeEIL0C7tISoji6uk4FAormoa8QkifOfg2qb3sbkVVKbuzV7EpLYqrxUk4WzfgZf+3GBo4Gx/7oFoZU5IkSZIk6X5kgGyBh61iUVVh4OLXJ0maF0/e8XRsXOxoPbkbIZFhuDUzfyOWyjMX0UXFUrRiIxVlpWxv7kGssYCTVy7d09bPz4+ZM2cyffp0vL2rSyuMJUUUf7sM7cpoDFcvoPT0wfX1GbiOnYnK27IH8XQ3rnJ63wLOHPySyrJCPP1CCekdSYvnxmFt42BRX+YSQpBcEE9cWhQH8zaCEHTzDic8SE1ogxdk+YUkSZIkSbVOBsgWMGeZNyEEuYevkahJ4NLXJzFVmQga1IYQdRhBL7e6a4e9hzFqiyhauh5dVCz6K2kkedqzqpENm84lUlVVdVdbGxsb5s6dy//93//9NA+TibL9O9CumEdZwlZQKnF6eVR1+UXHHhYFmgZ9GSnHVpKUEMWNrCTsHBrQpsdU2veajYtHsNn9WCq/PJ3NafPZlrGYIsMNgpzaMiwwkhd9x2Ovcqq1cSVJkiRJerbJANkClqyDDFCareP0Fwc4vXA/ZTlFuDbzIiSyN20md8PGxbz6WmEyUbY1Hq0mlrIf9pJnDd+28mBl5kVyC27cbrdu3TpeffXV+/ahT72EbmU0ReuXYirWYduuM27jI3EaMgYrW/MfxBNCkHUpgcQEDVeSN4IQNG4fTkjvSPxbvFhr2V29sYI92auJS9NwuegkjipXXvafypCAWfg6NquVMSVJkiRJenbJANkClgbItxj1VVxen0iiJp6cg9ewdrKl1cQuhESG0aB1Q7P70adcQRu9kuJl31JRXMyuph7EoCW3spwrV6+gumOnvaqqKj777DMmTJhAo0bVpRWm0hKK4mLRxWjQXzqL0t0Tl9en4zp2JtaNAiy6puLCdJL3LeDMgcVUlF6nQcM2hISpadllPDa2tZPdFUJwTnuQ71LnsT93PSZhpIvXEMKD1HT06I+VwrzsvCRJkiRJ0sPIANkCjxsg3yn3WBpJmgQurDmOSW8koH9LQtRhBA9pi5XSzPKLohKKV2xAGxWLIeUqWk8XmsyagOvMMah8fQDYsGEDI0eORKVSMWrUKNRqNT16VJdWCCEoP7Qb7Yp5lO7eBAoFTv1H4DpBjX2XMIsywVWGCi6eWEti/DzyM05gY+9Km25TaN97Nm5etZfdvVGRxffpi/g+fSFafR5+Di0ID1LT3+9NHFTOtTauJEmSJEm/fjJAtkBT//biZOJxXDxqvj1zWV4xZxYfIHnBPkozdbg09qD97F60mdIduwaOZvUhTCbKduxHq4mh7Pv46jrjVwfgpp7AkPf/wO7du+9q36lTJ9RqNWPGjMHOrrq0wpBxDd2q+ei++RKTrhCbliG4TVDjPGwcVvbmP4gnhCDn2iGSEjRcOvkNJmEkqPUgQvvMIbDlS2bXXltKb6pkX8464lLnkaI7gr3Sif5+kwgPUuPv2KJWxpQkSZIk6ddNBsgWcFW0EH3tonhxvC9DIwJp2sGlxn2aqoxc3pBEkiaBrL2XUdlb03J8F0LUYXi29zW7H/3lNHTzV1K0ZB1GXRG7gt2IsS7h4MXz97T19PRk+vTpzJo1C3//6jWOTeVlFG9ahTZGgz4lCStXd1xGTcXtjQis/YMtuqYSXRZn9n/B6f0LKSvOxc27BSG9I2nd9U1s7Gt+zx4kRXuETWlRxGevoUoY6OQxgOFBc3jOa5Asv5AkSZIkyWwyQLZA+7adxFs9V7A7NovKchPtersTrg6ixwhvVNY1D8DyEzNJ0sSTsvI4xgoDfn2aETKnD03C22GlUprVh6m0jKKY79BpYtCfvcR5NxvWBDrwbUoyFZUVd7VVKpW88sor/POf/6Rx48ZAdSa44thetDEaSnZsACFwfGEYbhPU2Pew7EE8o6GSS6fWkbQ3ipxrh7C2daJV1zcJDVPj7tPS/BtjoYLKHLalL+b79IXcqMyioX0ThgVGMMB/Ck7WbrU2riRJkiRJvw4yQLbArRrk4kID27/KYFNUGrnXyvHws2Xo7EAGvuWPm7d5m4M8TPmNUs59dYik6L0UpxbgFOBO+9m9aPtWD+w9zXsATghB+e5DaDUxlMb9SCEmvmvtScz1q6Tn5txuZ2trS3p6Ol5e967VbMhOR7dmEUVrFmEsvI5Nsza4jo/EZfgErBwtexAvJ/UIyXujuXB8DSajnsBWAwgJUxPcZnCtlV9UmQzsy13P5rRozhTuw07pyIu+4wkPVBPk3LZWxpQkSZIkqf6TAbIFfv6QntEoOLY1n+/mpXJyxw1UNgr6jGnE8DlBNO/sWuPxTEYT1zafJnFeAhk/XkBpq6LF2M6EzgnDq6P5q04YUjPRzV+F7stv0BcUkhDoykr7cvamnOXNN99k2bJld7VPT0/HaDQSHBxcPY/KCkq2rEUbq6Hy9HGsnF1xeXUyrm9EYBNk2YN4ZcV5nN6/iNP7F1Gqy8TVsyntes2iTfcp2Dm4W9SXJS7pThCXpmFP9moMpko6ePRjaGAE3b3DUSrMy85LkiRJkvRskAGyBR62ikXauRI2R6exY1kmFaVGWnV3ZficIHq+2hBrm5pnSG+cySY5ei/nlh+hqkxPo+cbEzKnD01HhqK0NrP8oqyc4tWb0Wpi0Cee55KzNR6vDabje3OwbvxTwD1r1iwWLVpEeHg4arWaF1988fbqFxWnDlWXX2z7BoxGHMIG4TZBjUOvARZlgo1GA5cTvyUpQUP2lf2obBxo1WUiIb0j8PBtZ/H9MZdOf50fMr5kS9oC8irS8LYLYmjgbF72n4qLjUetjStJkiRJUv1RbwJkhUJhC8wH+gMNgMvAu0KIrfdpOwlYApTfcXioEGLPzdeDgaVANyANiBRC7HzUHMxZ5q1UZ2DHskw2R6eRebEM94a2DJ7hz+CZgTRoWPPyi0ptGeeWHSYpai+6y9dx9HWl3YznaTejJw4+5j0AJ4SgYt8xtJpYSr7dDiYTjsNexDVyPPrn2uDv709ZWdnt9m3atCEyMpIJEybg5FRdWlGVl41uzSJ0axZivJ6LdXBz3MZH4vzKmyidLcue52ecIjF+HhdOrMZoqMC/+QuEhKlp3G4YVkrVozt4DEZTFYfy4vgudR7JhfHYWNnxgu8bDAuMpKlLh1oZU5Ikqa5lF2czZv0Y1o5aS0Mn89fh/yWoydzr83VLdaM+BciOwB+AZVQHtYOB1UB7IcS1n7WdBLwlhOj1gL4OAgeB9272swRoLoTIf9gcLFkH2WQSHP/hOnGaVI5tvY7KWkGv0Q0JjwykVXe3Gu86J0wmrm09R5ImnrQfzmNlo6T5ax0JUfehYdcgs/sxZOSgW7iaoi/WYswvIKtJQ/5io+XH88n3tHV1dWXy5MlERETQrFl1aYXQ6yn+YR26FfOoSDyMwtEJlxFv4jY+EpumrSy6pvLSG5w9uISkvVGUFKbj7B5I+94RtOkxFXvH2svuXis+TVyqhh+zYqg0ldPWvRfDg+bQw3sEKivrWhtXkiTpaZu9ZTaLji9iZueZRA+JruvpWKQmc6/P1y3VjXoTIN93cIUiCfhYCLH+Z8cn8YAAWaFQtACSAU8hRPHNY3uBlUKIhQ8b73E3Csm8WMqm6DR2LM2krKiK5s+5EK4OIuy1htjY1bz+tTAll6TovZxbdhhDcSU+XYMIiexN89c6orQ1L8AzVVRS8vX3aDUxVB47zVVHFV83c2XtpWRKSkvvaqtQKBg0aBBqtZqXX375drBfkXQUbWwUJVvWIAx6HHq+hOvEOTiGDUKhNP86TcYqrp7eRFKChoyLu1Fa29Gy8zhCwtR4+Xcwux9LFRsK2ZGxlE1pUeSUX8XD1o8hgbMYFDAdN5t7H2KUJEmqT7KLs2kyrwkVVRXYq+y58vaVepNNrcnc6/N1S3Wn3gbICoXCB0gFOgghzv/stUlANNUlFgVADPB3IUSVQqF4BfibEKL1He2jACGEUN9nnOnAdIDAwMDOqampjz3n8pIqdq3IIk6TSvr5Ulw8rRk8I4DBMwPx8rd77H5v0RdXcG75EZKiEtCm5GHv7VxdfjGzF06+5pc9lB86hU4TQ/E32ygxVLC5tTcxRZlczEy/q1337t05ePDgPedX3cij6OvF6FYtoCo3E+uAJriOm43LqCkoXS17EO9G1mmS9kZx/mgMVfoyGjXpRWiYmiahr6BU1k521yiMHM3/nrhUDSdv7EClsKFPo9cZHvQ2zV0718qYkiRJtW32ltksObkEvVGPjdKGtzq+VW+yqTWZe32+bqnu1MsAWaFQWANbgctCiBn3eb0JIKgOoNsCa4EYIcTfFQrFBCBCCNH9jvafAH5CiEkPG/dJbDUN1TXAp34sIG5eKoc35aGwUtBzpA/h6kDa9nJ/IuUX6TtTSNQkcG3LWayUCpq+2oEQdRiNnm9sdv9VOfnoFq1Bt3ANhpw8Dvk6s8rNxI5zSQghWLlyJePGjbvrnJKSktt1ysJgoGTnRrQxGiqO7UVh74Bz+HjcJqixbWHZg3gVZYWcPfQVyXvnU3TjCo6ufrTvNZO2z0/Hwdnbor4skVZyjs1p0ezMXE65sYTWbj0YFhhJr4ajsLaq+Y6KkiRJT8OdWdRb6ks2tSZzr8/XLdWtehcgKxQKK2AV4AIMF0IYzDhnDPAHIUTnmxnkT4QQbe54XQNwvwzynZ5UgHynnKtlbJ6fxg9fZlCiraJxiDPD5wTRd1wjbO1rXn6hu3KdpOi9nF1yCL2uHK+O/oSow2gxtjMqO/MysEKvp2T9drSaGCoOniTNQcWmVh789atFOIXevo2YTCZatWpFcHAwarWawYMHo7xZWlF59hTa2CiKN61EVFZg3/0F3N6IxLFfOAqV+Q/imUxGUs98T9LeKNLOb8dKaUPzTq8TGqbGJ6iLZTfHAqUGHTsyl7E5LZrMsos0sG3EIP/pDA6YQQO7RrU2riRJ0pNwZxb1lvqSTa3J3OvzdUt1q14FyIrq1OdXQDAwWAhR/vAzbp/3OvBHIUSnmzXISYDXHTXICcCq2qpBNkdFmZHdK6vLL64ll+Dkbs3At/wZGhGIT5B9jfvXl1RyYeUxEjUJFJzJxs7DkbbTetB+Vi+cAxuYP89jyWijYilZvRmhN2Df/3nc1BNwHNKXrT/8wJAhQ263bdKkCbNnz2bKlCm4u1eXVhgLb6D75kt0qxdQlZmKyjcQ17GzcB39FsoGnhZdU0HueZISojh/ZDmGyhJ8groRGqamWcfRKFW1k901CRPHr//AprQojuVvRalQ0avhaMIDI2nl1r3G2X9JkqTa0HFRR07lnLrneIeGHTg54+TTn5AFajL3+nzdUt2qbwHyQqAD0F8IUfKQdoOAE0KIXIVC0QpYB3wjhPj45uuHgH3An4FBVC/59kRXsXhcQgiSEwrZFJXKgQ15IATdhnkTPieI0Bca1Lz8Qggy91wkUZPA1e+qV6poMiKEEHUYfn2amV9+kV9A0eK16BaspiojB1Vjf75s4cqnO+IwmUx3tXVwcGD8+PGo1WratasurRBVVZT+uAltrIbyQ7tR2NrhPHQsrhPU2LXpaNE16cuLOHdkGUkJUWjzL+Lg0pB2z8+gbc/pOLn6WtSXJbJKLxGXpmFH5jLKqopo7vIcw4Ii6dPwdWyUNa8plyRJkiSpbtSbAFmhUAQB14BKoOqOl2YAe4GzQBshRJpCofg3MAFwAnKBWGDurXKMm+sgL+OndZAjntQ6yE9SXlo53y9KZ+sX6RRdNxDU1omhEYH0m+CLvVPN1wcuSi0gef5ezn55kIqCMjza+xIS2ZuW47tg7WBeBlZUVVGycSc6TQzlCUfJtLXim5burL52jsIi3T3t+/bty5w5cxg2bBiqm6UVlRdOV5dffBeDKC/DrlNP3CaocRowEoW1+Q/iCZOJtJQdJMZ/Tuq5bVgplDTrOJqQMDUNg2svu1teVcKurBjiUueRXnoeF2tPBgfMYHDgTLzs/GtlTEmSJEmSak+9CZB/CZ52gHyLvsLIntXZbIpK49KJIhxdVQyY4sfQiCB8mzrUuP+qcj0XVh8nUZPA9VOZ2Lo70GZKd9rP7oVrE/PLHioTz6GNiqV45SbKysv4oYUnKyrzOJ169Z62n376KX/84x/vOmYs0lK0fim62CgM6VdQevviNm4WLq9NQ+XpY9E1afMvkbx3PmcPLUFfUYSXfydC+8yheafXUVnXTnZXCMGpgh+JS53H4bxNKBRWPO/9CsOD5tDWvZcsv5AkSZKkekIGyBaoqwD5FiEE5w5qidOksm9dLiajoMsQL8IjA+n4kidWVjUvv8jef4XEefFc/jYJYRI0HtqWEHUYAf1bmh3gGQu0FC1ZhzZ6JYbUDE56ObDKR8WWc4kYjUZUKhWpqan4+t6//EGYTJTFb0UbM4+yfdtRWNvgNOg13CbOwS7Esgfx9JUlpByNJSlBQ0HOWewcPWnXczrte87Cyb32srs5ZVfZkr6AbRlfUmIopLFzCMOD5tC30ThslTWvKZckSZIkqfbIANkCdR0g36kgu4LNC9LZuigdbZ4e/5aODIsMpN9EPxxdal5+UZKp5fTC/ZxetJ/y/BLcW/sQEhlGqwldsHE2LwMrjEZKN+9Gq4mhfNdBcmwUrGvlgb51YxasWXlX24sXLzJ16lQiIiIYOXIk1jdLK/RXUtDGRlG0YRmitAS70G64TlDjPHA0ChvzH8QTQpBx4UcSEzRcO70JFAqatB9BaJ85+DbtXWvZ3QpjGXuyVhGXpuFqcRJO1u4M9H+LoYER+Nibv+OhJEmSJElPjwyQLfBLCpBv0Vea2Lcuh7h5qaQc0TH87SBm/q/1o080k7HSwMWvT5I4L4G8Y2nYuNjRenI3QiJ649bc/PWHK89cRBe9kqLlGxBl5dg93wk39XicXn0ZhbU177zzDp9//jkAvr6+zJw5k+nTp+PjU11aYSwpovjb5WhXRmO4moLS0wfX16fjOmYmKh/LHsQrunGN5H3zOXtwCRVlBXj6hRLSO5IWz43D2qbmJSv3I4QguTCBuFQNB/M2Vj986T2MYUFqOjR4UZZfSM+k7OJsxqwfw9pRa+WatGY6lX2Kvsv7kjA5gRCfkLqejiT9askA2QK/xAD5TilHdbh52zyRZeF+TghB7uFrJEXt5eLXJzEZjAQObE3onD4EvdwKhZWVWf0YtUUULV2PLnolhstpKBt54zBtNO2j5nK94MZdbW1sbHj99ddRq9V06VJdWiFMJsr270Abo6Es/ntQKnF6eRRuE9TYdexhUaBp0JeRcmwlSQlR3MhKwtbBnTbdpxLSOwIXj2Cz+7FUfnk6W9IXsDV9MUWG6wQ5tWVoYAT9fCdgr3KqtXEl6Zdm9pbZLDq+iJmdZ8o1ac3Ubn47zuSfoa1XW07PPl3X05GkXy0ZIFvglx4gPy2lOUWcXrSf0wv3U5ZThGszL0IietF6cndsXc0LzoXJRNnWeLSaWMp+2EueCja09iQ28wK5PwuUAbp164ZarWb06NHY3Cyt0KddRhcbRdH6pZiKddi27VS9+sWQMVjZmv8gnhCCrMt7SYyfx5XkjSAEwe2GERqmxr9F7WV39cYK9mSvZlNaFJeKTuCocmWA3xSGBs7G17FZrYwpSb8Ud+5wJnc2M8+p7FN0/OKnZTATZybKLLIk1RIZIFtABsh3M+qruLw+kaSoBLIPXMXa0YZWE7sSog6jQWvzf9DpL1ytLr9Yup6K4hJ2NXEn1qqIo5dS7mnr4+PD8ePH8fPzu33MVFZKcVws2hXz0F86i9LdE5fXpuE6bhbWjQIsuqbiwnRO71/I6f1fUFF6HXef1oT2mUPLLuOxsa2d7K4QgnPag3yXOo/9uesxCSNdvIYQHhhJR8+XsFKYl52XpPrkzh3O5M5m5rmVPb5FZpElqfbIANkCMkB+sLzjaSRqEri45gTGyioC+rckRB1G8JC2WCnNLL8oKqF4xQa0UbEYUq5yxt2WNQH2bDifiF5fvU1ox44dOX78+H2zukIIyg/tRrtiHqW7qx/Ec+o/AtcJauy7hFmUCa4yVHDxxFoS4+eRn3ECGzsX2nSfQkjvSFy9mprdj6VuVGTxffoivk9fiFafh59DC8KD1PTzm4ijyqXWxpWkp+nO7PEtMov8cD/PHt8is8iSVDtkgGwBGSBXE0I8MNgszy/m9OKDnF6wj5IMLS6NPWg/uxdtpnTHroGjef2bTJTtPIAuKpbSzbu5YSXY2MaTmJzLzP3070yZMuWu9hs2bECn0zFmzBjs7KpLKwwZ19CtXojum8WYtAXYtAzBbXwkzuFvYGVv/oN4Qghyrh0iMX4el0+twySMBLUeRGifOQS2fMns2mtL6U2V7MtZR1zqPFJ0R7BXOtHfbxLhQWr8HVvUypiS9LTcmT2+RWaRH+7n2eNbZBa5fui7rC/tvNsRNTiqVvqftHES18uus3nc5hr1s+faHl5Y/gL5f8jH08G8fRCWnVpG5PeRlPy/B25wXC/JANkCMkCuVlyg5/xhHXu/zsGnsT3j3m96T8BsqjJyZWMSiZoEshIuo7K3puX4LoRE9sYzxO8BPd9LfzkN3fyVFC1ZR6WuCNsOrfGc8ybOY4diZWeLEIJ27dpx9uxZPD09mTZtGrNmzSIgoLq0wlReRvHm1WhjNOjPJ2Ll6o7LqKm4vRGBtX+wRdddosvizP4vOL1/IWXFubh5NSckLJLWXSdhY1972d0U3VE2pUYRn72GKqGnk8cAhgfN4TmvQbL8QqqXOi7qyKmcU/cc79CwAydnnHz6E6oH7D+xvyvjfoudyo7y98rrYEYSmB+YFpQXYG1ljbOtc63MQ1ehQyBws3OrUT96o56C8gJ8HH3M/qtruaGcYn0x3o7mr2xVH8gA2QIyQK72l1dOUJBdSYcXPTizvxCVtRV/Xt8BR9f7bwt9PSmTxHnxpKw8jrHCgF+fZoSow2gyvD1WKqVZY5pKyyiOjUOriUF/5iJWHm64TnuN4+0DGPjGmLvaKpVKRowYgVqtJiysurRCCEHFsX1oYzWUbP8WhMDxhaG4jVdj/3w/i8ovjIZKLiWuJylBQ861Q1jbOtGq65uEhEXSwKeV2f1YqrAyl20ZX7IlbT43KrNoaN+EYYERDPCfgpO1W62NK0mSJN3fowLkWzX2de2XMo/6RAbIFpABMuxYnkn0rDMsuRSGh291OcPMdvuYHdWakL4eDz23oqCUs0sOkRS9l+LUApz83Wgf0Zu2b/XA3tO8B+CEEJTvOYxWE0Ppd7soFEa+a+NFzPWrpOfm3NM+JCQEtVrNuHHjcHCoLq0w5GSgW72QorVfYCzIx6Zpa1zHR+IyYiJWjpY9iJebepSkvVFcOL4Gk1FPQMuXCA1TE9R2MFZW5gX/lqoyGdif+y2b0qI4U7gPW6UD/XwnMCwwkmDndrUypiRJknSvnwfIt77vHdgbzRENeqOevD/k3VNi8e25b/loz0dcLLiIvcqe9j7t+XrU1/g4+dwzxrj146g0VrL+tfW3j5mEiaD/BfGb7r/htz1+e888+i7rS2vP1jjaOLI8cTnBbsEcnXaULRe28NvtvyVVm0pXv67M7jKbsevHcvXtqwS7Bd9TYnGrfOK7Md/x9ra3uaq9Sle/rnwV/hWN3RsD9y+x+P7i93wc/zFJuUk4WDvwfMDzfDP6G+xUdsQmxfL54c85f/089ip7+gT34X8v/w8/F/P/uvw01DRAln/ffYYU3dCzKSqVse83vR0cF2RXYOugxEr56AysXQNHOv2hHxMvf8CQjW/h1sKbg+9uYqn/B+ycvJK8E+mP7EOhUODwQnd8v40m+MoumvzfdKZkV/FDrhMLAzvTu2Wbu9onJSUxbdo0/P39+dvf/gaAdUN/PH/zV4Lj0/D5dBkKewfyP47gam8/8j95B/21i2bfE5+gLrw0fjmT/5JO9yFzKcg5y+bF4cTMbcGJH/9DRVmh2X2ZS2VlTZ9Gr/PvbnvRPH+CsIavszNzObP2t+dPR/qxP3cDRlPVEx9XkiRJerT41HiS8pLYNn4buybuuuf1nJIcxqwbw5uhb3Iu4hwJkxOYEDLhgf2NDxnPlgtb0FXofhrjWjzZxdmMbTf2gefFJscihGDv5L2sGLGCNF0aI78eyZDmQ0icmcicbnP4vx3/98jrqTRW8vd9f+er4V9xcOpBtBVaZm6Z+cD22y5tI3x1OC81eYnj04+z+83d9Anqg0mYgOps9sd9PyZxZiKbx23metl1xq5/8HXUVzXf01iqNxJ3F5CfVsFrf2py+1jqmRLcG9pQVnRvQJZyREv2lXJ6jvTB2uan36WslFY0GR5Ck+Eh3DiTTXL0Xs6vOMK5ZYdp9HxjQub0oenIUJTWD8/AWgf54fnpH2jwoZri1ZsZpInhxVPnuOTchjWNnVh3MZmy8uravMLCQoqKiu4638rWDpeRb+L8ykQqTh1CG6NBuzIa7fLPcegzGLfxkTj0ftmsB/EcnL3p8vKf6dT/j1xJ3EBigob9G3/P4e8/oFWXCYT0jsTD98lnd5u5dOS37b/irZb/YlvGYjanzeevJ0fibRfE0MDZvOw/FRebh2f2JUmSpCfHTmXHV+FfYauyve/rWcVZGEwGRrUZRZBbEADtvB/882FA0wG42rmy7uw6pnaaCsDK5JW82PhFGjk3euB5jd0a85+X/3P7+3d3vksT9yZ89vJnALT0bMmFGxd478f3Hno9VaYqogdH09KzJQC/7/F7psRNeeAD+3MT5jKqzSj++uJfbx+7c6WVKR1/etC+iXsTFgxZQOvo1mQUZeDv4v/QudQnMoP8DNmxNJPeoxve/j9EWXEVl08Wo68w0b5Pg7valmgNZF8uq844e//I91/cPzvs0bYRfee/xuSMv9D7v69QllvMD2OWsTzoQ478ZStluUX3Pe9OVvZ2uE4ZRcCJjfjvXUWHQf3585ki4st9+bBtDxo38sXKyopZs2bdc+73339PaWkp9h170OizVTTek0aDyA+pPHuCrGmDSR3YisLln2Ms1t1n5HspldY07/Qao97Zy5j/O0mLTmM4d2Q5Cd++bdb5j8vFxoPXmvyJpWFX+HPHb2no0JivLvyR8Xv8+N/pt7hSlFir40uSJEnV2nm3e2BwDBDqE0r/Jv1pt6Adr379KguOLiC/NP+B7VVWKl5v+zork1cCUFlVyfpz6xkfMv6h8+js2/mu78/fOE8X3y53Hevm1+1Rl4Ot0vZ2cAzg6+yL3qinsOL+fyE9mX2Sfo37PbC/E9knGL5mOEH/C8L5784890V1FUOaLu2Rc6lPZID8jNBXmrB3UuIZ8NMOdWf2FZKcUEDXIV7YO6kwmX6qR3dys6bbMG9mft4aVy8bSgoNAHe1uZOtmwMd3nmBCRf+zNDNM/AI8eXwh1tZGvAh28evIOdI6iPnqFAosO/1HI3Wfk7wtd00/nMkE/NMbM12YENAV1w378VU/FONVGpqKsOGDcPPz4933nmHS5cuofJuhMecj2i8OxWf/6xE6ebB9U/e4WpvP/I+jkR/+bzZ98zLvwP9xi1h8l8y6PvaArPPqwmllYqePq/wj667WdAzmZf8JrEnaxURBzrw+8O92ZuzjiqT4anMRZIeJbs4mz7L+pBTcu/zA7V5bl2PXZfqcu7PytiO1g9f0lRppWT7+O1sH7+dEO8QlpxcQnNNcxJzHpzIGB8ynvjUeDKLMtlycQt6o56RrUfWaB7mUlndXSxwK0l2q2TCEqX6Ul6OfRkHawdiXonh6LSjbBu/DeCuZR+fhLr+/6kMkJ8RNrZWdOjvwYkfrmPQm0iKL2DDZ9fw9LPj5anVfxL5+V9a7J1UXDpRhFKlYORvgwEwVlUHyGf2F1Jecm9ZhsLKisZD2jJ822zGp/yZ9rN6cSUumW+6/Yevu/2H8zFHMFY+OsCz9m+Ix9x3CE6Lp9Hyf9LBqxH5kX/hqn8Y+W//Ff2Fq8yfPx+TyURRURGff/45zZs3Z/DgwWzduhWhUuEybBwBXx8kYP1RnAa8StHXi0kd1JrMyQMo+XETwmg0697ZO3rg7v301y4Odm6Huu1CYl7IZFrL/3CjIpO/nRrNpPhgVl/+K1r9gzMWkvQ0zE2Yy760fcyNn/tUz63rsetSXc79WR37fhQKBT0CevBh3w85Ou0ovs6+rD2z9oHtu/p1pVmDZqw+vZqVySsZ3nI4TjaWPVTeyqMVx7LuXmjgSOaRx5r/w3Rs1JFdV++tvQY4f/0818uu87cX/0ZYUBitPFuRV5r3xOcAdf+eywD5GdJzpA8unjaM8fqR5e9dILi9ExPmNsfeSUWVwXRPLVJuajm7VmTRb6IvKmsrDHoT1jZWlGgNvDfgGGO9fyQ64iwl2vsHvO4tvAn7/FWmZM4lTDOKSl05OybGsjTwIw69v4WSTO0j52xlZ4vLxFcIPPotAYe+wXHYi2gXrCa15cv4fH+A5n53b0W9detWBg8eTKtWrfj888/R6XTYtX+Ohv9cTnBCOh6/+Sv6S2fJnhnOtZeaU7jk3xh1T/5BvCfJ2dqdkY1/y5dhF/mo0yaCnNqx4uL7TNjtz7+TJnJB92yvzCLVjezibJaeWopJmFh6aqlFWZ6anFvXY9elupz7szr2/RzKOMRfE/7K0cyjpOnSiEuJI70onTZebR563hvt3+DLE1+y5cKWR5ZX3M/M52ZyufAyv9/+e1Kup/DtuW9ZdHwRAArMX+r0Ud7r/R7fnP2GP//4Z87mn+VM3hn+e/C/lBnKCHQNxFZpS9SRKK4UXmHLhS28v/v9Jzb2Lb+E91wGyM8QFw8b/t/XHfjiXC/eXduB6Z+1RpgEpUVVqKzv/igYjYJTO2+gza1k5O8a3/XaN/+4Qo/h3vxtZxcKcyp5Myiebz+7+sBxbZztCI0MY/y59xj+wyx8ugZy9JPtLA/+iK2vLyVr/xXMWW7QrlsoDWP/TeO0PTT4SM2I6yY2ZdqyrFFHBrQJvSvAv3jxIu+88w7+/v5ERERw5coVVB7eNJj1HsE/XqXh51+jaujP9X/8gath/uS+P4PKC7/s3ayUCiXdvIfySZcfWNTrLIMCpnMgdwNvH+zCOwe782PWSgymJ/snLkl6kLkJc2//idYojBZleWpybl2PXZfqcu7P6tj342rryv70/QxdPZTmmub8bvvveD/s/UcGveNDxpNyIwVXO1cGNB1g8bhBbkGsf209cSlxhC4M5b+H/suHfT4Eqh8sfFIGNx/Mhtc3sPXSVjou6kifZX3YfW03VgorvBy9WD5iORtTNtImug0fx3/MZwM+e2Jj3/JLeM/lOsjPuB+WZLDxf9dYkNzrruO518r498RkOg3wZOyfm2KsMqFUWVFeUsWbQfEMfzuINz5oBkBeWjnZl8sIfcH81RZ0V66TPH8fZ5ccpFJbjmcHP0Ln9KHFmE6o7M1bDF3o9ZSs345WE0PFwZOk2Sv5prkba66eQVdcfFfbH3/8kRdeeOGePirPnkIbG0XxppWIygrsu/XFbbwax37hKFRPd5GXh20B/iClVUXsyFjK5rT5ZJZdwN22IYP8pzMkYCYN7B78dLQk1UR2cTZN5jW5a2c4e5U9V96+QkOnhrV2bl2PXZfqcu7P6tj1weeHPueDPR+g/aPW4p8fv1RP6j2X6yBLNfLyVH/+e7gHAKU6A/Frs8m5WsbVpBJ0+XpGvFO9hM2tdZILcyrpO7YR27/K4MNhx8m5WoZ3oP1dwXHKES3bl2agzat84LiuTTzp9e8RTM74Cy8seh2TwcSuKatYGvAh+/8UR3FawSPnrrCxwXnsUAIOrCXg2Le0fS2c358vYk+xN39r1Z1WATeX32nXjr59+951bkVFBYWFhdi26YDP376kcUIGHn/4B4aMq2SrX+Va/6YULPoUY8F1i+5nTVSWFXLt7FZ2rpzMka1/MSur7qhyYUTw23zR+xxzO2+luUtnVl+ey8T4QP6ROI6zhQfM6keSLHFnducWc7M8NTm3rseuS3U592d17F+i6CPRHMk8wtXCq6xOXs3chLlMCp30qwmO4Zfznj+1AFmhUNgqFIolCoUiVaFQFCsUilMKhWLQA9q+qVAojisUiiKFQpGhUCj+qVAoVHe8vkehUFQoFIqSm18pT+s6fo3sHKrXK7Z1UJL44w2mNE3gk1En6fiSB/ZO1bf91v/5GjV1YHZUG5Zf64ujq4o9q7Nv93M9s4LYjy4yd+RJ9q/P5c2geOKiqleveFCQZu1oS7vpPRmX/Cde+TES37CmnPzXLpY3/pgtI78kY89F88ovOrej4bJ/EJyxl8BPfseYEmu+S7cm1qcDH3Xvj6nw7mXeVq1ahZ+fHzNmzCA5ORmluwcNpv0fwTsv0yh6A9aBzbjxn3e52ieA3HenUHH2pOU31kK7Vk/lyNaPcXBpRPqFXWyMfonKcvOWp7NSWPGc10A+7ryZL3tfYGhgBEfzv+d3h3vy9sGu7Mhcjt5Y8eiOJMkMBzMO3vPEut6o50DGgVo9t67Hrkt1OfdndexfoksFl3hl7Su0jm7N+7vfZ+ZzM/nXgH/V9bSeqF/Ke/7USiwUCoUj8AdgGZAGDAZWA+2FENd+1nYWcBo4DHgBccA3QohPb76+B4gVQnxpyRxkiYV5CnIqWfPJZTZHpzHinSCm/rMlhkoT1rZWKFVWVJRWYeeoYv+GXOZHnOWLc71wdLVGM/MMpToDvV9rRM9XfNj/bQ7bFmcwd6tlf+EoSi0gecE+zn55kIobpXi0a0RIZBgtxz+HteOD16a8k6iqomTjTnSaGMoTjqKwt8N5fDhukeOxad+STp06cerUqdvt+/bti1qtJjw8HNXN0orKi2fQxUZRtHEForwMu049cZugxmnASBTW1hZd06OcO7ycPV/PYsIHl3By9QVg5d/b0WdUFP7N+z5Wn+VVJezKiiEuVUN66TlcrD0ZHDCDwYEz8bL79SzmLkmSJEk/V29KLIQQpUKIj4QQ14QQJiHEZuAq0Pk+bRcIIfYKIfRCiExgJdDzac31WdegoS2zNW2IzXqBFl1cUaqsSDtXypEt1cuK2TlWB5C5V8sIauuEo6s1KUd1JP54g75jfXl+hDcA3kH2FN0wcCXx0ZuF3MklqAE9Pw1ncvrH9FsyFoXKit0z17LU/wP2/X4juiuPLntQqFQ4jxqIf/xKAk99h/MbwyiOjSMtNJzknqOo+llGec+ePbz66qs0adKETz/9lOvXr2PbvC3eHy+g8d5MPN/9DGN+Njm/GcPVF4K5ET2Xquu5Fl3Xg5SX3iBpbxRdXn7/dnBcqstGZe2Awuqn3QiFqfpPTub+UmuvcmJo4CwW9TrD37vsoq17T9Ze+RuT4oP55ORokgsSZPmFJEmSJN1HnT2kp1AofIBUoIMQ4qG7NygUio3AeSHEn25+vwdoCyiAFOA9IcSeB5w7HZgOEBgY2Dk19dEbVkj3OvhdLp9NPk2XwZ6M+kNjriYVs/y9i7z2bhOGzgrkv1OTMRkF0//bGmf36uxq0p4bzB15itW5L9yzSoYlhBBk7btCcvReLq8/hckoaDy0LSGRvQl4qZXZtVfGAi1FS9ahjV6JITWDk14OrPJRseVcIsafrYlsa2vLuHHjUKvVdOzYsXoeJhNl8VvRxsyjbN92FNY2OA16DbcJauxCuz729V06uY496yKY+tec29eSlrKTpPh5tO05g8Zth9xuazIZ+WHZWJwbBNF9yFxU1pY9uZxbdo3N6QvYlrGYEkMhjZ1DCA9U84LvG9gq7R/7GiRJkiTpl6SmGeQ6CZAVCoU1sBW4LISY8Yi2U4C/UB1IX795rBtwFtADY4Com69fflhfssSiZopu6Fn67gXO7CsksLUTDZvY89a/WqHNq+SfbyQxYIoffcY0uh3k/b8BR2nQyJbfLw/BZBJYWdX8IYKSTC2nF+7n9BcHKM8rxr2VDyGRvWk1sSs2zuYFi8JopHTzbrSaGMp3HSTHRsG6Vh6sSjvPde3dayK7urqSnZ2Nvf3dwaP+SgraldEUf7sMU2kxdqHdcB0fidOg0VjZmFcGckvcwiG4eDSm7+io6r4rijm9fyFp53cw+K1vsbG9ezH5wrwLJKx/m9xrh2jdbTI9hv3N4kC5wljGnqxVxKVpuFqchJO1Oy/7TWVYUCQ+9kEW9SVJkiRJvzT1LkBWKBRWwCrABRguhHjgtmoKhWIEsAjoL4RIfki7bcAWIYTmYWPLAPnJqCgzYmUFNnbVf/7X5uv5OPw4I94Jps/r1UuLpRzR8tseh5if3IugNpbtFmQOY6WBi1+fJHFeAnnH0rB2tqXN5O6ERPbGrbm32f1Unr2ELiqWohUbqSgtYXszD2KNBZy8egmA3/zmN3z22d1rPN65HJuxpIjiDSvQxkZhuJqC0tMH19en4zpmJiof30dfh6GS7bET8fbvROeX/gjAtbNbSd47n4CW/enQ922EyYTCyuqesctLrvPtvD4UF6QyYOJKmoQMN/u677yW5MIENqVGcSBvAwhBN+9hDAtS06HBi7+qJ6MlSZKkZ0e9qUEGUFT/tF0C+ACvPiI4HggsBoY9LDi+ScAT3EZGeig7B+Xt4BjA2V2Fi4cNt37XSjmq44vfnmfAVP9aCY4BlLbWtJrQldeP/p7Rh35Lk/D2JC/YR0yLv/LdoAVc+/7M7Zrdh7Ft0wzv+R/ROCMBv//+mZHCmTVX4RuP9oxs35npr42555zJkyczYcIEjhw5gtLJBbcJkQRtPYvvkm3YtnuOgvl/5eoLQWT/ZizlJx6+zJrS2paAlv1JO/8Dxio9mRfjObX7M5zc/GjTY2p1owcEqUqVLXaOHgS3G4qrZ1MAMi8loK8sMeMO3upaQUiDPrzX8RuWhV1ldJM/cqZwP//vaH9m7W/P5rQFlFeZ358kSZIk/Ro81QyyQqFYCHSgOiP8wJ+6CoXiReAb4BUhRMLPXnMDugHxQBXwOvAF0FEIceFh48sMcu3Zsyab/05OplV3NypKjfg2d+A3X7XHxvbp/Q5WmlPEmS/2c3rhfkqzi3Bt5kVIRC9aT+6Orat59bXCZKJsWwJaTQxl2/aCtTXOrw3CTT0Bu26hZGVlERQURFVVFQBdu3ZFrVYzevRobG2rSyv0aZfRxUZTtP4rTMU6bNt2wnV8JM5Dx2Jle28pRHnpDfasnUXa+R/w8G2PT2BXnnvpXeydvTAaDSiV1nfNT2FlxbWzWzn547+xUtowaPLX2Ng5U1FawNIPA0CI6tKLoZ9g6+Bm8X3UGyvYk72azWnRXCw6jpPKjZf8JjM0cDa+js0s7k+SpJ9kF2czZv0Y1o5aWycbXdT1+FL9Up8/L/WmxEKhUAQB14BKqgPbW2YAe6muKW4jhEhTKBS7gd7AnQu37hVCDFIoFF7A90ArwAicB94XQux41BxkgFy7KkqriF+TQ3CIM8HtnLC1Vz6x2mNLGPVVXP42kcR58eQcvIa1ow0tJ3QhVB1Ggzbm7y6nv3AVXfRKipaux1Rcim2X9qxv68Vvly26p62Pjw/Tp09n5syZ+PpWl1aYSksoiotFF6NBf+ksSndPXEa/heu4WVj7Bt7TR4kuC4TAyc2PsqJcVNb22Ni7AHeXVuSmHeOHZWMIajOIrgM/xN7JE4D9cX+ipDCNkN6RnNz9H9JTdtJ14Id0fPG3Ft/DW2Oe1x5iY+rn7M9dj0kY6eI1mGGBkXTyHICVQu4zJEmWmr1lNouOL2Jm55lED4l+5saX6pf6/HmpNwHyL4EMkJ89ecfTSNQkcHHNCYyVVfj3a0FIZBiNh7XDSmlegGcqLqFoxUa0mhgMKVc5427LGn87NqQkodffvZi5SqXi1VdfRa1W8/zzz6NQKBBCUH5oN9oYDaU/xgHg2H8EbhPU2Hftc9863zMHl5AY/znj/pQE/BQgXzz5DSd2/gPvwC70Hvnf2w/n6StLWP5hEKF93qbroA8AKC5IQ3f9Mv4t7t1i21IFFdlsSV/I9+kL0erz8HNozrAgNf393sRR5VLj/iXpWXDnFrp1sV1yXY8v1S/1/fMiA2QLyAD52VWeX8yZLw+SPH8fJRlaXIIb0H52b9pM7Y5dA0ez+hBCULbzALp5KyjdsocbVoKNbTyJyblMVn7ePe3nzJnD559/ftcxQ2YqulXz0X3zJSZtATYt2+M2Xo1z+BtY2Tvc3VZfhrWNw+2xr57exL6Nv6N5x9foOuiju0ovtPmXOLXnf1w7sxmPRu0JGzUPV4/Gd/WXk3qEguwzBLcdgoOz+Q8y3jUnk559Oev4LnUeKbrD2Cud6O83ifDASPydWj5Wn5L0rJi9ZTZLTi5Bb9Rjo7ThrY5vPdWsXF2PL9Uv9f3zIgNkC8gAWTJVGbmyMYmkqL1kxl9CZW9NizeeI1QdhmeIn9n96C+noZu/kqKv1lOp1REf7EaMdSkHL5673Wbr1q0MHDjw/vMoL6N482q0MRr05xOxcnHDZdRU3N6IwDqg8T3tC3LOseXLEdXB8cAPsVKq7iq7uPPf21eMx71hG7oM+H8AlGgzOXNgMWcOfomXfwfSL+yi5/B/ERoWedd5lkrRHWVTahTx2WuoEno6erzE8KA5POc1CKVC+egOJOkZcmc27panmZWr6/Gl+uXX8HmRAbIFZID862A0CpTKmtc1X0/OIkmTQErsUarKDfj1aUaIOowmw9tjpTIvwDOVllG8Mg6tJhb96QukuNqwJsiB5KpSTiYnY2X1UxmHXq9n5syZTJw4kT59+twuv6g4tg9trIaS7d+CyYTji8NwG6/G/vl+dwWvlWXaex66q9KXY6W0xkqpwlBZirWtI5cTNxD/TQRvvHcOW3tXdq+dSWW5juYdX6Np6CtcSvyWMwcWM3zW1hrfQwBtZR5bMxazJW0BNyozaWjfmKGBEbzsPxUna7dHni9Jz4I7s3G3PM2sXF2PL9Uvv4bPS71a5k2SaiojpYRJwfGs/uQy2rzKGvXl2d6XF78Yw+SMv9DzX8MpulbA1lFfsbzxxxz7+3bK84sf2YeVowOu08cQmLQJvx9X0OnFPnx4uoi156rIGaWmbM/h28u8rVu3jqVLl/LCCy8QGhrKF198QXl5OfZdetPo868J3n0N95n/j4qTB8mc/BKpg9qgjY3GVFI9D1sHt3uWjCvIOcu1M1sAsLatLhUpunGVBo3aYmvvSm7qUTIu/EiLzmNpEjICABf3ICpKb5CfmVij+3eLm603Y5u+x7I+V3k3dC2edv58mfJ7xu/xY97pGVwrPv1ExpGk+uxgxsG7gg0AvVHPgYwDz8T4Uv0iPy8ygyzVM1eTi1n8u/Oc3HEDlY2CPmMaEa4OosVzrjXu22Q0cW3zaZKi9pK+MwWlrYoWYzsTog7Du1OA2f0Y0rLQzV+JbvE3mAq02LRrgZt6PAOX/JdDR47c1dbd3Z2pU6cye/ZsGjeuLq0w6Ssp2bIWbYyGytPHsHJyweXVybi+EYFNcPOf3Y9N7Fj5JsFtBtOx3x+4kZnEwS3v8Vz/d2nfexa7Vk3FZDLSe+R/sXNwByDj4h6+XzKSqZ/k3lXH/CRdKjrJptQo9mSvQm+qILTBCwwLjKS7dzhKK1WtjClJkiRJt8gSCwvIAPnXI/18CZui09i5LJPyEiMtu7oSPieI3qMbYm1T8z+MFJzNJilqL+dXHMFQqqdhj2BC5/Sh6asdUFqbWX5RXkHx6s3oNDFUnjrHJWdr1jZ24puLyZSVl9/VVqFQMGzYMNRqNf369fup/CLxMNoV8yj5YR0YDDiEDcJtghqH3i/f3l2vvPQGBze9S9blfTRo2BoXjyb0GvEvyorz2L7iDdp0n0LzTmNul2tsjB6Ao2sjXhq//K5d+mpDkf4G2zK+ZEvafPIq0vC2C2RI4Gxe9p+Kq41nrY0rSZIkPdtkgGwBGSD/+pTqDOxcnsmmqDQyL5bh3tCWQdP9GTIzgAaN7t2Uw1KV2jLOLTtMUvQ+dJfycWzkQtsZPWk/sycOPuYtbyaEoGL/cbSaGErWb6fIaGBTGy9WFKZxNTvrnvatWrVizZo1hIaG3j5WlZ+DbvVCdGsXYczPwTq4Oa5vROAychJK5+rsuUFfhkJhdXvpt/LifDYvDie07zu06PQ6UL2SxbrPejDuT8k0aNSmprfHbEZh5FBeHHGp80gq2IONlR0v+L7B0MAImrl0fGrzkCRJkp4NMkC2gAyQf71MJsHxH66zOTqNo9/no1Qp6PmqD+HqIFr3cHvslRpuESYTqdvOkahJIG3bOayslTR/rSMh6jAadgs2u5+qzBx0C9eg+2Ithrzr7PdzZpVLFbvO/bSbuqOjI5mZmbi63ls2IvR6SravRxujoeLkQRQOjriMeBO38ZHYNGt9V1uTsYotX46g5XPjadF5DLmpR9m74Tc0aNiGF8d88dj3oqZSi88Ql6ZhV+YKKk3ltHXvxfCgOfTwHoHKqnZKPiRJkqRniwyQLSAD5GdD1qVSNkWnsWNpJqW6Kpp3dmFYZCB9xjTCxq7my48VXsgjOXov55YdRl9UgXeXQELVYTR/rSNKW/MCPFOlnpKvv0eriaHyaDLXHFWsberC2kunmfDmRObPn39X+3PnznHt2jVefvnl2ytjVJw+jjY2ipJNqxAGPfbP98dtghrHvkNQKKuv88LxNexcNZmGQd0x6Etx82pO/3FfobS2rfF9qKliQyE7MpayKS2KnPKreNj6MiRwFoP8p+Nm+3jrNEuSJEkSyADZIjJAfraUl1SxKyaLTVFppJ0twcXTmkHTAxgyMwCvAPsa968vruD8iiMkRe2l8Hwu9t7OtJv+PO1m9sTJz83sfioOJ6LVxFD89VZKDBVYvdCNZr+fjsPAsNv1wZMmTWL58uU0b96ciIgIJk2adDvDXFWQT9HaxehWL6AqJwOVf2Pc3piNy6ipKF3dMVSWcuHEGjx9Q/Bo1A6VjX2t1x5bwiiMHMvfSlyqhhM3tqNSWBPW6HWGB71NC9fH/m+bJD1QdnE2Y9aPYe2otY+1pmtNzq/LsWuqLseWHs+z/J7VNEBGCPHMfHXu3FlIzx6TySRO7rouPgo/LgZbbRWDldvEJ6NPiqT4G8JkMj2R/lO3nxNxQxeKeYo5Ikr1tvj+ta9E5t5LFvVvyM4T1z/WiMuNeooLNBdXm/UXBf9dKrIuXhY2NjYCuP3l5OQkZs+eLc6ePfvTPPR6UbT1G5E+LkxcaI642N5e5Lw3TVScT6rxNT4tacXnRPSZSPHKdicxcCvi7QPdxK7MWKE3Vtb11KRfkVmbZwmrj63E7M2zn/r5dTl2TdXl2NLjeZbfM+CYqEHMKDPI0jMl91oZm+ens+3LDEoKDQS3d2L4nCD6jvPFzqHm5Re6K9dJnr+Ps0sOUqktx7ODH6Fz+tBiTCdU9jZm9SH0ekq+3Y5WE0vFgRMUOFizrLkLq6+cQVd879rM/fv3R61WM2TIEJQ3SysqzyWijY2ieNNKREU59l374DpBjVO/4ShUv/xl1kqritiZsYxNadFkll3A3caHQQEzGBwwAw8737qenlSP3blD2OPsDFaT8+ty7Jqqy7Glx/Osv2dyoxBJsoBPsANT/9mSmIy+vL24LQCfTzvDBP89LPm/FHKvldWof9cmnvT69wgmZ/yFFxa9jqgysWvKKpb6f8D+P8VRnFbwyD4UNjY4jxlKwP41BBzfQNBrw/jd+WLii735e8vutA4Mvqv9zp07GT58OM2bN+c///kPQghsW4fi88liGidk4PGHf2DIvEaOehTX+jWhYOHfMRZcr9F11jZHlQvDg+fwRe9zzO28leauz7H68lzejA/iH4njOFt44J5NUyTJHHMT5mISJqC6vGdu/Nyndn5djl1TdTm29Hjke1YzMoMsPdOEECQnFLIpKpUDG/JACLoN82aYOogOLzao+eoXQpAZf4kkTQJXNiYB0Hh4e0Ln9MGvTzOz+6/KL6Doy6/RzV+FISOboz5OrPaEreeSMJlMt9u9+OKL7Nq16955GI2U/rgJbYyG8kM/orCxxXnYOFzHR2LXtlONrvEWg74MaxuHJ9LX/WSVXiIuLYqdmcsordLR3KUzw4LU9Gn4OjbKmi/pJ/363ZlRu8WSzFpNzq/LsWuqLseWHo98z2QGWZJqRKFQENKnAe9905FlV8MY/acmnNlfyP/rf5SZ7fazeUEa5SVVNerfv29zBq+fyptXP6TT//UjK+EyG17QsDrkU04v2o+h9NFbZqu8GtDg3ZkEX/2RRuui6NOqLf89U8qP1s2JCOlOg5sP7KnV6nvOvXjxIkYhcHppBP4rdhH4/RlcRk2heOvXpL/SmfQxvSjevAZhMDz2deorS1j2YRDblo0l68r+Wsnu+jo2Y2br/xHTN4PINguoMJbxWfIkJuwJYNmF98gvT3/iY0q/Lndm1G6xJLNWk/Prcuyaqsuxpccj37OakwGyJN3kFWDPpE9aEJPel98ubYetvRXRs88ywX8Pi35zjqxLpTXq3zmwAc//PZzJ6R/T76txWFkr2T1zLUv9P2Dv7zagu/LosgeFSoXzqy/jvyeWwMQ4Wk0cxTsXS9mt8+R/LXvQt9IaUfVTQF9VVUW/fv1o0qQJn376KdevX8e2WRu8P5pP44QMPN/9DOP1HHJ+O5arLwRxI3ouVddzLb42U5WeVl0mkHpuK+v/14u1/+rMucPLqNKXP/pkC9mrnBgSOJNFvc7w9y67aOvek6+v/J1JCY3568lRJBckyPIL6b4OZhxEb9TfdUxv1HMg40Ctn1+XY9dUXY4tPR75ntWcLLGQpAcQQnDuoJY4TSr71+dirBJ0GezFsMhAOg3wxMqq5uUX2fuvkBS1l8vrT2EyChoPbUtIZG8CXmpldvmFsUBL0ZJ1aOevoupaBir/hrjOGovLtNf5LmE3o0aNut3W1taWsWPHolar6dSpurRCmEyUxW9FG6uhbO8PYG2N86DXcZugxi60q0XXZKgsJeVYLInx8yjIOYudowdte0yjfe/ZOLsHWNSXJXLLrrE5fQHbMhZTYigk2Kk9w4Pm0Nd3HHbK2iv7kCRJkn6Znso6yAqFwg54G+gHePOzzLMQIuRxJ/A0yQBZelwF2RV8vyid7xemU5irx6+FA8MiAun/ph+OrjXf/a0kU8vphfs5/cUByvOKcWvpTUhkGK0ndsHGxbw1m4XRSOmWPWg1MZTvPIDC1oYtzwXyydnD5Bfe+3Bgz549UavVjBw5Emvr6mvQX0lBuzKa4m+XYSotxrZ9F9wmqHEa/BpWNuZvLiKEIOPibpISoria/B0oFDRpP4LQMDW+zcJqXNv9IBXGMuKzVxOXquFKcSJO1u687DeVYYER+DgE18qYkiRJ0i/P0wqQvwJeAb4Bsqhei/U2IcTHjzuBp0kGyFJNGfQm9q3L4bt5qaQc1mHvpKT/JD+GRQQS0Mqpxv0bKw1c/PokiZoE8o6mYe1sS5vJ3Wkf0Rv3FubvLld59hK6qFiKVmykorSEHc08iDEVcPLKpXva+vr6MnPmTKZPn46Pj0/1PEqKKN6wAm1sFIarKSg9vHEdMwPXMTNR+Vi2zFrRjWsk71/I2QOLqSgrwMO3PSG9I2nZZXytPdQnhCC5MIHNadHsz/0WhKCr91DCA9V08OhXawG6JEmS9MvwtALkAuA1IcTOxx3ol0AGyNKTdOGYjjhNKvFrsqnSCzr292D420E8N8gLpbLmAVjO4WskRSVwce1JTAYjgS+3InROH4IGtjZ7FzyjtoiiZd+ii16J/tI1khvYs9rPhrjzSRh+9lDep59+yh//+Me7jgmTibIDO9HFaCjdswWUSpwGvFpdftHpeYsCzSp9OSnHVpK0N5rrmaewdXCnTfeptO89G1ePxmb3Y6m88jS+T1/EtozF6PT5BDq1YVhgBP18J2KvqvkvNZIkSdIvz9MKkDOAfkKIlMceSKGwBeYD/YEGwGXgXSHE1ge0/w3wR8ABWAfMEkJU3nwtGFgKdAPSgEhzgncZIEu1QZtXydbFGWyZn8aNrEoaNrZnaEQgA6b44+xe8/KLstwiTi/az+mF+ynNLsK1qSchkb1pPbk7tq5mll+YTJRtS0CriaFs217yVLCxtScxWRfJvXEdOzs7MjIy8PDwuOu8qqoqVDc3FtGnXUYXG03Rt0sxFWmxbdMR1wlqnIeOxcrW/GXWhBBkXdlHUvw8LidtQAgTjdsOIyQskoCW/Wstu6s3VhCfvYZNaVFcLDqOo8qV/n6TGBYYgZ9j81oZU5IkSaobT2WraWAOsIibAfXjfAGOwEdAMNU1zEOBYiD4Pm1fBnKBtoA7sAf49I7XDwKfAfbAq4AW8HrUHORW01JtMuiNIuHrbPH73ofEQLaK4Q7bxefTk8XV5KIn0n9VpUGkrDkuvnn+MzEPtVjg+Duxe9ZaceNstkX9VKZcEXlz5opLzh3EaZqJeU26iI9fnyiMFXdv55yYmCh8fHzE+++/LzIzM28fN5aWCO3qheLa4LbiQnPEpS4eIv9ffxL6zFSLr6m4IF0c2PT/xOJ3vcQ8NSLmr61FYkK0qCx/MvfsfkwmkzhbcEB8emqsGLrNWgzcinj/2GBxJO97YTQZa23c2pJVlCXCloaJ7GLLPgc1Pbeux5ak+qI+f9br89yp4VbTDwto4372pQVSga0/f+2xB4ck4NX7HF8F/O2O7/sBOTf/3QKoBJzveH0vMPNR48kAWXpaLp3Uif9OTRbhdj+IgWwV/9f3sNj3bY6oqjI9kf5zj6WKHZNiRbTtb8Q81OLbfhpxeWOiMFaZH+AZi4pFYVSMuNrqZXGB5uKyd3dx/c//FYaM6v8QTps2TVD9vIFQqVTi9ddfF/v27RMmU/U1mEwmUXrwR5E5+xVxoaWVuNDSSmRGjBSlh3bfbmMug75cnD28XKz5Z2cxT41Y+AcXkbD+HVGYe8Gifix1ozxLrLjwgRi7y0cM3IqYGt9cbLw2T5TotbU67pM0a/MsYfWxlZi9efZTPbeux5ak+qI+f9br89xrGiA/sMRCoVAstSALPdnctnf073Mz4O4ghDj/s9cSqQ6Q19783hPIBzyBsJuvtb6jfVT1NMS9uyTcQZZYSE9b0Q09PyzJYPP8NPJSK/AOtGPI7EAGvuWPi4dNjfsvv17CmcUHSF6wn5L0QpyDGtB+di/avtUDuwaOZvUhhKBs5wF0mhhKN+8GKyvsX+nPi4fjuJiedk/7jh07olarGTt2LHZ21aUVhsxUdKsWoPtmMSZtAcE7L2Md2MTi6xFCkJt6hMT4eVw6+TUmUxVBbQYREqYmqNXLZtdeW8pg0rM/Zz0bUz8nRXcYe6UT/f3eZFhgJAFOrWplzCfhzt2yLN0lqybn1vXYklRf1OfPen2eOzylGuQnTaFQWFOdib4shJhxn9cvAxFCiG13tNcDjYHeN1/rfkf7TwA/IcSk+/Q1HZgOEBgY2Dk1NfXJX5AkPYKxysShTfls0qSSuLsAGzsr+o5rxLDIIJp1dKlx/6YqI1c2JpEUtZfM+Euo7K1p8cZzhESG4RXqZ3Y/hitpaOevomjJOvRaHXuC3Yi1KeXAhXP3tPXw8GDatGnMmjWLwMDA6nlUlFN+eA+OfQbV+JpKi3I4vX8Rp/cvpKwoB1evZoT0jqR1t0nY2rvWuP8HuaA7xqbUKPZkr6ZK6Ono8RLhQWq6eA1GqVDW2riPY/aW2Sw5uQS9UY+N0oa3Or5F9JDoWj+3rseWpPqiPn/W6/Pc4ek9pPcjMFIIof3ZcRdgoxDiRbMHVCisqC6hcAGGCyHu2d/2Zgb5EyHE1ze/9wCu81MG+RMhRJs72msAZAZZqg+unS5mU1Qau2KyqCwz0raXO+HqQJ5/xQeVdc0zpNeTs0jSJJASe5SqcgO+YU0JVYfReHgISmvzAjxTaRnFK+PQamLRn75AiqsNa4McWZeSSEXl3VtjK5VKLl26RHBwcI3nfj/GKj2XE9eTGK8h59pBrG0cadV1IiFhaho0bP3oDh5TYWUu2zK+ZEvaAm5UZtLQvjFDAmcz0P8tnKzdam1cc92Z3bnF3CxPTc6t67Elqb6oz5/1+jz3W2oaIJv707gvcL+/B9tRndE1i6L68fQlgA/Vtcf3BMc3nQFC7/g+FMgVQty4+VoThULh/LPXz5g7D0mqS8HtnFEvbEtsZl+m/aclN7Iq+PvriUwKjmf1J5fR5lU+upOH8Gzvy4tfjGFyxl/o+c/hlKQVsnX0UlY0+Zijf9tOeX7xI/uwcnTAdfoYApM24bc7hk79+vLBaR3x+gDea9uDQJ+f/gPZvXv3WguOAZQqG1p0Hsvo3x7gtd8fpWmHUZw99BUr/9aGjdEvcSU5DpPJ+MTHdbf1YWzT91jW5yrvhq7F086fJSl/YPweP+adnsG14tNPfExLzE2Yi0mY7jpmFEbmxs+t1XPremxJqi/q82e9Ps/9SXloBlmhUHS6+c9jwADgzu24lFSvNvGWECLYrMEUioVAB6C/EKLkIe0GAsuAF6nemORb4IgQ4k83Xz8E7AP+DAyiesm35kKI/IeNLzPI0i+R0Sg4vi2fjZ+ncnLHDVQ2Cvq83ohh6iBadql5KYHJaOLaljMkaRJI35mClY2SFmM7E6oOw7tzoNn9GNKy0C1YhW7x1xhuFJIQ6MpK+wpm/b8/MmbihLvafvHFF1y4cIHZs2fTpInltciPUl6cz+mDizm9bwEl2gxcPBrTvtds2vSYip2D+xMf75bLRaeIS9WwJ3sVelMFoQ1eYFhgJN29w1FaqWpt3PvpuKgjp3JO3XO8Q8MOnJxxstbOreuxJam+qM+f9fo891tqtcRCoVCY+GnXvPstTloOqIUQXz1yIIUiCLhG9QoUVXe8NIPqVSjOAm2EEGk32/+W6nWQ7YH1VK9Scec6yMv4aR3kCCHXQZZ+BTJSSoiLSmPnskzKS4y07OpK+Jwgeo9uiLVNzcsvCs7lkBSVwPnlRzCU6mnYI5hQdR+avhqK0sa8AM9UXkHxmi3oNDFUnjyLwtUZ16mjcIt4A+smgRiNRpo3b87Vq1dRKBQMHToUtVpN//5Pbo1jIQQKhQKj0cCVpI0kJWjIurwXlY0DLZ8bT0hYJJ6+7Z/IWPdTpL/BtozFbElbQF5FGt52QQwJnMnL/m/hauNZa+NKkiRJ5qntADmI6sD4CtCV6pUkbtEDeUKIJ/+3zVoiA2SpvijVGdi5IotNUalkXijD3ceGgdMDGDorgAaNzN+U40EqdeWcW3aYpKi96C7l49DQhXYze9JuRk8cG5r30KAQgooDJ9BqYihZvx2MRhyH9OVI9xa88uff39O+VatWREZGMnHiRJydne/To/mM2gIqEg9TvPVrrP0b0yDifW5kJZMYP4+U4ysxGirwa9aXkD5qmrQLx0pZO9ldozByOG8TcanzSCzYjY2VHX0bjWNYYATNXDs9ugNJkiSpVtTLVSzqigyQpfrGZBKc2H6dTdFpHN2Sj5VSQc9XfQhXB9HmebcaZ2SFyUTqtnMkRe0ldetZrKyVNBvdgdA5fWjYLdjsfqqyctEtXINu0RoMedfZ7+/CKmcDu84l39PWxcWFSZMmERkZSfPmj7eDXdbsVzDmZ2Pf/UUqTuwHlTWNotajdHalorSAMwe/JHlvNMWFaTi5B9C+12za9ngLe6fay+6mFp8hLk3DrqwYKo1ltHXvRXigmud9XkFlVfMdFSVJkiTz1VqArFAoJprbiRBixeNO4GmSAbJUn2VdKmXz/DS2f5VJqa6KZp1cGBYZSN+xjbCxq/nyY9qLeSRF7+Xc0sPoiyrw7hJISGQYLV7viNLWvADPVKmn5JutaOetoPJoMtcclXzdzI21l05TXHrvYweTJ0/mq68eWaF1l6Jvl5P30SyCd1xC5eMLQOqQdnh9EIVDt74/zcVk5NrpzSQmzCPjwo8oVba06DyO0DA1XgEdLRrTEiUGLdszvmJTWhQ55VfxsPVlSOAsBvlPx83Wu9bGlSRJkn5SmwHyzx91twGsgVuPNVoBBqBSCFHzhVyfAhkgS78G5SVV7IrJYnN0GqlnSnDxtGbQtAAGzwzAO9C+xv3rSyo5v7y6/KLwfC72Xk60nf487Wf2xMnf/AfgKg4notXEUPz1VkoMlWxp5cWKkkwuZqTfbvPxxx/zwQcfmN2nsfAGmVMH4jRgJA1mvgtAVV42WbOG4/Wn/2Df5f6L6tzIPkNSQhTnj66gSl9Go8bPE9JnDk1DR6JU1k521yiMHM/fxnep8zhxYzsqhQ1hjV4jPGgOLV271MqYkiRJUrWntQ7yEOAj4B3g8M3D3YDPgLlCiM2PO4GnSQbI0q+JEILE3QXEzUvl8KY8UCjoMcKbcHUQ7cPca15+IQTpuy6QpInn6qYzKKwUNH01lFB1GI16NjG7/6qcfHSLv0a3YDWG7FwON3Jilbsg/koKV69epWHDu9fU1Gg09OvXjzZt2tzTV/G2deR/HEHjAzm3xy/bvxNtzDxcX5+B4wtD7n8tRiMKpZKKskLOHV5GUkIURTeu4OjqS7vnZ9Cu5wwcXHwsvEPmSy85z+a0+ezIXEa5sZiWrl0JD1LTu+FrWFvVfEfFx5VdnM2Y9WNYO2rtY61teir7FH2X9yVhcgIhPiFPfoIPUdO5S/WLfL8lSz2tAPkcMEUIcfBnx3sAy4QQLR93Ak+TDJClX6vc1HI2z0/jhy8zKC4w0DjEmXB1IH3H+WLnUPPyC93VGyRH7+XskoNUasvxDPUjdE4YLcZ2RmVvXoAnDAZK1v+AVhNb/XCfgw1BE1/FVT0B2zbNAEhJSaFVq+qtnfv164darWbo0KEoldXXkDltCNb+jfH+MAoAU0kxujULKdu/g0ZR32Ll6HQ7GAYoiltJ+ZF4Ks8cx75LGB6//RtWdvaYTEZSz20jKV5D2vkfsFLa0LzjaELC1DQM7lbj+/UgpVVF7Mxczua0aDJKU3C38WFgwHSGBMzEw8631sZ9kNlbZrPo+CJmdp75WDtktZvfjjP5Z2jr1ZbTs5/uutA1nbtUv8j3W7LU0wqQy4FuQoiknx0PBQ4JIWr+d92nQAbI0q9dRZmR+NXZfDcvlatJxTi5WzPwLX+Gzg7AJ9ihxv0bSitJWXWcJE0CN5KzsGvgQJtpz9N+Vi9cghqYP88TZ6pXv1i9GVGpx/7F7rjNmcifdmwkOvruH37BwcFEREQwefwb6P/+DrZtO9Fg+h8BKI3fim7VfOyf74/7m28jqqpQqFQIo5Hr//4TFcf34TxiIjZNW1O48G8IkwnvuYuwCWx6u//C3BSS9kZz7vAyDJXF+AR1JaR3JM07vobS2rbG9+x+TMLEievb2ZQWxdH871EqVPT0eZVhQZG0cXv+iS2H9zB37pT1ODtknco+RccvfqrlTpyZ+NSyyDWdu1S/yPdbehxPK0Dec/OfbwghMm8e8wNibvbxwuNO4GmSAbL0rBBCcHpvIXGaVA5syEOYBN2GeRM+J4gOLzZ4IuUXWQmXSJyXwJWN1b83Nw5vT+icMPz6Nje//CK/gKIvv0Y3fxVVGTmcaOhErCd8fzYRk+nuXZzs7e3554vP0d+mgpZr9lF+6iAF8/+KdWBTvP747+rsscGAwtoa3bqvKN6wHIewQbi+Ng2luwcA5cf3Y9OsDUrX6lpqYTKhsKpeX1pfUcy5I8tJSohCm5eCg7MPbZ+fTrteM3Fyrb3sblbZZTalRrEjcymlVTqau3RmWGAkYY1ex1ZZe7mH2Vtms+TkEvRGPTZKG97q+JZFmblb2eNbnmYWuaZzl+oX+X5Lj+NpBchNgY1AKyDz5mE/IAUYIYS49LgTeJpkgCw9i/LTy9myMJ2tX6RTdN1AQGtHwiOD6DfRF3unmq8PXJxWQPKCfZxZfJCKG6U0aNuIUHUYLcc/h7WjeRlYUVVFyXe70GliKI8/QpatgnUtG7Aq9RwFOt3tdm5W8JE39HVRYt28LV7P98N95ruoGnhh0ldiZWOLMBpJH92NyjMncB4xkfLDu7F/Lgzvj+ajsLFFYWODqaKckq3fULpnC0oPbzx+81eUztW7FgqTifSUnSQmzOPa2e+xUihp2uFVQsLUNGpce9ndiqpSdmXFEJemIa3kLC7WHgwKmMHggBl425u/46E57szI3WJJZu7n2eNbnkYWuaZzl+oX+X5Lj+uprYOsqP6p8BLVQTLAOWCnqEcLKcsAWXqW6SuMxK/NYVNUKhePFeHoqqL/JD/CIwPxbeZY4/6ryvVcWHOCJE0C+SczsHWzp/XkboRE9Ma1qZfZ/VQmnUcbFUtxbBzl5WX80MKTGH0+Sdeu3G7jrYRNcd/RdXA4VddzUdjZo3SqXkyneNs6CqI+xnnw6zSY/WeMukKy1a/i8c5fse/0PMJgIOf3b6C/egGX4RMoP74PY0Eevou/vx0k36LLv0zSvvmcPbQEfbkOL/+OhISpadFpDCqb2snuCiFILNhNXOo8DudtAqCHzysMD5pDO/feTyRAvzMjd4slmbmfZ49veRpZ5JrOXapf5PstPS65UYgFZIAsSdUB2PlDWuKi0tj3TQ7GKsFzg7wYFhlI55c9sbKqeflF9oGrJGkSuLz+FCajIHhIG0LVYQS81MrsAM9YoKXoq/Vo56/EcDWdU14OrG6oYtPZRDp27MiRI0dQKBTovlmCdsXnNFi1nwsXLtAi+yK6r7/A558rsG7oD0DWzHBsmrTC8//+iW7dV9z43/sErj96ex3ltFc602DOxzi9MPS+czFUlpJyLJbEBA0F2Wewc/SgbY9ptO89G2f3gBrdr4fJLU9lc9p8tmUspsRQSLBTe4YHzaGv7zjslI9fU95xUUdO5Zy653iHhh04OePkI8+3/8T+rozeLXYqO8rfK3/seZmjpnOX6hf5fkuPqzbXQf4tMF8IUXHz3w8khPjscSfwNMkAWZLuVpBdcbP8IoPCnEr8WjgwdHYgL03yw9G15usDl2TpOL1wH6cXHaA8rxi3lt6ERIbRemIXbFzMy8AKo5HSLXvQamIo33mAXBsF5QN60Puj32PXuR0ApvIy5i/5CrVaTUTnVsywKaJV/DWsrauv4VIHJxr972ts23Yi990p2IV0xWPOR7fPTXulM94fL7i90UhF4hEqL53Bse8QVB4/be4hhCDz4h4SEzRcTf4OgMbth9Ohz9v4NgurvfILYxnx2WuIS53HleJEnFRuDPCfSnhgJD4OwbUypiRJUn1WmwHyVeA5IcSNm/9+ECGEaPK4E3iaZIAsSfdn0JvYvz6HjZ+nknJYh72Tkv6T/BgWEUhAK6ca92+sNHDxm1Mkzosn72ga1s62tJ5UXX7h3tL89Yf15y6hjYqlaPlGRGkZdj064qaegMMr/WnboQMpKSn4KGFeI8hU2ePaL5y+VYUor2cRtDm5uvwi+i/4Ldt5O/At2RWHbs0iPNQfofILQhcbTdG6Jdi07kD5wV14/t+/cJsQiRDirgC4qCCV5L3zOXvwSyrKCvDwbU9I70hadhmPtU3NVwy5HyEEZwr3EZemYX/utwhhoqvXUIYHzaGDR7+nsvqFJElSfSBLLCwgA2RJerSLx3V893kq8WuzqdILOr7kQbg6iC6DvVAqax6A5RxJJUkTz8W1JzEZjAS+3IrQOX0IGtj69ooSj2LUFVO07Ft0UbEYLqVS5u3OXB8jceeTMBgMeCrhtx7go4KjlVbYhQ1izB/fJ3DVf1BY29Lw3zEAmCrKKVjwCYa0yzT8dyzX//F7qnKzcB4yBqcBr1Dyw7fovl6M35KtD5xLlb6clOOrSEqI4nrmKWwd3GnTfQrte0fg6tG4xvfrQfLL0/k+fRFbM75Ap88n0KkNQwNm089vIg4q51obV5IkqT54WqtYqIQQVY87yC+FDJAlyXzavEq2fZnB5ug0bmRV4hNsz7DIQAZM8cfZveblF2W5RZz+4gCnF+yjNLsIlyYehESG0WZyN2zdzMvACpOJsh/2otXEULY1gXyVgg2tPYjJukjujetYK8Bwx3/iVrd2w6v3S4RFrcTa2pribeso/i4G56HjsG3/HFlTXsbz3c9wfHEYCoWCitPHyftwFj5/XYxt69CHz0UIsq7sIykhisuJ6xHCROO2QwkJUxPQsn+tZXf1xgris9ewKS2Ki0XHcVC58JLfZIYFRuDn2LxWxpQkSfqle1oBcglwANhz8+tIfQyYZYAsSZarMpg4uDGPOE0qp/cWYuug5IU3GjF8ThDB7WqeqTTqq7i8IYmkqASy911B5WBDq4ldCFWH0aBNI7P70V+8hi56JUVL11NRVMyPjd2IVRZz5FLK7TZDnWGKp4qXdp1BeSOPvPen49h/BB6//YT8jyMwlZbg9efPb6+TXHZ4D9mRI2lyIBeFtfm/FJQUZpC8fyFnDnxBeUk+7j6tCQmLpFWXCdjY1U52VwjBed1h4lLnsS9nHVXCQBevwQwLjKSz58tYKczLzkuSJP0aPK0AuT/QB+gLdAEMwEFuBsxCiAOPO4GnSQbIklQzl08VsSkqjd0rs9BXmAjp24BwdSDdw71RqmoegOWdSCcpKoELq45jrKzC/8UWhKjDaDysHVZK8/o3FZdQFPMdWk0MhvNXOOtmy5pAezakJKHQV/LNgI60zruMXcfnsQ5siveHUejSr1H8/jRcR03BaciY29nezMkDUHo1ouE/l9+1qYi5jIZKLpxcS1KChry0Y9jYudC622Ta955N65AW5OYCPqdgcl/4KgHyQvDxgZwc88c4lX2Kvsv7kjA54fYaxAWVOXyftpDvMxZRWJmDn0NzhgVG0t/vTRytXR/eoQWyi7MZs34Ma0etfabWpL3fPTdXXd+zuhy/rq/9cdXXeT/rahogI4Sw6AuwB/oBXwF6wGhpH3X11blzZyFJUs3prleKtZ9eFhODdouBbBUTA3eLtX+/LHTXK59I/2V5ReLo37eLrwI+EPNQi6VBH4pj/9ghym+UmN2HyWQSpTv2iczwmeKCooU4ZNVMvNuuh7iwbpOoKtKJKm2BMJlMQgghxgwaIDa3dBDf/X6GKCsrE0IIUX7qsLjQ0kpUXDzzRK4p+8pBsW3ZOBH1jrWYp0aAqP6a1VbwIdX/e/OYJdpGtxV8hGgb3fae1/TGSrE7c5V450B3MXArYsR2RxF9JkKkFZ97Itc0a/MsYfWxlZi9efYT6a++eNg9f5S6vmd1OX5dX/vjqq/zftYBx0QNYkZLNgrxBl6gOov8IhAAHKY6g/zxY0foT5HMIEvSk2U0Cg7F5bEpKpXEHwuwsbOi77hGDIsMollHlxr3b6oycuW7ZJKiEsjccwmlnTUt3+hMiLoPXqF+ZvdjuJKGdv4qipasw6QtwrZDa1wjx+M8bhjXsrNo2awp0Y0grggO2Xrwp5FDGJF/Fue2HfH56xc1vo47lRblcGb/F3Qb/EF19nhmR1AAAliQCHkhmPvs9M93tHvYTnYXdceJS9WwJ3s1VUJPR4/+hAfNoYvXYJQKpcXXcecOZ8/SzmaW3POfq+t7Vpfj1/W1P676Om+p5hlks/5eqFAozgJXgRlANjAdcBdCvFBfgmNJkp48pVJBz1d8+HRXVxae7kn/N/2IX5ODutMBft/7cPVKGAbTY/dvpVLS7NUOjNw9h7FJf6LVhC5cWHWcNR3+wfqwz7n4zUlMVcZH9mPdJBCvf/+Jxpl78f5iLsJoIu+t97jqH8bu33yIta0dcUXwdx/4r90NGm9bQdyhY6jP5LFnzx7MTSSYw9GlIV0HfVD9zcjxd7/46jiL+hq/4e7zx61/8PnNXTvzu5BlxPRN583mn5BWco6PT4TzVkJz1l/9DyUGrUVjz02Yi0lUv7dGYWRu/FyLzq+vLLnnP1fX96wux6/ra39c9XXeUs2ZW4OcDrgCe4HdN79OiCf5U+MpkBlkSap9JVoDO5ZmEheVSs6Vcjx8bRkyK5CB0/xx97Gtcf8VhWWcXXKQ5Oi9FF0rwMnfjXazetH2rR44eJv3AJwQgvL4I2g1MZRu3IlWGIlr48nX168QUp5HSiVc0EOlqE7utm3XDrVazRtvvIGjY8235QZQNDz1U/b49sSABYls+OB3hPSOJLjdUKys7p/d/Xkm8xZzM5pVJgMHcjewKS2a04UJ2FrZ84LveIYHzSHYud1Dz70zq3bLs5Bdq8k9r+t7Vpfj1/W1P676Om+p2lPJIAshAoCOwLdAKLABKFAoFHEKheI35g6mUCgiFQrFMYVCUalQKJY9pN1ChUJRcsdXpUKhKL7j9T0KhaLijtdTHtSXJElPl5ObNa/8JpglF8P4eHMngto5seL9i0wM2MO/JiSRckRbo/7t3B3o9Pt+TLj0AUO+m4Z7ax8OvbeZpQEfsGNSLHnH0x7Zh0KhwKFvN3zXRxF89Uca/3EGk3KMfJfrwgDXzjQIbkvlzV//BXD69GlmzJjBzJkzazT3u/w8e3zLq+MozD3Pli9HEDO3OSd2/ZuK0oJ7mv08k3mLuRlNlZU1YY1e41/d4tE8f4K+vuP4MSuGWfvb88cjL7AvZz1G0/0XK7ozq3bLs5Bdq8k9r+t7Vpfj1/W1P676Om/pybB4oxCFQqEEugLTgPGAUghhVgGbQqEYCZiAlwF7IcQkM89bBpiEEFNufr8HiBVCfGnJ3GUGWZLqRkZKCZui09ixNJPyEiMturgy/O0geo9uiLVNzVe/KDiXQ1JUAueXH8FQqqdh92BC5/Sh6auhKG1UZvVhqqikePVmdJoYKk+e5bKTirVNnPnm0mlKy8oA2LNnD3369KnxfAEUf7YH64p7XzDYYfy4mMtJG0hKiCLrcgIqa3tadhlPSO9IPP2qM5X2n9jfldm6xU5lR/l75Y81pyL9DbZlfMmWtAXkVaTibRfI4ICZDAyYhquN5+12HRd15FTOqXvO79CwAydnnHysseuDmtzzur5ndTl+XV/746qv85aqPa1l3rpS/XDeC0BPwBY4wU/LvP1g0aAKxV8Bf3MCZIVC4QjkAEOFEPE3j+1BBsiSVO+UFlWxa0UmcZpUMi+U4eZtw6AZAQyZGYCHr12N+6/UlXNu2WGSovaiu5SPQ0MX2s3sSbsZPXFsaN5Dg0IIKg6cQKuJoWT9doqq9Gxu48UxN2u+27sHqzuWeisrK+Oll15i3LhxTJw4EWfnJ7/GcX5mIknxGi4cX0WVoRy/Zn0JCYukSfvhWCnNC/4tZRRGDuXFsSlVQ2LBbmys7OjTaCzhgZE0c+1UK2NKkiQ9SU8rQNYDx4B4qoPifUKI0sce1LIAeSLwEdD0Vs3zzQC5LdXVeynAe0KIPY/qSwbIkvTLYDIJTu64TlxUGke35GOlVNDzVR+GzwmidQ+3Gu86J0wmUn84T1JUAqnfn8XKWkmzUR0InROGT7dgs/uvyspFt3ANukVrMObdwLplY9wix+M88RWULk4sXryY6dOnA+Di4sKkSZOIjIykefOH72AnjEYUSstWjqgoLeDsoSUk7Y2muCAVJ/cA2vecRdseb2Hv7GVRX5ZILT5DXJqGXVkxVBrLaOPWk/AgNT19RqKyqvmOipIkSbXhaQXIjjUJiO/TnyUB8i5grxDiozuOdQPOUr0O8xggCugghLh8n/OnU73qBoGBgZ1TU1OfxCVIkvSEZF0qZfP8NLZ/lUmpropmnVwYFhlI37GNsLGzfPmxn9NezCN5/j7OfnUIfVEF3p0DCFGH0fz1TqjszAvwTJV6Sr7ZilYTQ+WRJKycHXGeNJJX9n/HgRPH72k/cOBA1Go1AwcOvCvjfEveRxHor6bgNkGN4wtDLQqWTSYj105vJjFBQ8aFXShVtrToPJaQMDXeAbWX3S0xaNmRuZS41Chyyq/gYevLkMBZDPSfhrutT62NK0mS9DieSoD8pJkbICsUikCql5drLoS48pB224AtQgjNw/qTGWRJ+uUqL6nix9gs4jRppJ0twcXTmkHTAhgyKwCvAPsa968vqeT88sMkRe+l8Fwu9l5OtJ3+PO1n9sTJ393sfiqOJKLVxFC8dislhkq2tPJiRUkmFzPS72nbrFkzIiIimDx5Mq6uP+1gV7j8c7RL/k1VTgYqvyDc3ojAZdRUlG4NLLqmguyzJO2N4tyR5VTpy2gY3IPQvm/TNHQkSmXtZHdNwsSx/K3EpWk4fv0HVAprejd8jeHBb9PStUutjClJkmSpX3uA/B7wshAi7BHttgJbhRDzHtZOBsiS9MsnhCBxdwFxmlQOx+WBQkGPEd6Eq4NoH+Ze8/ILIcj48QKJ8+K5uukMCisFTUeGEKLug2+vJuaXX+ReR/fFWnQLV2PIyuVwIydWuQu2n0u6Z91kR0dHfvjhB3r27PnTPKqqKNn1HboYDeVH4lHY2eM87A3cJqixbWXZ9sWVZVrOHV5G0t4odNcv4+jSiLY9Z9C+50wcXGovu5tRksLm9Plsz1hKubGYlq5dCQ9S07vha1hb2dTauJIkSY9SrwJkhUKhAlTAh4A/1SthVAkh7ruW0M3l2/4hhPjqjmNuQDeq66GrgNeBL4COQogLDxtfBsiSVL/kppazeX4aP3yZQXGBgeD2ToSrg3hhXCPsHH96QC27OJsx68ewdtRai9Yn1V29QXL0Xs4uOUilthzPUD9C1GG0HNcZlb15AZ4wGCj5djtaTQwV+0+QZmfFuhburLl2Fm1REQDu7u5kZGTg4OBw3z4qzyehjY2iOC4WUVGOfZcwXCeoceo/AoXK/AfxhMnEtXNbSd4bTerZrVgprWnWYTShfebQMLjb7XYNG0Ju7r3n+/hATo7Zw91WWlXEzszlbE6LJqM0BXcbHwYGTGdIwEw87Hwt71CSJKmG6luA/BHVwfGdPga+orqmuI0QIu1m2x7ATqChEOLONZC9gO+BVoAROA+8L4TY8ajxZYAsSfVTRZmR+NXZxGlSuZJYjJObipff8mfo7EAaNnZg9pbZLDq+iJmdZxI9JNri/g1lelJWHiNJk8CN5CzsGjjQ5q0etJ/dG5cg88seKk6cQRcVS/GqTZRWVrC1pScrynIYPPpV/v2f/9zV9vDhwyQkJDB16lQaNKgew6gtoGjdErSr5lOVcQ1VQ39cx87C5fVpqBpY9iBeYd4FkvdGc/bQUgyVxfgEdSWkdyTNO76GyubBG7bU5EeCSZg4eX0HcWlRHM3fgpVCSU+fVxkWFElbt541zv5LkiSZq14FyHVNBsiSVL8JITizr5A4TRr7v81FmAStRyiI7jiCSlNFjXe5EkKQlXCJRE0CVzYmgxA0Dm9PiDoM/xeamx3gGa8XoPvyG3TzV2FIz8IU2AjviAm4Th2F0qO63nn06NGsW7cOe3t73njjDdRqNSEh1aUVwmikdPdmtDEayg/uQmFji9PQsbiNj8SuXWeLrklfUcy5I8tJSohCm5eCvbM30/52n/Tx7XtgUfcPlFV2mU2pUezIXEpplY7mLp0ZGhhB30ZjsVHWfEk/SZKkh6m1AFmhUPzW3E6EEJ897gSeJhkgS9KvR35GBVsXpfOXc7/jSuutCFUVKmyYEjqFRSMW1Lj/4rQCkhfu58wXB6i4UUqDto0IiexNqwldsHY0b8tsUVVFadwutJpYyvccRmFni/Mbwyge3Z9WQwZgNBrvah8WFoZarWbEiBGobpZWVF46iy42iqKNKxBlpdh1eh638WqcBoxEYWN+na8QgvSUnSTGzyN85qaHtDO7S7NUVJWyKyuGuDQNaSVncbH2ZFDANAYHzMTbPvDJDiZJknRTbQbIV83sQwghmjzuBJ4mGSBL0q9LdnE2TeY1uWt3MyuDDX8r2cH4iM74NXes8RhV5XourDlBUlQC+ScysHG1p82UboRE9Ma1qfllD5VJ59FGxVIcG0d5eRk/NPcgxnCdpGv3LtDj7+/PrFmzmDZtGl5e1WMYi7QUfbsMXWwUhrTLKL0b4TpmJq6vT0flZVnG/GGJ8Nr6o6IQgqSCPXyX+jmH86oD9B4+rxAepKa9e5gsv5Ak6YmSJRYWkAGyJP26zN4ymyUnl6A36m8fU5qs8T/xMm22RNB5oCfDIoN4bqAnVlY1X/0i5+BVEjUJXF53CpNREDykDSGRYQS+1BLFfdY7vh9joY6ir9ahjV6J4Wo6p7wcWO1rw6bTJ+/JKNva2vLGG2+wePHi2+spC5OJsoRtaGM0lO3dBtbWOA8cjdvEOdiGdDUr0HxYk/3fvUv7XrNwblB72d3c8lS2pC1ga8YXlBgKCXZqR3jQHF5oNA47Vc1/qZEkSZIBsgVkgCxJvy4dF3XkVM6pe4638wjhj9fXsfWLDAqyK/Fr7sDQiEBemuSHo2vN1wcuydJxeuE+Ti86QHleMW4tvQmJ6E3rN7ti42Lems3CaKR0yx60mhhUfj4YP5nDwoULWbRoEfn5+bfbDRs2jLi4uPv2ob96Ad2q+RSt+wpTaTG27Z7DbYIapyGvY/WQB/EetIqFm0shcyd5AtC4/XBC+8zBr1mfWsvuVhrL2ZO9mrjUeVwpTsRJ5cYA/6kMC4ygoUPjWhlTkqRnw1MLkBUKhTswCAgE7ip8E0L85XEn8DTJAFmSni0GvYl963LYFJXGuYNa7ByV9H/Tj2GRgQS2dqpx/8ZKA5fWnSJxXgK5R1Kxdral9aTq8gv3luavPyyqqm4v51ZZWcnXX3+NRqPh6NGjbN++nZdeeumu9rt376Z169Y0bFhdWmEqKabouxi0MRoMV86j9PDG9fXpuI6Ziaqhn0XXVFSQSvK+BZw9sJiKsgI8GrUjJExNyy7jsba5/zJ1NSWE4EzhPjalRbEvdz1CmOjqNZTwIDUdPfrL8gtJkiz2tLaa7g5sASoBLyATaHTz+2tCCMtWta8jMkCWpGfXxeM6vpuXSvyabKr0go4veRCuDqLLYC+UypoHYDlHUknSxHPx65OY9EYCX25FSGQYQYPaYKU0r/zi544fP06nTp3uChArKioIDAxEq9UyevRo5syZQ7du1WscCyEoO7ATXWwUpT9uAisrnAaMxG3CHOw6W7bMWpW+nAvHV5OYoOF65ils7d1o3X0KIb0jcPWsvcdO8isy2Jq+iO/TF6HT5xPg2JphgRH093sTe1XNf6mRJOnZ8LQC5L3ASeBtoAgIBUqB1cASIcTKx53A0yQDZEmStPl6ti1OZ/P8NG5kVuITbM+wyEAGTPHH2b3m5RdluUWcWXyQ5Pl7Kc0uwqWJByGRYbSZ3A1bt5pnYFesWMGbb75517EuXbqgVqt57bXXsLWtLq0wpF1Bu2o+ReuWYCrSYtu6A64T1DgPHYuVnflbdwshyL6yn8QEDZcTq7O7jdsOJSRMTUDL2svu6k2VJGSvJS5Vw8WiYzioXHjJbzLDAiPwc2xeK2NKkvTr8bQCZB3QRQhxQaFQaIEeQohzCoWiC7BKCFEv/mslA2RJkm6pMpg4uDGPOE0qp/cWYmtvxQvjfQlXB9G4vXON+zcajFz+NpEkTQLZ+6+gcrCh1cQuhESG4dG20WP3u2PHDj788EMOHjx4z2ve3t5Mnz6dmTNn4udXXVphKiulOG4lhTHzMFw8g5WbB66j38J13Cys/YIsGrtEm8np/Qs5feALyovzcPdpTUjvCFp1nYiNXc3v2YOc0x4iLnUe+3LWUSUMdPEazNDACJ7zHIiV4vGy85Ik/bo9rQA5H+h5M0BOAd4WQmxTKBStgWNCiHrx2LEMkCVJup/Lp4rYHJ3Gj7FZ6CtMtO/jzvA5QXQP90apqnkAln8ynURNAhdWn8BYYcD/xRaEqMNoPKxdjcovNBoNa9asobKy8q7XlEolI0eO5A9/+ANdunQBoOpGIUUrYtF9EUtV/mXwKMSx/3DcJqix79bXokyw0VDJxZNfk5igIS/tKNa2zrS5WX7h5l17+ZKCyhy2pi9iS/pCCitz8HNozrDASPr7vYmjtWutjStJUv3ztALkH4AVQoiVCoViEdAZ0ADjASchRI/HncDTJANkSfp1edBqDD4+kJNjeX9FN/T8sCSDzfPTyEutwDvQjsEzAxg4LQBXz3s35bB0/PLrJZz58iDJ8/dRkl6Ic1AD2s/qSZu3nsfe4/HyDPn5+SxevJgFCxaQkZFx12sajYbIyEgAsl6ZjTE7H/sXu1O2+yDG69kYnS8gSq5j06IdbuMjcQ4fj5XDo+fxoOt2dsgh5t+TCQ1TE9R6oNlL31nKYNKzP/dbvrv2Oed1h7BTOvKS3ySGBkYQ6NS6Vsb8tcguzmbM+jGsHbX2sXeclKT64GkFyM8BzkKI3QqFwgtYAfQELgBThBBJjzuBp0kGyJL061JbG14YjYLDm6rLLxJ/LMDa1oq+YxsRrg6kWaefMpWPO76pysiVuNMkaeLJ3HMJpZ31/2/vvuOjLPIHjn8mm94JhJaQ0EuABKS3UKSINEUQpAgIIpAsd55e8e68s97d77wmCSCIoCR0FAkdESH0JhB6C6SQRgK76bub3fn9sQFD300Idd6v175k95lnZp7hkf1m8n1maDK6DaHa7viH2bfqxHUlJSWsXr2aGTNmEB8fj5eXF5cvX8bLy4vcb74ja+oH1D3/A1eEhVq1apHUYgDV/vN7SvIuoI+JwnDyMA7evni/8ga+oyNwCrr7g3j3uu55f6pFYW4GPtUaENotkmYdJ+DiVnmzu2f1B1mTFM229CWUSCOtqj7PkOBf0c7/RTRCU2ntPqmmrZvGnENzmNJmCjMHzHzU3VGUSqPWQbaDCpAV5enyMHaESzqZT9yMJLbGplFcYCakiy+DIoPpMrQGzi53nyG1tf3sY2kkRMdzJvYgJYVGandrQKg2nPovhaJxKl+Al5CQwMmTJxk5ciTmnGtcfmEinkP7cq5Xazp37syYfi/yu0QD9eZ+int4O6SUFB/ahS42mvxNK8FiwaPHAHzGanHv0ue29It7jXuJyciFo9+REB9F+sXdODl70KTdWMK6T8evZuXN7uoMWWxMncfa5FnkGC5Tw60uA4Mi6Bc4ES+nKpXW7pOk7M6Tbo5uJP4qUc0iK0+thzWDvBUYKqXU3fK5N/C9lLJXeTvwMKkAWVGeLg9zy+QCvYnNCy6zJjqZ9AuFVK3twqK0ng+s/eJrhZz8ag/HZu4g99JVPAJ8aDm1K83f7Ix79fI/AJe3ciNXIj6kXsZuxo4dy6JFi+iMG2PxZW+wL53e+xVjxozBw8OaWlGScRnd0i/IXTYXc04WTvWb4js6Au+Xx+Hgae2HreOelXyIhB3RnD20BHOJgcDGzxMWrqVui4E4OFTO7G6JxcSerNXEJUVx/Fo8Lg5u9Kw9msHB06nn1bJS2nxSlN150lnjzKTWk9QssvLUelgBsgWoKaXMuuXz6sBlKWXF10Z6CFSAbJ8ePaBFC4iOrpz6x4+H7GxYu7Zi9WzbBj17wpUrUK2abed8/TVERkJ+fsXaVh6thxkgX2exSA5uzGb155f42+Z2D7x9i9lC0voTHI2KJ+WHMzg4a2g8sg2h2nBqtLV/++fLA97EqV4g1Wa8z+DBg9m2bj0j8aEL7kSSTiESX19f3njjDaZNnUqDhg0BMCYmcfXv/8KQvQ/jiQM4eHjhNXQ8vmMicanf2K7rLsq7wok98zi2azb511Lw9qtLy27TCOk4EVcPP7uvyVYXco+wNnkmW9NiMVqKaVmlO4OCI+lc/SU0Do6V1u7jqOzs8XVqFll5mlVqgCyEeK70jweBvsDVMoc1QD9gkpSybnk78DA9jgHy+PHwzTfw0Ufw/vu/fF6eoM/WgNbWwPTqVXByAq9KWr1Jr7d+mfr6Vqweo9Ha1xo17h0wlVVUBHl5UL16xdpWHq1HESA/zPavns4kITqe01/vw1RgpGbHuoRqw2k4rBUa5/sHeBaDkczXf4vLc83x+/1kAE7PiSXp77NYmX6BecYsBHC9q0IIBgwYwPt+DQksLKHg2834/TUSj5fao4uJIm/DcjCZaHzu7hd3z9xrcwmJCd+TsCOay+e34+jkRuO2owkL11ItoPL2m8o15rAp9SvWpcwms+gS/q51GFBnKi/UeRMfZxv/gX3ClZ09vk7NIitPs4oGyPd7xPggcADrv5+bS99ff+0D3gOeiG2mH2eurvDZZ9Zg+HFgLP3308+v8oJjAB+fewfHRuPdj5Xl7Gx9qt6e/Qrc3FRw/DSocZfdnO/2+cNq31UYWPiXc+SkFd+5gI38mtagR/RwJlz+mPDPX6E4p4DNoxfydfAH7PtgPQUZufc838HFGffenSnctBNpNFK4fT+eK7fQ6oXe/DPxCP/9739p1KDhjfLdpTtt1u7j5MIVFLRqgmOdWvi8NRLXsA7U/FcsNf66kiqT/0w1p6w7tne/cXfQONKw9TCGTt/Ga78/SuO2ozl7cBFL/i+M72b04PzhlVjMJXaP0/14O1dleP3f8VX4ed5vvYoAj8Z8fe6PjN0WyH+OvcF5/c8PvM3HzZ7UPTcFxwBGs5HdqbsfUY8U5TEnpbzrCwgG6gIWoG3p++uvWoDmXuc/bq82bdrIx824cVL27y9ly5ZSarW/fP7TT1KClFeu/PLZ9u1Stm8vpYuLlNWrS/nrX0tpMPxSj3Xu5pfXxYt3b3PAgNvf/+MfUgYESOnvb/28e3cpIyJ+Kfftt9Z+urpKWaWKlOHhUmZk3LmN116TcujQmz8zm6UMDJTy3/++cz+6d5dyyhQp33lHymrVpGzb1vr52rVSNm5sve5u3aRcsuTm67t1rBYskNLDQ8otW6Rs3lxKd3cpe/SQMjHxl7aulylr3Trr+Lq6SunnJ+XAgVIWFVmPxcRY++PpaR2fYcOkTE2987Urzy6z2SIPbroi/zLwoOwvNsgBjhvl3149LI/vvCotFkuF67eYzfLShhNy9Yuz5Qy0Mtrp13Lja1/LtN2Jd62/JPuqTBs+XZ73bi2Tu4yQWW9/Kk1ZOdb6DAZpNpvl+m9Xyc8btJffECD74ilHdOspMyb8QWZM+MONekxZ2fKsaCzPuTSXmVPel7qlC2TyiM7ybCPkuTAPmfmXKbL47HG7r6koP0ce2vJPueCvwXKGFjn//UC5f9OnsjA3q3yDZKNLeSfkjONT5EubPeQLG5C/2dNFbktbKk1mY6W2qyjKw4F1n45yx4z3nEGWUiZJKS9JKR2klAdL319/pUspzZUZvD8rHBzgH/+AL76ACxfuXObyZejfH1q3hsOH4auvYMkSeO896/HPP4dOnWDCBEhPt77q1LG9D9u3Q0ICbNwIP/54+/GMDBg5EsaNg1OnID4exo69e31jxsC6ddY0irJtpKfDa6/d/bzYWGt4v2MHLFwIyckwdCgMGABHj8L06fC7393/egwG+PvfYf582LMHdDqYMuXu5TduhMGDoU8fOHQIfvoJuncHi8V63GiEDz+09mHtWmuKyr2uQ3k2OTgI2vStxodr2jDvXDhDpgdzaFM273bdh7bNHjYvSMVYXP5/NoWDA8EvhDB43RTGnv0zLad15dK6E6zs/F+Wt/83p77ZR0mx6aZzNFWrUGv55wSf2kCtZf/D/z9/BIsFc24+wtkZjCZar97NYLzoeGYrTae/QUTvARRu3onfB9ob9Wx9YSyHarhzYfbvMaVdIXvaLHz6v0OdVYfwfGE4ud8uIHlAC1Jff578LauRZtuu09XDj+ee/y2v/+UCA95cjW/1xuxd+ycW/LUOWxZNICulcmZ3gz1D0DafTUyPVCY3/Q9XDen84+hIxm0PZvH5j7lmuMNCz4qiPDtsjaSB/sBa4CRQp/SzScDzFYnQH+brcZ1Bvj6L2qOHlCNGWP9866zoH/8oZcOG1lnY6xYskNLZWcqCAuv7W2d8bWnz+vtq1aQsLr65XNn6Dh2y9ufSJduuy2SyznLPm/fLZxMnStmnz9370b27dYa6rD/8QcqmTW/+7NNP7z+DDFKePv3LObGx1rG6Psl26wxy586/jL0tTp2ytpGSYvs5yrOpKN8k132RJN9qvkO+wAb5atUtcv4fTsvMpMIHUr8hr1genRkvY0M+lTPQyi/935O7/7hG5qVcves5unnL5aWWA395/9UKmVi3p0wJHyX1Md/LtOHTZdb0j28cL86+Kk/TUI7ERwKyQYMGctZfPpJZP+2+UcaUkyVzZv9NJobXkWcbIRN7BMurX/5TllzLsfuactJOyJ+WTZWz3/GQM7TI5f/uJM8cXCJLSipvdtdsMct9Wevknw70ky9sQA7c6CT/78hoeVq3v9LaVBSl8lCZM8jXCSFGA8uBc0A94PqqFRrAhvk8xRb/93+wYoV1BvNWp05Bx47W2ebruna1zmyeP1/xtlu0ABeXux8PC4Peva3lXnkFZs++d860oyOMGAGLFlnfGwzw7bfWmeV7adPm5venT0O7WxYK6NDh3nWA9VqaNPnlfe3a1rG6du3O5Q8fhuefv3t9P/8MQ4ZAcLA1L7ttadp/cvL9+6I821w9HHnxrSBmH+vCP7a2o3m3Kqz850Um1NvOJ8MOk7At5/okRLk4e7oQOq0bo46/x5AfIqjZqS4H//4DX9f9kA3D53M5/vxt9ftMHE6dvcsBkGYzPm8MI/j0Rjxe7kPOH/9DQdyPODWpZz0uJQc3/MAq8piAL7OoRcGFJKZ99BfqDezDtGnTOHnoMIYDpxGG2gQuOUCtqG9xCqhL9j9/x8VuAWT+cRKG07bvJ+VXK4Qer85iwkepdHv5vxTlZ7Hpm9f45q/B7NvwIYW5D35210E40N7/RT5pu5Evu51hQNBU9mbF8es97fnVnvZsTYvFZLHxwQhFUZ54tu4D+jvgTSnl20DZJyj2Aq1sbUwIESmEOCiEMAghvr5HufFCCLMQIr/Mq0eZ43WFED8JIQqFEKeFEL1t7cPjrH17a/BpSwpBWfY8nHY3HvfZXVajgc2bra/QUGuKR6NG1pSDuxkzxppWcfmyNd3CaLSmS1SkH7ZyvOUB/+tjdD1lwh4FBdCvH7i7Q0wMHDhgTckA2x8kVBQhBGE9q/KXVc8xP7E7r/y2Hgk/XeX3PQ8wLWwXG75Mobig/A+oCSEI6t2EgasnMy7xL7R6uwcpP57lu+4zWNr6n5z4ag+mwl9uWAd3N+t5Go11tsTFGd+I0bi0DsG5ZWOKdh7CUlSMEIIuY17l1Qu72fzOMJwcneiF9X/UgoICNsyeR1zb/vw89C0Sl3xPUpN+WK5oCIzdRp3VR/AaMpa8tYtJHhxG6uju5G1ciSyx7Tpd3H1p1fPXjP3zWQa9tY6qAWHs3/ABC/5ah03fjCbj0r5yj9e9BHo0Zkqzz4npmcq0ZtEUleTxWcJYXt9Wh4Xn3ienOK1S2lUU5fFha4DcCNhzh8/zAW872ksDPgHm21B2j5TSs8xrW5ljS4DDQFXgT8DK0i2wn3h/+5s1//Z6AHZds2awd+/NAd7OndYVHBo0sL53dgYb0/7KRQhrnvNf/2oNEmvXhmXL7l6+fXto2NCaK71okXUG1tPTvjabNoVbV+bbv9/+vt9P69Z3zr0G6yx2drb17yY83NqnrDs/xP/Eur4KyK2vmo/58qh36vP1ly0qet3lPb9GsBtv/KMJMak9+PVXLXBwEMyYfIKxgdv48t3TZFwsvG/bGs2d29ZowLtuVbp+9hITUj+i59yRSItk66QlfF3nL+z6/Wpyk6wrdqbnpdP96+5kFlhnZE3nkyg+eIzaq2dTa/F/kAbjjWC2bvUa/Otf/2Lwfz7m3YAQWoc0B+BPWP/p1RZepO2+7/kmwIX8bzcB4NosjBqfzKVefCrVfv8ZpvQUMqYP51Kvelyd/TdKrtq2dI9wcKBu8xcZMnUDY/58hpZdp3LpxFpW/Kcjy/7VnlP7F2I2GWyqyx4ejt4MCo7gi64n+KTNRhr7tGfphU8Ztz2Yvx8ZyYlruyo0+68oyuPL1gA5DbjTyvDhwF0eK7udlPI7KeX3QI6t59xKCNEYeA74q5SySEr5LXAMeKW8dT5OGjaEyZOtD92VNW0apKVZ/3vqlHVG9g9/sG524e5uLVO3rjV4vHTJGtCVZ7b0bvbuhU8+sQbGyckQFwcpKRAScu/zRo+GefOs/b1fesWdTJlifXDx3XfhzBn47juYM8d67EHMnF/3pz9Z01v+/Gc4eRJOnID//hcKCyEoyJqyER0NiYnWaym7ZvXTIPMuv7G+2+dPi4ped0XPd3HT0O+NQKIPd+azHR14rm81vv9fEm80iOeDwYc4vCX7rgHY3f7/Lvu5k7szLd7szGtHf8/QbVoCejbi8L9/YmH9D1n70pf8bsk77EzeycfbPwbAuVlD6p7ZhGPtGkijkeI9hyncuhcAB0/rrLG4mIp/s8YcOn6Mtyc9TzvhxtdCx1GsS9o1bd8GS14BptSMG/3Q+PpRZeK71P3hHLVmr8apflNy/vsnLoXXIeP34yk+foe8sruoUr0x4a98zoSPUgkfFoXJkMeW2HEs+CCIveveJ1932ea6bOUgHGjj348P26xhXvg5Bgdp+Tl7E+/u64p2Txs2pc7HYC564O0qivLo2BogzwVmCCG6lL6vI4QYB/wTmF0pPYPWQohsIcRZIcT7QojrvzRvDiRKKfPKlD1a+vlT4S9/uT1FICAANmyw5sq2agVvvGFdReFvf/ulzLvvWmeRQ0LA3//B5sf6+MCuXTBwoDW14p13rEHi/YLeMWOsga2PD/Tta3+7wcHW3OW4OGse9H//a53BBuv60Q/Kiy/CqlXWMW7d2rqCxU8/WXO+/f2tm7l8/711bD/8EP7znwfXtqIIIWjRtQrvLWvF15e6M/JPDTi9V88f+xzkrZCdrJmZRFF+xdIvAro34sWVExl38a889/venDqcwLLk5Vikha8OfkVKVhJgDYSllODkhEWfR8bw6WS8/luK9h7h2mfz0M9Zhu+vxpGRn0GbH88S91wel96ByN9EUqdOHXp17oL5ylUca1S90f7bb7/NypUrMUuJ5/ODCfz6B4LXn8R72ETyN60kZWhbUkZ0Jm/tEqSNeUvOrl6EhUcy+o8nGTJtMzWC2nNg86d880FdNn49krQLOytldre2ewMmN/sPMT1SiQyZTYnFyP+OT+T1bXVYcOY9sorUgwmK8jSwaatpACHEp8DbwPWwxAD8S0pp91yaEOITIFBKOf4ux+tj3ZwkCWvguwyIkVL+XQgxFoiQUna8pW8Bd6pPCDEZmAwQFBTUJikpyd7uKo+Zzz+3/hCh0z3YWeRn2aPeka68KtrvR33+vRiLzexYkcHqGUmcO5iLu7cjfcYHMCgyiIBGHhVue8rqt5h/ZAEmTGhKHOh6PJSP675Py4hu+Db8JWPNnH2V7D/9F8PB4zi3aIRLyyZUeXci780bT/gft/He4ExO1bUwqfUkovpHkdpxOG7d2+P/2e+RFgsJx47RqlUrAAIDA5k6dSpvvvkm/v7WNsx5enK/+xp9bDSmpPNo/GviM3IKPiPfwtHfvhwffXYiCTtmcmrvfAxFOqoFtCIsXEvjNq/h6OxmV122klJy7Op2vk/6nH1ZcQB0qvESg4O0tPTrjlD/SCnKI1GpW03foTF3IATrzPNJKWV+uRq9T4B8h/Ijgd9KKdsIIV4GPpVShpQ5HgUgpdTerQ54PLeaVu5v5kzrShb+/tZUD63WmrpxaxqKUn4qQH4059tCSsnpvTriopPZuSKDEpOkbf9qfLLh7v/u36/t9Lx06s+oT3HJLzv9OVuc+ODzcXjmuhPcvxlh07sT1KcJonTpHEuxAeHijBCC9Lx0+v2xCX9Z5cv/9b3CweBi3B3cOF1/PoaJn1A/Zz8OHtbcrzfffJN58+bd1L6LiwsjR45Eq9XSpnTpGmmxULhjE7qYKArjN4CTE14vDMdnrBbXsA52BZomQwFnDi4iIT6KnPTjuLr7EdL5TVp2nYq3X7DN9dgrqyiZtcmz2Jj6JXmmq9T1bMHg4On0rDUKV8cH9ASyoig2qdStpoUQ7kKImUKIy0KILGAecElKub+8wXE5SeD6v44ngPpCiLKbIIeVfq48hc6fh5dftj6o+P771rzkzz571L1SlIdDCEGzTlX4/aIwvknuwZgPGnLhcN79T7yHj+M/xiJvSWJ2EiTOlbT7c1+uHEoh7oXZxDb7G0ejtmPMLcLB1eVGkPpx/MckVjVQ5GTB3Wj9Gnn+uAvn/vlffN+diIOH+42NQj788EPef/99qpfZ291gMPDNN9/Qtm1bOnfuzJIlSzCVlODRvT8B89YTvPksvqOmUfDTWlJf7UTKK+3JXbUQi9G2B/GcXDxo0WUyr/0hgZe1P1G7YXcO//gZCz+sz7p5L5N6blulpF9UdwvijSb/IKZHKr9u8RUOQsOME5MZuy2QL0+/S0bhxQfepqIoleOeM8hCiM+AacAioBh4DdgmpRxersasecSOwF+BQOBNoERKWXJLuf7Az1LKTCFEU2AlsEJK+WHp8b3ATuDPWDcwWQA0klLe85FoNYOsKHdWs+adHyyrUcO6i+LjqqIzuBW97kc1biUmC84uAilvHwAHh/uvZtN6TmuOZBy57fNWNVtx+K3DmI0lnF9xmKNR8WTuS8LJy4Vm4zoQGtmNKk1q0PqLVhzJPMqIg968v8Gfw4HF+BVqONLekz98exgHF+fb6jYYDKxYsYKoqCj232Epmpo1a/Lll18ycODAG59Z8vPIXR2DLiYKU+JpNH7+eI+YjO9rU3GsGXD/gSoj72oyx3bO5sSeLykuyKFqrRaEhkfSpO0YnFwqZ3ZXSsmJaztZkxzNzsxvkdJCO/8BDAmeTuuqvVX6haJUokpNsRBCXAD+JKVcWvq+PbALcJXl2GZaCPEB1uC4rA+xLvt2EgiRUiYLIf4FjAU8gUwgFvhYSmkqracu8DXQAUjGmpO85X7tqwBZUZSnzblDelbPSGL70nRKjJLWvasyWBtMuwH+aDQVD8AyDyRxdMZ2zi0/jMVoJqhvU0K14QT3D8FB44CloJCCddtwCWuKc5P6gDUwvFfwt2/fPqKioli+fDkm0y9bYx89epTQ0NDbykspKdy9BX1sNAVb14CDA559h+I7Rotr2652BZolxiLO/ryUhPgorqQexsXNl2YdJhAaHolPtfp2jIx9rhSnsiFlDhtS5qIzZlHHoymDgiJ5PuB13B297l+Boih2qewA2QjUk1JeLvNZEdBYSplS3kYfFRUgK4rytNJdMbLxyxTWzkom57KBGnXdGBgRRL+JgXhVcbp/BfdRmJnLiS/3cGz2TgrS9HjXr0poZDghEzrg4uterjozMjKYO3cuX3zxBY0aNWL79u03Hb969Spr165lxIgRuJRu9WlKTkS3eBa5387Hor+GS7NW+IyJxGvQKBxcbX8QT0pJeuIuEnZEc+HIt1ikmbohAwgNjySoad9Km901WgzEpy9jTXI0Z/UHcHf0pk/AeAYGRRDocafVVBVFKY/KDpDNQM2yqQtCiDwgVEr5xCVTqQBZUZSnXYnJwp7VWcRFJXE8/houbg70HFObwdpg6rWs+Eyl2WQmcdVRjs6IJ31XIo7uzjQd245QbThVm9cqV51Go5GsrCwCAwNv+vyzzz7jd7/7Hf7+/kyePJmpU6cSEGBNrbAUFZK3OhbdomiMZ47h4OuHz/BJ+IyahlOAfQ/i5esuc3zXFxzfPZeivCyq1GhKy24RNGs/DmfXypvdPaXbS1xSFDszVlAiTbSt1p9BwZG0rfYCDsLWVVgVRbmTyg6QLcAPWJd0u64/sB24sdWTlHJweTvwMKkAWVGUZ0ni0VzWRCfz06I0DEUWWoRXYcj0YDoNqY7GseIB2JXDKSRE7+DMooOYDSUE9mxEqDaceoNb4qCpWP1ms5mGDRty6dKlG59pNBqGDh2KVqula1draoWUkqID8egWzqBgy/cAeDw/BN8xkbh17GnXTLDZZODc4eUcjY8iK/kATi5ehHScQMtuEVSpXnmzu9cMmaxP+YJ1KV9wzZBBgHsjBgZF0DtgHJ5OvpXWrqI8zSo7QF5gSyVSygnl7cDDpAJkRVGeRbk5RjbPv8zaWclkXirCv44rL06pQ//JdfCpdvsDdfYqys7nxLw9HJ+9k7zka3gF+9FyahdCJnXGrWr5HoArLi7mf//7H7NmzSIl5faMvlatWhEZGcmoUaNwc7OmVpjSktEvno1++ZdYdDk4N2qO71gtXoPH4OBuXz8yLu0jIT6Kc4eXYzGbCGr2AmHhWoKbvXBj6bsHrcRiYmfmt6y+9Dmn9Xtx1XjQO2AcA4MiCPa8z7aliqLc5KGug/ykUwGyUpme1JUgHjWN5s7bJtuyGkNFVfTvrCJ9fxT3i9ks2bcmi7Uzkzm8JQcnFwd6vFaLwdogGj7nU+H6LSVmLq45TkJUPKk/nUPj6kST0W0IjQzHv1Xg/Su4g5KSElavXs3nH33CjoQjtx338/Nj0qRJ/PnPf8bLy5oOYTEUk7d2CfqYKAwnD+Pg5YP3sIn4jJ6Gc1ADu9ovzM3k+O65HNs5i8LcDHyqNSA0XEuzDuNxcbN/zNLz0hn57UiWDVtGTc+7b4RyTn+IuKQotqUvoUQaaV21N4ODtbTzH4BGaOxuV1GeNSpAtoMKkJXK9KRutvGoPcpxe5QbhTzq+yXpZD5xUUlsjUmjuMBMSBdfBkUG02VoDZycKz5Dmn0sjYToeM7EHqSk0EitrvUJ04ZT/+UwNE72BXglaZlcDOrBWQ8Ny+p6sPJsAkXFv2xyEhAQwMWLF3FyuvlhRCklxT/vRhcTRf7mb8FsxqPHAHzGanHv3NuumWBziZELR78jIT6K9Iu7cXL2oGn71wntFolfLdtnd6etm8acQ3OY0mYKMwfMvG95nfEKm1LmsSZ5JjmGy1R3DWZQcCT9Aifi5VTF5nYV5VmjAmQ7qABZqUyPOuB5UqkAuXxtPygFehOb519mzcxk0i8U4lfL5Ub6hV9NlwrXX3ytkJPz93Js5g5yL+bgEeBDy6ldaf5mZ9yr2/YAnJSSovgD6KNjyV/1AzpLCWtCqrEwJ4mkjHQ++eQT/vSnP910zqVLl/D398fDw5paUZKZhn7pF+iXzsGck4VTvSb4jo7Aa+g4NJ7edl1TVvIhEnZEc/bQEswlBgIbP09YuJa6LQbi4HD34L/sDoZujm4k/irxnrPIZZVYTOzNiiMuKYpj17bj4uBGz9qjGRw8nXpeLe3qv6I8C1SAbAcVICuV6XEJeJ40KkAuX9sPmsUiObgxm7gZSRzalI2jkyB8hDX9okl734rXb7aQtOEkR2dsJ+WHMzg4a2g8sg2hkd2o0c72VSdMKenoZy8m98vlGLOvsrOONz0i36T+tLE4eP6SZ9y7d28OHTrEG2+8QUREBPXrW9c4thgN5G9YgS4mCkPCfhw8vPB6eRy+YyJxrt/ErmsqyrvCiT3zOLZrNvnXUvDyCya0WwQhHSfi6uF3W/lp66bx1eGvMJqNOGucmdR6kk2zyLdKzD3KmuRofkpbhMFSRIsq4QwJnk6n6kPQODjaXZ+iPI1UgGwHFSArlelxC3ieFCpALl/blSn1bAFropP44evLFOWZadzOhyHTg+k6vCbOLhVPv7h6OpNjM3dwasFeTAVGanQIJmx6dxoOa4XG2bYAz1JsIH/pOnRRMRh+PoGDjxfeE17BJ3IMF4wFhIT8kvYghGDAgAFotVr69OlzY2WL4qP70MVEk7dhGZhMuHfrh+8YLe7d+9uVfmExl5CY8D0JO6K5fH47jk5uNG47mtDwSPwDwoCbZ4+vs3cW+VZ5xqtsTJ3HupTZZBZdwt+1DgPqTKVfnUn4OvuXq05FeVqoANkOKkBWKtPjHPA8zlSAXL62H4aC3BK2xlwmLiqZ1DMF+FZ3pv9bdRgwpQ5Va7tWuH6DvojTC/eTEBWP7twV3Gt40fytLrSc0gWPWrY9ACelpHjvEXQzFpK/chOYzRxu35A/phzlQtrl28o3adKEyMhIxo0bd+OhvpLsTPTL5qJf8gXmrDScghrgMzoC71cmoPH2teuastOOkRAfxZkDsZSYiqjdIJywcC3/vryF+UcWYDQbb5StyCxyWWZpZn/WWuKSoziS8yNODi70qPUag4IiaeTTpkJ1K8qTSgXIdlABslKZ1CoW5aNWsShf2w+TxSI5vCWHNdFJ7F97BQeNoMvQGgyeHkxIZ98K7zonLRaSN5/maFQ8SRtO4aARNBjWirDp3anZsa7N9ZekZaKfsxT9nGWYMq+wJ8CLRT5mtpxMuK2sl5cX48ePJzIyksaNrWscS5OJ/M3foYuJovjnXQh3D7yHjMVnTCQujZrbdU3FBVc5ufcrju2cTW7ORT7zcyJFmG4r16pmKw6/ddiuuu8lKf8kcUlRbE2LodhcQIhvFwYHa+lc42WcHCq+pJ+iPClUgGwHFSAriqJUTHpiIWtnJrN5fir5uhIatPZmUGQQPV6rhYtbxZcf052/wrGZOzg5fy/G3GKqt6lDqDacRiOew9HVti2zLQYj+Ss3oo+KoXjfUZLcHVneyIdlF46Tm59/U9mxY8eycOHC2+ooPvGzdfWLtUuQRgNuHXvh+/p0PHoORGhsv06LxcylE+s4un0GqWd/ROPoQuM2rxHaLZLqQZU3u1tg0rP58gLikqLIKErEz6UWA+pMpX+dyVRxqVFp7SrK40IFyHZQAbKiKMqDUVxQwtbYNNZEJ3PpeD7eVZ3oNymQAVODqBHsVuH6jfkGzsTsJyF6B1dPZuBazYMWk7vQcmoXPANtX96s+EACuqgY8petJ89oYENTf77JT+NsajIA+/fvp127djedYzKZbiwZZ76ajX7FPPSLZ1GSnoJjQDA+o6bhM2wimipV7bqmqxmnSIiP4vT+hZiMBdSs24mw7tNpEDYUjWPlzO5apIWD2RuJS5rBoexNOAonutV8lSHB02ni275S2lSUx4EKkO2gAmRFUZQHS0rJ0Z+uEheVxL64LAA6vVSDgRFBhPX0q3j6hZSkbj3L0ah4Lq05DkLQ4OVQQrXh1O7WwPb0i8xscr9cjm72YkrSMtlX05P9TWrwv++Xo/H9ZZk3vV5PkyZNGDp0KJGRkTce9pMlJRT8GIcuNoqifdsQLq54DRqN71gtLs3C7LomQ5GeU/u+JmFHNPor5/HwrkXzLm/RostbeHiX74E9W6QWnGVt8kw2py6gyJxHI++2vFT3V3StORxnh4ov6acojxMVINtBBciKoiiVJyu5iLWzktk0L5XcHBN1W3gySBtMr9G1cPWo+PJjuZdyODZrJyfm7cFwrZCqobUJm96dxq+1wcndthlYaTJZ11KOiqF45yGEuxteY4fgqx2LS/NGfP755/z617++Uf75558nMjKSQYMGoSlNrTCcTkAXG01eXCyyuAjXtt3wHavFs8/LCEfbr1NaLCSd2kjCjmiSTm7AQeNEw1bDCes+nZp1O9g1NvYoKMll6+UY1iRHk1JwGl/n6rwQ+CYDg6ZR1bV2pbWrKA+TCpDtoAJkRVGUymcoMrN9aTqrP08i8Wgenr6O9J0YyMBpQdSq717h+k2FRs4uPsjRqHhyEtJwqeJO80mdaDmtK951bU97MBw5iS4qlrzFa5DFBtx6dmRqwQXW7t99W9ng4GCmTZvGpEmT8POzrnFs1l8jd+V8dItmUpJ6Eceagfi8NgXvEZNx9LNvmbVrWWc5tmMWp/YtwFicS/WgdoSFa2nU+lU0TpUzu2uRFg7nbGFNUjT7r6zFQWjoUmMog4K1NPftUuHZf0V5lFSAbAcVID8ZnqSn+x+kiiz7VdGVICpyfkXbrsjfd0XvlWf1XntYpJSc3K0jbkYSO7/NRFok7Qf6M2R6MK2er/pA0i/SdlwgISqeC6sSkBZJvcEtCNOGE9irsc31m3OuoZ+3Av2sxZiSL3OougeL/R1Yf+oolltubldXV0aPHo1WqyUszJpaIc1mCratQxcTRdHuLQhnFzxfHIHvWC2uLe37fjYW53F6/0ISdszkWuYp3Lyq07zTm7TsOhVP3wC76rJHWuEF1iXPZnPqV+SX6Gjg3ZpBQZH0qPUaLpqK55QrysOmAmQ7qAD5yfAkrA9bGR7lmrqq7fKdr9gu+3Ix6+eksP6LFPRXjNRp6sGgyCCefz0Ad6+Kp1/kpVzj+Be7OD53F8XZBfiF1CRUG06TMe1w9rRtBlaWlFAQ9yO66EUU/bSXdBfByiZVWZx8ihyd7rby69evp3///jd9Zjx/Ct2imeR+/w2yIB/X1p3wGROJV79hCGfbH8STUpJyZgsJ8VFcPGGd3a0fNpTQ8Ehq1+9aabO7xSUFbE2LZU1yNJfyj+PtVJUXAt/kxaAp1HCzfcdDRXnUVIBsBxUgPxme1aDlSQ0Un9W2lfIxFpvZsSKDuKhkzh7Q4+7tSO9xtRmsDSagkcf9K7iPkmIT55b9zNEZ27nycyrOPm6ETOhAy4hu+Da0Pe3BcPwsuuhY8mJWU1RYwOZGVYkx5XD00gUAqlevTnJyMi4udw6+zXl6cr/7Gv2imZgunUPjXxOfEW/hM/ItHKvXsuua9NmJJOyYyam98zEU6agW0IrQ8Egat3kNJ+eKp6zciZSSY1e3szp5BnszVwPQqcZLDAqKJNSvh0q/UB57KkC2gwqQnwzPatDypAaKz2rbSsVIKTm9T8+a6CR2LM+gxCRp+0I1BmmDaftCNRwcKp5+kbHnIgnROzi/4jAWs6TuiyGERnYjqG9Tm7eSNl/Tk7vgW/QzF2FMTOZoNXeW1HQibEAf/vqPv99U9ocffiA2NhatVkvbttbvZWmxULhjE7qYKArjN4CTE579huH7+nRcwzrYFWiajIWcObiIhO0zyEk/jqu7HyGdrekX3n6VN7ubVZTM2uRZbEz9kjzTVYI9mzM4eDq9ao3G1bHiP9QoSmVQAbIdVID8ZHhWg5YnNVB8VttWHpyrGQY2zElh/ZwUrqYbqN3QnYERQfSdEICHj22bg9xLfpqeE3N3cfyLXRRm5uHbuDqhEd1oNr49zt625ddKs5mC9dvRR8VQ+MMuhLMTniMH4Bs5Btd2oQAMGDCA9evXA9CxY0e0Wi3Dhg3DuTS1wnjpHPpFM8n9dgGW/FxcWrS1rn4xYAQOzrY/iCel5PL57STER5GY8D0A9VoOISxcS0CjypvdNZiL2J6+lNVJM0jMO4Knoy99A99gUFAkNd3rVUqbilJeKkC2gwqQnwzPatDypAaKz2rbyoNnMlrY9a01/eLUHh2uHhp6jwtgYEQQwSGeFa7fbCzh/IrDHI2KJ3NfEk6eLjQd157QyHD8mtq+u5zxTCK66Fhyv16FzC/AtUMYua+9QMu33+TW79SaNWsyZcoU3nrrLWrWtK5xbCnIJ3d1DPqYKIwXTqHx88d7xGR8X5uKY037HsTLu5rMsZ2zObHnS4oLcvCr1ZywcC1N2o7ByaVyZnellJzQ7WJNUjS7Mr/FIs208x/AkODptK7aW6VfKI+FJypAFkJEAuOBlsASKeX4u5QbB0wHGgG5wGLgj1LKktLj24COQEnpKZellE3u174KkJ8Mz+rKAmoVi5upVSyebed/1rN6RhLbl2ZgMlho9XxVhkwPpt0AfzSaigdgmQeSOBoVz7llP2Mxmgnq25RQbTjB/UNw0NiYfpGbT97X36GLjsV07hLH/VxYEuDK96ePYjKZbirr5OTE8OHD0Wq1dOhgTa2QUlK0+0d0sVEUbF0DDg549h2K7xgtrm3texCvxFjE2Z+XkhAfxZXUw7i4+dKswwRCwyPxqVbfrrGxx5XiVDakzGVDyhx0xiwCPZowKCiSPgHjcXOs+A81ilJeT1qAPBSwAP0At3sEyFOB48A+wB+IA1ZIKf9RenwbECulnGdP+ypAVhRFebLorhjZNC+FNTOTyblsoEZdNwZGBNHvjQC8/Cq+PXNhVh4n5u7m2OydFKTp8a5flZbTuhHyRkdcq9j2AJy0WCjcvBNdVAyFG+LJdpCsalaN2IzzpGdfua18p06diI+Px7HMpiKm5ET0S79Av2IeFv01XJq1sq5+MWgUDq62L7MmpST94m4S4qO5cGQlFmmmbsgAwsK11Gnap9Jmd40WA/Hpy1iTHM1Z/QHcHb3pXXscg4IjCfRoXCltKsq9PFEB8o1GhfgECLxbgHyH8r8BekopB5W+34YKkBVFUZ4Z5hILe1ZnsXpGEsfjr+Hi5kDP0bUZPD2Yei29Kl6/yUzi9wkcnbGd9J2JOLo702RMW8K04VRtYfvucsbzSehnLiJ3/koMuXn8VK8KsY557D13+kaZV199lWXLlt3xfEtRIXlxi9DFRmE8cwwHXz98hk/CZ9Q0nALsexAvX5/G8Z1fcHz3HIrysqhSoyktu06jWftxOLt537+Ccjql28uapGh2ZCynRJpoW60/g4IiaOvfHwdh2+y8olTUsxIgfw+cllL+ofT9NqA5IIAzwJ+klNvucu5kYDJAUFBQm6SkpAr2XlEURXmUEo/msmZmMj/FpmEostCiWxUGTw+m80vV0ThWPAC7cjiFhOgdnFl8CHOxiYAeDQmb3p16g1vanH5hyS8gN2Y1+uhYjCfPc9rXmSVB7nx3JoEtW7bQtWvXm8rHxMRQt25dunbt+kv6xYF49DFR5G/5HqTEo9dgfMdqcevY066ZYLPJwLnDyzkaH0VW8gGcXLwI6TiBll2nUaXGfbMTy+2qIYMNKXNYnzKHq4Z0ars3ZGBQBH0CxuPp5Ftp7SoKPAMBshDiDeAjoJWUMrv0sw7AScAIjASiS49fuFddagZZURTl6ZF31cimry6zdlYymZeKqBboyoCpdeg/uQ4+1SqeflGUnc/Jr/ZwbNZO8pKv4RVUhRZTu9L8zc64VbXtATgpJUVb96CLiqEgbis6IQl4uR9Vpr+Oa7e2CCHIz88nMDAQvV5PWFgYWq2WUaNG4eZmTa0wpaegXzQL/fIvsehycG7UHJ8xkXgPGYuDu30P4mVc2kdCfBTnDi/HYjYR1LQfod211G3W3+al7+xVYjGxK/M7Vid9zindHlw1HvQOGMfAoAiCPUMqpU1FeaoDZCHES8AcoLeU8tg9ym0E1kkpo+5VnwqQFUVRnj5ms2TfmizWzkzm8JYcnFwc6PFaLQZrg2j4nE+F67eUmLm45jgJUfGk/nQOjasTTUa1ITSyG/6t69hcj+lSKvpZi9HPW4Hlmh7n0Cb4aseyqDCDiF/96qayfn5+TJo0iWnTphEcbE2tsBiKyV+3FF1MFIYTP+Pg5YP3K2/gMyYC56AGdl1TYW4mx3fP5fjO2RTkpuNTrQEtu0UQ0mECLu6+dtVlj/P6n4lLjuKntMWUSCNhfr14qe6vaOc/AI3QVFq7yrPnqQ2QhRAvADHAACnl/vvUtwHYIKWcca9yKkBWKtOTvKLCs9p2RT3JfX9aJZ3MZ010Ej8uTKO4wExIZ18GRQbR5ZWaODlXfIY053gaR6PiORN7kJJCI7W61idMG079l8PQONkW4FkKi8hbvAZdVAzGhDMk+riwONidFWcTKCouvqmsg4MDgwcPRqvV0rNnzxvpF8WH96CLiSJ/00owm3Hv/iK+r0/HvXNvu2aCzWYTF45+R8L2GaRf3I2jsztN271OWLgWv1qVN7urM15hU8o81qbMIrs4lequwQwKjqBfwES8nP0qrV3l2fFEBchCCEfAEfgrEAi8CZRcX76tTLlewArgZSll/C3HfIEOwHasy7yNAOYCraWUZ+/VvgqQlcr0JK/J+6y2XVFPct+fdgV6E5sXXGbtzGTSzhfiV8uFF6dY0y/8atq+KcfdGHSFnJy/l4SZO8hNzMEjwIeWU7rSfHJn3Kvb9tCglJLiHQfRRcWQv+oH9JYS4kL8iclJ4lJG2m3lmzdvzkcffcTQoUNvfFaSmYZ+6Rz0y+Zgzs7EqV4TfEdH4DV0HBpP+x7Ey0r5mYT4aM4eWoy5xEBg416EhU+nbouBODhUzuyu2VLCnqzVxCVFcezadpwdXOlVewyDg6dTz6tlpbSpPBuetAD5A6zBcVkfAvOx5hSHSCmThRA/Ad2Asj9K75BS9hdC+APrgaaAGTgNvC+l/OF+7asAWalMKkB+8tquqCe5788Ki0VycGM2a6KSOLgxG0cnQbdXazJYG0yT9j4VXvbMYraQtOEkR2dsJ+WHMzg4a2g04jnCtOHUaGf7qhOmlHT0Xywhd+4yjNlX2VnHm0UeRradPn5TuXnz5jFx4sTb+2E0kL9xJfqYKIqP7sPBwwuvl8fhOzoC5wZN7bqmorwrnNj7Fcd2ziL/WgpefsG07DqN5p0m4epRebO7F/MSWJM0k61pMRgsRbSoEs7gYC2dq7+ExsHx/hUoShlPVID8qKkAWalMKkB+8tquqCe578+i1LMFrJ2ZzOYFqRTlmWnczofB2iC6vVoLZ5eKp19cPZ3JsZk7OPX1Pkz5Bmp0CCZsencaDmuFxtm2AM9SbCB/2Tp0UbEYDh0n0cOR5Q29WX7+OM4uLqSmpt54eA+ss9Dbt28nPDwch9LUiuKj+9HFRpO/fhnSZMS9Wz98xkTi0f1Fu9IvLOYSEo+tJiE+msvnt6FxcqVJm9GEhkfiH9jKrrGxR57xKpsuf8Xa5FlkFl2immsgA+pM5YU6b+Lr7F9p7SpPFxUg20EFyEplUgHyk9d2RT3JfX+WFeaV8OPCy8RFJZN6pgAff2defKsOA6bWoWpt1wrXb8wt4tQ3+0mIikd37gp+ITUZdfw9u2arpZQU7z1iTb9YsZG8EiPJHZvR56+/xb1v1xuB7k8//USvXr1o3LgxkZGRjBs3Dm9va2pFSXYm+mVz0S/5AnNWGk5BDfAZNQ3vYW+g8fa165qy046REB/FmQOxlJiKqN0gnNDwSOqHvoRG42RXXbYySzP7s9ayJjmawzlbcHJwoUet1xgUFEkjnzaV0qby9FABsh1UgKxUJhUgP3ltV9ST3HfFmn5xeEsOa6KT2L/2Cg4aQeeXazB4ejDNu/hWOP1CWiwkbz5NYVY+zV5vX+56StKz0H+xBP2cZZgzs3FqVBffyDF4jR/K8PGvs2rVqhtlvby8GDduHJGRkTRpYl3jWJpM5P+wCt3CGRT/vAvh5o73S6/jMyYSl0bN7epLceE1Tu75imM7ZpJ79RKevoG06DqV5p0m4e5VvdzXeD/J+adYnTSDrWkxFJsLCPHtwqCgCLrUfAUnh4ov6ac8fVSAbAcVICuVSa1i8eS1XVFPct+Vm6UnFrJudjKb5qWSryuhQWtvBkUE0WNULVzcHo/lxywGI/krN6KPjqV47xHwcOe/jdxZdP4Yufn5t5Xv168fWq2W/v37/5J+cfIw+pgo8tYsRhoNuHXshe9YLR49ByIcbc/ztVjMJJ1Yz9H4GaSc2YKDxpnGbV4jNDySGkHljknuq8Ck54fLXxOXHEV64QX8XGrdSL/wc6lZae0qTx4VINtBBciKoijKvRQXlLA1No01M5O5dCwf76pO9JsUyICpQdQIdrt/BQ9J8YEEdNGx5C9dR57RwIam/iwsSOdMyu27xTZo0ICIiAgmTpx4I/3CfDUb/cqv0C+aSUl6Co61g/AZHYHPsIloqlS1qy9XM06RsGMmp/d9jclYQM26nQjrrqVB2CtoHCtndtciLRzM3khc0gwOZW/CUTjRrearDA7W0sSnfYVn/5UnnwqQ7aACZEVRFMUWUkqObb9KXFQye1ZngZR0eqkGgyKDCO3h99gEYCVZOeTOXYZu9mJK0jLZX9OTxVVh48mjlP1+d3Bw4MKFC9StW/em82VJCQU/xqGLjaJo3zaEiyteg0bjO1aLS7Mwu/piKNJzev83HI2PQn/lPO7eNWnRZQoturyFh3flze5eLjjHmuSZbE6dT5E5j0bebRkSPJ1utV7F2aHiS/opTyYVINtBBciKoiiKvbKSi1g7y5p+kZtjom4LTwZFBtFzdG3cPB+P5ccsRiMFq39EFxVD8Y6DpLpqWNHYl6WXTnEtV8+QIUP4/vvvbzqnoKAAV1dXNBprConh7HF0MVHkrY5BFhfh2rYbvmMi8ezzMsLJ9gfxpMVC0ulNJMRHkXRyAw4aJxq2Gk5YuJYadTtU2g8XhSV5bE2LIS4pipSC0/g4+/Ninbd4sc4UqrkGVEqbyuNLBch2UAGyoiiKUl6GIjPbl6azekYSiUfy8PBxpN+kQAZOC6JWffdH2rfiqwVk7Evi/PLDuLuaqW84Rf6StRQWF7GxcTXaThhJz3cjb8ozfu+991i8eDHTpk1j0qRJVK1qTa0w66+Ru3I+ukUzKUm9iGONAHxGTcX71TdxrGrfg3jXss5ybMcsTu1bgLE4l+pBbQkN19K49Qg0TpUzu2uRFg7nbGFNUjT7r6xFCAe61BjK4ODpNPft8tjM/iuVSwXIdlABsqIoilJRUkpO7tYRNyOJnd9mIi2SdgP8GTI9mNa9qz6SAGzdy/MoSNcT2Ksx6bsScXDS0O/LVyhevgb9rMWUJKfhGFQbn6mv4TNpOEYPN+rUqUNOTg4Arq6ujB49Gq1WS1iYNbVCms0UbF+PPiaKwl0/IJyc8RwwEt+xWlxb2hd3GIvzOL1/IQk7ZnIt8xRunv407zyZll2m4Fkl8IGPx3XphYmsTZ7F5tSvyC/RUd+rFYODI+lRaxQumscnp1x58FSAbAd7A2T1hPqzpyJ/5+p+UZRnT/blYtbPSWH9FynorxgJbOLBYG0Qz78egLvXw0m/OPXNPrZNXc7Y83/Bs7YPAIta/J3u0cMI7NHImme8Ziu6qFiKftqLcHXhYp+2vLbje3J0utvq69atG1qtlpdeegmn0tQK44XT6GKjyf3+G2RBPq6tOuIzVotXv2EIZ9sfxJNSknJmCwnxUVw8YZ3dbRA6lNDuWmrX71ppP1wUmwvZejmGNcnRXMo/TohvZ/7dcVeltKU8HlSAbAd7A2S1xumzpyJ/5+p+UZRnl9FgYcfydNZEJ3Nmvx43Lw19xgcwWBtMQCOPSmu3KKeAuBdm02BoKG3f6wtAQbqetUO+pOu/XyagWwPAGpgKITAcP4suOpa8mNUUFRawuaEfMSVXOXrpwm11BwQEMHXqVCZPnoy/v3UHO3N+LnnffY0uNhrTpXNo/GviM+ItfEa+hWP1Wnb1XZ9zkWM7ZnJy73wMhdeoFhBmTb9o8xpOzpWTsiKl5NjV7RRbCmnv/2KltKE8HlSAbAcVICv3owJkRVEq6vQ+HWuik4lflk6JSdL2hWoMigyibX9/HBwe7Azp+ZWH2RaxkokZn9yYfU3ecoaEGdtp/lYX6g34ZSMQKSUn5u3BqCuixdhWFCxejX7mIoyJyRyp6say2s7EnTpKSUnJTW20bt2an3/++abPpMVC4c7N6BbOoDB+Azg64vnCcGv6RauOds0Em4yFnDm4iIT4KHLSjuHq7kdI5zdp2XUq3n7BFRgd5VmmAmQ7qABZuR8VICuK8qBczTCwYW4KG+akkJNmoHZDdwZOC6LPhAA8fR/M9sxxA77Au15VekQPB8CYV8zxL3aR/MNpXvxuEs6evzwIZyo0cuVwKof+/gPpuxIJnd6ddn/qQ9HmneijYijcvJMsJ/iuWTViU8+QdfUqALNmzWLq1Kl37YMx6Tz6RTPJXTkfS34uLi3a4Dt2Op4vvoqDi+1bd0spSTsfz9H4GSQmfA9AvZaDCQufTkCjHurhOsUuKkC2gwqQlftRAbKiKA+ayWhh13eZrIlK4uRuHa4eGp5/vTaDIoIIbu5V7nrNBhObX4+l+nOBtPl9HwAubTjJsVk7qNO7Ca1+1QNpsSBKd9ErS3/hClsnL+O53z1PcL9mABhPX0A3cxG5X6/CkJ/Hjw2qssrNwOptW/Gu6nfjXCklgwYNom3btrz11lvUqmVNrbAU5JO7OgZ9TBTGC6fQ+Pnj/eqb+IyailNN+x7Ey7uazLFdX3Bi91yKC3Lwq9WcsHAtTdqOwcml8lJWlKeHCpDtoAJk5X5UgKwoSmU6/7OeuKhkti1Jx2Sw0Or5qgzWBtF+gD8ax9sD2fs5/uVuzi05xOCNU8nYc5EDn2zGp0E1uvzrJZw9XW7kHoM1X/nCt0eo1bkeVVvUJm7AFwT2akzrt3uAEAghkBYLlvxC8r75Dl30IkxnL6KpUQ2ft0bg89ZIHGvXYPfu3XTp0gUAJycnhg0bhlarpWNHa2qFlJKi3T+ii42iYOsacHDAs8/L1vSLtt3smgkuMRZx9uelJMRHcSX1MM5uPoR0eIPQbhH4+Dewe7weprJjrzx8KkC2g1rFQrkftYqFoigPgz7byKZ5qayZmUx2ajHVg10ZFBFMv4kBePnZvipEUU4B26YuI3nTaaq2rE2N9kG0fa8Pbv5emE1mNE6aG2WllBz+11Z2/T4O7+AquNf0psmYtoRGhFNSZOTciiNcWncC9+pedPxkAM5eLhT+sAtdVAyF67eDRoPnsH68X5TCV6u/va0vbdq0Yfr06YwYMQIXF2tqhynlIrrFs8hd+RUW/TWcm4bhOyYSr0GjcHCz/UE8KSXpibtI2DGTC0dWYpFm6oYMICxcS52mfR7LQDTPeJXT+n3syFhODbd6jGrw/mPZz6eVCpDtoNZBVhRFUR4n5hILe+OyWD0jiWPbr+Hs6kCvMbUZrA2mXqjt6Rf5aXqQEs8AXwozc3F0c8LZ+87r/F45ksqOt7+jwwf9qdmxLhoXJ9a/8hX6C9k0GduO9J2JFGXlMWj9FFx8rHUYLySjnxlL7vxvMehz+aleFWId89h77vRt9fv7+zN58mSmTJlCYKA1tcJSVEhe3CJ0sVEYzxzDwdcPn2ET8Rk1DafAunaNWb4+jeM7rekXhXmZ+FZvQmi3CJq1H4ezm7dddVWmj35+mauGdFpV7cWJa7twdHDiz62+xcPJ51F37ZmgAmQ7qABZURRFeVxdPJbHmugktsakYSiy0KJbFQZPD6bzS9XtSr848dUejv5vG6OOvYeUkswDydRsH0xJsQlHVyf0idlcjDtGq1/3pKTIyNklh9j7/npePfDujXWUl7b5Jx0+fJF6A1vcVLclv4Dc2Dj0UTEYT57ntK8zS4Lc+e5MAgaD4aayGo2GL7/8kgkTJtz4TEpJ0YF49DFR5G/5HqTEo9dgfMdE4tapl10zrGaTgXNHVpAQH01m0j6cXLxo1mE8od0iqFKjic31VIYfLn/DzBNT+Sr8PFVdawMwZWcLpjWLJrRqj0fat2dFRQNk+xOeFEVRFEV54Oq19GL6nBbEpPZg4mdNuJJSzN+GH2F8vXiW/u0C+myjTfU0n9iJ4fveASB582kO/f0HCtL1OLpaV87IvZjDmdiD5CZdJT9Vx4VVCTR/s9ON4NhUaKSk0IRTmRUwMvYncXLBXooLLfhOeY2g4+sI+PEb2vQI58PjuWw31eG9Fp0IrF7jxjlms5muXbve1DchBO7tu1MraiV1t16kypu/p/jQTi6P703ygBbolnyBpSDfpuvUOLnQtN0YXn1nL8Pf2Uf9loM5vmsOsZ82ZfWsF7h4fC0Wi9mmuh6kXGMOa5Kiea3B+zeC46vF6bho3HEQmpvKPkuTlE8aNYOsKIqiKI8hs1lyYN0V4qKSOLwlBycXB7qPrMlgbTCN2tj2a3pjXjG731vD6W/203B4K5w8XLi8/TzV29ah9/zRnFtxmAMfb+KlLRG4V7emdCTGHeP4nF10+KA/XsF+JMzcwcmv9uDfKpCUH8/S5bMhhEWG33gIzXQpFf3sJei/XI7xmo74YB9iXYrwqleH9Rs33tSf9PR0/ve//zF16lTq1q0LgMVQTP66pehiojCc+BkHLx+8X5mAz5hInIPsexCvMDeT47vncnznbApy0/GuWp/Q8EhCOkzAxd3XrrrKa0fGSmadjGBxz4wbM+KHs7ewOmkGL9Z5i/bVB2CRFhyEdY7SbCnhjH4/jXza4uRge/65cm8qxcIOKkBWFEVRnkRJJ/NZE53EjwvTKC4wE9LZl4ERQXQdVhMn5/v/Mjg/Tc/hf/2IpcRCQPeG1OxUD8/aPmx4dT4aF0f6xrwOQEmRkQOfbkZ/IZu+sa+z693vyU/T03jkczR4OYzz3x3lxJe7GbLh9nWRLYVF5C1egy4qBmPCGUy+XlR/cwQ+U1/DqV4dAD744AM+/PBDHBwcGDRoEFqtll69et1Y/aL48B50MVHkb1oJZjPu4f3xfX067l363HG5ursxm00kHl3F0fgZpCfuwtHZnabtXic0PJKqtZrfv4IK+MuhAdR0q8e0kGgACkvyWJ/yBT9n/8D7rb/DzdGTEosJRwcnfrwcw67Mb9Ebr5BScJrBQVpGNfzLjeBZKb8nKsVCCBEphDgohDAIIb6+T9m3hRAZQohcIcR8IYRLmWN1hRA/CSEKhRCnhRC9K73zTxiNxrrs2K0vjeb+5z7Jbdeseee2a9as/LYrqiJ9f5KvW1GU+wsO8SRyVnNiL/dg8n+bci3TyD9HJzC+7nYWfXSeqxmGe57vWduHbv8ZSvj/htLwlVY30inMhhL8Qn75h+LSuhPkHEuj/kuh5F3K4eKa4zQZ3Zb6L4UC4B1cheKcAq4cvXxbGw7ubvhMepWgI3EExi+iSp+uXPvPAi416E3akKnoNmxjzpw5AFgsFlavXk3v3r1p0aIFs2fPpqCgALfnOlPrv0uoty0Zv2nvYzhxiLSJL5DUvxm6hVGY83NtGi+NxolGz73KsF/vZMRvD9Go9QhO7VvA4r+3YFX081xI+L5S0i+MFgNuGk+quda58dmJazs5djWe9v4DcHP0xGwpwdHBCZPFyNzTv6F5lW581GY9Mzsf4WD2Rk7r9j7wfin2e6gzyEKIoYAF6Ae4SSnH36VcP2Ah0AtIA1YBe6WUfyg9vgfYA/wJeBH4Cmgkpbxyr/afpRnkR7km77PadkWpNZgVRbGVxSI5uDGbNVFJHNyYjaOToNurNRkUGUzTDj42P+x2ZvFBEqLieWHZePKSr7F18lLqvxRKp08Hsj1iBcZ8A+Gfv4JrFeuSbKnbzrF+6FdMzPz0piXk7saUmoF+9mJy5y7DmH2VXYHeLPI08tPp47eV9fHxYcKECURERNCwYUPrdRoN5G9ciT4miuKj+xAenni/PB7fMZE417fvQbyivCuc2PsVx3fOJu9aMl5VgmjZdRohnSfh5lHVrrruZUPKl2xPX8LHbTdySreHpRc+oZZ7AyY1+Zc1QJZmNELDmqSZ/JgWw/86/RIQ/2ZvZ3oHjOfFOpNvpLCUTcdQbPdEplgIIT4BAu8RIC8GLkkp/1j6/nlgkZSyphCiMXAMqCalzCs9vqP0+Bf3alcFyFZPc5D6JAeKKkBWFKU8Lp8rYE10MpsXpFKUZ6ZRW2+GTA+m26u1cHa5d2BlKjSy8zerOLvkEDU718OnQTV6RA+nKKeATSO/JuSNjjQa+dyNgPv7vjPxqOVDn2/G3HWXvjuxFBvIX74e3YwYDIeOk+jhyPIG3iy/cJz8goKbygoh6N+/PwsXLqRq1V8C1+Kj+9HFRpO/fhnSZMS9a198xmrxCO+PsONXlBZzCYnH40jYHsXl89vQOLnSpM1oQrtr8Q8Is7meu8k15hB9ciqHsjdR17MlTXza82qD9/B19r+RWgGwNW0RP1xewEdt1uPk4ExG4UXmnv4NDb2fY1TD9zGYi9iRsYIDV9bh41ydcY0+UUvE2eFpDZCPAn+TUi4rfV8NuAJUA8JLjzUrUz4akFJK7R3qmgxMBggKCmqTlJT0gK/m8fSsBqlPcqCoAmRFUSqiMK+ErTFpxEUlkXK6AB9/Z/pPDmTA1CCqBbje81xjXjGWEgsuvm4IISi6kseaQXNp9XZPGo94DrCuZLGy038YdewP+IXUKlcfpZQU7z2CLiqG/BUbySsxsjbEnxhdKufTUm+Ua9iwIWfOnMHhDgF4SU4Wucvmols8G3NWGk516uMzOgLvYW+g8fa1qz/ZacdIiI/mzMFYSoyF1G7QjdBukdQPexmNxqlc13hdTnEaEkk11wCuGTJx1rjh4fjLOs2ZhZf49MhwetUeQ1v//sw/8zsOZm/k3x120cinDZ8cfoX0wgv0qj2WE9d2ojdm8VGb9SpIttETlYNsB09AX+b99T973eHY9eN3XFFdSjlXStlWStnW39//gXdUURRFUR4H7l6ODJwWxBcnuvLp5rY06+TLsr8lMi54O58OP8zxndfuuqyYs5crrlXcb8wUu1Rxx62a542fsDMPJLHzN6sImdip3MExWGeH3Tq1ptbi/1AveRvBf53OmKsOrE1z5evarekTYp3BjYiIuC04PnjwIGfOnMGxanX8pv2Zej9doub/lqGpEUD2P97hYrcAMv8yBcO5Ezb3p1rtlvQaOYcJH6XSZchn5OtS2fj1CBZ+WJ8Dmz6lMC+r3Nda1bU21VwDANh/ZS3v7u1y41i+SUcN97q82fTf7LuyhqUXPiXh6jbaVnuBRj5t2JT6Fad1e/mozXpeqfcOf3luFUZLMcev7Sh3fxT7PM4zyJ9KKZeXvq8KZPPLDPKnUsqQMuWjAO40g1yWSrGweppncZ/kmVQ1g6woyoOWnljIutnJbJqXSr6uhPphXgzWBtNjVC1c3O6dlnB26SG2TFhMzY7BmAqM+Dbyp/f8UWhcKjazeitpNJK3chP6qBiK9x4h2d2RuqOGUOedSTg3/WWZty5durB792769u2LVqulf//+aEpTKwwnj6CLmUHe2iVIQzFuHXviO0aLR69BCEdHm/tisZi5dGIdCfFRpJzZgoPGmcZtRhLaLZIawe0qdJ3F5kJcNe5kFSWzO3MVnaoPoYZ7XQDikqLZkDKHd0IXUtWlNv85Np4mPh0Y0+iDG+dO392GyJDZNzYaOaPbT1L+Cdr7D8DXpXqF+vY0elpTLBYDF6WUfyp93wtYXCYHOQHwL5ODHF96XOUgl9JowGK5/XMHBzBX8rrpj7LtmjUhM/P2z2vUgIyMym27oirS9yf5uhVFqXzFBSVsXZTOmugkLh3Lx8vPiX6TAhkUEUT1oDtvSQ1gKjBwdunPVAutTdUWtXB0c7Yr99jufh48Zk2/WLoOaTTh3qcLPtqxnKnpRdv27W8qW79+fSIiInjjjTfw9fUFwHwtB/2KeegXzaQkPQXH2kH4jJqGz/BJaKrY9yDe1czTJMRHc3rf15iMBdSs25HQcC0NWw1D41j+9YpNFiMLz/2Z7y99TqcaQygsyaWoJJ/eAePoX+dNdmSsYPH5j/l7uy03At+9WXGsT5nD6IYfUMM1mDXJM9mU+hUNvFtxJOdHJjb5jMHBkTce7FOesABZCOEIOAJ/BQKBN4ESKWXJLeVeAL7ml1UsvgP2l1nFYi+wE/gz0B9YgFrFQlEURVHuSUpJwrarrIlOZs/qLJCSjkNqMCgyiLCefo9NcFWSlUPul8vRz15MyeVMLgRWYYaPkY0nj96WJuLu7s7YsWOJjIykRQvr1tiypISCrWvQxUZRtPcnhIsrXoNG4TtGi0tIK7v6YijSc3r/NyTER6O7cg53rxq06DqVFl3ewsO7/Gtp5hSnsSn1K+p7h9HIu+2NXff+fmQEjg7O/DY0xtq+uYilFz4lvfACvw2LZd7pd7lqSCO81ki61HiZXZmr2Jgyl4/arH9s/v4eB09agPwB1uC4rA+B+cBJIERKmVxa9jfA7wE34FtgipTSUHqsLtYAugOQDERIKbfcr30VICuKoiiKVVZyEetmJ7Pxy1Ryc0zUbeHJoMggeo2pjauH7WkJlUmaTOR/vwVdVAzFOw6S6qphRWNfll46xbXcWx9Hgp49e/LOO+8wYMCAG58Zzh5HFxtN3uoYZFEhrm274TtWi2fvlxBOtqeLSIuF5NObSdgRzaUT63DQONGw1TDCwqdTo26HBxacfvjzEJr6dGREg/cA6858W9Ni6FFrFI182vLng/2Y3PQ/dPAfhBCCc/pDRJ+cyq+af0l974qvwvG0eKIC5EdNBciKoiiKcjNjsZltS9JZPSOJxCN5ePg40m9iIAMjgqhV3/1Rd+8Gw9FT6KJiyFu0hsLiIjY2rsbC4kxOJF+6qdyUKVOYPXv2beeb9dfI/XYB+kUzMaUk4lgjAJ/XpuA9YjKOVe3L4dVlnePYzlmc3DsfY3Eu1eu0ITRcS6PnRuDodO8VQ+7np7TFxCVF8V6rZWQVJzPj+GQ613iJcY0+ZebJCIrN+bzV7HO8nKoAkJCzjY+PDGVJz8wbS8gpKkC2iwqQFUVRFOXOpJSc3K0jbkYSO7/NRFok7Qb4M1gbTOveVXFweDx+fW/OuYb+q5XoZy3GlJTKz9U9WFzdgfWnEjCbzRw/fpzmzW/eTvry5csEBFhXlJBmMwXb16OPjaZw52aEkzOeA0biOyYS11D7HsQzGvI5vX8hCfHRXMs8hZunP807v0mLLlPwqlLn/hXcQbG5kC9P/4Zt6UsI8e1MLfcGTAuJJteYwz+OjqRvwBt0rzXyxoz1Hw/0xc+lFu+GfqM2FSlDBch2UAGyoiiKotxf9uVi1s9JYcOcFHRZRgIauzNYG0zvcQG4ez349Istbyyietsgmr7eHmdPF5vOkWYzBWu2oouKoWjrXjJcBPva1Ccy+t+4tr6x0BXZ2dnUqVOHtm3botVqefnll3EqTa0wXjiNLjaa3O+/QRbk49qqIz5jIvF6YTjC2fYH8aSUpJz9kYTtUVw8sQYhHGgQOpTQ8EhqN+hWrvSLwpI8zLIET0dfhBDojFf44NAgXq77Nt1rjQCsK1n8Zm8nZnU9RrBnyH1qfLaoANkOKkBWFEVRFNsZDRZ2rsggLiqJM/v1uHlp6D0ugMGRQQQ28XwwbeQVs6pXNFkHk3H2dqXZhA6ERobj29D2vQsMJ85Z0y9iViMLi3Dt8hy+2rF4Du3L//3737z33ns3ygYEBDBlyhQmT55M9erW1Apzfi55332NLjYa06VzaKrVwGfEW/i8NgXH6vat+5ybc4mEHTM5uWcehiId1QLCCA3X0rjNazg5lz9lxWwp4aPDL9Gz1mh61H6NM/oDzD31NkGeIfyqxdxy1/u0UgGyHVSArCiKoijlc3qfjjXRycQvS6fEJHmub1UGa4Np96J/hdMvpJRk7L1EQlQ851cewVJiIfiFZoRqwwnu19TmZeXM1/TkLvgW/cxFmBJT0NSuzr/rujB3fzwlJTctmIWzszMjRoxAq9XSrp01tUJaLBTu3IwuJorC7evB0RHPF4Zb0y9ad7JrJthkLOTMwUUkxEeRk3YMF/cqNO/0Ji27TsW7al2b6ylrW/pS/ntsAk19O1JsLqC2eyPebjkfZwfbZt2fJSpAtoMKkBVFURSlYq5mGNgw15p+kZNmoFYDdwZOq0PfNwLx9K34Q2IF6XqOz93N8S92UZiRi28jf1pGdKPZ+A64+Nx9zeaypMVC4Ybt6KJiKdy0gywn+K5pVRZdPkfm1Zzbynfo0AGtVsvw4cNxLk2tMCadR79oFrkrv8KSn4tL8+fwHTsdzwEjcHCx/UE8KSVpF3ZwdPsMEo99D1JSr+VgQsO1BDbqaXf6RXFJAdszllLXK5S6ni1w0bip3OM7UAGyHVSArCiKoigPRonJws5vM1kTncTJXTpcPTQ8/3ptBkUEEdzcq8L1m40lnF95hISoeDL2XsLJ04Wm49oTGtENv2a2rz9sPJOILjqW3K9XYcjPZ0v9KsQKPQcvnL2t7KpVq3jppZdu+sxSkE/u6hj0sdEYz59EU6Ua3iMm4zNqKk41A+26prxrKRzbOZsTu+dSXJCDX80QQsO1NG03FicXD7vqUu5NBch2UAGyoiiKojx45w/nEjcjiW1L0jEZLIT18mOwNpgOg6qj0VR89YvMg8kkRMVzdukhLEYzdfo0IUwbTvCLzXHQ2Jh+kZtP3sJV6KJjMZ25yIkqLiwJdOX7MwkYjUbq1KlDYmIijmW2pr4eIwkhkFJStGcruthoCn5cDQ4OePZ5Gd+xWlzb2vcgXompmHM/L+Xo9hlcST2Ms5sPIR3eILRbBD7+De5fgXJfKkC2gwqQFUVRFKXy6LONbJqXytpZyVxJKaZ6sCuDIoLp+0YA3lXLvz3zdUVX8jj+5R6OzdpBwWU93vWq0jKiGyETOuDqZ9sMrLRYKPxhF7qoGArXbyfbQfJ9s2rU6d+TiP/75KZAd9WqVXz66adotVpGjBiBq6s1tcKUegn94lnoV8zDor+Gc5NQfMdq8Ro0Cgc32x/Ek1KSfnE3CfHRXDiyEos0E9ysP2HdpxPUpE+lben9LFABsh1UgKwoiqIolc9cYmFvXBarZyRxbPs1nF0d6Dm6NkOmB1Mv9AGkX5jMXFydwNEZ8aTtuICjmxNNxrYjNDKcai1r21yP8UIy+pmx5M7/Fos+D5fWIfhOfx3PkQNwcHWhV69e/PTTTwBUq1aNyZMnM3XqVAIDrakVlqJC8uIWoYuNxngmAQefKvgMn4TPqGk4Bda165ry9Wkc3/kFJ3bPpTAvE9/qjQntFkmz9uNwdvO2qy5FBch2UQGyoiiKojxcFxPyiItO4qfYNAxFFlp0q8Lg6cF0fqk6GseKz5BeOXqZhKjtnFl0CHOxiYDuDQmd3p36g1vg4KixqQ5LfgG5sXHoo2IwnjyPploVikb2o+2Xn1FsKL6prEaj4eWXX0ar1dKtW7df0i8OxKOPjSb/h1UgJR49B+E7Votbp152pV+YTQbOHVlBQnwUmUn7cXLxpFmH8YR2i6RKjSZ2jU15maWZvxx8kTbV+tE38A08nXwfSrsPkgqQ7aACZEVRFEV5NPKumdg8P5W1M5PJuFhE1QAXBk4L4oU36+Dr/wDSL3IKOPnVHo7N3EFe8jU861Sh5bSuNJ/UCbdqtq3ZLKWk6Ke96KJiKIjbyjVpZnWIPzHZF0nJzLitfGhoKFqtllGjRuHubk2tMGWkWle/WP4l5mvZODcMwWdMJN5DxuLgYd/a0RlJ+0nYHsW5w8uxmI0ENe1LaLiW4JD+ODjYFvyXx9XidD49MoyTut24aNzpXXscg4IiCPZqfv+THxMqQLaDCpAVRVEU5dEymyUH1l0hLjqJwz/k4OTiQPiImgzWBtO4rU+F67eUmLm49gQJUfGkbj2LxtWJxq89R2hkONWfs337Z9OlVPSzl6CftwLj1WvEB/mwyK2YHWdO3Fa2du3aXLx48cYScQAWQzH565ahi5mB4cTPOHh64z3sDXxGR+Ac3NCuayrMy+LE7rkc2zmbAn0a3lXrExoeSUiHCbi4+9pVlz3O5x4mLimKbemLMVkMhPn1YnCwlg7+A9E4PPgdFR8kFSDbQQXIiqIoivL4SD6Vz5roZH5ceJmifDPNOvkyWBtEl1dq4uRc8fSLnBPpJETHc3rhAUoKjdTqUp9QbTgNhoahcbIx/aKomLzFa9BHx2I4corz3s4srefJyrMJFBYVATB+/HgWLFhwx/OllBQf2YsuJor8jSvAbMY9vD++r0/HvYt9D+KZzSYSj67iaPwM0hN34ejsTtN2YwkN11K1VuXN7uqN2WxKncea5JlkF6dS3TWIQcGR9AuYiJezX6W1WxEqQLaDCpAVRVEU5fFToDexecFl1s5MJu18IVVqujBgSh36Tw7Er5btm3LcjUFXyMkF+0iIjic3MQeP2j60mNKFFpM7417DtgfgpJQU7zyILiqW/O82ozebiAupTszVS6xcu4Y2bdrcVP4f//gHPj4+jB07Fk9Pa2pFSVY6+qVz0C/9AnN2Jk71GuM7OgKvoePReNr3IN6VlMMk7IjmzMFFmEsMBDbqSWj36dRrMajS0i/MlhL2ZsURlxxFwtVtODu40rP2aIYET6eeV2iltFleKkC2gwqQFUVRFOXxZbFIDm3KJi4qiYMbsnF0EnQdXpPBkUE07ehr965zt5IWC5c2nCJhxnaSN5/GwUlDo5HW9Iua7YNtrseUmoH+iyXkzl2G6UoOrs0a4hM5Bu+xQ3Dw8kSn0xEQEEBhYSE+Pj5MmDCBiIgIGja0plZYjAbyN65EHxtN8ZG9CA9PvF8ah++YSJwbNLXrmoryszm55ysSds4k/1oKXn7BtOwylZDOk3DzqGpXXfa4mJfAmqSZbE2LwWApokWVbgwO1tK5+suPRfqFCpDtoAJkRVEURXkypJ0vIC46mc3zUynKM9OojTeDpwcT/mpNnF0rPkN67UwmCTN3cOrrfZjyDNRoH0yoNpxGw1uhcbFty2xLsYH8ZevQRcdiOHgcB29PvCe8wjceBn77t49vKiuEoH///mi1Wvr27YtDaWpFccIBa/rF+mVIkxH3Ln3wGavFo/uLCI3t12kxl5B4bDXHdswk9dxPaJxcadJmNKHhkfgHtrK5HnvlGa+y6fJ81iXPIqPoItVcA3mxzhT615mMr7N/pbV7PypAtoMKkBVFURTlyVKUX8KPMWnEzUgi5XQBb/67CUN/U++B1W/MLeLUwgMkRMejO5NF9+hhhEaE21WHlJLivUfQR8eSt2IjRf4+bPv9SGbOnMnZs7dvad24cWMiIiIYP3483t7W1IqS7Exyl3+JbvFszFlp1J6/CY+ufct1Tdlpxzi2YyanD8QgELzxaQbOLvatoGEvszSzP2sta5JncjjnBzpVH8Jfnvu+Utu8FxUg20EIcQVIKufp1YDsB9idZ4Uat/JR42Y/NWblo8atfNS4lY8aN/upMSufJlLKcu9K8+iTRB4iKWW55/qFEAcr8pPIs0qNW/mocbOfGrPyUeNWPmrcykeNm/3UmJWPEKJCKQNqk29FURRFURRFKUMFyIqiKIqiKIpShgqQbTf3UXfgCaXGrXzUuNlPjVn5qHErHzVu5aPGzX5qzMqnQuP2TD2kpyiKoiiKoij3o2aQFUVRFEVRFKUMFSAriqIoiqIoShkqQFYURVEURVGUMlSAXIYQIlYIkS6EyBVCnBVCTLpH2beFEBmlZecLIVweZl8fF7aOmRBivBDCLITIL/Pq8XB7+/gRQjQSQhQLIWLvclwIIf5PCJFT+vo/IYR42P183Ngwbh8IIUy33G/1H3Y/HxdCiG2l43V9LM7cpZy630rZMWbqXruFEGKkEOKUEKJACHFBCNHtLuXU92gZtoyb+i79xS1jkF86LlH3KG/X/aYC5Jv9HagrpfQGBgOfCCHa3FpICNEP+APwPBAM1Ac+fJgdfYzYNGal9kgpPcu8tj20Xj6+ZgIH7nF8MvASEAaEAoOAtyq/W4+9+40bwLJb7rfEh9Gxx1hkmbFocpcy6n67mS1jBupeu0EI0Qf4P2AC4AWEA7eNh/oevZmt41ZKfZcCZccAqAkUASvuVLY895sKkMuQUp6QUhquvy19NbhD0XHAV6XlrwEfA+MfTi8fL3aMmXILIcRIQAf8eI9i44B/SylTpZSXgX/zjN5r19k4bkr5qPtNqagPgY+klHullBYp5eXSe+lW6nv0ZraOm3JnrwBZwI67HLf7flMB8i2EELOEEIXAaSAdWH+HYs2Bo2XeHwVqCCGqPoQuPnZsHDOA1kKI7NJUjPeFEM/UVudlCSG8gY+A39yn6J3uteaV1a/HnR3jBjBICHFVCHFCCDG1krv2JPh76f9/u+7xK1l1v93MljEDda8BIITQAG0BfyHEeSFEqhAiWgjhdofi6nu0lJ3jBuq79E7GAQvl3dcutvt+UwHyLaSU07D+eqMb8B1guEMxT0Bf5v31P3tVbu8eTzaOWTzQAqiO9Se914DfPqw+PoY+xvrTbOp9yt3pXvN8VvNCsX3clgPNAH/gTeAvQojXKrtzj7HfY/2VYgDWxfPXCCHu9Jsedb/9wtYxU/faL2oATsAwrN8HrYDWwJ/vUFZ9j/7CnnFT36W3EEIEA92Bb+5RzO77TQXIdyClNEspdwKBwJ1mA/IB7zLvr/85r7L79ri635hJKROllBdLf3V0DOss4LCH3c/HgRCiFdAb+K8Nxe90r+Xf46fkp5Y94yalPCmlTCu9L3cDn/OM3m8AUsp9Uso8KaVBSvkNsAt48Q5F1f1WytYxU/faTYpK/xslpUyXUmYD/8H2ew2eze9Rm8dNfZfe0Vhgp5Ty4j3K2H2/qQD53hy5cz7tCawPsVwXBmRKKXMeSq8eb3cbs1tJ4FmclQLoAdQFkoUQGcC7wCtCiJ/vUPZO99qJyu7gY6oHto/brZ7l++1O7jYe6n67O1vvoWf2XivN7UzFOgY3Pr5LcfU9WsrOcbvtdJ7R+62M17n37DGU435TAXIpIUT10iVWPIUQmtInHl/jzg8CLQQmCiFChBC+WH8N8vXD6+3jwZ4xE0L0F0LUKP1zU+B9YPXD7fFjYy7WHyJalb6+ANYB/e5QdiHwGyFEgBCiNvAOz+C9VsrmcRNCDBFCVBFW7YHpPKP3mxDCVwjRTwjhKoRwFEKMxvqE/MY7FFf3G/aNmbrXbrMA0JZ+P1QB3gbW3qGc+h69mU3jpr5LbyaE6Iw1DeqOq1eUYf/9JqVUL+tvD/2B7Vifjs8FjgFvlh4Lwjo9H1Sm/G+AzNKyCwCXR30Nj/OYAf8qHa8CrEvXfAQ4PepreBxewAdAbOmfu2H9lfb1YwL4J3C19PVPQDzqPj8Or/uM2xIgp/QePA1Mf9T9fYTj5I91Sby80v9X9wJ97jJu6n6zf8zUvXbz2DkBs0rHLQOYAbiq79EHM27qu/S2cZsDxNzh8wrfb6L0JEVRFEVRFEVRUCkWiqIoiqIoinITFSAriqIoiqIoShkqQFYURVEURVGUMlSArCiKoiiKoihlqABZURRFURRFUcpQAbKiKIqiKIqilKECZEVRlCeQEOKSEOLdexwfL4TIf5h9uhchxNdCiDttGKEoivLYUQGyoihKOZUGfbL0ZRJCJAoh/iWE8LDx/Lql57at7L4+LE/jNSmK8uxxfNQdUBRFecJtAcZi3QmrGzAP8ACmPspOKYqiKOWnZpAVRVEqxiClzJBSpkgpFwOLgJcAhNXvhBAXhBBFQohjQogxZc69WPrfA6WzrttKz2snhNgshMgWQuQKIXYKITpVtKNCiEFCiENCiGIhxEUhxKdCCOcyxy8JIf4shJhT2m6qEOK3t9TRWAixvbSOM0KIF4UQ+UKI8fe6pjLn/0oIcVkIcU0IsUAI4V7R61IURXnQVICsKIryYBVhnU0G+ASYCEQAIcDfgTlCiAGlx9uX/vcFoBYwtPS9FxCDdUa6PXAEWC+EqFreTgkh+mEN3qOB5sAbwDDgb7cUfRs4BjwH/B/wz+vBuRDCAVgFlAAdgfHAXwGXMuff7ZoovZ4WQG9gBPAy8KvyXpOiKEplUSkWiqIoD4gQoj0wCvixNA/5N0BfKeWO0iIXS8tEAOuAK6Wf50gpM67XI6Xceku9WuAVoD8QW87u/Qn4TEq5oPT9BSHE74FYIcRvpZSy9PPNUsro0j9HCSGmA88De4A+QJPSa7pc2re3gV1l2rnjNZXKBaZIKc3AKSHEitK6/17Oa1IURakUKkBWFEWpmBdKV4twxDpzvBrQYp0xdgU2CiFkmfJOwKV7VSiEqA58DPQEagAawA0IqkA/2wDtS4Pi6xxK660JpJd+lnDLeWlA9dI/NwXSrgfHpQ4AFhv7cLI0OC5bdwcbz1UURXloVICsKIpSMfHAZMCENXg0AQgh6pUeHwQk33KO6T51foM1MH4bazBtAH4EnO9xzv04AB8CK+5w7EqZP9/aN8mDS8erzLoVRVEeGBUgK4qiVEyhlPL8HT4/iTWwDb41ZaIMY+l/Nbd83hWYLqVcByCEqIE1n7cifgaa3qWvtjoN1BZC1JZSppV+1pabg9y7XZOiKMoTQwXIiqIolUBKmSeE+BfwLyGEwDrT7In14TaLlHIukIX1ob5+QohLQLGUUg+cBcYIIfZhXTLun/wSeJbXR8BaIUQSsBzrg3YtgPZSyt/ZWMcPwBngm9JNStyA/5TWdT2N5G7XpCiK8sRQv9pSFEWpPO8DHwDvAiewBpivULoUmpSyBJgOTMKaj7u69Lw3sAbTh4ClwHzuk7d8P1LKTcAArHnN+0tff+D29I971WHBuvKES+n53wCfYg2Oi+9zTYqiKE8M8cuDy4qiKIpiHyFEGNZl6NpKKQ894u4oiqI8ECpAVhRFUWwmhHgZKADOAXWxplgIoLVUXyiKojwlVA6yoiiKYg8vrBuI1AGuAduAt1VwrCjK00TNICuKoiiKoihKGeohPUVRFEVRFEUpQwXIiqIoiqIoilKGCpAVRVEURVEUpQwVICuKoiiKoihKGSpAVhRFURRFUZQy/h8mYCXzQs5GsQAAAABJRU5ErkJggg==\" width=\"700\">"
   ]
  },
  {
   "cell_type": "markdown",
   "metadata": {},
   "source": [
    "### 여러 클래스에 대한 분류 모형\n",
    "\n",
    "반응변수 $Y$가 $K$개의 클래스를 가질 때에도 확장 가능하다. $k=1, \\cdots, K$에 대해\n",
    "\n",
    "$$ \\mathbb P (Y = k | X) = \\frac{e^{\\theta^{(k)}_0 + \\theta^{(k)}_1 X_1 + \\cdots + \\theta^{(k)}_p X_p}}{\\sum_{\\ell=1}^{K}e^{\\theta^{(\\ell)}_0 + \\theta^{(\\ell)}_1 X_1 + \\cdots + \\theta^{(\\ell)}_p X_p}} $$\n",
    "\n",
    "(각 클래스에 대한 총 $K$개의 식이 생성되지만, 실제로는 이 중 $K-1$개의 식이면 충분하다.)\n",
    "\n",
    "모수들은 각 클래스 $k$에 대해 $\\theta^{(k)}_0, \\theta^{(k)}_1, \\cdots, \\theta^{(k)}_p$의 총 $1+p$개가 존재한다.\n",
    "\n",
    "* 따라서 전체 모수의 수는 $(K - 1) \\times (1 + p)$개가 존재한다.\n",
    "\n",
    "이를 multinomial regression 혹은 softmax regression이라고 부르기도 한다.\n",
    "\n",
    "(여러 클래스를 가지는 경우, regression외에도 다음에 살펴볼 discriminant analysis를 사용하는 방법도 있다.)"
   ]
  },
  {
   "cell_type": "markdown",
   "metadata": {},
   "source": [
    "### 비용 함수 - cross entropy\n",
    "\n",
    "Multi-class classification 문제의 비용 함수로서 cross entropy가 많이 사용된다.  \n",
    "\n",
    "Cross entropy는 원래 정보 이론에서 사용되는 개념으로 두 확률 분포가 얼마나 비슷한지를 측정하는데 이용할 수 있다.\n",
    "\n",
    "여기서는 $y_i$로 표현되는 관찰한 실증 분포와 모수로 표현되는 확률 분포 ($p_i^{(k)}$로 표현됨)를 비슷하게 적합하는 개념으로 사용된다.  \n",
    "\n",
    "Cross entropy를 작을수록 두 분포가 비슷하다고 볼 수 있다.\n",
    "\n",
    "$K$개의 클래스가 있다고 하자. 다시 말해, $ y_i \\in \\{ 1, \\cdots, K \\}$.\n",
    "\n",
    "편의를 위해 $p_{i}^{(k)}$를 다음으로 정의하자.\n",
    "\n",
    "$$ p_{i}^{(k)} =  P(y_i = k | x_i, \\Theta ) = \\frac{\\exp(\\theta^{(k)} \\cdot x_i)}{\\sum_{\\ell=1}^{K} \\exp(\\theta^{(\\ell)} \\cdot x_i)} $$\n",
    "\n",
    "여기서\n",
    "\n",
    "$$\\Theta = \\begin{bmatrix} \\theta^{(1)} & \\theta^{(2)} & \\cdots & \\theta^{(K)} \\end{bmatrix}$$\n",
    "\n",
    "이고,\n",
    "\n",
    "$$ \\theta^{(k)} = \\begin{bmatrix} \\theta^{(k)}_0 & \\theta^{(k)}_1 & \\cdots & \\theta^{(k)}_p \\end{bmatrix}^{\\top} $$\n",
    "\n",
    "이다.\n",
    "\n",
    "Cross entropy는 다음 식으로 정의한다.\n",
    "\n",
    "$$ J(\\Theta) = -\\frac{1}{N} \\sum_{i=1}^{N} \\sum_{\\ell = 1}^{K} y_i^{(\\ell)} \\log p_{i}^{(\\ell)} $$\n",
    "\n",
    "이며, 여기서\n",
    "\n",
    "$$ y_i^{(\\ell)} = \\mathbb {I}_{\\{ y_i=\\ell \\}}. $$"
   ]
  },
  {
   "cell_type": "markdown",
   "metadata": {},
   "source": [
    "### Gradient for softmax\n",
    "\n",
    "소프트맥스 회귀의 경우도 그레디언트 벡터를 구할 수 있다.\n",
    "\n",
    "\n",
    "위에서 살펴본 비용함수 $J$의 $\\theta^{(k)}$에 대한 그레디언트 벡터는 다음으로 계산된다.\n",
    "\n",
    "$$ \\nabla_{\\theta^{(k)}} J (\\Theta) = \\begin{bmatrix} \\frac{\\partial J(\\Theta)}{\\partial \\theta_0^{(k)}} \\\\ \\frac{\\partial J(\\Theta)}{\\partial \\theta_1^{(k)}} \\\\ \\vdots \\\\ \\frac{\\partial J(\\Theta)}{\\partial \\theta_p^{(k)}}  \\end{bmatrix} = \\frac{1}{N} \\sum_{i=1}^{N} ( p_i^{(k)} - y_i^{(k)} ) x_i .$$"
   ]
  },
  {
   "cell_type": "markdown",
   "metadata": {},
   "source": [
    "위 식을 유도하기 위해\n",
    "\n",
    "\\begin{align*}\n",
    "\\frac{\\partial J(\\Theta)}{\\partial \\theta_j^{(k)}}  &= -\\frac{1}{N} \\sum_{i=1}^{N} \\sum_{\\ell = 1}^{K} \\frac{\\partial}{\\partial \\theta_j^{(k)}}  y_i^{(\\ell)} \\log p_{(i)}^{(\\ell)} \\\\\n",
    "&= -\\frac{1}{N} \\sum_{i=1}^{N} \\sum_{\\ell = 1}^{K} y_i^{(\\ell)} \\frac{\\partial \\log p^{(\\ell)}_i }{\\partial p^{(\\ell)}_i}  \\frac{\\partial p^{(\\ell)}_i}{\\partial a^{(k)}} \\frac{\\partial a^{(k)}}{\\partial \\theta_{j}^{(k)}}\n",
    "\\end{align*}\n",
    "\n",
    "여기서\n",
    "\n",
    "$$ a^{(k)} = \\theta^{(k)} \\cdot x_i $$ \n",
    "\n",
    "이고\n",
    "\n",
    "$$ \\frac{{\\partial a^{(k)}}}{\\partial \\theta_{j}^{(k)}} = x_{ij}. $$\n",
    "\n",
    "따라서\n",
    "\n",
    "$$\\frac{\\partial J(\\Theta)}{\\partial \\theta_j^{(k)}} = -\\frac{1}{N} \\sum_{i=1}^{N} \\sum_{\\ell = 1}^{K} \\frac{y^{(\\ell)}_i}{p^{(\\ell)}_i}  \\frac{\\partial p^{(\\ell)}_i}{\\partial a^{(k)}}  x_{ij}.$$\n",
    "\n",
    "또한, 만약 $\\ell = k$ 이면,\n",
    "$$ \\frac{\\partial p^{(\\ell)}_i}{\\partial a^{(k)}} = \\frac{\\partial p^{(\\ell)}_i}{\\partial a^{(\\ell)}} = \\frac{\\partial}{\\partial a^{(\\ell)}} \\frac{\\exp(a^{(\\ell)})}{\\sum_{m=1}^{K} \\exp(a^{(m)})} = \\frac{\\exp(a^{(\\ell)})\\sum_{m=1}^{K} \\exp(a^{(m)}) -  \\exp(a^{(\\ell)}) \\exp(a^{(\\ell)})}{ (\\sum_{m=1}^{K} \\exp(a^{(m)}) )^2 } = p^{(\\ell)}_i \\left( 1 - p^{(\\ell)}_i \\right) $$\n",
    "이고, 만약 $\\ell \\neq k$ 이면\n",
    "$$ \\frac{\\partial p^{(\\ell)}_i}{\\partial a^{(k)}} =  - \\frac{ \\exp(a^{(\\ell)}) \\exp(a^{(k)})}{ (\\sum_{m=1}^{K} \\exp(a^{(m)}) )^2 } = -  p^{(k)}_i p^{(\\ell)}_i$$\n",
    "이다.\n",
    "\n",
    "그러므로,\n",
    "\\begin{align*}\n",
    "\\frac{\\partial J(\\Theta)}{\\partial \\theta_j^{(k)}} &= -\\frac{1}{N} \\sum_{i=1}^{N} \\left( y_i^{(k)} (1 - p_i^{(k)} )  - \\sum_{\\ell \\neq k} p_i^{(k)} y_i^{(\\ell)} \\right) x_{ij} \\\\\n",
    "&=  -\\frac{1}{N} \\sum_{i=1}^{N} \\left(y_i^{(k)} - p_i^{(k)} \\left(y_i^{(k)}  + \\sum_{\\ell \\neq k} y_i^{(\\ell)}\\right) \\right) x_{ij}  \\\\\n",
    "& = \\frac{1}{N} \\sum_{i=1}^N (p_i^{(k)} - y_i^{(k)} ) x_{ij}.\n",
    "\\end{align*}\n",
    "이다.\n",
    "\n",
    "위 식에서 $p_i^{(k)}$가 $\\theta^{(k)}$에 대한 함수이며, $x_{ij}$와 $y_i^{(k)}$는 관찰값들이다.\n",
    "\n",
    "모든 클래스 $k$들에 대하여도 위와 같은 그레디언트 벡터를 유도하여 사용한다."
   ]
  },
  {
   "cell_type": "markdown",
   "metadata": {},
   "source": [
    "### 두 개의 feature 변수와 3 개의 class\n",
    "\n",
    "두 개의 입력 변수인 petal length, petal width로 3가지 서로 다른 붓꽃 품종을 예측하는 모형을 고려해 보자."
   ]
  },
  {
   "cell_type": "code",
   "execution_count": 28,
   "metadata": {},
   "outputs": [],
   "source": [
    "X = iris[\"data\"][:, (2, 3)]  # petal length, petal width\n",
    "y = iris[\"target\"]"
   ]
  },
  {
   "cell_type": "code",
   "execution_count": 29,
   "metadata": {},
   "outputs": [
    {
     "data": {
      "text/html": [
       "<div>\n",
       "<style scoped>\n",
       "    .dataframe tbody tr th:only-of-type {\n",
       "        vertical-align: middle;\n",
       "    }\n",
       "\n",
       "    .dataframe tbody tr th {\n",
       "        vertical-align: top;\n",
       "    }\n",
       "\n",
       "    .dataframe thead th {\n",
       "        text-align: right;\n",
       "    }\n",
       "</style>\n",
       "<table border=\"1\" class=\"dataframe\">\n",
       "  <thead>\n",
       "    <tr style=\"text-align: right;\">\n",
       "      <th></th>\n",
       "      <th>petal length</th>\n",
       "      <th>petal_width</th>\n",
       "      <th>target</th>\n",
       "    </tr>\n",
       "  </thead>\n",
       "  <tbody>\n",
       "    <tr>\n",
       "      <th>0</th>\n",
       "      <td>1.4</td>\n",
       "      <td>0.2</td>\n",
       "      <td>0.0</td>\n",
       "    </tr>\n",
       "    <tr>\n",
       "      <th>1</th>\n",
       "      <td>1.4</td>\n",
       "      <td>0.2</td>\n",
       "      <td>0.0</td>\n",
       "    </tr>\n",
       "    <tr>\n",
       "      <th>2</th>\n",
       "      <td>1.3</td>\n",
       "      <td>0.2</td>\n",
       "      <td>0.0</td>\n",
       "    </tr>\n",
       "    <tr>\n",
       "      <th>3</th>\n",
       "      <td>1.5</td>\n",
       "      <td>0.2</td>\n",
       "      <td>0.0</td>\n",
       "    </tr>\n",
       "    <tr>\n",
       "      <th>4</th>\n",
       "      <td>1.4</td>\n",
       "      <td>0.2</td>\n",
       "      <td>0.0</td>\n",
       "    </tr>\n",
       "    <tr>\n",
       "      <th>...</th>\n",
       "      <td>...</td>\n",
       "      <td>...</td>\n",
       "      <td>...</td>\n",
       "    </tr>\n",
       "    <tr>\n",
       "      <th>145</th>\n",
       "      <td>5.2</td>\n",
       "      <td>2.3</td>\n",
       "      <td>2.0</td>\n",
       "    </tr>\n",
       "    <tr>\n",
       "      <th>146</th>\n",
       "      <td>5.0</td>\n",
       "      <td>1.9</td>\n",
       "      <td>2.0</td>\n",
       "    </tr>\n",
       "    <tr>\n",
       "      <th>147</th>\n",
       "      <td>5.2</td>\n",
       "      <td>2.0</td>\n",
       "      <td>2.0</td>\n",
       "    </tr>\n",
       "    <tr>\n",
       "      <th>148</th>\n",
       "      <td>5.4</td>\n",
       "      <td>2.3</td>\n",
       "      <td>2.0</td>\n",
       "    </tr>\n",
       "    <tr>\n",
       "      <th>149</th>\n",
       "      <td>5.1</td>\n",
       "      <td>1.8</td>\n",
       "      <td>2.0</td>\n",
       "    </tr>\n",
       "  </tbody>\n",
       "</table>\n",
       "<p>150 rows × 3 columns</p>\n",
       "</div>"
      ],
      "text/plain": [
       "     petal length  petal_width  target\n",
       "0             1.4          0.2     0.0\n",
       "1             1.4          0.2     0.0\n",
       "2             1.3          0.2     0.0\n",
       "3             1.5          0.2     0.0\n",
       "4             1.4          0.2     0.0\n",
       "..            ...          ...     ...\n",
       "145           5.2          2.3     2.0\n",
       "146           5.0          1.9     2.0\n",
       "147           5.2          2.0     2.0\n",
       "148           5.4          2.3     2.0\n",
       "149           5.1          1.8     2.0\n",
       "\n",
       "[150 rows x 3 columns]"
      ]
     },
     "execution_count": 29,
     "metadata": {},
     "output_type": "execute_result"
    }
   ],
   "source": [
    "pd.DataFrame(np.c_[X, y], columns=(\"petal length\", \"petal_width\", \"target\"))"
   ]
  },
  {
   "cell_type": "markdown",
   "metadata": {},
   "source": [
    "마찬가지로 ```sklearn.linear_model.LogisticRegression```를 이용한다."
   ]
  },
  {
   "cell_type": "code",
   "execution_count": 30,
   "metadata": {},
   "outputs": [],
   "source": [
    "from sklearn.linear_model import LogisticRegression"
   ]
  },
  {
   "cell_type": "code",
   "execution_count": 31,
   "metadata": {},
   "outputs": [
    {
     "data": {
      "text/html": [
       "<style>#sk-container-id-3 {color: black;background-color: white;}#sk-container-id-3 pre{padding: 0;}#sk-container-id-3 div.sk-toggleable {background-color: white;}#sk-container-id-3 label.sk-toggleable__label {cursor: pointer;display: block;width: 100%;margin-bottom: 0;padding: 0.3em;box-sizing: border-box;text-align: center;}#sk-container-id-3 label.sk-toggleable__label-arrow:before {content: \"▸\";float: left;margin-right: 0.25em;color: #696969;}#sk-container-id-3 label.sk-toggleable__label-arrow:hover:before {color: black;}#sk-container-id-3 div.sk-estimator:hover label.sk-toggleable__label-arrow:before {color: black;}#sk-container-id-3 div.sk-toggleable__content {max-height: 0;max-width: 0;overflow: hidden;text-align: left;background-color: #f0f8ff;}#sk-container-id-3 div.sk-toggleable__content pre {margin: 0.2em;color: black;border-radius: 0.25em;background-color: #f0f8ff;}#sk-container-id-3 input.sk-toggleable__control:checked~div.sk-toggleable__content {max-height: 200px;max-width: 100%;overflow: auto;}#sk-container-id-3 input.sk-toggleable__control:checked~label.sk-toggleable__label-arrow:before {content: \"▾\";}#sk-container-id-3 div.sk-estimator input.sk-toggleable__control:checked~label.sk-toggleable__label {background-color: #d4ebff;}#sk-container-id-3 div.sk-label input.sk-toggleable__control:checked~label.sk-toggleable__label {background-color: #d4ebff;}#sk-container-id-3 input.sk-hidden--visually {border: 0;clip: rect(1px 1px 1px 1px);clip: rect(1px, 1px, 1px, 1px);height: 1px;margin: -1px;overflow: hidden;padding: 0;position: absolute;width: 1px;}#sk-container-id-3 div.sk-estimator {font-family: monospace;background-color: #f0f8ff;border: 1px dotted black;border-radius: 0.25em;box-sizing: border-box;margin-bottom: 0.5em;}#sk-container-id-3 div.sk-estimator:hover {background-color: #d4ebff;}#sk-container-id-3 div.sk-parallel-item::after {content: \"\";width: 100%;border-bottom: 1px solid gray;flex-grow: 1;}#sk-container-id-3 div.sk-label:hover label.sk-toggleable__label {background-color: #d4ebff;}#sk-container-id-3 div.sk-serial::before {content: \"\";position: absolute;border-left: 1px solid gray;box-sizing: border-box;top: 0;bottom: 0;left: 50%;z-index: 0;}#sk-container-id-3 div.sk-serial {display: flex;flex-direction: column;align-items: center;background-color: white;padding-right: 0.2em;padding-left: 0.2em;position: relative;}#sk-container-id-3 div.sk-item {position: relative;z-index: 1;}#sk-container-id-3 div.sk-parallel {display: flex;align-items: stretch;justify-content: center;background-color: white;position: relative;}#sk-container-id-3 div.sk-item::before, #sk-container-id-3 div.sk-parallel-item::before {content: \"\";position: absolute;border-left: 1px solid gray;box-sizing: border-box;top: 0;bottom: 0;left: 50%;z-index: -1;}#sk-container-id-3 div.sk-parallel-item {display: flex;flex-direction: column;z-index: 1;position: relative;background-color: white;}#sk-container-id-3 div.sk-parallel-item:first-child::after {align-self: flex-end;width: 50%;}#sk-container-id-3 div.sk-parallel-item:last-child::after {align-self: flex-start;width: 50%;}#sk-container-id-3 div.sk-parallel-item:only-child::after {width: 0;}#sk-container-id-3 div.sk-dashed-wrapped {border: 1px dashed gray;margin: 0 0.4em 0.5em 0.4em;box-sizing: border-box;padding-bottom: 0.4em;background-color: white;}#sk-container-id-3 div.sk-label label {font-family: monospace;font-weight: bold;display: inline-block;line-height: 1.2em;}#sk-container-id-3 div.sk-label-container {text-align: center;}#sk-container-id-3 div.sk-container {/* jupyter's `normalize.less` sets `[hidden] { display: none; }` but bootstrap.min.css set `[hidden] { display: none !important; }` so we also need the `!important` here to be able to override the default hidden behavior on the sphinx rendered scikit-learn.org. See: https://github.com/scikit-learn/scikit-learn/issues/21755 */display: inline-block !important;position: relative;}#sk-container-id-3 div.sk-text-repr-fallback {display: none;}</style><div id=\"sk-container-id-3\" class=\"sk-top-container\"><div class=\"sk-text-repr-fallback\"><pre>LogisticRegression(multi_class=&#x27;multinomial&#x27;)</pre><b>In a Jupyter environment, please rerun this cell to show the HTML representation or trust the notebook. <br />On GitHub, the HTML representation is unable to render, please try loading this page with nbviewer.org.</b></div><div class=\"sk-container\" hidden><div class=\"sk-item\"><div class=\"sk-estimator sk-toggleable\"><input class=\"sk-toggleable__control sk-hidden--visually\" id=\"sk-estimator-id-3\" type=\"checkbox\" checked><label for=\"sk-estimator-id-3\" class=\"sk-toggleable__label sk-toggleable__label-arrow\">LogisticRegression</label><div class=\"sk-toggleable__content\"><pre>LogisticRegression(multi_class=&#x27;multinomial&#x27;)</pre></div></div></div></div></div>"
      ],
      "text/plain": [
       "LogisticRegression(multi_class='multinomial')"
      ]
     },
     "execution_count": 31,
     "metadata": {},
     "output_type": "execute_result"
    }
   ],
   "source": [
    "softmax_reg = LogisticRegression(multi_class = \"multinomial\", solver=\"lbfgs\")\n",
    "softmax_reg"
   ]
  },
  {
   "cell_type": "code",
   "execution_count": 32,
   "metadata": {},
   "outputs": [
    {
     "data": {
      "text/html": [
       "<style>#sk-container-id-4 {color: black;background-color: white;}#sk-container-id-4 pre{padding: 0;}#sk-container-id-4 div.sk-toggleable {background-color: white;}#sk-container-id-4 label.sk-toggleable__label {cursor: pointer;display: block;width: 100%;margin-bottom: 0;padding: 0.3em;box-sizing: border-box;text-align: center;}#sk-container-id-4 label.sk-toggleable__label-arrow:before {content: \"▸\";float: left;margin-right: 0.25em;color: #696969;}#sk-container-id-4 label.sk-toggleable__label-arrow:hover:before {color: black;}#sk-container-id-4 div.sk-estimator:hover label.sk-toggleable__label-arrow:before {color: black;}#sk-container-id-4 div.sk-toggleable__content {max-height: 0;max-width: 0;overflow: hidden;text-align: left;background-color: #f0f8ff;}#sk-container-id-4 div.sk-toggleable__content pre {margin: 0.2em;color: black;border-radius: 0.25em;background-color: #f0f8ff;}#sk-container-id-4 input.sk-toggleable__control:checked~div.sk-toggleable__content {max-height: 200px;max-width: 100%;overflow: auto;}#sk-container-id-4 input.sk-toggleable__control:checked~label.sk-toggleable__label-arrow:before {content: \"▾\";}#sk-container-id-4 div.sk-estimator input.sk-toggleable__control:checked~label.sk-toggleable__label {background-color: #d4ebff;}#sk-container-id-4 div.sk-label input.sk-toggleable__control:checked~label.sk-toggleable__label {background-color: #d4ebff;}#sk-container-id-4 input.sk-hidden--visually {border: 0;clip: rect(1px 1px 1px 1px);clip: rect(1px, 1px, 1px, 1px);height: 1px;margin: -1px;overflow: hidden;padding: 0;position: absolute;width: 1px;}#sk-container-id-4 div.sk-estimator {font-family: monospace;background-color: #f0f8ff;border: 1px dotted black;border-radius: 0.25em;box-sizing: border-box;margin-bottom: 0.5em;}#sk-container-id-4 div.sk-estimator:hover {background-color: #d4ebff;}#sk-container-id-4 div.sk-parallel-item::after {content: \"\";width: 100%;border-bottom: 1px solid gray;flex-grow: 1;}#sk-container-id-4 div.sk-label:hover label.sk-toggleable__label {background-color: #d4ebff;}#sk-container-id-4 div.sk-serial::before {content: \"\";position: absolute;border-left: 1px solid gray;box-sizing: border-box;top: 0;bottom: 0;left: 50%;z-index: 0;}#sk-container-id-4 div.sk-serial {display: flex;flex-direction: column;align-items: center;background-color: white;padding-right: 0.2em;padding-left: 0.2em;position: relative;}#sk-container-id-4 div.sk-item {position: relative;z-index: 1;}#sk-container-id-4 div.sk-parallel {display: flex;align-items: stretch;justify-content: center;background-color: white;position: relative;}#sk-container-id-4 div.sk-item::before, #sk-container-id-4 div.sk-parallel-item::before {content: \"\";position: absolute;border-left: 1px solid gray;box-sizing: border-box;top: 0;bottom: 0;left: 50%;z-index: -1;}#sk-container-id-4 div.sk-parallel-item {display: flex;flex-direction: column;z-index: 1;position: relative;background-color: white;}#sk-container-id-4 div.sk-parallel-item:first-child::after {align-self: flex-end;width: 50%;}#sk-container-id-4 div.sk-parallel-item:last-child::after {align-self: flex-start;width: 50%;}#sk-container-id-4 div.sk-parallel-item:only-child::after {width: 0;}#sk-container-id-4 div.sk-dashed-wrapped {border: 1px dashed gray;margin: 0 0.4em 0.5em 0.4em;box-sizing: border-box;padding-bottom: 0.4em;background-color: white;}#sk-container-id-4 div.sk-label label {font-family: monospace;font-weight: bold;display: inline-block;line-height: 1.2em;}#sk-container-id-4 div.sk-label-container {text-align: center;}#sk-container-id-4 div.sk-container {/* jupyter's `normalize.less` sets `[hidden] { display: none; }` but bootstrap.min.css set `[hidden] { display: none !important; }` so we also need the `!important` here to be able to override the default hidden behavior on the sphinx rendered scikit-learn.org. See: https://github.com/scikit-learn/scikit-learn/issues/21755 */display: inline-block !important;position: relative;}#sk-container-id-4 div.sk-text-repr-fallback {display: none;}</style><div id=\"sk-container-id-4\" class=\"sk-top-container\"><div class=\"sk-text-repr-fallback\"><pre>LogisticRegression(multi_class=&#x27;multinomial&#x27;)</pre><b>In a Jupyter environment, please rerun this cell to show the HTML representation or trust the notebook. <br />On GitHub, the HTML representation is unable to render, please try loading this page with nbviewer.org.</b></div><div class=\"sk-container\" hidden><div class=\"sk-item\"><div class=\"sk-estimator sk-toggleable\"><input class=\"sk-toggleable__control sk-hidden--visually\" id=\"sk-estimator-id-4\" type=\"checkbox\" checked><label for=\"sk-estimator-id-4\" class=\"sk-toggleable__label sk-toggleable__label-arrow\">LogisticRegression</label><div class=\"sk-toggleable__content\"><pre>LogisticRegression(multi_class=&#x27;multinomial&#x27;)</pre></div></div></div></div></div>"
      ],
      "text/plain": [
       "LogisticRegression(multi_class='multinomial')"
      ]
     },
     "execution_count": 32,
     "metadata": {},
     "output_type": "execute_result"
    }
   ],
   "source": [
    "softmax_reg.fit(X, y)"
   ]
  },
  {
   "cell_type": "code",
   "execution_count": 33,
   "metadata": {},
   "outputs": [
    {
     "data": {
      "text/plain": [
       "(array([ 11.12767979,   3.22717485, -14.35485463]),\n",
       " array([[-2.74866104, -1.16890756],\n",
       "        [ 0.08356447, -0.90803047],\n",
       "        [ 2.66509657,  2.07693804]]))"
      ]
     },
     "execution_count": 33,
     "metadata": {},
     "output_type": "execute_result"
    }
   ],
   "source": [
    "softmax_reg.intercept_, softmax_reg.coef_"
   ]
  },
  {
   "cell_type": "code",
   "execution_count": 34,
   "metadata": {},
   "outputs": [
    {
     "data": {
      "text/plain": [
       "array([2])"
      ]
     },
     "execution_count": 34,
     "metadata": {},
     "output_type": "execute_result"
    }
   ],
   "source": [
    "# 인자 : {array-like, sparse matrix} of shape (n_samples, n_features)\n",
    "softmax_reg.predict([[5, 2]]) # petal length 5, petal width 2"
   ]
  },
  {
   "cell_type": "code",
   "execution_count": 35,
   "metadata": {},
   "outputs": [
    {
     "data": {
      "text/plain": [
       "array([[2.43559894e-04, 2.14859516e-01, 7.84896924e-01]])"
      ]
     },
     "execution_count": 35,
     "metadata": {},
     "output_type": "execute_result"
    }
   ],
   "source": [
    "softmax_reg.predict_proba([[5, 2]])"
   ]
  },
  {
   "cell_type": "markdown",
   "metadata": {},
   "source": [
    "<img src=\"data:image/png;base64,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\" width=\"700\">"
   ]
  },
  {
   "cell_type": "markdown",
   "metadata": {},
   "source": [
    "### with sepal length and sepal width"
   ]
  },
  {
   "cell_type": "code",
   "execution_count": 36,
   "metadata": {},
   "outputs": [],
   "source": [
    "X = iris.data[:, :2]  # we only take the first two features.\n",
    "Y = iris.target\n",
    "\n",
    "# Create an instance of Logistic Regression Classifier and fit the data.\n",
    "logreg = LogisticRegression()"
   ]
  },
  {
   "cell_type": "code",
   "execution_count": 37,
   "metadata": {},
   "outputs": [
    {
     "data": {
      "text/html": [
       "<style>#sk-container-id-5 {color: black;background-color: white;}#sk-container-id-5 pre{padding: 0;}#sk-container-id-5 div.sk-toggleable {background-color: white;}#sk-container-id-5 label.sk-toggleable__label {cursor: pointer;display: block;width: 100%;margin-bottom: 0;padding: 0.3em;box-sizing: border-box;text-align: center;}#sk-container-id-5 label.sk-toggleable__label-arrow:before {content: \"▸\";float: left;margin-right: 0.25em;color: #696969;}#sk-container-id-5 label.sk-toggleable__label-arrow:hover:before {color: black;}#sk-container-id-5 div.sk-estimator:hover label.sk-toggleable__label-arrow:before {color: black;}#sk-container-id-5 div.sk-toggleable__content {max-height: 0;max-width: 0;overflow: hidden;text-align: left;background-color: #f0f8ff;}#sk-container-id-5 div.sk-toggleable__content pre {margin: 0.2em;color: black;border-radius: 0.25em;background-color: #f0f8ff;}#sk-container-id-5 input.sk-toggleable__control:checked~div.sk-toggleable__content {max-height: 200px;max-width: 100%;overflow: auto;}#sk-container-id-5 input.sk-toggleable__control:checked~label.sk-toggleable__label-arrow:before {content: \"▾\";}#sk-container-id-5 div.sk-estimator input.sk-toggleable__control:checked~label.sk-toggleable__label {background-color: #d4ebff;}#sk-container-id-5 div.sk-label input.sk-toggleable__control:checked~label.sk-toggleable__label {background-color: #d4ebff;}#sk-container-id-5 input.sk-hidden--visually {border: 0;clip: rect(1px 1px 1px 1px);clip: rect(1px, 1px, 1px, 1px);height: 1px;margin: -1px;overflow: hidden;padding: 0;position: absolute;width: 1px;}#sk-container-id-5 div.sk-estimator {font-family: monospace;background-color: #f0f8ff;border: 1px dotted black;border-radius: 0.25em;box-sizing: border-box;margin-bottom: 0.5em;}#sk-container-id-5 div.sk-estimator:hover {background-color: #d4ebff;}#sk-container-id-5 div.sk-parallel-item::after {content: \"\";width: 100%;border-bottom: 1px solid gray;flex-grow: 1;}#sk-container-id-5 div.sk-label:hover label.sk-toggleable__label {background-color: #d4ebff;}#sk-container-id-5 div.sk-serial::before {content: \"\";position: absolute;border-left: 1px solid gray;box-sizing: border-box;top: 0;bottom: 0;left: 50%;z-index: 0;}#sk-container-id-5 div.sk-serial {display: flex;flex-direction: column;align-items: center;background-color: white;padding-right: 0.2em;padding-left: 0.2em;position: relative;}#sk-container-id-5 div.sk-item {position: relative;z-index: 1;}#sk-container-id-5 div.sk-parallel {display: flex;align-items: stretch;justify-content: center;background-color: white;position: relative;}#sk-container-id-5 div.sk-item::before, #sk-container-id-5 div.sk-parallel-item::before {content: \"\";position: absolute;border-left: 1px solid gray;box-sizing: border-box;top: 0;bottom: 0;left: 50%;z-index: -1;}#sk-container-id-5 div.sk-parallel-item {display: flex;flex-direction: column;z-index: 1;position: relative;background-color: white;}#sk-container-id-5 div.sk-parallel-item:first-child::after {align-self: flex-end;width: 50%;}#sk-container-id-5 div.sk-parallel-item:last-child::after {align-self: flex-start;width: 50%;}#sk-container-id-5 div.sk-parallel-item:only-child::after {width: 0;}#sk-container-id-5 div.sk-dashed-wrapped {border: 1px dashed gray;margin: 0 0.4em 0.5em 0.4em;box-sizing: border-box;padding-bottom: 0.4em;background-color: white;}#sk-container-id-5 div.sk-label label {font-family: monospace;font-weight: bold;display: inline-block;line-height: 1.2em;}#sk-container-id-5 div.sk-label-container {text-align: center;}#sk-container-id-5 div.sk-container {/* jupyter's `normalize.less` sets `[hidden] { display: none; }` but bootstrap.min.css set `[hidden] { display: none !important; }` so we also need the `!important` here to be able to override the default hidden behavior on the sphinx rendered scikit-learn.org. See: https://github.com/scikit-learn/scikit-learn/issues/21755 */display: inline-block !important;position: relative;}#sk-container-id-5 div.sk-text-repr-fallback {display: none;}</style><div id=\"sk-container-id-5\" class=\"sk-top-container\"><div class=\"sk-text-repr-fallback\"><pre>LogisticRegression()</pre><b>In a Jupyter environment, please rerun this cell to show the HTML representation or trust the notebook. <br />On GitHub, the HTML representation is unable to render, please try loading this page with nbviewer.org.</b></div><div class=\"sk-container\" hidden><div class=\"sk-item\"><div class=\"sk-estimator sk-toggleable\"><input class=\"sk-toggleable__control sk-hidden--visually\" id=\"sk-estimator-id-5\" type=\"checkbox\" checked><label for=\"sk-estimator-id-5\" class=\"sk-toggleable__label sk-toggleable__label-arrow\">LogisticRegression</label><div class=\"sk-toggleable__content\"><pre>LogisticRegression()</pre></div></div></div></div></div>"
      ],
      "text/plain": [
       "LogisticRegression()"
      ]
     },
     "execution_count": 37,
     "metadata": {},
     "output_type": "execute_result"
    }
   ],
   "source": [
    "logreg.fit(X, Y)"
   ]
  },
  {
   "cell_type": "code",
   "execution_count": 38,
   "metadata": {},
   "outputs": [
    {
     "data": {
      "text/plain": [
       "(array([ 7.91322129,  1.84504714, -9.75826843]),\n",
       " array([[-2.70890249,  2.32402378],\n",
       "        [ 0.61273259, -1.57058803],\n",
       "        [ 2.0961699 , -0.75343574]]))"
      ]
     },
     "execution_count": 38,
     "metadata": {},
     "output_type": "execute_result"
    }
   ],
   "source": [
    "logreg.intercept_, logreg.coef_"
   ]
  },
  {
   "cell_type": "markdown",
   "metadata": {},
   "source": [
    "입력 변수에 대한 Meshgrid를 생성하여, 각 meshpoint에 대해 class를 예측해 보자.\n",
    "\n",
    "Meshgrid의 모든 point에 대해 class prediction을 하기 위해, ```predict``` 메소드의 인자로 ```np.c_[xx.ravel(), yy.ravel()]```를 대입한 후, 결과를 meshgrid 형태로 ```reshape``` 하였다.\n",
    "\n",
    "* ```ravel()```로 2차원 array를 1차원으로 flat할 수 있다.\n",
    "\n",
    "```for``` loop를 돌려 계산할 수도 있지만, 아래의 방법이 더 빠르다."
   ]
  },
  {
   "cell_type": "code",
   "execution_count": 39,
   "metadata": {},
   "outputs": [
    {
     "data": {
      "text/html": [
       "<div>\n",
       "<style scoped>\n",
       "    .dataframe tbody tr th:only-of-type {\n",
       "        vertical-align: middle;\n",
       "    }\n",
       "\n",
       "    .dataframe tbody tr th {\n",
       "        vertical-align: top;\n",
       "    }\n",
       "\n",
       "    .dataframe thead th {\n",
       "        text-align: right;\n",
       "    }\n",
       "</style>\n",
       "<table border=\"1\" class=\"dataframe\">\n",
       "  <thead>\n",
       "    <tr style=\"text-align: right;\">\n",
       "      <th></th>\n",
       "      <th>0</th>\n",
       "      <th>1</th>\n",
       "      <th>2</th>\n",
       "      <th>3</th>\n",
       "      <th>4</th>\n",
       "      <th>5</th>\n",
       "      <th>6</th>\n",
       "      <th>7</th>\n",
       "      <th>8</th>\n",
       "      <th>9</th>\n",
       "      <th>...</th>\n",
       "      <th>490</th>\n",
       "      <th>491</th>\n",
       "      <th>492</th>\n",
       "      <th>493</th>\n",
       "      <th>494</th>\n",
       "      <th>495</th>\n",
       "      <th>496</th>\n",
       "      <th>497</th>\n",
       "      <th>498</th>\n",
       "      <th>499</th>\n",
       "    </tr>\n",
       "  </thead>\n",
       "  <tbody>\n",
       "    <tr>\n",
       "      <th>0</th>\n",
       "      <td>0</td>\n",
       "      <td>0</td>\n",
       "      <td>0</td>\n",
       "      <td>0</td>\n",
       "      <td>0</td>\n",
       "      <td>0</td>\n",
       "      <td>0</td>\n",
       "      <td>0</td>\n",
       "      <td>0</td>\n",
       "      <td>1</td>\n",
       "      <td>...</td>\n",
       "      <td>2</td>\n",
       "      <td>2</td>\n",
       "      <td>2</td>\n",
       "      <td>2</td>\n",
       "      <td>2</td>\n",
       "      <td>2</td>\n",
       "      <td>2</td>\n",
       "      <td>2</td>\n",
       "      <td>2</td>\n",
       "      <td>2</td>\n",
       "    </tr>\n",
       "    <tr>\n",
       "      <th>1</th>\n",
       "      <td>0</td>\n",
       "      <td>0</td>\n",
       "      <td>0</td>\n",
       "      <td>0</td>\n",
       "      <td>0</td>\n",
       "      <td>0</td>\n",
       "      <td>0</td>\n",
       "      <td>0</td>\n",
       "      <td>0</td>\n",
       "      <td>0</td>\n",
       "      <td>...</td>\n",
       "      <td>2</td>\n",
       "      <td>2</td>\n",
       "      <td>2</td>\n",
       "      <td>2</td>\n",
       "      <td>2</td>\n",
       "      <td>2</td>\n",
       "      <td>2</td>\n",
       "      <td>2</td>\n",
       "      <td>2</td>\n",
       "      <td>2</td>\n",
       "    </tr>\n",
       "    <tr>\n",
       "      <th>2</th>\n",
       "      <td>0</td>\n",
       "      <td>0</td>\n",
       "      <td>0</td>\n",
       "      <td>0</td>\n",
       "      <td>0</td>\n",
       "      <td>0</td>\n",
       "      <td>0</td>\n",
       "      <td>0</td>\n",
       "      <td>0</td>\n",
       "      <td>0</td>\n",
       "      <td>...</td>\n",
       "      <td>2</td>\n",
       "      <td>2</td>\n",
       "      <td>2</td>\n",
       "      <td>2</td>\n",
       "      <td>2</td>\n",
       "      <td>2</td>\n",
       "      <td>2</td>\n",
       "      <td>2</td>\n",
       "      <td>2</td>\n",
       "      <td>2</td>\n",
       "    </tr>\n",
       "    <tr>\n",
       "      <th>3</th>\n",
       "      <td>0</td>\n",
       "      <td>0</td>\n",
       "      <td>0</td>\n",
       "      <td>0</td>\n",
       "      <td>0</td>\n",
       "      <td>0</td>\n",
       "      <td>0</td>\n",
       "      <td>0</td>\n",
       "      <td>0</td>\n",
       "      <td>0</td>\n",
       "      <td>...</td>\n",
       "      <td>2</td>\n",
       "      <td>2</td>\n",
       "      <td>2</td>\n",
       "      <td>2</td>\n",
       "      <td>2</td>\n",
       "      <td>2</td>\n",
       "      <td>2</td>\n",
       "      <td>2</td>\n",
       "      <td>2</td>\n",
       "      <td>2</td>\n",
       "    </tr>\n",
       "    <tr>\n",
       "      <th>4</th>\n",
       "      <td>0</td>\n",
       "      <td>0</td>\n",
       "      <td>0</td>\n",
       "      <td>0</td>\n",
       "      <td>0</td>\n",
       "      <td>0</td>\n",
       "      <td>0</td>\n",
       "      <td>0</td>\n",
       "      <td>0</td>\n",
       "      <td>0</td>\n",
       "      <td>...</td>\n",
       "      <td>2</td>\n",
       "      <td>2</td>\n",
       "      <td>2</td>\n",
       "      <td>2</td>\n",
       "      <td>2</td>\n",
       "      <td>2</td>\n",
       "      <td>2</td>\n",
       "      <td>2</td>\n",
       "      <td>2</td>\n",
       "      <td>2</td>\n",
       "    </tr>\n",
       "    <tr>\n",
       "      <th>...</th>\n",
       "      <td>...</td>\n",
       "      <td>...</td>\n",
       "      <td>...</td>\n",
       "      <td>...</td>\n",
       "      <td>...</td>\n",
       "      <td>...</td>\n",
       "      <td>...</td>\n",
       "      <td>...</td>\n",
       "      <td>...</td>\n",
       "      <td>...</td>\n",
       "      <td>...</td>\n",
       "      <td>...</td>\n",
       "      <td>...</td>\n",
       "      <td>...</td>\n",
       "      <td>...</td>\n",
       "      <td>...</td>\n",
       "      <td>...</td>\n",
       "      <td>...</td>\n",
       "      <td>...</td>\n",
       "      <td>...</td>\n",
       "      <td>...</td>\n",
       "    </tr>\n",
       "    <tr>\n",
       "      <th>345</th>\n",
       "      <td>0</td>\n",
       "      <td>0</td>\n",
       "      <td>0</td>\n",
       "      <td>0</td>\n",
       "      <td>0</td>\n",
       "      <td>0</td>\n",
       "      <td>0</td>\n",
       "      <td>0</td>\n",
       "      <td>0</td>\n",
       "      <td>0</td>\n",
       "      <td>...</td>\n",
       "      <td>2</td>\n",
       "      <td>2</td>\n",
       "      <td>2</td>\n",
       "      <td>2</td>\n",
       "      <td>2</td>\n",
       "      <td>2</td>\n",
       "      <td>2</td>\n",
       "      <td>2</td>\n",
       "      <td>2</td>\n",
       "      <td>2</td>\n",
       "    </tr>\n",
       "    <tr>\n",
       "      <th>346</th>\n",
       "      <td>0</td>\n",
       "      <td>0</td>\n",
       "      <td>0</td>\n",
       "      <td>0</td>\n",
       "      <td>0</td>\n",
       "      <td>0</td>\n",
       "      <td>0</td>\n",
       "      <td>0</td>\n",
       "      <td>0</td>\n",
       "      <td>0</td>\n",
       "      <td>...</td>\n",
       "      <td>2</td>\n",
       "      <td>2</td>\n",
       "      <td>2</td>\n",
       "      <td>2</td>\n",
       "      <td>2</td>\n",
       "      <td>2</td>\n",
       "      <td>2</td>\n",
       "      <td>2</td>\n",
       "      <td>2</td>\n",
       "      <td>2</td>\n",
       "    </tr>\n",
       "    <tr>\n",
       "      <th>347</th>\n",
       "      <td>0</td>\n",
       "      <td>0</td>\n",
       "      <td>0</td>\n",
       "      <td>0</td>\n",
       "      <td>0</td>\n",
       "      <td>0</td>\n",
       "      <td>0</td>\n",
       "      <td>0</td>\n",
       "      <td>0</td>\n",
       "      <td>0</td>\n",
       "      <td>...</td>\n",
       "      <td>2</td>\n",
       "      <td>2</td>\n",
       "      <td>2</td>\n",
       "      <td>2</td>\n",
       "      <td>2</td>\n",
       "      <td>2</td>\n",
       "      <td>2</td>\n",
       "      <td>2</td>\n",
       "      <td>2</td>\n",
       "      <td>2</td>\n",
       "    </tr>\n",
       "    <tr>\n",
       "      <th>348</th>\n",
       "      <td>0</td>\n",
       "      <td>0</td>\n",
       "      <td>0</td>\n",
       "      <td>0</td>\n",
       "      <td>0</td>\n",
       "      <td>0</td>\n",
       "      <td>0</td>\n",
       "      <td>0</td>\n",
       "      <td>0</td>\n",
       "      <td>0</td>\n",
       "      <td>...</td>\n",
       "      <td>2</td>\n",
       "      <td>2</td>\n",
       "      <td>2</td>\n",
       "      <td>2</td>\n",
       "      <td>2</td>\n",
       "      <td>2</td>\n",
       "      <td>2</td>\n",
       "      <td>2</td>\n",
       "      <td>2</td>\n",
       "      <td>2</td>\n",
       "    </tr>\n",
       "    <tr>\n",
       "      <th>349</th>\n",
       "      <td>0</td>\n",
       "      <td>0</td>\n",
       "      <td>0</td>\n",
       "      <td>0</td>\n",
       "      <td>0</td>\n",
       "      <td>0</td>\n",
       "      <td>0</td>\n",
       "      <td>0</td>\n",
       "      <td>0</td>\n",
       "      <td>0</td>\n",
       "      <td>...</td>\n",
       "      <td>2</td>\n",
       "      <td>2</td>\n",
       "      <td>2</td>\n",
       "      <td>2</td>\n",
       "      <td>2</td>\n",
       "      <td>2</td>\n",
       "      <td>2</td>\n",
       "      <td>2</td>\n",
       "      <td>2</td>\n",
       "      <td>2</td>\n",
       "    </tr>\n",
       "  </tbody>\n",
       "</table>\n",
       "<p>350 rows × 500 columns</p>\n",
       "</div>"
      ],
      "text/plain": [
       "     0    1    2    3    4    5    6    7    8    9    ...  490  491  492  \\\n",
       "0      0    0    0    0    0    0    0    0    0    1  ...    2    2    2   \n",
       "1      0    0    0    0    0    0    0    0    0    0  ...    2    2    2   \n",
       "2      0    0    0    0    0    0    0    0    0    0  ...    2    2    2   \n",
       "3      0    0    0    0    0    0    0    0    0    0  ...    2    2    2   \n",
       "4      0    0    0    0    0    0    0    0    0    0  ...    2    2    2   \n",
       "..   ...  ...  ...  ...  ...  ...  ...  ...  ...  ...  ...  ...  ...  ...   \n",
       "345    0    0    0    0    0    0    0    0    0    0  ...    2    2    2   \n",
       "346    0    0    0    0    0    0    0    0    0    0  ...    2    2    2   \n",
       "347    0    0    0    0    0    0    0    0    0    0  ...    2    2    2   \n",
       "348    0    0    0    0    0    0    0    0    0    0  ...    2    2    2   \n",
       "349    0    0    0    0    0    0    0    0    0    0  ...    2    2    2   \n",
       "\n",
       "     493  494  495  496  497  498  499  \n",
       "0      2    2    2    2    2    2    2  \n",
       "1      2    2    2    2    2    2    2  \n",
       "2      2    2    2    2    2    2    2  \n",
       "3      2    2    2    2    2    2    2  \n",
       "4      2    2    2    2    2    2    2  \n",
       "..   ...  ...  ...  ...  ...  ...  ...  \n",
       "345    2    2    2    2    2    2    2  \n",
       "346    2    2    2    2    2    2    2  \n",
       "347    2    2    2    2    2    2    2  \n",
       "348    2    2    2    2    2    2    2  \n",
       "349    2    2    2    2    2    2    2  \n",
       "\n",
       "[350 rows x 500 columns]"
      ]
     },
     "execution_count": 39,
     "metadata": {},
     "output_type": "execute_result"
    }
   ],
   "source": [
    "x_min, x_max = 3.5, 8.5\n",
    "y_min, y_max = 1.5, 5\n",
    "h = 0.01  # step size in the mesh\n",
    "xx, yy = np.meshgrid(np.arange(x_min, x_max, h), np.arange(y_min, y_max, h))\n",
    "\n",
    "Z = logreg.predict(np.c_[xx.ravel(), yy.ravel()])   # raval : Return a contiguous flattened array.\n",
    "\n",
    "Z = Z.reshape(xx.shape)\n",
    "pd.DataFrame(Z)"
   ]
  },
  {
   "cell_type": "markdown",
   "metadata": {},
   "source": [
    "아래 코드에서 ```pcolormesh```로 컬러맵을 작성하였다.  \n",
    "\n",
    "Scatter plot은 훈련에 사용한 관찰값들이다."
   ]
  },
  {
   "cell_type": "code",
   "execution_count": 40,
   "metadata": {},
   "outputs": [
    {
     "data": {
      "image/png": "[encoded data removed]",
      "text/plain": [
       "<Figure size 720x576 with 1 Axes>"
      ]
     },
     "metadata": {
      "needs_background": "light"
     },
     "output_type": "display_data"
    }
   ],
   "source": [
    "plt.figure(1, figsize=(10, 8))\n",
    "plt.pcolormesh(xx, yy, Z, cmap=plt.cm.Accent)\n",
    "\n",
    "plt.scatter(X[Y==0, 0], X[Y==0, 1], edgecolors=\"k\", marker=\"o\", color=\"green\", label='setosa')\n",
    "plt.scatter(X[Y==1, 0], X[Y==1, 1], edgecolors=\"k\", marker=\"^\", color=\"blue\", label='versicolor')\n",
    "plt.scatter(X[Y==2, 0], X[Y==2, 1], edgecolors=\"k\", marker=\"s\", color=\"grey\", label='virginica')\n",
    "\n",
    "plt.xlabel(\"Sepal length\")\n",
    "plt.ylabel(\"Sepal width\")\n",
    "\n",
    "plt.legend()\n",
    "\n",
    "plt.show()"
   ]
  },
  {
   "cell_type": "markdown",
   "metadata": {},
   "source": [
    "## Linear discriminant analysis\n",
    "\n",
    "이전의 regression 방법은 $\\mathbb P (Y=k | X=x)$의 확률을 계산하는 것이었다.\n",
    "\n",
    "Linear distcriminat analysis에서는 주어진 $Y$에 대해 $X$의 분포를 추정한다.\n",
    "\n",
    "만약 $X$의 분포가 정규분포라고 하면, 이 방법은 logistic regression과 매우 흡사하다.\n",
    "\n",
    "다음의 상황에서 linear discriminant analysis가 유용하게 사용될 수 있다.\n",
    "\n",
    "* 클래스들이 잘 분리되어 있을 때, logistic regression의 모수 추정은 불안정한 경우가 많다. 이 경우 LDA가 더 좋다.\n",
    "\n",
    "* 데이터의 개수가 상대적으로 작고, $X$의 분포가 정규분포와 흡사할 때, LDA가 logistic regression 보다 잘 작동하는 경우가 많다.\n",
    "\n",
    "* 2개 이상의 클래스가 있을 때, LDA는 유용하게 사용될 수 있다."
   ]
  },
  {
   "cell_type": "markdown",
   "metadata": {},
   "source": [
    "LDA는 Bayes 정리를 기반으로 한다.\n",
    "\n",
    "$Y$가 $K$개의 클래스를 가질 수 있다고 하자.\n",
    "\n",
    "$\\pi_k$를 임의로 선택한 관찰 결과가 $k$에 속하게 될, 사전 확률 (prior probability)이라고 하자.\n",
    "\n",
    "* 즉, 이 확률은 $X$에 대한 정보 없이 결정된 확률이다.\n",
    "\n",
    "$Y$가 $k$의 클래스에 속할 때, $X$의 확률밀도함수를 다음과 같이 정의하자.\n",
    "\n",
    "$$ f_k(X) = \\mathbb P (X=x | Y=k) $$\n",
    "\n",
    "Bayes 정리에 따르면,\n",
    "\n",
    "$$ \\mathbb P(Y = k | X = x) = \\frac{\\pi_k f_k(x)}{\\sum_{l=1}^{K} \\pi_l f_l(x)} $$\n",
    "\n",
    "한편, $p_k(x) = \\mathbb P(Y = k | X = x)$라고 하겠다. 이를 사후 확률, posterior probability 라고도 한다.\n",
    "\n",
    "이전에는 $p_k$를 직접 계산하는 것이 목표였다면, LDA에서는 $\\pi$들과 $f$들을 추정하여, $p_k$를 추정한다.\n",
    "\n",
    "* $\\pi_k$는 추정이 쉽다.\n",
    "\n",
    "* 반면, $f_k$의 추정은 더 어려운 문제이다.\n",
    "\n"
   ]
  },
  {
   "cell_type": "markdown",
   "metadata": {},
   "source": [
    "### Linear Discriminant Analysis when $p = 1$\n",
    "\n",
    "$Y$가 $k$의 클래스에 속할 때, $X$의 확률밀도함수 $f_k$를 정규분포로 가정해 보자.\n",
    "\n",
    "$$ f_k(x) = \\frac{1}{\\sqrt{2 \\pi} \\sigma_k} e^{ -\\frac{1}{2} \\left( \\frac{x - \\mu_k}{\\sigma_k} \\right)^2 } $$\n",
    "\n",
    "여기서 $\\mu_k$는 평균, $\\sigma_k^2$은 분산이다.\n",
    "\n",
    "편의를 위해 $\\sigma_k = \\sigma$로 가정하겠다.\n",
    "\n",
    "Bayes 정리 식에 따르면 $p_k(x) = \\mathbb P (Y = k | X = x)$에 대한 다음의 다소 복잡한 식을 얻는다.\n",
    "\n",
    "$$ p_k (x) = \\frac{\\pi_k \\frac{1}{\\sqrt{2 \\pi} \\sigma} e^{-\\frac{1}{2}\\left( \\frac{x - \\mu_k}{\\sigma} \\right)^2}}{\\sum_{l=1}^{K} \\pi_l \\frac{1}{\\sqrt{2 \\pi} \\sigma} e^{-\\frac{1}{2}\\left( \\frac{x - \\mu_l}{\\sigma} \\right)^2}} $$\n",
    "\n",
    "$X=x$에서의 분류를 위하여 어떤 $p_k (x)$가 가장 큰지 알아봐야 한다.\n",
    "\n",
    "위 식에 로그를 취하고, 불필요한 항을 제거하면, discriminant score라 불리우는 다음의 값을 얻는다.\n",
    "\n",
    "$$ \\delta_k (x) = x \\frac{\\mu_k}{\\sigma^2} - \\frac{\\mu_k^2}{2 \\sigma^2} + \\log (\\pi_k) $$\n",
    "\n",
    "$p_k$ 중 어느 것이 가장 큰지를 찾는 것과 $\\delta_k$ 중 어느 것이 가장 큰지 찾는 문제는 동치이다.\n",
    "\n",
    "$\\delta_k$는 $x$의 선형 함수임을 주목하라.\n",
    "\n",
    "예들들어 만약 $K=2$이고, $\\pi_1 = \\pi_2 = 0.5$이면 결정 경계는 다음과 같다.\n",
    "\n",
    "$$ x = \\frac{\\mu_1 + \\mu_2}{2} $$\n",
    "\n",
    "실제로는 모수의 값들을 알지 못하기 때문에 다음으로 추정하여 사용한다.\n",
    "\n",
    "\\begin{align*}\n",
    "\\hat \\pi_k &= \\frac{n_k}{n} \\\\\n",
    "\\hat \\mu_k &= \\frac{1}{n_k} \\sum_{i:y_i=k} x_i \\\\\n",
    "\\hat \\sigma^2 &= \\frac{1}{n-K} \\sum_{k=1}^{K} \\sum_{i:y_i=k}(x_i - \\hat \\mu_k)^2\n",
    "\\end{align*}\n"
   ]
  },
  {
   "cell_type": "markdown",
   "metadata": {},
   "source": [
    "### Linear Discriminant Analysis when $p > 1$\n",
    "\n",
    "다변량 정규분포를 이용하여 $p>1$인 경우로 확장가능하다.\n",
    "\n",
    "다변량 정규분포의 확률밀도함수는 다음으로 정의된다.\n",
    "\n",
    "$$ f(X) = \\frac{1}{(2\\pi)^{p/2} |\\Sigma|^{1/2}} \\exp \\left(-\\frac{1}{2} (x - \\mu)^{\\top} \\Sigma^{-1} (x - \\mu) \\right) $$\n",
    "\n",
    "여기서 $\\mu$는 평균으로 이루어진 벡터, $\\Sigma$는 공분산 행렬, $|\\Sigma|$는 행렬식 (determinant)을 의미한다. \n",
    "\n",
    "LDA에서는 $k$번째 클래스에 대응되는 $X$의 분포가 $N(\\mu_k, \\Sigma)$를 따른다고 가정한다. $X$의 크기에 따라 $\\mu_k$ 또한 벡터로 표현됨을 주목하라.\n",
    "\n",
    "이를 이용하여 discriminant score를 계산하면,\n",
    "\n",
    "$$ \\delta_k (x) = x^{\\top} \\Sigma^{-1} \\mu_k - \\frac{1}{2} \\mu_k^{\\top} \\Sigma^{-1} \\mu_k + \\log \\pi_k $$\n",
    "\n",
    "이며, 따라서, $X=x$의 관찰값에 대해 $\\delta_k$의 값이 가장 큰 클래스를 선정한다.\n",
    "\n",
    "비록 $\\delta_k$는 복잡해 보여도 $x$들에 대한 선형함수이다.\n",
    "\n",
    "아래는 $\\pi_1 = \\pi_2 = \\pi_3 = 1/3$에 대한 LDA 경계선의 예제이다.\n",
    "\n",
    "점선은 Bayes decision boundary 이고, 실선이 정규분포를 바탕으로 한 LDA boundary이다. "
   ]
  },
  {
   "cell_type": "markdown",
   "metadata": {},
   "source": [
    "<img src=\"data:image/png;base64,iVBORw0KGgoAAAANSUhEUgAAA+wAAAHgCAIAAACw5nCNAAAAAXNSR0IArs4c6QAAAARnQU1BAACxjwv8YQUAAAAJcEhZcwAADsMAAA7DAcdvqGQAAP+lSURBVHhe7L1reBzVmS7a/Oc559k/zp6Zc84+k4EkM5O92WHwePaZ2TlDbkMmziSeCySQCRmSMQGyMQkJgiRgIBgRHIidIByCk2AExgbbssE3LF9lJGz5Kt8wNLaxJVm2JVmWZVuyscFz3tZXevtT9VpVfaluVUnrfeppvb169VqvVlW96+uqr1en/sPBwcHBwcHBwcHBIVFwQbyDg4ODg4ODg4NDwuCCeAcHBwcHBwcHB4eEwQXxDg4ODg4ODg4ODgmDC+IdHBwcHBwcHBwcEgYXxDs4ODg4ODg4ODgkDC6Id3BwcHBwcHBwcEgYXBDv4ODg4ODg4ODgkDC4IN7BwcHBwcHBwcEhYXBBvIODg4ODg4ODg0PC4IJ4BwcHBwcHBwcHh4TBBfEODg4ODg4ODg4OCYML4h0cHBwcHBwcHBwSBhfEOzg4ODg4ODg4OCQMLoh3cHBwcHBwcHBwSBhcEO/g4ODg4ODg4OCQMLgg3sHBwcHBwcHBwSFhcEG8g4ODg4ODg4ODQ8LggngHBwcHBwcHBweHhMEF8Q4ODg4ODg4ODg4JgwviHRwcHBwcHBwcHBIGF8Q7ODg4ODg4ODg4JAwuiHdwcHBwcHBwcHBIGFwQ7+Dg4ODg4ODg4JAwuCDewcHBwcHBwcHBIWFwQbyDg4ODg4ODg4NDwuCCeAcHBwcHBwcHB4eEwQXxDg4ODg4ODg4ODgmDC+IdHBwcHBwcHBwcEgYXxBeGlIODg0OB8OzDIVHwdp6Dg4NDIbh06ZJnIuWHm10KA3aPxxwcHBzsaG9vHz9+vHi6V+SQKLgd5+DgkCdqamrE7QEXxMcXv5nsjdiHFwZ6dtQKv9jfQ/5+b3vfOyuEn+/ef/rAWuFnW5uxCUchXhKOyniLcDSiObrI5V2N04RrAT4xJzbPFB4ghrwUMeQ2MZprMeAUoIVpMeAU4BNGASd3zSO3iUEd8lLE2EYpV4DmeMQuk0ItQHO0pjmFaTF5Hj/Y++S5YoBQMZU8fip2MPuEGcWQ+8QUd/wwgp80aRIe5VWHZOGRm1NFHzZG7jtsjMezPoZtxzMajORMJ7eJidB2hAeICT3TNbeJ8QkziiG3idG8UDHgoWKimraMwnxiyCMfmQofP0IqICZ0lIwH87NPT3+hKhO+P/PMMy6IjzV+cWs2iO/ds5D89MEG4TgCyHGU8KAB50GDQnJU5kEDzgMFjZOf2reEnEenTwDqkBvFgIeKAY+tGKMwLUaL1MK0GC3SJsYmLFlitACbGC3AJoY8QIxNmFGAHqVReTCD6wh+YGDABfEJRdX12SBeH0L6sNGH0+iwHZ8wLcYmzChAC0vcmc7yADHkAWLIbWJ0+eg4fiopRnMtxiZMi7EJMwrQwnKPn5qamquvSNV814vgARfExxduPnZwcAiGjuDx1JlGQuF2nIODQzDq6+thFAAjeMAF8fEFdo/HHBwcHEyoqqqqrq6WCB5wppFQuB3n4OAQjKamJhg+I3jJjHdBfHzBnHidw+fLxyI/q7J1wXlbB4XkqMxbOZqjcSaKMQdLczwaE8W0MC3m/PDkMHItps+SHKbFoLx0MeChYsBDxejkQpsYJheWKIZ332xiUB4qhp0GiOHdOi0GPFQMOMVoYRQjXIgWpsXYhPnEkINQWMWOn0oezAUdPxrb2gb2Hj0PAk+XEodkAW5f9GHDwyPgsDGe6foYBi/rma7FkGsx4FoMeRFihGsx4FqMcZRiNW3lIwY8VExU01bRx08kIwMeKgZciyHXYsApRgujGOFCtLAAMeRFiDGOkk+McIpBHP8HH7/my4/MRwSPpy6IjzUeudkbMew/HgTgzMHS5TgaeAqBaM4DBZXlgAjgPAoBI9ed2rgW4xM2ImI0t4kJFaYz1WxidNocO9U8HzHlHqVIjh+dz2cTQ6sFihbjE1bWkTHySoop6PjRaO+90Hn6IogL4hOKqutTxsOm0EPIeNhobjuGbcdzxc50EKOwQsVEMjI+YUYxNp6PmEhmClQIFeamrWGdxulgtvGAkUEED4dHEP/YbE+kC+JjDTcfOzg4FARnGgmF23EODg4BQAR/2WWXwSjkGrzABfGxhrN1BweHguBMI6FwO87BwcEGrkKmI3jABfGxxvJHvBG72N9zbPW95N3N3l7s72g5sWWW8LOtzczNOn2wgbd7UMjbPaiMtwhHI7zFg8aZj6X58XVT5BaPT4DmTBoLEMP7UyChYtBgsBg8gkuhTQxa06NkE6NHKVTM8XUPhIpBHfLujTOE28RgKGxi9CiFjkxnw9TQkbGJKeX4MYrx7TIhPjGaF3T8BIjhKAWIkVHKRwxaCxWjd5lNjG2X5XP8aDHcZRot7QObDvULB8FTEBcLJhQ6J77cZ3pBthPVmW4To08umxh9chkF+MREfqbbxITuMtuZbhPDUQoQo0cpVEyh05ZRTCnHj21kCjqYMzxMDJTYxBR6/AhBiRYzTFhEBzNHKUAMxgcR/F9/dsLXatZLBN937oNZzb1SwQXxscZtE7Ijdq4rLQR7lAcBOA8CzUE0x0u5HI2Qs3FA8zOHmjxmqYMWEi1Gc6MYmzAtZtSPEjvV3InRAjQvhxhw+HhVVVVtrTdJAJ2nL0oevOYuiE8odE78qD+e2anmIJqzU80TLcYoDC1oMUZhPjGaG8XYhEUiRnObGM1tYmzCjHXQwlgTA6uH4bduW8xr8D//nbdqPtB68oIQF8THGm4+dnBwAOjj1dXVXpEFzjQSCrfjHBwcBLJ2JLBlyxbfL4H4gJdcEB9fYPd4zMHBYayCEbzNxzWcaSQUbsc5ODgAiODlC6yLFy8OdX686oL4+GLdNG/ELvb3dCyfJPz93nbmbPV3tDCD7fTBBq5j2rtnIX+vGIXMzUJl3gYC5x0cNM4cLB+X2z1aAPjRFbeTH6u/W7gWc7a1mWLQOxPFtJjujTNCxaAjLUY4Hm1iWK7FgGsx5FoMuBZDPkzMysnkVjErJ5OXIoYpdFYxppHBzhomxjQyGGcthlyLwcGjxZBrMTgIcwUYOXo827alve7LvXvrsOFgaFvwefIji/4ZFbCdeutVoxjwqI6fih3M5AFihONxmJic48cXwac7zy/e0yd1WtoHyEFcTnyi8cI9qfwPm6jOdBzMPIb18ayPYZzpTAzQwjRvm/85IVqA5mjBeHJpMflMW2gkVAy48UzXvJLTVqjtsDxADLkWA67FkA8TE9G0xfR0LcZ3/BinLQx1rgDNfQezkWOnazHkWkw+01Y+x0/FDmbw3OMHEfymGanrxnkR/L89v3PSd78P5+8798GMRk8h+FNNJ4W7ID7WuPHa7IjxyAN4tOHot3ExDgCFNi4E0I0bOwJC6/gEaG4ToLkQwNZRQdwnwMh9Aoy8aAEAuU2A5jYBmufTKRsEQuvYxIAbBfi4EEAaxyPs6cSWWd3NNcdWV7XOG3/o+VShG96F93a/OR0OKM0WJ0Zg/K+B0Dpo2cZtAozc1lH+vKqqSl+JOX/xEhx88PVhHARPQVwQn1Bg2i7osOExCYTWQcs2zk71cevjQgAnxseFAKWIIfcJMHIQmxjy0I6AUG4ToLlNgI8LAWydFlTHJgbcJkBzIUAMxaTTaRg4Ar/FixfJtZtbv38/r8HzG1AAuQviYw03HzvEGfAgRO09O2oRdvticW4SlGPr3FAtV999m0T82NoXTfS9Vza81Jeu1wY6plBbW1tdXW27l5oLZxoJhdtxDg5jHLJ6QT5ZNIQL4mMNZ+sOccOHg1/MR+SdG3NLvI64HDH3ua60vsyQPxCs471oBEG/71o+esQHhjEbzecJZxoJhdtxDg4OBX0DCnBBfKzBnHgELkyhA2c+FsIdrl16at8S5vDpfCwU8keVUZk5WGiEHI0zNmpbcB1v97TN/5xwPKJcChGcsVMtTIs5qxZM1cK0mO6NM7JilDAtBjwrZkhYoWIyOR5DmWo2MajATDWrGJVcaBPD5MJSxIAzudAmBuVmMUP5fOAU4Bejjh9mOmoxvuMHYtACyOGX/ruOqrFJ1H5k8fUDR/dIfYrJcCWGo6TFgDPRUI8SxeB/7NzwaPvi632dZj5I6OPHcjCDZ8VYdhk79Y/SUHklD2YePxqtJy9wVWCdE9/0Xv/Kt88IB8FTEBcLJhTLH0nZDhvzmT502IDzuLUdw+DGM10fw+BG28HJRTEozxWT4Xmc6VFNW3pkyIeJGeJaTIXP9OBdljnTw3YZxMRq2go9fiDGePxoMSgPFgNuHBnwIqYt4VpMXsdPxQ7mnFGSCP6bz+2QPHiUP7SmW/Ik8Qgu0XqfWyc+KbhuXHbEeOgDRo4DjkehjYc2AkTCbQI0L7pxoCCOHjW3idFcCKA5T3ig6DroRXN2auO2jiLnRgH4d05s/W173T/oGLpj2SQE7mfbtkhloOhOASPPFYPtzKGmzoaHKaN94QQu6Ft0R0AozxWTy4tuHNBcHz8axjx4cPF3zV0Qn1DY3D4f2ymI245hzYtuHCiI2wRoXnTjQEHcJkDzfBqs2EyBCpoLATSPlZjIuU2M5kU3DhTEbQI0D2iE1+Bv/f79/f3er/jR7QEjd0F8rOHmY4cRAQwFYbpOmGmdN767uaZf/TjFSEG0MdMGInkxwwFwppFQuB3n4DBmUWgWDeGC+FjD2bpDJYEA/cyhpmPqW6qM3b0asYFIZSgPzfpi0liGM42Ewu04B4exiaIjeMAF8bHGzpneiF3s79G5WczHGkwwmCr89IG1XK9U52OhEC8JR2VmIKARXsJE47yzM4wP5cRrAT4xzGkOEMNEMZBQMUeHJxTmisHjkcU3SKFNDFrTo2QTo0fJKAYNMjpsXzjBKIYpdHgVdciZQmcTg6GwidGjZBSjR+bIazcZxehdZhMjuyxTYeXkwy/83wzfj7z2dYndfWL0KBnF+HaZEJ8Y8kKPH5+Y0/vX9u6tE8GHX7qqL12P8gAxMkoowYhJoU0MRilUDIhtZPQuCxbDXUYfH3w9s4IYVwVuPXnhmU3eqsC7Os7N23FK+Pr9Z3VOPJ6CuFgwodA58eU70wEctAXZju1MpxggnzPdJkafXDYxhdoOR6mSZ7pZmGWmsInhKAWI0aMUKqagacsmppTjxzYyBR3MaCFUDJSEikEjRjG+XSbEJ4Y8QIzeZTYxsstqamoafp7av62eefBcTfKhNd2nhrJlpqzO5sQ/3nBCCvvOfYA6wl0QH2tcfUV2xORwF/BoA3Q5OYjmQgDNQxsBIqkDorkQQPNyiDHWB7FxIUBoI0A+dWz1jXVANBcCaB5JR4Cuc7a1WV96b180MbOe46kjrB9VR0XXAdFcCECOFvAJRPR3bqi2NVgZMUChHYHrKzFeqT0bMjcPXnMXxCcUtpz4qA4zYx0QzYUAmjsxxgqAbsTWYCR1QGxcCBBJR0A+dbQAzYUAmoc2AkRSB0RzIYDmMRGDCB5GjVN+y5Ytf/VXf5Vx/qFvsgJ0dcDo/AC5C+JjDTcfO5QJsJIzh5p01nt3cw0vVyQR+Owh/wj+KV5rSQRKuZeaC2caCYXbcQ4OYwESwQMFrQdvA97ugvj4wnYlPpSDaC4EGHFe9BuByHnRbwQi50W/ESiIg5zcNY/Z5K1zx/XurZPrCrqOECBWPLgCYnf5WIL/TuL44PqConnRbwTIfRG88VoLEMpJ0JQQh2ShaLcHiuZFvxEolFfsSmrkvOg3ApHzot8IRM6LfiMQOS/6jYDmZb0S/+zT02HRwNq1ayd99/sgJTo/WnBBfHwxLCd+KE8L0cnxdVOEnznURN73zgqdj4WnwlFIjsqSjyWcV17ROA9KzY8svkGOPy3Ax5lCp8Xo5DD0zqw1LYbJYYBVzPBMNeE+AcOy1obKtRhwLYZciwHXYsi1GF9yoXDdKbjOiS9FDFPobGKMHDtr2LcF9CgNZkMiXj/80lW8Yn1i8zPH1vxY6mgx+Rw/x+rvDhYDBIghNx4/Wgy48fjRYsDl+MH/ePiF/1PieLzqE2M+mNXxE9XBTK4FGA/muro6+njfuQ8eHsp0BJ+y2uO7Os7N3uqtCqxz4jcd6icHwVMQtCYlDsnCwvtT+R82eLQdwyzHGcFjWB/P+uTCwcxj2HZyRXKm+9KIjWJ8acQ2MbzPFiCmYtMW+TAxUUxbPjHkWgx4qJiopi1mfgeIKce0Jby0sOdBisnnYDYK8Ikp7mBOp9OrqlOP3DwYwU+adOPMN77zwIz+/syxCrdn5gw4c+IfW39C4nWZESRaB3c58cmAm48dIoGE77z6jvCdpjb6gH+2c0O1/KfxTxCCrSOOLz2LhnCmkVC4HefgMLrR09MDt29ubkYEj/Ndrt14rxULF8THGs7WHUrH2AnfNbqba/D/Mq9m7MCZRkLhdpzDaAVMOHFfVSoTELVLBD9+/Pj29ggGxAXxsYbOkuS9HsDIPxyeg2XkoY0A+XA2CITW0QJ8XAgQSUdAaB0QGxcCRNIREFoHxMaFAKV0dPrAWskRz4TvCyfwsnTkYiLnAWI0FwIYG+lYNknH8bZOQ9sBbAI0FwLk05EG76ICOutRlxvrgORyFwsmFPmsTpPPoRVaB8TGhQCRdATY6pD7BBh5aCMAKwOR1NECfFwIEElHQGgdEBsXAkTSERBaB8TGhQD6jQNH98hVJDye697vlY6QmEI7KpTbxAjPRPCDefASwYc6PBBaxwXxscamGd6IIQoxLpiKsOzY6nuFn9q3hDl8Oh8LhXhJOCozkkMj5Gicn5LbFlzHg69NLyurcvi0mGHLEg+JQfhIMVqYFtOpV29VwrSYYUsRDwnziSG3iTmj0tBtYlAhmzZnETMsudAihsmFpYgBZ3KhTQy4Wcxg3h7e0rH0Fi98XzSxd+/iYWLU8cNMRy3Gd/wYxaARLYacYjJ8KIlQj5IeGXAmp2aEWQ5mchCO0rDjx3Qwo9PDL16JEUA0j6cjfjCjU+4yAl7M7EZ4NHPiO09ffKrJWxu+9eSFWc2GnPim9/r1OvF4CuKC+IRCrxNvO2x4cvmOYXLbMQxuPNP1MQyez5meKybD1ZnOpdm1GHBtO7YzPZ9pS4shz2em0GKMo5TnmR46U6DT0ncZxMRq2go9fiAm9/hBg4de+M8yE2W2F/4zYnqpYxQDns/xYxRjn7bu48gUejBTWIAYjlKAGLwk1+C/VrP+7771I7kGD1eHt0sduD08X/jjDV4ePIDZQbjMFFKKmYKzgwviYw03HzsUCrgSM8Jb543v3VtHbxqDwP8uF4HoraMezjQSCrfjHEYZEOyK/eoNJQyjxw4Qwd966604x6PKoiFcEB9rOFt3KAg6/R1h61gO34n+jhYZEF6MGSn09PSk02XX4EwjoXA7ziFxwBRzbHWVLSjXPyOoN5R7NUY14PbwfJDI8+A1XBAfa9x4bXbEeN8HMHKcTgzabDy0EUCfkEXXQY+a28RoLgTQ3IkxNgL4OkKEyvR3umrFxETObWI0R2XNhQCaywjg8wyGpXXuXxjrV2aU4N2yHrw8tWU68o4qYKxz/uIlzXnXldzFggmFLSc+9PgEKnaml0OM5hSgOSpoLgTQfNSPEjvVHBU0FwJoXj4xeJSkTbm4jgo+MZkKg19M0htKpJqxIyC2I1OQsGefnn71FSlZeWzSd7//Bx+/hnnwNG2jwwOhswDAOi6IjzXWTfNGDEcG865wJOl8rO6NM4SfbW225WPhJeGorJPDsnz1vTz4hiWKqTRiJoThVZ0cpnOatZgTm2cKhxIKA2EKHSr3d7QI12LQOM8Wmxidz2cTwxFDL6FiUCErRiUXosGsmJWTs2IWqHy+oRS6jJiVk4XjXRSWETO0y7QYnUIHwl2GCtxlVjFDIwMBh1/8mPhj69xxrXP/Uir4RsYmJvT40WJ8xw/F+I4fGRlAJxdSAGpy16AF2/GjxehR0mKMx49PDDh6l084J3fNQ6FPDLlPDEWix9DjJ/hgZgQ/aZLX/pTVwzIdpRAePXOjl+kIj57R6P0XOic+3Xl+8Z4+4b6c+PX7z4K4ID6h0DnxxjMdsNpOsWc6SEFnuhYDLmIAoxhwfabbxOiTi2ICznSKyT3TheuZQoshRws22ynxTCc3iilo2tJifDNF6LQ1TExE0xZHScSgBR2gI47v3FDNXUYxqHZ4zp+y2uE5f/7+qSNSJ/RgBs/n+OHI6OOnHAczuRaDlnOPn5qammfvSmGT1SS//Mj8L33/ybbBa/ALdvbBwwer/8czm04yJx4Ozxj9qaaT5HqmYB48XnU58cmAm48dggE7c/kz+QADJaNE164YdAQ/EN168DY400go3I5zSAow0eReYrclu7Myr8GPbiCCv+yyy3A6yy86gZQji4ZA+y6Ijy+crTvYADfkF1hhjkb3dNCQBE0Mmve8IqhwBA8400go3I5zSArkVzhyt/ZFE70aw4HZCm8ZIxE8TmSgMhE8gC5cEB9f3DYhO2K8H4QzgRGbjYPwhMmHs3GgaK4F2LhNgOZFCwDIbQI0twnQvGgBALlNgOY2AZqzwf6OlsMvXSW+2bu3bmTFAJFwmxjNbWI0t3V05r0NMmIXB79C4JWWWUxdXR1MViJ43jkFCuLnL15iBqSNg8hdV3QnJQ7Jwo3XpnjYhB6fQCjXx6qN245bzYsWAJDbBGgOorlRjOZFiwHIbWI0twnQvGgBALlNgOY2AZoXLQAgtwkAP9+933Alfu4nuQx8JcWQ605tPJ9OuWonYBODKZhci8FZDKxZs2bSd7//iS98QyJ4mjNg40XPDi6IjzWWP+KNGMIO5mCB40Ot8Exy2BA/fbCByWHg2ISjkByVefCB8+BD40wz0Pz4uily9PsEaM61bAPE9L2zQrgWc2LLrHAxKuuR5T4BTJvT5VoMuBZDrsWAazHkWszxdQ+Q28SgDnkpYsh9Yt4/1cEL8EeW3CyDRjHYWdhlg3X9wsjxFi2GXIsBDxUDLp0CFODjoWLAiz5+fGLyOZi735yOcUOPBYnRaZc2Mb6DmTydTst3m8B11uMzm7ysRzyCSyH4c1u83Hddnu48v2j3aXLmwbe0D+iceDwFcUF8QvGbySkeNsOO4Yg8kFyfXDiYeQwHnFy5Anw8nzM9VAx4VGKKm7Z8Zzq5FmM704eJiWKX5SMGPFRMVNMW/nHhIgYjrOP41nnju9+ckU1Dt42MiQ91molEtQAf12LI9ciA65Eh12LApVPAKAYo5WDeMney5MF/+s4nv1L1tFyDpzkDcHLmxIPzKgxnBB+fvbVXAn3fTMFvSbkgPtZw87GDxrmuNDPge/fWeaUOeQMDKKMnc/yohDONhMLtOIdkgXG8LRt+DCKzFk1FsmgIF8THGs7WHYiewXUSsbUvmugcs2hIZvwo/gjkTCOhcDvOIXFAHM8VjR0qH8EDLoiPNZgTj1OF94NsHCcSzyUbR2W8JZjbksOMiWI2MeChYkCMApwYEC1AJyCe2PpbeSlWI6O5TQw5atrEkAeI0dwoQPPcUcIjhrHtlf9PCoHIR0kj3XnemPW4q+Ocx4Zz1sG7eNfVx3kHFiSXu1gwoai6PnuDKPgYFmhesTO9kmI0N4oZKWFGAU4MiFHA6BAD2MQIz0TwQ3nwbW1tRnMWzhlBzw5FzxQuiI81Ft7vjVgmB2toLVKdj4UjlZlqZ1ubma2rk8NQyEw1VOZRjkayfOMMNCu8s2Eqj3ImF+IR5VLoE8PkQpsYzW1ihglTYnRyIYX5xOjkQgrTYnCOMW3OJgYVeFraxOjkQpsYnVxYtBjN8d+1vvRJxJ2t88YfW30PBWhhWgzz+XzCtJiojp9gMUCoGPDQ4wdKyAPEZHnYwdw6dxzGU+oXKkZznxgePxoLdvYxu1HnxL+47ZRYNh7BpRCv6px4vFc4fH/pXkNO/N6j5zcd6hcOgqcgLohPKH4z2TsmAX0MR+KBtuNZH8O+4zkrJqIzvZK2YxylYWJMo4QeQ80ZlUNnikh2WT5iKjltaWE2MeQ2MZobxfiEUUyGx2nayhVTXV39qVun/tMDv5dr8C3tA8yDpzkDcHIG9JrrmYKzg+a+mYKzgwviYw03H49xwBblAvyx1VW0GIcSAf/FkHKCjAo9PT3pdFq+wzqCcKaRULgd5+CQIMDtmTMjK0tWMouGcEF8rOFsfcwCn/WZQhN5uDnG0T/4w0+2JY2LA7wbDo4TFs7uFY0QnGkkFG7HOTgkBRK1V1VVkY9IBA+gaxfExxe/uNUbsQ8vDPDeEDjvGeny93vbzw+t0gqiOe8loTIv6KIR8mHlB9YKAXijCmA5avJnn8FtYsgDxJDbxKAj8kjEgIeK0QK0MC3GOEp4VYthp+AUFiCGvHf3fKbQnNzxQrbTkRCDCqEjM6w8j+PHKEaX28SAaDHkNjF6lLQY+XSET0p4VY+STQy5UQwjeFkPvqV9gDdD9x7NZjo2vddPzjQYYFubpxCvog4578Bq3nn6oubtvV5mJIhwFwsmFDonXh/PsTrTIxGD8y5UDIgWQ67FaJFamM12tDCKAddiyCsphp1qrsWAh4rRAjTXYkbH8VNJMXqXsdNnn57+2C0w2lRjYyP4g1/P8JaWFm3ONGThTJtBBfJIZgp07YL46PBB+uU773jijS7vacn4zeRsEM/LsXBAchymPOBw+PKAw9HGAw6FPLJRmUc2GtGcR7PmXY3ThGsBPjEnNs8UHiCGHITCbGLQIJoVbhPD3OUAMSwHDxUDHirm5K55oWJQR3jRYvrS9RJidiybhEZsYlAeKoadBogp5fgxivEJE6LFBAjL5/iJ5GBuXzgBI3zmUFOAGJYHH8y+CB7lK98+Q5tevCeb6YhyWvO8HdlMR3ApBF+TPisc78J7haM15sGD08rh++QgMn9AiZQ4lB8Xz3R39p770HtWGnROfFnP9NxjmLysZzq5FuM7uaISIzxATBFnunCb7US+y/IRAx4qJqppq6DjxyYG5aFi2KkWA24UU6bjR4gWQ15TU3PduNQLVammpibwG69N/fK2DMdLCNa1OYshAyhkQI+gnLODnin07GCbKTgLaO6C+KIB+z521If2lVM+8pEbfr8tw4/1nit5YN18PNYg6drYQOgpDpGjd2+dDLL3vFj09PT4IvgRhzONyuHitieuvPKbdW3e09LgdpyDQ8whmTOARPCXXXaZcO/lkQAEuCC+KGTse3BnWnFb3VHvM1bRQCsecxjtQMjOJPi+dL1X6lAenBv81ScMuPe8WKTTaZyk8YngAWcaZcGlrp3LF9f5sOCJb/7RH3363lkZvrjxvdIu27gd5+AQc+AkBSSCJ/deGyFAgwvii8P5oxtnfvNjl6cu/9Rtv3xp0NEj9nRA58T37lko/GJ/j04OIz/fvZ/3kgaO7ua9JBSSozLvK2mOxnnd18i1ABu3idF8RMSAh4oBDxWjU+hsYnQ+X/5iUNj2yt8irGydN76/o0ULK/fIkOuRyef46XtnRa6AXC7EJkZzmxjNbWI09wnI5dKpfF7SAjTPRwyA2F1WpGlpH+CNUc3X7z/LG6NGjkdwKQTXOfEsR2tcrQycd2nbey+Qg8gdW3i6lDhEiQ/e/v3f/5fBWduGUq/aVF2fTacxHrea245bzfUxbDue9QllO7miOtNDxYCHigFnOkSAGOE+AUYeIIY8QAy5UYDmNgGaFyoGPFRMVNOWUZhPDHnkIxNV2JPPwcxcnVwxsiKNzonX5qwNGfxA9/vCac5AVDMFOWS4IL5oXLrYtfn3t3/qP42/45mNHZldUdTd1cyxYIExiAcPPZrBQ49mcB61RRzN5FGJIdcCyhc3A1oM+EiJQdSO2B0BZduCz0u/WphNjI1XcpcZBSRFjNz3gO8XKoZcAzYdas3660o2a3ZBfFxx6eLJnfO+/3eXX/6p23/feHAwfbKI/EkxdiNsQXxUtmM8nvUJFeHJZeShYsArJobcN0paDLkWA67FkGsBZZophCdajJHrTgO4FkOuxYBrMeRaDLh0ChjFAMHHT01NzdVXpBDEyzV4bc6+IJ6BO80Z8AXxuTOCjesZAdx9sTU6XDy+7YUffvryT37tiTWtZzZHmCIJYPd4zGGU4szgD4hiQ0xJE3GoAI6trsKw86dSRg2caZQRl06l637ymcv/7CuPLj945gOXE+/gMKYQnywaAmJcEF86LpzcOff7n/7Ix/75X774n1wQ75AvuBBN6d+wdCgU8t1WPHrPRwucaZQZH5w5uPzRr/zZ5Z/5Sd3eVT93QbyDw9hADCN4AHpcEB8NLp15u+6+v7889We3Le3wikpG4paYZLlPDDkIhdnERLIilRYDHioGPFRMtEtM6oVo8NQnhrvMJgbloWLYaYCYUo4foxifMCFaTIAwmxjyADGa28QIxyO4fILqfnO6TQzLtRgNruoI2BYOc0tMjkpcOrN/5RP/+rHMhB5ZEB+rJSbxRn1CBYsRLkSL8Qkj12J8Z3pBthP5KPnEkINQmM12RkQMeKiY0b3EpBYDHioG3ChGc6OYZ5+e/kJV5oRHBA9z1obMpdzb7UtMRj5TUAAkuSA+vnA/9qTz+bQwmxh2qrkWAx4qRgvQvBQxHCURwwi+d9fLUq5HySZGj5JNDHcZXs1TDLkemYLEDCs3iQH0KBnF6HKbGBAthtwmRo+ST4wsUHOs/m49SjYx4O3t7XV1dfoHWWHZtGB4tOa0YM11Tjy9HiDHqzonnr6vOXrRnKmWFANPlxKH8uLS2dZ1tU888auXd/Z6JaUhET/2NKy8gmd6ttMSxOR5pgsPEENuExNgO0Lwqm2XGcWAh4rRAjSP1fFTMTEDR3eHihlWniOmvr4e8bqUD+bBX/bg171r8DBk5sH7zFkbcq45A3pG0DnxulzPDu7HnpINNx+PPsA1uJTkmUMxuis31uAF8aszv5sdCv6iE+J4ryiucKaRULgd5+AQE0jmTFVVZnaIZxYNAWEuiI8vsHs85jAqwAi+dd54BJFeqcNI4P3eduyI9kUTved25P4ma5zhTCOhcDvOwSEO0FE7eWNjo/dyzABtLoiPL5Y/4o3Yxf6e7o0zsnzoe5AIRE5smSX8bGsz70mdPtjAe08o5L0nVOY9JjSS5RtnMFGss2Eq7zEdXzdFOB5RLoWoeWz1veRMIPOJYTIZlFCYTwzXBrGJQUfk+YjhKGkx6IVi9ChpMahAMXqU8N8pAQ+Qc5TwCGFSiFdRh1yLwT+ImhLBH37xT6R9nxjuMojRo2QUo0fGJsY2Mjx+8C/rXUYx+vixiUEjFBBw/AhBid5lFANuO360GD1KWkyJxw/2xeDF+KCD2RfBt7QP8P4mCG+kLt17Ot3p8UW7T/Pm6YKd2UzHWc295C9uy2Y6gkshXn1ui5ebAY73CkdraF84emE2JHrXYuQOL6RKiUOyoHPiK3amgxR0phvFAFqM7UynGJ5cgO9MpxjfmW4U4zvTtRiOkhYTfKYD6JEzRflsB/CJ0bvMKEaPkhaDCsZpS4spcdoSXsrxk/fBnPFDvGocmQyPetqCgFwxiNpXVWeidkTwzz49/fWpHteGDA6TF67NWRsy3JgpN6XMFLO39hpnCtQRDnkuiI8vbpuQHTFeuMWhxvMWnEen5iCay9Hp42iEXF8V1lznexjroIVCxWhuFGMTpsUYheFdWoxRmE+A5kYBUYmBoXjX4OeOO9u2RcpHSozm7FRzmxjNbWJswox10MIIipEg3iYGvKenx3cNHp5L2/VxsVoAHm3krSe9FElgV8c5jw3nrIN30et93CZAONRKiUOyoHPibcdzJGe674TS3CjAJsYmzFjHJkZzmxjNCxUz4qPkxIy4GM1tYoTX1tZedtllj9ycidrr6+vhpYjBmEVjM2eacIA546VcbpsdCpopXBAfa7j5eHQArsEsGrqMw4hDgnjviQnpdFpH8ImAM42Ewu04B4eRRVVVZgEaRO0AiHDvtbgCIl0QH19g93jMIbFwEXxsERrEJxHONBIKt+McRgSYlTA36WvhYxwJiuAB6HRBfHyhc+KP1d8tHKecTg4jP32wgSl0vkw1clTmPSlw3k5C40wO83G596QF+DhT62xiNA8QQx4gRrhPgE6hY7kWAx4qBjxUjE4utInRyYUoZwR/+MX/RyL4PMUYR0mLMXJ0p8UYOXa6HhlyLSaf42dYpqNdmBCbGPB8jh/+9rVNDHgRB7ME8VoMuUZL+wDT0DUHYdbjot3DMh3Jn9l00pjpyHI8gkshuM6JZzlaYwomeLAYeLqUOCQLv5mc/f3gYcetSiNmuT5WMzwPDzSeXPqEKveZHioGPFQMuE1ALsejTQx5gBhyLebE8Jx48mECothlZ4cn6BvFgIeKCZ62MhH83GvECRHH28SAMw09QAzT0K0jY+JDnWYiUS1A86jCntCDGYG75MTX1tb6zFlzbcjkvpmCs0PATMGsGM4INu4TQO6C+FjjxmuzIyYhoIBHHoISG5d4BUChjQsBdOPGjoDQOj4BRg5iE0Nu66ggbhOguU2A5kULAM5172ce/MCxPVJYbjFsEAitYxMDbhTg40KAhIqRqctWnzh/8RItVXMQZjTaONMigaK5TYDm7NQF8QnFdeOyOfG2Y7Igjtb0SWTkIPoksnEhgK3TgurYxIDbBGguBLB1VBD3CTBynwAjL1oAQG4ToLlNgOZ5doqtdd54sUHZEMezjk2A5jYBmgcI8Fh+3CjAx40CfFwIkNsRIvjLLrsMZ2JNjfchwWbOoYYMLoYM0JwDeOgsABi5C+JjDTcfJxdwDZdFE3PIvOU9GS1wppFQuB3nUElgVvJF8LKN2bwaZtEwgk8EINgF8fEFdo/HHBIFF8EnAjJpeU9GC5xpJBRuxzlUEj07asUAfRvmLF63HjtgBP/UU095RQkBNLsgPr5YN80bsYv92RQ6BIVMFMvkNw8tpKpT6Hr3LNRpxNlMtY0zdOpwlqscvqMrbuc53Db/c8LxiHIpRE1yiOlYPkm4T8yJzTOFQwmFgfBHlVFZp81RDBpn4AtOYVpM24LrpNAnhhytccQy+XxDYtC7UQwqZMWsvtcsZuXkrJgF12XFzP+cFGbErJwM0rmhOmOItf9Z3psRoxINbWK4y1CBu0yLwVCbR8YmxjYySkzo8aPF+I4figk4foSghAJQk7sGLdiOHy1Gj5IWYzx+fGKyozT8YEZ97KP2hRNEWHt7e11dXTrtNdJ68gIX4t179PziPd4Kwev3n9Vp6Pzt6wU7+5jpiDcy0/GpppO87wnOm60PremWG6l4BJdCvDpzo5fpiHehvnAtBr1QDHrPFQNPlxKHZGH5I9nVTst6phdqO/pMN4rJ8DzOdIpBy6G24zvTjWICbCc7SpaZQtsORaJHmrPPdio/bWkxZZq2uptrGLvL1jr3k0eW3CyVM2KiOH7yPpgzfmgbGfBQMfr40WI6G6ZSDI+f+vr6PS/+o4hBBP/mL1JXX+Fdg5+y2jNkmDNNGOZME4Y5MyUd5sz14zFT0JAxU2ATjkKuE4/KOg8+dKaAGD1TSLSOVynMBfGxhs6J56EPGDnOBDklAnhoI0A+nOckYKyDHjW3idFcCKB5aEdA3MSIM7bOG888eIB10Ivm7FRzVNBcCODryGMl1EEvmrNTzVFBcyFAWblNjOaorLkQQPOAEYCtYzcdW12FOvxFJ8TxXo1BoxQC99RcLNXHUUFzIYDm9Gig6DroRXN2Su6C+ITiunFmt4/VmZ6PmIK4TYzmRTcOaB6rUcpfzJlDTaf3ry2TmMHZ6jIvgh+8b2xsh2KEs1PNUUFzIYDm0Y6McHaqOSpoLgQQLr/DKmecXIPXefA2cw7lRkP28XwaLGimcEF8rOHm48ShZ+gepVuxK+ZgEO/7TVbv5cTCmUZC4XacQy4wj5R7QuFVJx09j2JIBA8gfJcIHkhWHrwGxLsgPr7A7vGYQxJQAcN1iAq9e+uwpw6vnjqaInjAmUZC4Xacgw+cUEqcVj4c/I5WwNt7dtS6CD6hgH4XxMcXO2d6I3ZxeKIYk8POdaU7G6YKP31grTE5DIV4SbgvOYxcZ6odee0m3ofS+Xwol0LUZG4fxBiTC9FjV+M04VBCYSDM54MY2opPDA0FHVHYsBQ6lVyoxXCUtBj0QjG25EJUyIqxJBe2L5xgFjOYD4q3i9UiOsRTv5ihXRYghrsMFbjLbMmF1pFRmbLWkVFiQo8fLcaYXAigcYrxHT9CUKKPH4pBC/r4sYnRo6TFZHeZ5WAeNkrDk1MliH+u6qMwQYngO09fnNHoVdZp6NvaBubtOCXclhP/4rZT/E1sW078Q2u6eT/UlhP/8BDHu5j1qMWgF4pxOfGjCbac+MjP9EJtR5/pRjEZnseZTjEBZzrF+M50oxg0Tm6btjgyvlGq3LSVh5hhu2xITPfGX8mEojd0rcVAbVbMsGnrDiXmC0eW3Cxvb533V1kx6vjB1CbcLyaK4yfvgznjh7aRAQ8Vo4+f4WLuEzH19fUNP0/deK0Xwb/5i2wWzeMNJ5jxonPiUS4c5kxDhjnrnHiYv3DMFDRkX048XhKOypwdbDnxmBFODc0Utpx4zhouiI81rr4iO2JyuAt4GgC6nBxEcyGA5qGNAIXWMdYHsXEhQGgjQCR1QGxcCFBER7CY1sHlurrfnO6V5tGOT4DmQoDQRoCo6mgBmgsBNA9tBIikDojmQgDNC+0IfN+632166c57p8++bWb9r988gSgZEfx3l3YGbFPXnYDtYms4cHbz4YED3e93nfFslxMAoDMXNY+8Dkgud0F8QmHLiQ84hj1WYB0QGxcCRNIRYKtvrAOiuRBA86iEhdYBsXEhQCQdAbl1EHRK2J27nW1tzl8MKnQsvUW/nUF//mIEulMbFwKENgJEUgfExoUAfGNdXR3OMong4ZP8JitAIwVshlxQHRDNhQCahzo8EFrHBfGxhpuPEwH4hUTwnRuqvSKHmAGW13ryAoLvOdtPIRb3ReelbGgNbSKm53WUkYUzjYTC7TgHjdylY7B1LJukw9NgoKasdOzbGMePTUgEDyQ6i4bAP+KC+PgCu8djDnEFjbIge3WoABC47+o4t2h3n/ES+5TX0tMXbVqxtxeRPeJ72bx3WoAwHXXQpnwYmNXc62sTAf3rb58Z2WjemUZC4Xacgw++OL7QKcb4MQBb65hcCV4wyiJ4AP+LC+LjC50Tzwy293vbj6+bIhwfqcn73lmh8/nwVDgKyVGZn8LBmbWGxnnLSfMji2+Qs10L8HEmF9rEaB4ghnyYmOHJhcJ9AphCp8u1GPBQMeChYoblxA+V441ii3iKjcmF4KWIMY6SFmPk2FnYZVKoBWiOna7FkGsx+Rw/x+rvDhYDhIoBz+f4YdajTQw4D+bGumnLd3fnBu4/W7K3bufJzYcHEIijX5nP+s59wAxIcObEI1KfvdVLQ990qJ9p6JqD4ClaQ5sPru7+wYou9vWTVd0I9KVx3gN9SOXEs1zqSCE4c+J1uRajc+JzxYDA06XEIVlYeH/2EumwEyoiDzSeXPqEKveZHioGPFQMeDbB2i4mdNoiDxBDrsXonHgtbJiYKHaZJOgzEGc6uxYDbhHzeTSL+sYr8b17F/vE5DNtMQ3dNjLgTEO3joyJD3WaiUS1AM1LC3seFDGI4Bt+ns2D1+asOWcBnzlrrg3ZNlOIIQM0ZwCV8RZy/rqIT4zOiZdyESDRuhbjgvhYw83HMYd8ORIb5xWHkQLccNHuvvtWZiNpbLBjudDuVRqCpJweW13lPY8IuRrwtMIX5p1pJBRuxzkYgTh+8Bq8FwUWBFsczwh77KClpQWnGDBqrsEL8B+5ID6+wO7xmEP8AB8cs4YYH+waTJjRcbPktCCe1l8P8kE+fWF29J5HDfSuk23AeZWl3HCmkVC4HedQDmTi+OHfbZVtTE1b/DGQURbBAy6IjzUStzqNsQ6IjQsBdCO2BiOpA2LjQoB8Oho4tke+zNqzo3bExURVRwvQXAigeWgjQCR1QDQX0nn64oq9vbmxO8qNjcDEq6qqamu9tJxjDY9yGitoKQAQGxcC8I0QM2/HKSpc+tZpVgvtCChOjIsFE4rErU5jq190HRDNhQCal0OMsT6IjQsBQhsBIqkDYuNCAFsj4MYgHhvj+HzasQnQXAgQ2ggQSR0QI3+p9rcwfOHth/YzgreZreaR1AHRXAigeaEdGeu7ID7WSNw68VqMzlSjMJCyLrhrXP0XvVCMb43b0AV39Rq3zImHgMMv/F8wwWOrqzJiTMmFeJdtwV2bGO4yVOAuK2rB3Qx8I2MTE3r8aDG+44diAo4fISixrR5tO360GPJj2+Y2bN2l890ldt+7cjqFaTEySrwMU12dWT4I9rf/hb/A7kPvsEUuuIuYm9mQrSWsE+9b/fdA9/u8Kl+1Ev9kJgkSnYoL45ECIKaUdeJlWWIXxCcUiVsn3nimazHg+kynmIAznWJQqG0na84W2xk2SgVOW5wp0CPNWdsOSFmnrWG7zCSm0GlLrxOPKamr8XEG7nqT90JMPtNW0cdP3gdzxg9tIwNuFGM8fhCsL/1patq3M04I81/1s//7tgme+cOcYa2Z2sO/pFTJdeJtMwXFQJhbJ36UwM3H8UTnhmo44Fj+jn/lAdvKTTenAwaAETx/kxXzhMxhUqEygFR83hDl+NThlZYBzjQSCrfjHMqH3JVqGP2PMiCCx6kENDU15Zr/6AP+OxfExxfYPR5ziA360vVigry64FBWIPydsz2blDKjsWdXxzleNQmG0cT7O1qw+yL/VmsooBnhO/8LXhCKFs40Egq34xzKCh3Huwh+1AD/oAvi44sbr82OGG9CAUb+oT1TjTy0ESAfruNXYx30qLlNjOZCAM1DOwIqKQabmCDvIQK+Oh6ztINeNGenmqOC5kIAzWM1MpFzEYBgnVevsSGUP9x1piBhVVVVNHHerOzZUYs9yJuwOphmHYAcwbfm/PygOSpoLgTQXDpKd56X+wl4lJLcOgJjO+hFc3ZKjv9XShySBVtO/Fg404N50Y0DBXH0qLlNjOZCAM1jtct0R5JXwywaKQRGREzRddCL5ux0zcolV18B/xuM4A/t/+Knx4n5H+vJ3vk0mioQCTcaso8X3TigOWcK/I8uiI8v1k3zRgyHLFPlcIjr5MLujTOEn21tzk0OA1CIl4SjMjPVdD4fGudZcXTF7TwrbPl8OlPNmFyIHk9snikcSigMhPl8ENPf0SLcllwITmHDUugsYsi1GPRCMbbkQlTIihmWXKjEvH5H+8IJMMHODdVWMSsnC/eLGdplAWK4y1CBu0yL0cmF1pFRyanWkVFiQo8fLcZ3/FBMwPEjBCUUgJrcNWhBHz8Us3nXWw+vaJXYvWr50br128S/oFCLCT1+amtrq6ur5TIMkwvb6iZiJ0p9NKszHY058XuPnl+8p0+4LSd+wc4+SXYH8Ead6Ui3ZdYjZNy1PPOvIY4/0P2+zomfuTErhsK0GPRCMb6ceBHjgviEwpYTj+M52jO9UNuxnekUk+F5nOkUg5ZDbQeFeqYwitFnOrgWkx0lZc4222E5xNCcoUSPkhYTajvg2VEKmkMzdoR3DfIMbGJ8u4xiUCErxpITjylJ77KBo7tAMmL08ZPHtFX08ZP3wZwZjaGRyUCLAQ8Vs3vpo0uenCjX4Ofd/ycPft27fKMNWefEo5xhMcyWcbbOiacJoyZNGC3onHiYv3DMFDRkX068nim0GNtMocUIx6POiacwF8THGm4+jhUkFb590USxHodyQF99R4zbcOAs7SwSYJLATsTmPR8h4J/i13P5PadI4EwjoXA7zsGhdIyRLBrCBfGxhrP1+ODM0KrwvKjgEC3KHb4LZD9WPiHeiEW7++Sf5TWY0uFMI6FwO87BoUSMtQgecEF8rKFz4nXsyBtSHw5PDtOcV4tRaONCAN24sSMgtI5PgOY2AUZu66ggjtZsYshtAjSXBlEiq8L37q3T5YIKixHYOBsEQuvYxIAbBfi4EKBEMZIuosP3gYF+vrdQMRo6OJY7p3I7pWOX94vcQG4dAJ8fbJwfLVAYynXjRi7/OON4Yx20ZhNDzk5dLJhQXDcuxePZdrIUxNGaPomM3HcS2bgQwNZpQXVsYsBtAjQXApRbDDmITQy5raOCuE2A5jYBmhctACC3CdDcJkDzogUAmhsFaK7z4I+fzF4D0oZMwwSMZgsUVMdmyOA2AZoLAWwdhXIXxMcaOieeOXw4rLl8bH9HC/npgw06nw9PhaOQHJWZQgeus9Z4Jvi4nIpagI/rTDWjGHBmrQWIIdcCdAody30CmDany7UYcC2GXIsBDxAjv1zdOvcaEcByEN0pOJMLdXkRYoyjxE5tHDtLizFy7HQthlyLyef4Ob5uSrAY4UJsYnpO9vxq2S4J3+9dcXzp6nVicFoMeD7HDw9mjRmNPTRKcDQuH8aeX7tHCvEq8+DBmemY7jw/d0c205Fp6C3t2ZWAUYinwnVOPN5IrgU8pVYCZnnXmYs/WJH5nuvUdSfAmROvhWkxOicevZNTjAviE4oX7kkZz/SoPNB4pusTqqxnej7TFrhOsDaKAWdgFyCmuGlLp6FrYVqMzonXwrSAvHdZxut0eaFiwC1ibqUAnRNvFZPHtMU09AAxzIm3jYyRD3XqHw3NQ4+f9vb22fd+9LFbvGvw2py1Ic/ems2D1+as+WPrs2vD04R9HO0I1+asDRmcOfE2MeDMibeJIfcJcDnxyYCbj+MA+Yl+BH90H4fSgXhakklke/3tM7w+UT7A/bEr2xdN9J7HA/jHJY9oznbvR0NKgTONhMLtOAeH4jAGs2gIF8THGs7WRxzvD60pyesKDqVj8+GB+4Z+tgmhPK86FA0xcf7Otg2yUjKv68cHnacvymiU/iVXZxoJhdtxDg55QtaDT6czd1/HcgQP4B93QXx8cduE7IgxW+DDCwMMKMF5b1FzEM3l3qKPoxFynYqguf5JCGMdtFCoGM2NYmzCtBijMLxLizEK8wnQ3CigfdE/Iezr3JD5xeYRF6N55GI0t4nR3CbGJkzKW09emDG0KgvI4a4zpYuhicsPa/MGJaA54mPJpcEbjXXOX7zEG50+zgREEBvnnQS80ch9Yjw2xBsOnMWY3PN6l3yk8QnIX4yLBROKquuzOfFlPdNBbJydal7cmS6wCWOnmoNozk41HykxmhvF2IRVbJeNHTHPPj39xmvhcyk4f/uh/bf98yfBEcG3dp/Vfkjj1dxmyDZzzmemYKeag2jOTjWPRAz+dxfExxfLH/FG7GJ/DzPSMry5RjhOmxNbZgk/29rc9473db3TBxuYqYZCZqqhMk85NJLlG2cwV+SYWgn4+LopcvrhsbNhqhTiVa5lC87sNJ8YXu+EEgrzieFpWVYx6CVUDCpQDEfJS6SZ+xfS7/F1D1AMBFAMhEkhXkUdcu4ytMZdpsXoXQbCXYYKxl2G/44C9MjYxOiRsYnRu4xi9PFjE4NGKEDvMooBKAYl7eufYP5M1bKOzYczdfAu2/GjxehR0mKgP/cyzIKd2Uv7eiXg5evewN5sXzQRvvniNi9xBa9y9V9wZjfCapfuPS1cr/7b0j6w6ZC34i8IXhKOyrT1RbtP075tYmZv7RX71mJmbjyJwRE9NjHohWLQuxYjaZcYCilxSBZ+Mzm78lXFznSQgs50oxggVEyGW8TQD7Xt5J7pwm22o4VBDEcJIqUQr2ph8Zi2Mg4ArneZUQy4UQwqUAzeaBQT1bSlhWkxocdP3gezNxp6N1FMhg+KqampwcfdeT/yfpP1Z9/581/e5pk/DJCp5zBJbc40ZJiz0ZBhwoynme+OV/XswPXgwdGO8ICZgmIinym0MBfExxpuPh5BwIMQ82GjSzoUDdiWzp+hXZaI3Ag+AJgDsDc5L8YQsGYZIn3FpVA400go3I5zcAiGZNEAjY2NBZn/KAZGwAXx8QV2j8ccKg5ZkSYmC4onF4jX52w/JbHp1HUnSglPc1FVVZW/iUsujb6fG0O8/vYZGSjveeFwppFQuB3nkFCcOdSk82HKhHQ6jXMEaGpqguG7CF6AQXBBfHzxyM3eiH14YYA3qsB5A0uXv9/bfr57v3AQzXljC5XlBhaARsiHlR9YKwTgXTOA5ajJn30Gt4khDxBDbhODjsi1MJsYdqq5FgMeKgYcbSLgQ9jX9+6qEReT7VSNkk0MdxletYnhLgsQQ56PmGHlSkzL9k28AL+yea9cgLeJ0eU2MSAUA9TW1lZXV8PEW9oHeHV/79FsomHTe/3CMcdgh3Jdmm1tnlq8yh/EBucNUHDeAO08fZG8vfcCNnLeDEUFzSnAKAagAECLWX/grIwYCtmpTQx4rhh4upQ4JAs6J35EznR9cg07o0uYKYxidHncxJAHiCG3idG7LJ85VAszigEPFQOOTfolAcp9/PTuehnWiu3Elme1mGynER3MrVsXVFVVIYLv7+t59oGJEsG3dp/VHpjrh4A2YdtMoQ2ZOYqANmdtyLaZomJiOG25ID7W+M3kbBDPNICL/T3kOGd49ON04lmBQ59HPwp5yqEyTzM0Qn5i80yeWign72qcJhyPTCL0ieGSsWiN5T4x5CAUFiAGzQqPRAx4qBjwrICtv2196ZNwpb50vRZzcte8UDGoI7xEMdxl5R6ZUo4foxjhcBlegJ/R2HPs5Fl2GiDMJoYcZODobuEaK98+Q5dcvCebXIhyccZjq6uwQ3veXgmOknk7vORCcGYx4l1c5RetsRwWTPeE1ZKD0L5htRQQKgaAAOE+MWvSZ+Ubrg+v6TaKAQ8W44L4hELnxJf1TC/UdsCDxQgXosX4hJEHnOlaDLnNdiIfpQDbsYkhHxEx4BRwfN0DsLiOZZk18rWYfKatzvUPC7eJATceP90bfyURvGwI6KU88pEBl/KBgYFH7r6JefDaA8FpyChkDK0NGdxoyD5zFoISGq/maIFcm7NvptBiyKOaKdipC+JjDTcfjwgkeRpu6D13KBCtJy/wAjxCUq905IAJQOYYziVxBgxaRq+41CNnGgmF23EORUPuNMo2GMdnL9+GQuY7foc1f+hOuZU1rwZRO2J3nCnjx48f41k0hAviYw1n65XHua60mFHMk6djC8nqxjZ13QleZhhZyCpDsk5oIiBjyPUHCoIzjYTC7TiH4pAbTMv1eO/lQAxG8JfJuwqK4zlR5m5lmjp1BN/W1uaVDmFXx7lFu71bl2MKLoiPNX5xqzdiOCH5e9TgOlON/Hz3ft5lA8cmHIXkqMybXDpTDY0bOe+g+QSEigEPFQMeKkan0LEcj1qATqFjeYAYcqMY+T4r1wIbKTHkeKMIA7QYGy96l2kx4KFiwH0CELJzDXhZgiZyMRot7ZkeyeWeI7B+/1kfb180Eft05+Y1UogS/iA2uDEnHi1rzpuh7SrTEYWaazHkWozOiWc5HnPF9A0tUyM3WAPEkFOMiwUTiqrrs+k0ckIJj8p2Qk+u/M/0XD6CtpPLKzltkWsBlZwpevcuZvSst46lt0i/AWLkGrzeujZOz19M7tuxyScB28gYuYiRQhvv7+uZ/dCXJILftf8I/VA8EBG8GObzW72EE/ohoA0ZPNeEfZxp6D5z1lwbsk8MOQWUQ4zLiU8GbDnxNCmcJ+Q4tXQKHc9zFJKjMk8tzXWmmpFrATZuE6P5iIgBDxUDnnlLuh42dHjOx88NlWsBOrnQJoY58bq8CDHGUdJijFx3auM+MeRaTD7Hj7ZjNL6ztU+SQKqWd7xz1Fs3N1SMTZgWo7mGTi70JRrSAcF7DzRinyKOZzkemVBo42iN7gn/Zaaj5jrtMk8xudwnYE3as+narZlvFMhq+loMeLAYF8QnFI/cnA3icVLokyuX204izfM50/XZneeZbuNCbGKY0wzYxMB2GCnaxIAzKc4nIJfbxGhuE6N5gBhyowDNbQI0L1QM+Nm2LbLulm9jEG+btjqWfMP3FtlQLpW1GJuwoysn6/ceX/+glEc7MgMDAz+efPMvb8tE8O3t7T5zXrjL+/kR2eR6PPxw7btnZzT2wFS1Iev42GbOhebEazHanBnQ05wBLUZzmxhymxgXxMcabj6uJGAZ4oYI5b0ih/zAX3Ga1ez9MkW04JLA3vNCIF9p7d1b5z1PCOTaEiYh73necKaRULgd51AcEC774vh80mmM19GxFZRUA7CdQt8YAFkPvq4uY9o6iwYTgVQgeA1eb5iPWC5xvFd7NAIj44L4+MLZeiUhmdNchdAhH/Sd+4ApNGX6Dqv+UQ+vKG8wcTN0SosbMPHIqHLJgjzhTCOhcDvOoWjoOD7/L7bmxvHFBeJ4V+QRPNDS0hIcwbeevCAmGbyN7jgeg+OC+PiiYktMgjPK0VwvAsVOfWL0ilQ2MeQgFGYTE8mKVGiN5eChYk695WUWIuyziclnrS6m05QiBpy7zCYG5aFi2GmAmFKOn31tJ5hCc7jLu7vnEyZEiwkQlitGR/AwdNt9yZXDFxGjZe9a8SRnJr1Wl/G+JMLlOCwxKRzvmrq2G2O7+XAmh5JiwIPFYKykxCFZiGSJSc3zOdNB8jnTjWI0z+dMJ7eJydN28hEjPEBMsO0AUEIeIIY8cnMOEKNHiQK635zROveTcg1eiwmetgbj+OwXW21iwDlKAWI4SvmMDDnFAM8+Pf2FzC/4ZX7Rqb+vZ8m0a8ExBbx98Ij2QGawPD+Ydhi6TWs4IX6LRoyG7DNnIShhp5qjBXItxjdTcHZAYUHTluah0xbGxwXx8YX+YitPFXB+3USX45zhKQSiOU8nVCZHI3IKASgn19+D4XkL8LzFq/pLOTYx5IkQc2zVPXAx+X1WLUZzLYYCAArDq1oMOwWnMC0GXIshRwUKA892GicxKze/Jf44o7Hn6IFtwWIAvcuMYnS5CPNF8CiHFdL1YJHk+htCKBeOmUMmJ5lCaLUArRY1jV9sBacFoxdyCKAdFyQG0F9szUfMKy2Z+WnO9oyJ5yNGOIZLShyShRH/sSdUMJ7ppYjR3CaGXIsB0WLItRgtUguz2Y5RDHj8xYCHisnwUx3SL/jp/Wtb543Hq1qMcZd1bZwuETy4FqCFBYgh94nJdpr38VNTU3P1Fama73q/yfq9O2558OveNXh4IM1ZeyB4nnG85Mprc9aGbDRnlGhD1jw+M4UL4mMNNx9XBrAeifbcspL5AA7CJHhxxjKhrq5OR/CFYvAik/fBLImA12OE71vZ5T3PD840Egq34xIBTBa8Ph1bcNFJieO9UjtQnxfLRwrpdBqnACARfEAWTS70fGTMkh/FGTUYJRfExxfYPR5zKCfku49yKcIhGH0qCR526ZWWB7B1xPHFRfC8DJ/oD2aSrcT7v/nAmUZC4XZc/IGAWFLP4zxZDEbwXoYMtnziePw7eYb75UNPTw/cPjQP3gaE77yi5IvjXU58hHAmVRgW3u+NGCKS7o0zsnzIQXDWndgyS/jZ1mbeIDt9sIE3wlDIG2GozBMVjWT5xhn8IN7ZMJU3vI6vmyIcj1w63S9miNvEaG4TM0yYRQy5T8yx1feSG8X0d7Tw2kmuGH73kSNmE3N83QO5wnxiUIe8CDG53CbGOEp4xC6TQp8wLabo4ye9ccG9r2dsEcHlO01zg8UAoWLAmQ2pxWi0tA/wliII71cu3Xua9yUX7c7yBTszaejyNeVdC++ifb+4LZtcCC6FqIn6uRytoX3h6JECNLeJ0VzECKcAzX1intvi/cCTiJnV3IvR3nDgLMWkO88zG9IoxsWCCYXOidcnFPwt9+TynVChHmg70/OyncFUaY+XcKZHNW2FirGN0jAxplHSYjQXMagpEbxsUDJMWDG7LOMAAWJCZwpUwIQiXMTk/vATtta5fyE6jWK6Gh/3qs0bP3B0j1EMejGOkk8MuW1kNDeK6e/r2fDLcRLBv33wiDZnmLxwmzljpmCWyyst3rV5RPCL9wybKWjINnOevdUz4YCZoiAx5ZgpKMYF8bHGbRO8EcNRznPVxnHO8LSxcVSW0yaAwwWEADbOq5s2MeChYkCMAjTXl1HLJEYuw9NQgBEUQ24UMLJi9KJdMBGbMJsYcp8AI9eAzdHpfJxOh9BW84GBfpluDx98SwoBfd9A89aTXuYiWsB7jdwmQHObGHJ2BOQppuHAWQz4mvTZ/MW4ID6h0Dnx+oRKnO0UdKYHiCG3idG83KNkXI792Jr7RkSM5loA4uNckbLJ54FcMfgoMvyy/bi+9EqpUKIYIw8eGbkGj7CHefDa9/L3QOHb2gbkGrw2Yc3zMWRynwAjDxCjuVFMocJYxwXxsYabj8sNeIqYFy8POBix+fCARPDyPUuvNK6Qy/DJzYYn4OwY81nN3pWhfOBMI6FwOy62QAwaHBzHB4ikc6XyHogPgxH8sJrY8HbG5ZVEcVk0Di6IjzWcrZcbnRuqYVs2j3MQ6K8NeUUxBmdcfdUnoWgdXAh5RiE/+eRMI6FwOy7OOGNMUxnpPHIjBuP4v6JI2+wGn+xYNonV9DYin0zuvfdeF8EXARfExxrLH/FG7GJ/z7H6u8l5WvZ3tJCfPtjAc08nF6KQHJV5gwycBoTGeSlac+bE+wToFEzmNGsxZ1U+H3pnCp0Wc2LLrHAxKrmQ5RkBFjEs12LAtRjy7s0zxbPwRhRqMeRajM6Jt4nROfEFiQHhyIAzudAmxsixs5icqgVojnHWYsi1GHARc/7ipZfW7pIIflfHOS0GPFgMECoGXI6fnp6edDrN77C2tA8w8xuciYYoZKLhot2neR9T58RvWvxz7FO5DD+ruZeJhrO3er8mi5JnNp2UQnBe5wafu8P7lIKWmfW492g2Dd0mZuneYWLI0REFaDEsx6MWo3PipXzo45MnBi1rMeQU42LBhOI3k1M/v+vT9fX1OAuGnVDFemA+ZzqcWdsOeTnO9FAx4FGJMU9bihcxbfnieETwnQ1TS5u2MnakywPEkOuRAdcjQ96x/Dutc/8CIlEYMG0Z4/i2+Z+RyloMOHPiA8TkP23B7duW3SEcMrb97u8vu8zLg9d+qLn2QHLtgeA0ZG3O2pDB0ZRwmrCPMyfeJ6AcYjhtBYgJnrZcEB9rMCce0Cl0NA4bB9EcLwVzfc2yaG4To7lNgOZFCwDIbQI0hwXDs8SnRlyMTYDmRQsAyG0CNJdO4R0zhi9EE7kYALx9aD14OLsUomu6m+Y6odDIMSvIVCRd6OTCgrhNgOZGAT5etABAuCxQc6D7fSkMFeOC+ITixmtTV1+BvZfBK7+ewnMhz5PIY4rnf6YH83w61fnNNjGM6rQAzUE0N4pBI+T5CAvlNjGaUwDjeLkGz3KgaAEAeUFiAjgaxFMJtYM7xVs6lt0q/xQ2zIblECMEEC6/ybp6vvcJAU+ZB4+nRj+0+Z7RAwN4sNkKjKnngBbDQFwL0BxEc6MYzfMRZuQYSRfExxfYPR5ziBqM9niRwEED5iIRPIJI7R2RgxF80evBa0h+1CjIhidmDS5Qk/8ucKaRUGDHNTU1SVqwYOLEiXJh3qvhEAMgji9TFk052swHiLblejyvu5cVEsEDLS2ZD3XyFFNAW1ubVHAoCBg9F8THF9g9HnOIGqPmu4/lgI7geTmhHIg2gj83Gr+m7IL4MQLuOJwUiGzkvBDgqVykdBitkGv8lQmjc4E4HhOi96ScYASPz6u5Tx2KAEbPBfHxxbpp3oghKGHWIz6vM4UOUQtXdT3b2nxi80zhvXsWYhM+LFNt4wydqcb7XDqH7+iK28nb5n9OborhEeVSiFfJIaZj+SThAWJ0Ch1/btomBo3zmoRNTNuC66QwQAxHDL34xKAF+e5j98ZfSjkqGMWgwayYlZPNYuZ/TgozYlZOFo53UVhGjMp6pBgMhR4Z7jJU4C7Df2EWo0dmwXVmMWpkbGL0LhMxiNqrlh9F4Dh13QlwLQaVKQaNUIzv+BExAMWghAIozBfBI07l2rd7j55fvMfj6/efZaIhCBfcRWXe03xm00m8XVYLbX7150wofKopm1w4ZXW33LvEI8qlEK+S45/lV0jRGpMOA8Twt69zxQhH4/wUZBPz0JpuKcSrMzf6xUgQP6PRK0cvNjF4CoLxlBKHZCH105vTXd4JNWnZ0/uPt3kX5p+8NXXNR+U02T/38/19maPCdqaD0/dCz3TAZju2Mx0dBZ/pPjHkaMEmhn4IJRQDYVqMNmeL7XgJ1gDEiDCj7QBoodBpyyaGo4TGjaOkxeRMWxkHwLva674sVx+wtS34vNQJEMM5FBWyYtRMgdHIitHT1gLLTJHHtMVRymfa6myYSjGcthCyv/mL1HXjvJB913Ofkvyx9Y0b4YcSh2pDBqcJww+ZEQ4P1DMFPRAGKB4IwCT1TEFDRiNGQ/aZsxCfGHItJmDaohgoDJi2hOM/tYkJnrYwgC6Ijy9uvDY7YjwPASPHaam5nKs+jgqaCwE058kPFF0HvWjOTjVHBc2FAJqXSYxc9miv+4c4iMnlqKC5EEDzMomBPUkS9vQ3PO9AhVAxhXIRVldXJ6EJr8HTudC15qLEx1FBc0wz2Kf4bNZ7sksKAfo1wAYBzUProBfN2anmqKC5EEDz4sTI0kCcD9AL62sB5BhSKXFIFhCpewyxUb8XCgBb3tnNC/MIgAA8TafTuSeUwHjS5Z7puRwVNBcCaF6o7RjroxcbpwDNUUFzIYDmhQoz1kEvmrNTzVFBcyGA5gWJYZ49N7kej15YXwvQHBU0FwIYOwKKroNeNGenmqOC5kIAchy6CGl4DV4OZnlakE+GeiCACpoLATTXHdk6zacOOXrUnAI0RwXNhQCah3YEsA7G0AXx8QV2j8ccIkX7oonwSrin99xhEPAFieBnVOR3qn0r0pQCTB6yTytzU7iSkN97wqP3PAzONBKK4B2H08S7MD+EiRMnoiSS08dhpJAbwcs2Unk1ZQXcXrLCXBZNhMAwuiA+vsDu8ZhDdDg3mDndOm88Lxs4ABWO4KOFfMMBcfzo26cuiB8jyHPH+TLmQfDUZcyXjvfV2jgVQ8+OWgbueutY5mX7jD64CD5aYCRdEB9fbJrhjRjMRefzMVMtk7U2lAGpM9V8yYVModNpc7Z8PqbNZXgeaejDUuiGxJw+sJZifCl0FKPT5obn82XFHHntpqyYIWGFijlzqImrAqP3I0tuhkt2N9doMajAC/M2Me0LJ/DOoE0M6gjPU4xxZMAxgMJtYsDNYlQaOkZPuF+MOn6wF0AQwUsevETwvuPHKAaNaDHkFJPhSgxHSQP9GtPQm97r15mOOvObaegvbjslCYUYB5n5JD30KZWG/njDCX4geWiNOQ1dZzqSazHb2rKr/2phRjEA3kheqJiHhzjFSBD/6LoTUr6r49y8HaeEG8XA06XEIVnQOfG3L3+mvdfLCrtufjWza8AHLmQSanv6Tv3Viw/Ihfmrr0hteyqTloao6PTx/Ubb4ZkOFGo7RZ/p2nbAo5q2LGK+kBUzJEyLCZ4pUNI6b/zhOX/a/aY585tiopq2BnnGATo3ZFY61hsieFTGvgidKezTVjYnPqppK/T4gZjQaWvXc59iFo3PA8UZweGTg3SYIYPrNHT4rXDtgb40dPi2cG3Ivpx4cooBmBOvzTlAjG3a0mI4U2gxtpkCnZ6zzBRSqqctF8THGnBnjw2eaR6zcJyWcn4G8NBGgHw4GwRC62gBPi4EiKQjILQOClvnjoNRwlZQyPLIOwJC64DYuBAgko6AgDrwDl8ePAr53nwaKZRrGHP+IEOUBHMh8n1WLjSkG2QdwNgRUFAdEBsXAkTSESDlEsRzbgB0p7ncBfEJhS0nXqJ2gS4XLhfmv/jpwcho8ML8czMf54V5fdLpM9rGhQCFntFF8wAx5EU3DmjOBgFdPnB0j6xzgK113jiJOG1ibI3k05GtTlfj49I7tiNLbs7tC8TGhQBRiQmtA2LjQgBjIzhQ5Zuscg0+Ep+k7+VyIYCtkch5gBjyfBpkZSC0DsbTBfHxBXaPxxwiwpnBHMRRfLOyUDCCT2IWDSDfZ8Wmp43RBJdOM0ZQyo7LzZiXC/MuYz4UCNkZwcuGp7xyXDF0N9ega7kG7xWNLrgsmjIBQ+qC+PgCu8djDhFBftWiL13vPR/bQNSO2L0CEXyE32HVwIQnE/Do+z4rIavTbD6c79A500goItlxLmO+IORG8LKNSByPWWnURPD8DqvARfDlA0bVBfEl4dK53mPHes+VZwx3zvRG7GJ/D5MOYS5MLjxzqOn4uinC+95ZwRQ6nVyIQrwkHJWZQgfOrDU0zguZmh9ZfIPYihaQ4SqdjgvuajE6nw+9M4VOi+lsmBouZsF1WT5UnhFgEcNyLQZcxKCCeLT8U1oMuBZDrsUMSy60iGFyoS43igH0LvOJYXKhTYxxZPB/YZdJYUaAaWQwziIGUfsTa9oZwWsxOHi0GHItBgdhroBcjke4uUQVcHY87Tv3gV6IlznxuzrOzd7qJRduOtTPzG9wJpOgEE+Fv7jt1P6VP8XexAczvJHJhWictx0fWpPlj633UtJ9Apj1aBOzrW0gHzH8sW68kdwmhuV41GKYE8/yWYPrxNe86WVA6px4PUoUg3GWEodyoHyGn7r/xqZDe4R/bv6jOg+enOUDF87fsPhJKUQJ6pCjjlyYv6Hq9lT1v2VCp1Tqd1O+/M78W+RTtD7T4cz5nOmMaIPPdAAlRh7VtGUX83ly67SluExbaOrwnD+XSUFvsJTetxZHMm0FzqGZw0iX65HxzaHkWgy4FkOuRyOqaYs58VrMic0ztRiZthCyr6pOvfjY1+Uf3PPcXzMPXvshOWwZ5iyFPj8k7zx9kYZsmynW7z9LQ9bmrA1Z58QbxQgXEiCGOfEBYpgTbxMDbpy2wE8Ncd+0JcYDzmkLA+uC+GJx6dRbr/zkS1denkpdfuWXfjxn23Hv0PiPD7qWTr788slLu7zdUDR0TrwYgSCUg2guBBhxXvQbgdJ5X7oeBt3Z8LAuFIw4L/qNQBEcviDX4O9b2UXvYJ08G/GYnWemB9NvsoorCQriuvBU2w6ZcTETF9QIEAkv+o1A/lyC+APd70shYKxPgqEW4hAxymz4qSv+0GPD8+BL4fsPHeSFecwmvDDPk7TQM9rGJTQUFF0HRHMhgOb5dFQQh3u0zst8S4obc1pYJ7QRoGK86DcCkfPcQrnojoNNLrrjqc6DN3oXEAnPpzInO6CsdUA0FwJEzjG2LogvDheOLr37Y6lP3jDl2ZcXPv/zW/7m8stveGpn7+BYXjxad1sqdVvd0SGTLxbYPR5ziAKSS8PLFWMZEhoigudliXLAGMFHAkwYch+cV8tGK6auO4E9lf9ucqZRHpTd8Mu34+TCvMuYt2EwjveSahjBOxQBieABRvD6qUM5gOF1QXxRuLT/hYkf+bP71vTI6F18r+72cZdP/H36Ap5HFsTbrsRX7JJGrK6vlFgHL4lNsw4KWcfWiK3BfOrY6hvrgGguBNA8ko6AhTsy32SVCN5YB0RzIYDmoR319PToCN52RaG4SxqI3bEruTB8rK6vRCsGewqbsQ5ILseAS4lDlCi/4eezOo3mRdTBh2ovrrriD/GA0/PZp6e3H9ovFYo+04FI6oBoLgTQvExiJI5HBM9yFLJ+no14rLQ6xvogNi4ECG0EiKqOFkD+Uu1vM4fWYMiOQhxpl112GZ6ufmOzVADoV4DmCTVngbEOiOZCAM0j6Qgj7IL4onBx2xNXXvnNujbv6X9cupD+/cTLx92xtO1SgZ4+eNibMSwnfii/GXajkwuZqaZT6HzJhUyw1vl8aCSbz6cTrIcnW8spqgX4xOiceJsYXi4FCRWDBoPF4NGY+a3FMPMbQC8QI7k0R177uhajR8kmBs0K9yUXUowtuVCL0buMI4OhsInRo2QUo0eGyxL7xOhdxtV/l25rk7hwV8e5gF2Wz/FjFEOeTqdxDEsEDyfSqefk+BSh09C5+q9OQ1+v1olHIV7iijRvvbVbyp/ZdJLJhTr13JeGLsaXjxi0FioGhJmOOidei0GDwWLwqPNB9TrxIkZ2FtMu0YtNjKRgYsylxCFKRGT4g75ugVonftKyp43rxN/06nSJ0fH4ufmPSiFe1Tnxty9/Rjhau7v+d8KbDu2Z2jBP+Iq3mqsWPC0X5l+oSj17l3dh/ljDo8Wd6RlusR1ytDDogZljvjy28wUtRvwwQIw2ZxGDCjrbG0q0OdvEaHNWYoaNDM05Z9rKjIZPzOAoZeAbGdtMYRFzK0epoGnLJsa3y4xi3qi5dtq3vYvuu+bcdNuEzEGNp/Ax3kjUHsjfzcCjMdu768zFH6zoWrQ7c/CjBZ2Grs2ZHggDFA8EZKYQ7jNnoxifOQvRYjQPEKPNOR8xtmmLOfF6puAK+loMBtkF8cWhY+ltf/ZHdyzt5Ohd6tlUfV1q/INru85FdSUeu8djDiXD5dIAsA9G8F5R2YDYvawr0nAiGcWAxWNn8aNFPnCmUR6U3fArv+PkwrzcLgOYMe+97OBQCHDkyMGDwF2OqMbGRnmpCCBmhe/JbCVxvIMRGGcXxBeHi50r7/uz1H/59G0/+/0rje8NrlZwqa/5ib/7yJVf+sGj3/s7F8THCheHr0szNpHuPC+emP+i4zGE/LTTGEldlV02a+gXAfOBM43yoOyGP1I7Dh+zEXXJhXmBXJiP/OO3w1gAI3gQr2gQZw415W/aOoKXzcXxNmCoXRBfLLKLFdC+L1082vTMbZ9CUSRB/HXjsiPGO2KAkeP04Bli46GNAJFwmwDNi24cKIijx753ViDyQ/wXIEZzIYDmvEEJFF0HvWjOTm3c1lGh/GjXCflRJ7ihsY5NgOb5dKTB+4NAQRwmLvcQfbzn7ZXyYQzjXHTjQEHcJkbzohsHNOetXgDl/KUn1kGPmueKgfVIiUPEKLPh23LiI+cDF84zb17zXfv2Tn/6V5l/Bbjmo7wwn89ZXzS3WY3mRTcOFMRtAjQvunGgII4eNbeJ0VwIoHklp62Nb6yVw2fuouVSCMCvEMGLb6eX3c/62vc07zqTySRk+M6NmSpAsAf6uK2jyLlNgOZFNw4YOUbbBfGl4eKZbt+ywZfOnTz01rbmXW0lLya8bpo3YjjHmNMMzky1TNba6nuFn9q3hAkGvSq5EIV4STgqM21OczTO07htwXU8zcjxyIRCnMzsVAvTYs62NlOMFqbFdG+cESoGvHQx/R0tR179Khykd2+dTcyJzTNRTbhVzMrJNDKbGNQRHiAGfQm3iQHHAAq3iUF5sBhwCjh9ov3xZfvggzDHjBh1/GAvCNdifMePUQwa0buJXIPJhbAwnVD4VJOXUAjOXJHWkxd4ybnpvexy7OToQmYC+a2uBTv7mFCIN5KjcYbC4HRPCBCuxcAK2akWpsXsPXo+VwwAgqfCoxIzc2N2ZFBffulp+b4zFJPuPL94jxeNGcXA06XEoSwom+HrnPjblz/DnPh7V89m/H3d/GqJufHIPHhw5sHjXTonHu8ln/HmYuFL9m2s3b5KOAiekje37hsYGKivr//Y9O+mJnhpNs1P/7fN6xbLhXl9ptN2MnwowVpbEGrSgsAHbSczRNoPA2yHfpiP7bQt+EJWzJCwADHkWkzFp63MaASICZ0p7NPWHVkxEU1bxplCi9n72gMPfj1zwOCzn/bA6Wvats/5hlj3jEUbGcf7PFBOHvCfrs2sx2XcxEvRMvx2sPowD9Rp6NqctRidE6/NmWKAfKYt5sSjZZpzoWI094k5Z5kppFRPWxhwF8THF9g9HnMoDe2LJsJB6GtjDTjh4YBT13lfJEoi4PvyrYZjq6u8ojEA2XE0+nzgTCOhiNuOS6fTiMagSuAy5h0CwCwaHCRe0SB4DV5voXk1cvHCt1Xge1xJBMbcBfHxBXaPxxxKAGJ3GEfrvPHe8zEGMcSyLgmPqb2urk5+kLVM6G6ukZ0Y7P6jDDJ76buooXCmkVDEc8fJhfmJEydCnsBlzDvgkNAp77YIHl7NBfh9W+/eOq+SBb443kXwNmDYXRAfX9x4bXbE9FVk3h3DSWLjjHVQaONCAN24sSMgtI5PgOY2AZoLAWwdFcS1gFP7lsA1Ojdk7j7r8gAx5EULAMh1pzZuE6B5Pp2yQQDlXI7mrfc6vFJVxyYG3CjAx4UggpcFLhDH46n+qKCjT11urHN+eLa35r0HGsX6e468zZsJqKC5ECC0I6AUMTYBRm7rKB++71jmW61y/8QmhpydYkdIiUOykLrmo0xP17nszKsBNC+oDlq2cd2pjePRuzB/7VWZYG3wwvyLv57KC/N0AyDUmnxWo7nNajQXAuTpgR6LsRhynwAjB7GJIQ/tCAjlNgHPPj39unGpqqrMHVGUMw9++jPP0/doR2jtrVe8XBpsklfT3ZyJ9bXX0ccAljOOlwje6Hs+nisglwsBbMZbUB2fAM1tAjQXAhQtBiPvgvj4gjnxOH+4eivOCuY093e0cCnZ0wcbmEKnkwtRiJeEozJT6MCZQqfXuPVx8QUtAJxpc+BGMTqfD70zhU6L6d44I1QMOtJihOPRJoblWszRlXfCOCSRWo+SFgOuxZAPE6OSC61ihpILdbkWA65HxiaGaehWMaaRwc7SYvYsf1y+zLpuXzfLMc5aDLkWg4NHiyHXYiQ5lRH8pKHfZJ2hVkbXC+4y993HmVyY7jw/d4cXW7S0DzDze/c7+w/OuQZ7sHdvHQrxkpQv2NmHtwjHG5lzogU81XSSHOXinj4BzHS0idl7NJuGjt6Z9RgghjxAjHA8ajHMiQd/eE039t2c7ae0GHAthpxisC+kxCFZSN3zLy1HvN9durv+d4yzb1/+DPmkZU8LR4QNLoUoYR48OMvTXe3TGhcIR8vkDQd3zmz28phrt6/CU+EoJEdlLYYfDL615KmFK16TC/ObZqQQzMmF+dZXPiMVtO9pPjRtZU7AANsJnbZ0Tjx9b5Dfqrh52tK8ktOWfQ7NjIYu94npanpCuB4lLQZciyHXoxHVtCU58fgg99gtqQX3e4vP7H3tATwFUA4LglUOVh/mgTPfOM44/rFXdx5Y7x2f9EDYsvZAze9f1S0RPGJW7YHk2gN1Gjr9ENBidE48Bfh46LSFFkKnrXzEgBunLR8PnrYw+C6Ijy/cfBwJJCGebjtGgDNffrEfUaBXFDVyI/jIgflPdp/cSBlTkAtRha4H6kwjoUjWjnMZ8+VGd3NN67zx/MQSB2AXy4+wSgRvy6LJBf4LyasZI0sDVxIYfxfExxfYPR5zKBawDLkG4D0fM0DsjhCwrF9mLXcEDyB2x75DHD8GrX/G4DprBX2rFXCmkVAkcce5jPkyQb4ChC0+cXxtba3s4kIjeAH+C5i5i+AjB3aBC+Lji9smZEeMF5JxGvCuGTjPcM1BNOeZozkaIddXqTXXv29qrIMWYi4Gr8IKmXJTqBibMC0mhqO0+fAA4j9svHUYuRgA9iERvA40NdffRjLWwQcM3lsEp1rhvXvrZCY7duSwlKOQn0k0RyPkZRIjHERzdqp5JGL6zn0oexBNaQGag+Ry7BQpcUgWUtdexTT0liP7ybnuJKB506E9HrPUQQtMiQFnSozmIJqzU83zETPvzZXZC/MT8OneuzA/gh4oMNZBC3EWwwheNsTxZ9u2aDGaG8XYhJUybU1/8Hbs28bGRvDN6xbLrn7y2bnaguh7mo8+c0YL8RGDveCC+Phi+SPeiF1Uq6GDy/dCAJxjJ7bMEn5WrXF7+mAD0+ZQyARrVOZpiUboBWgczeby4+umiBf4BGiu0+ZsYvreWSEcJJvPZxGDBoPF4BFcCm1i0JqMkgSCHctvlXKbGKgNFXN83QOhYlCHPFcMgF5CR8a3y0JHprNhqhaD01viv4aVr0gF1OQqvz4xRR8/GrOae5nDp/nsrd5atijhurY+zoRCONrSvaeF7z16flPTapnD3tq2dtMhb5HdlW+fYdolKtNJF+0+TccMECOOmY8YtIY2het14lvaBygGhJmONjFoMFgMHvUoPbfF42gZe1CSILUY9BIsBp4uJQ7JQurOrzCenta4gHnwep34qQ3zJJ7G45R1c6QQr3I9eHCuB4/WajZ5ue8IxGdt8aymuXUf14lf8c5m5sHLOvHCUZkfANCIUYzmIgaf5xeueC2zxvwgrhuX2ljz3+XCfMaCIpq2jB54bPV95DRnlOjZwThTBIjR5mwTE2rOtpliUEzGAbQYtHbk1RvE9/R2eM6fnRwSNlLTFkdpx8pnf3lbZv/ic5r2QJ85h3rgi9tOGT3QZs7aA/VMof3QJkabs1GMz5yF+ASUQ0zp0xZ2hAvi4wvsHo85FAv5lX591WF0Aye8pMIvSvLvVGP+kBxKziJjDcUlxAPONBKK0bTjXMZ8cUBsLb+Gkbv17HjeqzSiKDSLxqHcwL5wQXx8gd3jMYdiIZ6obxeOblQgFb7cwEwmEfyY+l0nH+STmL5/miecaSQUo2/HuYz5ImCM42NyLQP7Tr7Y6iL4+AC7wwXx8cUjN3sjhhObt/PAeTdNl7/f236+27sBCqI577KhMt4SzE8fWCsEMHLdqY1rMT5hFRYjJsjyADGhwk7tW0JuE8PfoKYAH0cvmhvFFD1Ku4ZWhZebdPmPEuATYxSm0dI+wM8Je49mc/u2tXmqACZ7ACxHTd5bzOWQJHPY4de+Lf8g/pf2Xi+WBeH9R92pjWsxRp4rIJdrAeUWI7/O3XfuA9mPLNdijMIoBp4uJQ7JQur6TzH1vLl1n5Gv3b9DCGDkqMmUGBtv7+3a331EOAhzeDTXnTYc3EluE7Pinc0eM4lJp9PTn/5V6t/+LhPIp1Jf/PS4137zQ7kwn4/tDPO6gw3kRg8EbOZckAf6hBnF2HiJYvCo43jJk7GJCRUWybQFvmPls7L7nnx2rtEDy+GH9DpwZqfocp8HGoXpTqOatiIRY+MFjQz2iAvi44uF93sjdrG/h8vEgjNvDycwOc43npbgPP1QSI7KPOc1R+NMm+tqnMZznhyPTJUDZ6damBYDo9FiyLWYvndWhIpBeSliUAITbH3pk6FiwEPFnNw1L1QM6gi3jQx4PmJo2TYxKPeJQeQnq8JLDgZK2GmAGOZ9ajHgWszA0d3CNVa+fYZ5e4v3ZLMe5+3wMh2FC0EJOWpyMV3NYXNoEzMWdtl7L43b+bY3AnArmhcIzQtWS2fEG8m1GJRrMcK1GHDUEZ4rRjgsmALKLWZNOrPv5HvJU9d6yxVrMeDBYuDpUuKQLOic+JnN2TT02u2rGDdPa5wvHI/gUgjOHHe8i2vAozWWgy/c84ZwBNaMs0EY3GuON1IMOMVoYRQjXIgWpsWA/3bzcrkwf+O1qReqMuHgpEmTEBr2vJW1IG075NoDwemB2g9pyJrjkeasPdDmhzGZtkBQQZLj5Rq8TQx4qJhIpq22d7ZIHvxTTz1l80Bwhq2leOCKvb3yoy7akMG1B5JrMeBaDLkWA04xWhjFCBeihZVJjHGUfGKEazHg7BQ7xQXx8QV2j8ccisK5waVpxkhWhqxIyO+7RIj29vaqqqom9TvbZYJE8NjGTvqTEZIThVDee14InGkkFGNnx7mM+XyA2Fpi2QoAffXuzfzetqC2tlZ+kFWAXSOrCVcgiwZK5C5EZTKIGg6cZbicUGC/uCA+vsDu8ZhDUYAJVswORhYwI4R9963s4qf5qEAHr6vLunw5IDsL29j5FrIRmFSwK7EVtyudaSQUY23H2TLmvZcdKgVf3MzPV/LqiETwspV74pbFA/iTqAkFdo0L4uOLX9zqjVjmg/LQ71GDMyf+/d52zXmX7bxKLkSh5rzjppML0Ti5TqFjroVPgE6hi7MYWV/yxJZZRYvRXIvRIrUwLUaL1MK0GJswLcYoTIvZv71ewr505/loxdDBZT34lvYB3v7TyYXr92evZ2jO5EKU8DeowSXzW7gkFyJwF+OWi0/ohfcfdXIhCjUPFYOOyPMXA6BlzSspRr7Y8Is3egoSQ87Z1yFZSF3/KWaw6DT0Jfs2ki/c8wY509BRgjrkTJsB5/KRaJmpMvu7j2jO/HgUagGRiNHcKAZ8/sZVXuD49+OwyYX5tu1LbH5I34twpiC3GXIixJDbxOhyEYanHUu/Jd6LbcZ9//zsXZldgU9TeKl16wLx/yefnattx+aH2gONfqg9UHsj/DCjZNmkdO01i1+ZJWLAl65tlAqoafPA4sRIBC8b4nifGCEo0bND3GYK4dg7LoiPL34zORvE6xQ6cpy09Aic2Eybw7nN8x+FPOdRmee5TqED57mtuU6hY6c+MTqFziaGvBQx5DYxmosYBvEUoIVpMeAU4BNGATq50CaGyYW6XMSQ5yPGNkq5AoCfrzwIJ5qz/RRKjGmXPjFGYVqMHD++CB7lMBQa0EqVXAhO09HcmMOnOVpYvKdPsp6w7aufLuWwPJ1cSA5CN/SJ0dwmRniwGOFoje5ZqBifMKMYcp+YNemzkksDj2a5FgNOAVoYxWB/SYlDspD6xmcZN+s8eCPHI7gU2jhaY2ytOaJ2W048A3pU1mKYB08BPm5M0NccLZAbxcBhfvnqC3979804gIFp3079vOoGWcrG54HM9tYeqHnFpq18zJncJkZzmxjNtRjwUDEB0xYe9ZXvn34jdfUVma8ryP2Qtne2PPP9j2NfwP9tfqg9UPMiPLBj2a3QgMD9pQXzRY9wGRyYs9EPtRiYMzbhAWLQlI7gZbt/VXffuQ+lTj7TVlRiQkcpdNrCDnJBfHyB3eMxh6Igi8Tz5zBGJeRLkOVIpPFF8GUCJp4xviS8BtxZJpWi96YzjYTC7TiBy5ivDHwR/Av3eAO+8P4U4ubcKzjlBvyfYvQWeXbl62+fEY/1bfLLeokD9pEL4uML7B6PORQFCeJH8bckEerJijTFfQkyGBVwcEbwmE68orENyaUpZTpxppFQuB2nAdvxZcxX5rv1Ywo6bn5mcmaQEcHDkN97a0uFI3hBbhxfju9HdZ6+KJOmb0vozyNiN7kgPr5w6TQlivF+rvXghlAx4EYxaJB3bwtaq0sLQ2uaU4AeJZDQXabFoEF0Mau5F+5TsyptFMNOA8QYd5lG8H1Jct7+890KFGK8FYjeD8/9S+wgRPBQGHBfkrys9yXx70SSTlOKmAdWdWOH4iOZTQy4TYzcvYWnS4lDsqDTaWxLTJLjMTSDBa0FZ7AA8UmnAaAkV0w6nb7j2erUtVdlYsxUat79fzK/dqZcmBcPHKw+jCd92hKejxhwoxjbtIVyipGZYjBuvoxBc+u8cYfqH5YI/tZ7q5fs9tY6s/khbUe40Q/14olGP8QjZ4qOTbOYTnPiwEZ6I1ogt4mBklAxaARN4akvjn9iQ/brrcHTFhChGM0pQPPQaQt7ygXx8YX+YqvtezCM/DTHSc7zHIU8tzXXX8rR332xfSlHCyhajE2YFmMTRjGATRjFCGcQHwcxwiMcmZ2tmcQ+mFHH2963fwCbGHZqE6O5BpyIRqO5/lKO/iKO7Us5/CKOcHQn1+APLLpF/im0TNfTHPZHByyTGHJ+RUlzmxibMC3GJoxiAPKuMxdlRkE1LUDzUDHwdClxSBb0jz3ZvkvKeBdgHIxXC/0uKTkCZQbuKGTgrrlNjOblFrP/eJtcmH/slkzeNjBp0qRdy6b193mhqtGcfR5oNGebB9oMWfMAcyaPw0xBbhTTtXG6BM2Za/C7G6f/rz+T4e093W+0HfBc2wG0B4LT62weaDPn19c1ZGbtQ03gv2o6KRfIwW1ijH7oE0NOMSi5e4UXx6MLmxg9O2gerRggn5ExinFBfKzh5uMS0b5oIuyANjeagNNYriXITzslCxf7e5hFwwnGQZI1S7yr60wjoXA7Lh8YM+Z7eopPP3MAuptrRjCLJhcyZfPrp2VKdEEwjTm0TI1XDNhfLoiPL7B7POZQFOQCg/dkdEECvqnrTnjPkwNE7fKFKhfB+yCfytKd3rWc4uBMI6FwOy5/uIz50oFA+djqKjrw4Xf3xCSCFzCCl61MoTbzfJIL7DIXxMcXC+/3Ruxif0/3xhlZPrSOB87DE1tmCT/b2swbZKcPNvCuHAp5Vw6VeVlaczTOFLrOhqk8scnxCC6FfjFD3CZG8wqLkSC+v6OFCYg2MajARWxsYo6veyBXmE8M6pAbR+ZcVzpUjG2UKKbztJd30Xoyc8POKMY2SlqM5hot7dlMx02H+smX7j3NW4HgdMAFO7NZjy9u83L4gNlbvZRKlKAcBD3qPHi8C++VOmgZbQpHj7yNqHmAGHKbGHKKAbSAkRWD2B079O4VXgqBTQyqMRvSKAaeLiUOyULqzq8wgWTGm4uZhq751IZ5ksGCR3Ap1Bw1UV84Wpu1xbMXzZtb9zH7BYTZLJqjMsXUbMom6BvFAFPWzRFiEwOOdoTbxDQc3MmUmzzFbN69w7sw/9ObU1f8IcLQ2tra9lU/yfVD7YE2P9SGbDNnbchGcwZoyJqXQ4xt2upq/DkDgK7GabnCznXvP/zC/yU+fLH/xOGVP/Hy4L9//9ztJ73KynZsfqg90OaH2gONfqgNWbgvgpdtWsPQf2ERg2mLWS42MYt2FzNtAdqQwdGO8FLE2EZJiyG3iXFBfKzxyM2ZEaurq3vwR3evqJ0Kkk6n2w/t53mLE5IcJzDPYRtHZZqLjevvg9s413vRAnw8VAyIUYDmemGZIsRIEA9uE6C5UUCEYshtAjQ3CiCX77PO2e6d0qWIAW9vb6+qqsLkJ4UAnIXmojkiSJqLje/qOCcE8HH8X5JF897ib8k/gnfhvVJBc5sAHw8VIx9yBDZhrGMTA24ToLlRQP5iZJ9ybvAJyF+MC+ITitT1n+roPCa85ch+xsfpLs8WgKZDezw2nLMO3oX3BnMExIyJbVwLsHGbGHKbAM1tAjS3CSAfGBiY/motL8xj3uSFefphsAeS2wxZc/EuAG808pGdKfDYvuifYbPSXa6Y3z8z47Yv/+HOmZnJEdu252/64U3/FeMmefDF2Y5wVBOufU/zfAz51T2nGbj7NqmmhQWIIbeJ0dwmhlx3auM2AZrbBGgeKgbgSGLHuSA+vsDugT3pm4YCfGh26+bmg5HNie/p78PkWp/eWrensXb7qqpVz2GbtOzp1Owf5G7yKraaTa+hPuYnPXlr4EyGnd0X0cLwXA+4urraKyoPsBdcHrwNsHiZpUrfp9iVHnNIFGw7DlNATU0NolI81tXVtbS0pNPZsMxBIzdjvra2dkxlzMNaJVlRNv2xQfDLn0+Vwdk0PVMBj5/8k8zTf//2LRXIosHkpSNRG4xX4pOevF4mYN+5ID6+wO7BIzwIxg37FiuHMQE2H0dMhppA5pr9mA/0K7xOPMJuxN/VG162RepFbBPrpiGsxycBXpeauu4EHC2S77Mygi93HqSL4IMhk1Yks5SYhkPiYNtxODHlJNVASVtbm1fDYTgwYmMzY94Xwcum43h+wll4vxfB//fBCP5r16baN3i/ll0+yOUnbEXE8RWI4HmxPFnA7nNBfHyR+unNQnr6++5dPZucyYUtR/aTN7fuq92+CtFY5qT8t7/LbIOoe+Sa1q0LpM6JLbN4t667uYaXqI/V3820uWOr7yU/vm6KhFwoQR0pzPDV95JzYXK0zGT9s63NzPw+fbCB+XwoZK5eBcRIEH/qrVdDxejkQi1GJxTqnHgRg33RuH/7YwvuDbi+jhD8lS1Lnl82FSE+tl1vrdZihA9cOL9967wdLYvlyn3tyie+/9oTuW1eXfvDh1ZvhaMhjm9d/TDFcMQgCcKkECV6ZDhi+NdkN/ki+Jb2ASZb63w+FDKfb9Hu07x1qJMLn9l0knxWcy+5JBeiR18ePOpIBfC5Ozx3RstMJkGPWgwTDVFIYUv3DhNDCw4QI/crUYI6UhgHMTM3npSJ6mD3+89tCREDbhQDImKwQ6XEIVlI3fkV+LnwaY0LmPkN5z9wpDWdTiMw/fILj0y+vwon7C233/r9Zc9KBd/s8LWXH5dr9is3NTz4uleOlpmG3nBwJ5dsX/HOZqaho5Bp6JhWKEanoaMj8rvrf0fOnHifGNu0pXPiKUbnxKOQHJWNYrSA+5QwiJE0m827d3zmdz8ZnAZT141LNTz5R3JhHn4Yj2kr4wCliAHPinlzxpFXb5LA3bfJe3FUNPw8Mw51D/85Ct/5rRfBf/2GCb9csk1EwnbojTAxbTvM/IbP0IJoOwAKjTMFfAzNMoKXDU/pjXBCpqGjhIY8b8cpqYwIHuWhYsBDxYBLp4A25J83ZC6NyUcFoxgf12LIfTOFFkMe+bSFPeiC+PgiNWG8x3CsWLIeeYFWuFyJnzrzF7c/eI+EaDdem3qp9rdSB44j5yqAk7+/rwcTA6aHtr0bpBCw5fPpcls+Hx1NcxDNKUBzNEJu7AgoiIsACeIHju6mAJ8woxjNcxuX8f9d40u5QTZKZqybjSgcOwvVfGKCuU3A3oPbFu5cW73h5fFzH/yD5x/4zpJ2eM0/LKhDR5y0tMj8d1lVVRUOD16Dh1PQUEA0FxPxcTgRuc509GU9Qo83l7z6bf5TrIMW6GhagOYgmrNTzfMU4zFLHbQQiRjNbWI0h5Vjn4op24SxUxtnp9inUuKQLKSuvQqmIZxuD9g4ZwFAl3/u9ptwDGRwxR+mrv8U/mIiePe9A76ZQnhmylCcAjRHR6HCjAn6ADlaCJi2hINozk41L0IML8zfNkHGJfXgj+7eXu99utAmrDmI5vQuzcs0bQVzm5jz3fs7lt7ime3wDSaMEcA/jhFoamrCu5pnfvLuf8oMxdeuzfxSx+EuL/QEirOdAI4GfRG8bGvS2ZvJNnNGCCuBNVor30yh5aG7is0UkUxb2IkuiI8vsHs8VgICkmp0+iAAm0NgZ0vUSSK6B3/GuS9d7z0vAZg5MDcgmPYF7lWrnqvb06inkPJh8Z6My9y25JDuveiua2trq6urJYIvExjBd26o5mTjoAETl5UltVmXApzIHnNIFKLacT09mUszdXV1MHPvxmwqtWNH9leiNFAZNcdInj3+Rz3l4bPNKMuYh8fa0mkQuzOnCJ7/rZszn/QQwR/M/NaedzevTEC4yRDZt+modKSgI3jZKpC6EyGwH10QH19g93isPIB/wdRwbss1ewF833s5B/g8EPCRIIbo3VsHF8Oj97xwGGP3Scuert2+Sl8JqwD6zn0gFgPjQ+Bes+k1racynyIKQs+OWplFeIPYIRcNB85in0a43j9OYY85JAojsuPwMX7Q9T1gIhhl13FywQvz3v88ujLmfXG8vjErwL8vH+0Qxx9adndlrq0gLJbJS28Fxcq8Yh0tciN42RIUx2NXuiA+vkg9/i0hPf19ty9/Rnh7b9fd9b8TjjiSC/E2t+6b2ewlHS7c8wY24ShkpiMqM/REI4z80Di6gHcDty59mnkan5v/qNy7RMk/znts0PEySXWbaz4C46utrX23ZUPHci/o7+9o4Xq3Z1ubT2yeKbx3z0Lm9ul8PlRmKs6x+rt5S1EnFx5dcTt52/zPieNkfGqoU7yKOsLf721nOVrrapwmV4I7lv5bqBhU8InBQOlAGdvX59y9Ys96GRwtBnzwfYNiVk4mZwYkWiNHLxSD3rUYaBOOClwJGP+FjIz44G8aj0s5/uvOE634LDF+7oMir2rVc92nOoeJGRoZzTXSnee53Ozeo+cX7/H4+v1nsQlHIZMLUZm3EZ/ZdJK3C59qyubzCZd7INjkH0QJyqWC5mhhRqO3fwPEMNEwQAwv6uSKET5ldbfMBPmIQWtMSbeJ0ZmONjE609Eo5pG1mVxMuQyPV2duDBGDXmxiZJfhDJUSh2Qhdc+/0JDxsZyJJWLOPg5b/vz8R6UQJZwdNEdroTPFjPULquY+BTPPBHY/+Vrq65/G8fPUU0/5ZgqKuWnhk5t3exf1tTDMFEJsYmTaklijxGnLODJ3DBfDacsmBiPc0tKS+Qxz/adSUzKXpfEBpr72wSMNT0gdPVNoQ4502sqMR+60JTyfOTR32gJBR60vXcUIHlMSxbQv+db37rgF/+yk737/gVXeMGrbAWfiNWyHXJszTC/XdgCfOdMD4WNwM18cj6f0Qzgh/FCODZTkmjPsser1rnxmCopZsKtv6toT4qs+c9bT1qZD/VoVN/QFVUYxAFowjoxNjG9ktBiOEhqX0fDx0GkLe9MF8fFF6tqrPDboOx4b9CMhsCobFxcDUGjjQgDduLEjYP/xNl6zv/FaPGSApzQIeIeNY8vlqKC5EEBzGJzHiqoDUxsM4m9heagY/Mvzt6+cWDeNsTvsvj69FeUlihGCXjSnAM1RQXM84qQVc+E5z46wQ59rfpVqIV7KAS1Gc0J8ysjFOAAU2rgQgLYIHD95Wr6KgK3rXW9KBnQdzW0CNLcJ0FwIENoRkE8dcpsYzVFBcyGA5rkdyXWgh9d0SyFQuhiclVLikCykrvkoJ+NCzTm0DlzCxvWM0NF5TC7Dg+tyIbW1tZiS6Py3P3hPTU2N3JtlHSAqMTYuBAjtCAit09N3auGK1+TC/NVXZC5RyYX5AEP2mbNA8xGcKQTvnzrC4D47UwwM/HjyzbLvsNeCrUmQv+0AqKC5EICccbxc57Z1qsvBebEccby8hF60GM1FAB6f2NAj78LbUUHKgdyO2D43vJf1fWI8ptpBzWAxgE+A5kKA0I4AYx3sUBfExxfYPR6LGWD0suqlOH4u4BES7kuePdwflSufigODk2jSex6IdFe7TpsZP/fB2u2rtO+PIMT++IX0XGBOqlr1nCjHpw49jVUSmDDkZm7rvPG5d3IdfJDVQuVyUVSIrWk4BKPCk3ER6Onp8a7ZK8DhvZdzkKx0c8xlozhjnlk0EsF7pRUHJjKJ4POEL8K+b6UXxwcAIfKMRi+Cly3UYHUvcg3eeyEJwD4d1UH8pXOnjp84k90lH5470x9yCMQJ2D0eSxpgGTrpUAD7qLwnyvLkxuvQRNOhPQh8Gb4jlNfrG4w48Flc/IWX4W2AbMmuwSNvQFcM57rSMtp4DB5wB0Bmjgiz4QU40Tw2pnCxc/eql2fNmFm7YleXZ/hnDzU3bt6+79Cx3nNJmJSx42IexGvAyRH11tfX2yLClpaWQdfP2D5Cf8THARd94gP8X9BZesZ8e29XfCaRmETwhcIXwcsWHMfnRvCy5RnHJy6CB7BbR2sQf/5Y8+/uuvYTV/7xRz5+7R0z1x8e9PGzh9a/OH3yN7/67081nczepIgtUk9/VwgcYfLr3qrA4A+sfUF4uqudfMm+jfN2riPHJhyF5KjMtEvN0TgvOU9Y8BjvXZLjEVwKfWLIjWLg2r+qf/nuub+EidfW1hrFwGK2PPvph2//nFyzf+vFCe+2bBCvaV84gbcLyfEILoUIFpmGrjkCyuPrHgDp3FCtL8af2rfk5K55wo/umPPimpnMKR835yc1m17r6e/DGyW5MFNn5WTGo2gkWAw4OzKKEW4UA4KnuRxvXLqtDf4yq7lXi9Fci9kz/x/5gWTxvH/NvDp0V2SwbibTkYuRa970Xj/X/ALHJhyF5KjMDxLgNNOZG0927Nsg47zzpW8MDHj1mSgCZyTHu3TmN3mAGPIAMeRokMLQKU2ZPA5iHlrdLdnw29oGKAavokS4TQw46xjFcEePIVw8sv6Rf/r4H38Ebn/lH185/jsvvnUG9v7hue4DW2ffddUfT371WAIu3aR+evM7Xd7vN2lDNpozHr80ZMg2c9aGbDRnQBtywEwRLEa4EIqBq990922pJ4Yu2197Var6FrmOYxMDXrQYjIYWI9w2MprbxGDa+lrN/aL993enZv3gY3JhXs8O1pli/ue+OPcncGDE8caZ4qL37amMG9hmitMH1nJ2sM0U8NtcMZhqG5+8DHOolKOO5MFj8O+vP57rgaG2gwrg83acknKbB4LDzYTbPNDohz4xwvvOfVD1embZrtxt7o4++qEWA/7CVm9p+dxN8lLwRpuYPUfPiZ5cMYAeGXBtyDYxemTI9chobhwZzW1isGdHZRB/6cLBubd8dNw/3PnT6dOfeOTOr4z740/d9vzuM4P/6cXt08clxdav+ajHBvMlPGbhMCy6mI2HNgJEwm0CNM9WHsrVE1w3ziOIPnWeX3FcFqjpftP7OTo4KTZoqNvT+JcvTZFgd2LdtNf3vUlhtgbFiwWR1BExwfxsX48sQYiz3dZgLudXcqeuniMR/CS16JBOsyOHR9A4bNz4RuBo01MSwXc315w6nV1y2FY/lNsEaF5040BB3CZA80IbX/n2GexTuQyvy9kgYHuvUQA59rWUjBl8eLrpseu+OX3FrveOHus4tGv17Hu+8j+8OD5hbs/JuCCzBQri2oRtvOjGAR/nNfvaBfPwyHIh0inqwKDGffpv7v6Rd82+eduW/YcOSp08O/JYCVyPAIVBzM1f/Yerrxick1Kpx+6fzAvzRhPGJ4SbXqoS+8XW/E72Kr6uT4cHjO0AxhnBx4UA8kbJCMIcKlfBMLcygkdJqKUAvjqIFzEB7erwAlyAVpPLhQC2jgri6Do3jpdsHNbJFSOpp76NV+ILEgAUxHPF5PKiGweMHDt3VAbx596d/b17l7cOOfeH545uW/DALbcPxvFJsvWxNB/D6CXPHjZUVVVVXV0tNpQLeKhcs5f7s7ZqgnODV77bF3mJm/BlhO+8+o7wPVaZM7mQJQgDsuFtqE9v9SaS+2/EBAk3916IFJg5uKJZKUt5jinA0KNdG15jTJnGIPp3P33vrH3eha4MLvW3rfrZjbfPf+/CpWS5fYLSaaIF3Ck3/RII9vZKAhONXo4TMbExYx4RPCcXbhWbYiSCBxobG/EUo1piFo1E8L44uJLQArDlmU/vi+NHRHnFgP07KoN42PpjfuO+dGrf/MemvLD75DYXxCcbYkw+wGS9l3MgIeaZU0d1+D5p2dMxD98FRUd7cO0/v/0f5Z+d3liW8Lq/o4VJ8FwMwSEUrw9ehi/ig1k+wLngsbGCgX2zHlvQ7t2VHsKFk7vmPPjztW3Nv3BBfFLAa/Z1g79UFfBTdAigUUGu2Vfyl6rkwrwtY76nv++vciJ42SrwDSVG8KIn2ghethGJhtt7L9y5LNP7/KGVHPMB4/jRHcED2MWjMoi/NLDr9z/63fa2bbPvm/KK3FcdxPljzbMf/uYX/iwptj6UEw93uG5+tXB81ufqvwhDp6ybI3zt/h3TGucL1wvuonDFO5uFT22Yx8gVjTDR8HPzH+UtRXRErhfc1SsBazGIhoUHiKndvkp4KWJuWPykiDnS0/k/5kyRa/aT76/635+ZLM6FmhRz5lDT8XVTQGC7+178OwSaNS/cKH46eeFD0ldX47S+d1YMVs9wrqaCNzLRsGP5JN7fbF84gfzI4hvkViYewaUQr+qsx7ahJdsHMx0zYgD0wpWA0Tt5z45aLeb0gbUgMCDY0E/rO6Rci2lbcF2Wz/+ccIhhp5hdMCxfnnKH/Ne3vPamlLeq1X/R/ovbvEzHTYf6mfWo17hFITMdUZmeuG7ZC/LpqGPZpOn17/Lu3kNrusmnrPZy+FCiOeoIxzwxY2j1X7Q8e6sX16JHLYbLEqMQOoVrMXrBXXRkEyP3NMstBm8MEINNZpcD3e+j0CeGWY/gRjHgFIPe9YLNIgY7XUrGDC5dSL/0o19vyXH7D868Nff+Gz6fGLe//8bGQ7uFw8dgrcJ9hiwcTqjXiachg9Oo4XJ6poDfCocD05zhzHqmgG8Lh5Nrcw4WI1yITwy5TFsSa2gxRUxbmUlHruM8c2fqmo9mCDDzTi5gDzHlnra8NeanfTs1IZOsiED53ec/0X74LTQLs939/Eeum/1dMd49z/8/31s6A3r0jJDhC67DoSuc68Rz2gIwBeiZguvEozB32sLHmFXVqdsmeBF8+5JvczXJ++uPw0wGq//HY+tPiAfiEVwKfbYjdgQzvMeUkg7/0TMFbQdAIWcK+BX9ED6G1oT7DFk4xIDLsYESGjL4A6u78Xbp+oevd4l4tJzPtDXzzZOiQYvBTGEU4xMmxCeGHC3oOdQ2U2gxHKU8p61TSoyetnJHCXt5VAbxwPmj65/86tVXXnnFv7/0npflNogPzqQXT5lwdzJs/Yo/9Niga3ts0I88NrycHERzIYDmoY0AkdQB0VwIoHk+HRXKJcj+zowHH3n2nxFrbnr+KnwoSl3/qZu/+g+wYFYQjDg3Fop/bT4cVAfQnJE93ByfcwYGBphXw6tBNAtADEJADqK5EEA4uuNK8PJrrLl1BKEdASWKEUTSERCJmGA+Z3vmq1ecA4Di2hGQk8DThYwl2Nz+0sWja6Ymx+05GSfOnCssRq7ZL3l9uVyzR0w/7tN/w+vNvo5QU67ZN2/bwmv2kYg5cKSVF+Ylaf7uH/7gyz//wdWz7xLLxfbjJdP4lnwMPJQbCzEgry6cJ/MaPP/73/0WxMg1+IJsBBAudwtzN7mywPr5NFi08YL84o1hS82gd3nV2A6I5kIAzX0dYVu0u0+IV1rBmSKSjrCjkxvEX+zavGZzV5A7XzrX22lYXuzSxbNnk7LomMccCke6q12WToelSsR50xf/ImO0qRQ83auUg/r6ehh9cfcfowU+o8O27lvpXX4oBfI91/FzH9RTV3HQKTS8d+GQJ2SfYtPWHC1GsWlcOn/uvP1UGAVuP8bTacqE3PRLRLcS70YF78L8EP6Pj/1xatLfp57+7qRlT+ugvwIoPYuGyP2GKGPoCgAd8Rq83iLUwC4q+X9FDuzr5AbxZ7ZP/7dHhn57dlTCXYkvrg5KuDwLIte6PY3t6x5E3Nm7tw4v7dq3VyrnNoIIPuPBQ7doJ06cOPn+bMqj7RoJL34DRdcB0RyPcsm2bmf2CM+nIw1tTN9amrnPi0814MVdRUAvXduel49DHcsmnew8LOWAsREgkisNIJoLATSPpCOg3GLk151ef/tMOcQIx3ErJaMO/buf/t7MXd5d6dEHdyUeRHMhgOZFdJS5GzmYZ3/3j7K/VFW7wMvnAYa9t+8UaiIoxzTB8jw7ymbMX/GH0svdP/xBc4OX+gLYTLuI2UHg44zg//qzExjB0yIAzfOxoHk7sis2/uKNbKSrSW4hoHlxXpfuPM+ufRteMrYDorkQQHN2hEJ9mV//d8UJFpCDaC4E0DySjrC7Ex3Ef/nz07dlj+JRh3xy4vNJLmSmoy+5kGnoOtNRc51cSAE+MTq50CaGyYUgoTnxaDBYDB5vWPykFOaKqU9v5bdXEcqjMnqpWzEVoWf7ook2MVCLajDBmpqav/z1D6+66e8HTTiVmv6d6779Vamjc+Lb5n8OpgnXbj+0X2c66px4Zjqe60ofq79buC8nnpmOIL17FgpHhe53G8RcDqydrhP0uRSxMSdeAye/zue7Z+UhGZZnNzfofD4mFwbk8+El9MtVaERzVMmFM1Tmt02MTkNn2qUtuTBAjBhfPmLQmi3TMTcNHbCJQYMUUDX4LTG5tUIxeDQmp9rEoBebGNllOGalZNQBhn/DbYvbKjdfVRap+2/kOvHwMbiZcO2B5LA1W048uS0nXpszPDCfmSJYDFCOnPiCxHxhuJjgaWv/8TbbtDXxt1PE+FOTv5K651/GD/5S1R0Lf2UTY5y2/nrOg/c99pA0s+c3qS9+elxtbe2Jzg797SnmxGesVc0Uxpx4TA16psjNiQc6Vv/4iaob0CM0/2zNMdoOLIVc58RrczZ+FQe2AyuT6/GPrO1+fsiCYHq5tgPYzBkNBs8UIkaODZTQkNGRTIJ6Q7PY8py2hPvMGWLQI1T5Wn5igxfH5zNtoR3hJYqxTVvGnHiU544S9niig/gvXnnFv/56V28e/0FX08wXt5/50HuWEGD3eMwhD0gQL+E7CO1VgAgeAWhBGSDpwVUvEal7z4cDr2ZMehATJ06E18Opo7pLu/nwAGyFfhoJMPfI4HCyyROy1j621nnj+YnCoSDAdoteaKgg4Gj02GhDxvA/fsPv3sorOeZ89+Gj8sMgSQF2nEunGXEMDAzUDeXZD1p7BuDeyzlob29nnr0P2QvzQ0CzvK8bLXgNvvQsmlw0HDgrcWQRgN2V4nh4L4PsSMxTWpjV3Kub5VamFcPKCuz0RAfx/zjhzvurvllV+9apkH/i0uEF3/xBIr7epIHd4zGHQAwMrv4uEer4uQ/Wp7d6LyhIJNqxzGrHhQK+WV1dDdPM2LOCLegvCHKdoHTP8kG+JFC94WXveRj0BfjODdX67q1DQZDkqApMEjgCPTbaMHjV5o//2z88suZoeEjR/uq/35Msw8eOc0F83AAzR4wOq/eeD4eXfjkIuWZfU1OTex3HlzGPmsY15otGWSP4UsAQvJSJLJJGBHJXAY+dOatnYkMJ7xgkCNjvyQ3iL3Y1L2toP3/pzO7au35kj+MvnHq3cf7jt4xPyEJjGmPkF1uBUviWtrcn1k2TCP6BtS8Y20chAlD5RmZvq5dCo8WQALaOAurINfu6wQUQvNLhdQ4caRWfnThx4t0/8n6pqv3QfobFIOTHTmZ+4EnyLnSejJHDteWDhDzlLTkgl7f3dslA8TYF66AvXm4Rnr0AP3d8XzrzU4vBjQsi4blicnnRjQMFcZsAzYMbYX4nJwlbfTYIhNbRAsh5JIw69O9++t8fWL73rWWP3z41OI7/8FzbiinXfi9hQfwo/cVWj1m4TYDmRTcOFMRtAjTXbzzS04no3Ltmz8UuUymUezVUfUTtM2t/l70wf81HeWHeaOx6RtD82aenX31FCtOHlOMR7aC9v/3KNxjBF20pgK0OOa0mgKMyg2/ZJAQPbRzI5XgvNmMdmwDNpbL+nq7E8frnYMFDzTmU2wRoXnTjgJFj1yc3iM/i0pn9K6ZN/XXzUe3Zl851vb1+zuP//vmP//FHrsxsCQzih3LiEXtNfv1ZcoSqwhGKkS/Zt3HeznXk2ISjkByVGb1pjsaZaDhhwWM0LHI8gkuhTwx5gBjyaMWAzHhzsUSl4+c+uPKdrUYx4KgAIlFpeu7/lHItRse1NjGoEyBGuHQE5I6M5/UTxqNOhqRSNd9NHVgzXeqc3DXv1L4lwl9av1uMBvz4ugeYwXJ05WTmxAtnBI/GUQinYHaj5rCnmRu9HL5H1mdGTL7h2nrywnNbvGvDTe/1r0l7OXyb97z7bt0tEsG/tfShjfu9pG1UZg4fOF0PjZOjUxpWqBjNbWI0B8FT4T4x5AFihFdYTPvJC3LVp0otNGQUA45qwm1iwFnHKAYHg5SMPlw6d/ZsZtDOH13/y+9PW2uI4y/2tW1f8dv7vzougYaf+unNzInXtmP0Qzx+SdkOLSjXdnK5zZADzDlYjHAhNjHgaEd2mE0MeNFiMBpajPAAMcZR8okhDxBDfuuSpze0bJbFzXwjI7yj85j8pMl//a//9a+++sXUE4PTQSp12z9/cs/zfycX5gdz4h8YfN9/nG1txqQgHFOD8Jqamt/fnZk45Ho//PmVX2eS+DEL1Gw4pm2HHgi7iMR2Fu/xPo3YPFDzJzcYFpZBIK6F2cSQazHgWgy5FgNuFIPKs7f682cwvf7ijR6J4+HPDwylngPlFsPdpLlxZDS3icHeHw1BfAYXj6yfevej645c/I8Pz3XvWz/nZ7de+4nB2P0jV159Q9XD351wRQKDeJdOYwfckxfg5Qus3gt2fHhhQDLjEc17RRUHr9nDjgHjjVqJ+b76vUerBvPsURnvyr1PqiN42w3fXGCg5BuunH40MEQ9O2olfHe/wxoJ5ArQ1HXeV8rKjbFhGh+ceevF79/14tBPO126eKZ1+2sz7/3n8Z7nJzGId+k0oxqwaLlkbgMvzNuA+UJqspqUxC2LJmBhGcaslYS+Bq83uR4PZ2b0nETgABgtQTxwYf+C2//1f/3o3z9zhZj4leP++d5fv7at7czF/7jU9up3qlwQP2rADHjE8cZg1IYzh5okPNV3MGMFccD/tfC9jFsPh8623L9//1/8RWbZ+4IieIGsv5mbGY/BkYwjbC4DPhJg0pIJo2KzFw4Jj41ySBz//Lb0FkTv1199pcTuH7/2O4/PWb/v4Jppn01aOo0L4scGJM9eVr2UtRByM+aPHDmCmB4cj4jUUfOuu+6SCr4IHkBrUhITnLcs8S73liuPgCDeq5Fk4ABIbhB/7t35v1zwbibRKidzZvz1VTNf29Z6JnvpKzE/+aGRuvYqjw3eAfTY8Bw+G+eVaRTauBBAN27sCAit4xOguU2A5kKA4I7wyCVo5AJ8oWLal34LQeqx1VUo1AI0FwJobuwIsNUpVJgIEMdZsveUXLOvXTBv+tO/gpVPnDiRvysOfOtHGU+/6aabEMHrCwk6bU6Xa36456QM4NG+U1I/8wXWVd6PsLYvmnj62Du8bIwKNi4EsHVUUB20bOM2AZoLAeIjBiUPrenG3nx9cEW2soohx1EhJaMOH5xpP9DuXXofzJzZtvjn3/wbid2v/ONPfObff/bS+n3d52QJsjPvrnh9d6KWI0td89H+972v7hVkKUDptgOg0MaFAE6MjwsBShSDyB6ReiZjfii3fsJn/vK6cUIzPwcrvwiLCP7Dwfx4ieD/5K8nrG/08ny0pdjspeg6PtvRXGwHQCF515mLvh9blYg51OuA0DqFigGfv9Mfx0PPSInRXAhQtBgcBskN4s9sn/5PX52+uH5Y5sxXH/jt4mXP3vf953cna30xI1KPf0sITvLblz8jHCc/V/9tObJ/xpuLhTe37pvZ7CVV6wV3UdhwcKdwVOZv79vWuEVH5HrBXdSRQp8YlqPlaY0LhPvEcGn2UsSgfO3+HZIK8n88f4+8V4sB1yNDMeAUg94XvTlXrjevXf5jikEFisEbKQYNUsDk15/VYmRk8KhHhqmW4CxHazYx5BgiESO5NMv2ZcVQmB6Z//7MD2D3a9euBZ8xtBg53EGvcfvU0E+hgXO1ytbB1X+rN7yMYZz2xorF248zf+bAi9dIopFe43bxnr69R71Ja8HOvnSnx9EIfQQd0Ws0t4khRwsUhpbn7vD+O/TIFEwo4bLEKGxp9+4P+MTwUjdHA/CJEfdECTsthxi8UcTIT5czqVGLQUdGMcx0BMc/JVyLAacY9K4XbBYx8HQpGXWA4f/bI009/syZK/7fa//nPz6yui1x12h8SN3zLzuOvCscZzqDPJ8HCoft6HXitQdq2zHOFD7b0TMFfFu4th00EiwG0OvEazHkMm3JLtJiipi2KEYLuCOu01aAGBkNcL2bvvfqTLkw/+DXUwvuT1111VVVVVWLn/rOC1WpG2+8MVN/R+2yZ72r8k+tOpBrOwCsg1YDS8m1HTyG2g5a07YDixMOn6EF6XXiUciZAm8ERxcSMXMldZ8HCocYmLOMBkpoyOAUCXPWfmgUY5u2IAZv0dfj5ROFFqN5PtOW0Zx9M4UWY5wp0Ejp0xYOg0QH8V/0fDyTOXP/b1fsOOpdhjl/dN1T9/1yQx4rkcUa2D0eG/OAD0rcia1q1XO0yOIgSTXY+D3RmACnNCwGcbz33I66ujocHnj0nhcIzBZXz77rpXk36/yZ2KYYJRFwapkwaNOVweg1jYzhf/z/+8IXs5kzt09/pfHd3vcvHnvz1w88taqtP9F2X+HJ2CHOyF6YV/jzP/9zvJSbGR9byEcFiZjjAInj46MnEuBISHoQP/56RO/bO3IuwyCOfyJsJbK4A7vHY2MbcuFEIvi6PY1eaWlAzIrIFSFsrOJ4uXabj8vAwXF4VFd7v0FYKPAxZlftn0r43rFskvsJp2iB2UvuqEgiTSUxek2DV20+8ZnvPDm/8d1TytvDFhpOACo8GTskAr6MecTxQuIfwccTstLlaAIOhkQH8V+/d9Vxu/zzx5p/98CUhfsyaZQfnjvTn80nSghSE8Z7bPDeqJCBC+d5Ow+c9xY1B9Fcbuf5OBohZ+OA5vx9acBYBy2UWww0SArNVXPuZztGMYAWxspG/uGFgcOv/StC2PZFE8G1GM1DOwJCeagYQDqduu4EIr+m98LF1G9rxNlbVVUFrq/1apPS5eS9Bxrfm/9lCd93Pn/l0npvjUvEnUyPAdFcbuf5eLrzPLmxIyBUDFrgvUUtQHMQzdmp5rESA167NfPTTjMae/Z3vy+FgE1YKLeJ8QkTATgqpGTUAYb/5c/cM7vx3ZPe/zwcEsc/v+uE8dX4I3XtVcyJT4o5e2y0i1m8t2nc3CnyFI/RigG0MHaqeUfnsb/9hndV/hNf+Abz4HnW+3iwpaAmjC64DmCzGs1BNDeKcTOFFqB5JGJwSCQ3iO/f/fT3Zu7yVt+0QFYw+H3zweZZX71vRZeXZpQUpH56s5Ce/r57V88mr9nk5e3BRGZtWSG8uXUfc/gaDu5kDh+TrQFUpnmhEXrE3SrzGx2RT1k3R0wKJczb84nR2d4U5hOz4h3v95UKFfP5+Y8yhebHa2qLEwNuFPPSlqX7X/6MXIoGN4pBgxTzwNoXyDkyeASXQrzKJYfBKRKt2cSQQ9Xr7+xB5IcNhUxOxRspTIv5wcrfyVegwJkBCUeYvdVbsxYl/H1QcNQ5c6hJVtjE1jpv/L7m2RjY/3fuz6SOTrAGZw4fCplcuHTvaZrXot2npVMAHRm5TYzmOu0SbQpHj1rMpkPeac7Mb8Anho7J0QB8YsQxUcKMxnKIqXnzpOxHSCpUDJcctokBN4oBETFySIxGIIifNGN74J2N7ELDvbtfW/NuotLkU3d+ZUe7lxOvz3RtyPRGn+1oD7TZDmcKn+3QkG22Ax4sBrCJ0dwopohpyyjgvrJNW4jCZQ4aP/dBDGmEc6gcnXmKuX7aPZkQPpX6/D3P0HZgBUYPhHXQamAp2nb4sxW/eCObYK1th3aE1rTtwOKEo3daEG0HQCFnCryRwrQY7YH0xuBpizxUDHioGHAK0GJ85iwEJVqM5loMuW+m0GLII5+2cEgkN4j/j0vnz50PF5+J42+75spE/tjTGE6ngfFFnkKTi/d72yUpHHH8iK+oiM/c8FaenKEYP378xIkTvSeB8IXvvXvr5J+V4eV841A6YMoyR24+PDKH0+g1jYtdm9ds7grz8Ewcf9ttD9178zV3uSUmHUoEIvjLBk1SNonjvdcqi/r6ehwhAq+ocNCdZNNXeTUQNY6UfTkUChwPCQ7i88bFrlUP/A8XxCcHMEpJocEjL3uUCYzjRzw/Xr52k797DgwMBP/GByJ1W/guqFr1HAZZ3/B1KAWY/GYMLsiQ/yexyDFmTSOLi60rqj7rfuzJoUTwGrzeRjCOb2lpwUFS9Anui+Bly43jaWKj7AugoxUV9o2Rm13Ob5vxNwm7MAOkvvFZIQPDc/iMHM5Cc7FxVJZbewFch3RGbhOguU2A5jYBs7fVj3tpCuxy0rKnmfoCFC0GPFjMxf4eyY9HmNvf0WITZst01FxnNxYq5p7XM64Kq9XlNjGaayMWjv+oZ0ftey+N88L3ueMPbHpZwnd4NG/nvbzrDYyz3LRFv9ik3MbxRrm1F8BzxQjItQAbtwnQ3CZA8wqLkY9hP3y9q89bJqswMYAt7VLzYDFFz/GjCZeOLr79o0kL4q//lDEnXnOb7RTkhz7bMXKbAM1HvZibXp3O2F1vD69/SeqUIqa4mQJn9ye+8A191tNetNVoLpbSd+6D3AheNlSm7cC4Hh38XpZsv93sXYwItR0ft4nRPNQPURP1g7lNgOY2AZonV8yYCeL/4+iKO+9NXhB/f2ZdWKCnv4/r14IzVQ4nNnlz6761+70fAwLHJhyF5KhMX9AcjTOnYlrjfJoROR7BpdAnhjxADHmoGBAxyuoNL0unpYsBR4PCbWKunn2XxPHYNi6vau9uk3I9MmgkWAw4OypUzKt7Mwnx8Flw2yhpMZrP23FKzn88rmjc1t1cI/8ItvZFE88cajp1+gzXr4WbMG9v4+FDECOrF+89en5bm3eRHpwJhSgkxxtpRuDM20Pj5BQjXAhKyFGTYjTXwnxiyAPEkAeI4SiVQ8yqdzIrC2GbtyP7MyIFiQHH24XbxICzjlGMC+IzuHTgpa/enbAg/s6vtJ309qztTLfZjtEPfbZDbvNAm+2AB4sRLsQmBjxUDHhUYoQHiDGOkk/Minc2M6WT27UvP7K/+4jU0cLKLUY4zu7P3DWDtgMroNXYPBB1YCzY5Pq6b8OM0z64rjFqos4TG/x15Hq8tiCbB/r80CjG6Id41B5Irj0QXHugUQx4qBjwYDHChVRAjHGUfGKE28SMnSA+mb/YOpbmY3gcV4KnkVUY/Nmjyq+6iA/ZcMyi0zAu9vf07q1j5gy2Y6urQv8FjLkMuPfcoVjAi2XOG/FcUhfEDyKBv9jq0mniBzjkrSqOR0wvEflIAQdJ0Sc4okBfHI8InkEkYIzysVV+nVyH/FFh33CzS2Eo+nRNHOCMvOah7z9WHgh8JUUeWyV//0hWiG844P3GW/44c6hJ1ryXDeK7m2vyly3fPeD1JIcigNlR1gads927UjKCGDumMcpQ4cnYIU9wbhrxCB7AQVLKCa7jeF8ED0g2YO6mMzoc4oYK+4abXQpD6ta/FwLvWLLPWxoWnGtvIfbiPUfN93cf4S0/FDJE0xyN0JIW7nmDHB2RMyUdJfxBbHCbGKMwn5hcYXj80sKfwSXlO0MjKwZ4493Nx9+cwbC4e9fLEhMbxQBamBajRdrEkP/ijeOwS8lN1GLwRs1FwIcXBpoafwOR/LyB7djqKgT0XHMQft30XpbzJ6DBudwVTPzbS3+HkU93tYPzll977wVswlFIr9ccjaAp4ejIyG1iNNdiKKAUMfhPyW1i9GjYxBiF+cQIn9Xci3330Brv97EjF9N37oNQMeSlzPEOIwidE88zHdC2o70xEtvx+WGw7QCFitHcKMYnTIuxCTMK0MIinylQ4cGhlSKLFgOEitHcKAZn99X/dAfPepsHau6zHXDE8YjgmQSCEtrO/J3+OF4ieJ/t2PxQizEK02K0NxY6bUUuxjdKQlCixWiuxdiEaTE2Yey06JnCBfGxRurOrwjBuc0Mk57hyYX0CJzktuRCmhEq04B0Ph84TUdznc/HTn1idD6fTQx5rhhscjH4uvnVoscmhtwmRnMtBpwCtDAtBlx6B0TY+73tCIsZInc31yxtfiVUzLyd68gLEiOOKaeuFiZihM/auPD4O/X6uju29kUTt619qb/vBCrg7TqfT9s0ORxE8x/WL8Tg1+1phMvY8vloQDAUGhAaYQ4fuCj38VAxOrcPLdOwfGLIA8RobhMjPFoxcvnq7hVd+455I+YTZhRD7hOzJp21aZZrMeAUoIWJGBAXxCcUqW981pgTT6vRHI9MsNZW47MdowX5PDCfmSJYDBAqJsJpKx8xwgPElDhtCUeDmhcnRnObGHKc3Z+5awY9EGc9rcZmO7AUcinH1nUmOwvgqbYdnRbP9eO1BflsJ3Sm0NneWhg5HvOZKchtYio5bZGXKEZzmxjhNjEuiI81Rv18nO5qlwg+DncqjTjXldahfMeySX3p+shzbFoHv1o0dV0mEM9Ff0dLz45adE0Z2BC7o7D0NTERvksQ7z13KATyTQZs8bnj7IL4hKLCk7FDEoGDpAInuFyYyN/TGg5kPyc4VBgV9g03uxSGCpyuI4imoVV4YxvBE4iV9ZIv2CSaj+rLrxIL8lut6O7MoSbE6Przg2wo0Z8iWlpaxo8fn04XL6PlyH7sgqpVz3nPHfKGfPTCVsQ3GcqH0W0aoxgVnowdEoeBgQEcJJU5wXmFOBQS8c9o7CkojuflcIcSUWHfGK2zy4fnejuPZnDiTKSfR0dxOg0j+JpNr+FpPmLIbWI012LAKUALoxjhFOAbJQpYsP31kwfW+7JZsO1a+NXevXWZlRyP7kEdqZy/GITsq7YfgA8urF+TG7VjO/zavyKg7+9oeWnLUooRYXV1dTiHn3htJ++4hd4KhDtr/srOdyWIH6n7kglNp0GFH6zIrLssS7BpMT5hRjHkPjEunSYJKIvh63QabTtGjkcaLzitRnNYjeZGcwaJKoNFiE1MhNNWPmKEB4ipWDoNOgoWo7lNjPCenh6c3aWn04BoewHPx3bIte3MfPOkXMjA9tM13Qe735dyLSY3nQaeed/KrgU7+yimkhkskUxb5CWK0dwmRrhNjAviS8EHZ95bX/vobZ+58nKM4xA+9ulv/uipxS1dQ/ugFOTzxdbg78EAKNScplPQl3JQEsk3hEQMI/ipDfOkfATFkBtHRnOK+fDCwMam33Y31+glHfWGWLyj/gd7Ft2EiB/xffeul3c2/AIE2+HVP0kv+TYq6Pf+um4dTHDpK0/L0/fm/LfDK+5EZQTub7ybnTNyxTQ1NeGY+9Fza3nO01BQor+IY/uG0PJ9BxnE03TAaToopNHgjZqzU/1FnIK+lAOuxWhuE2MTxk6L/oYQeJ5iUFMWefjZ+hPS/giK8XEcD1LiEDXshr90z8mhPVs0Utd/ikG80XYA7Y3aD7UHam+0eaDND7XVBNiO8HzEaG4U4xOmxdiEGQVoYSMyU1RGDA64T906lWe9zXY0N9oOUOhMoW1HuFyD19u0Bs8P8UajMHTE785+f3lmiXopL12McNvI2MQYuU2M5lqMTZgWYxPGToueKXBIuCC+OFw6l55zy8cuv3zc16oe/dXvX15Yl8GCF555Yspt112Z+i+feXDV0aHdUDSwezw2iuC7Bp90XOzvQaiNgDsTuA9PW89zQzT/q+W7YGp7t60915UuKOE+nU7jIKmqqvKeF450V7sE8d5zhzwgEfx9K7totfHBqDSNGMAz/NSV1902ZYYy/Meqbhh/OQz/ofVdpR0LFZ6MHZIIHCRAKfmTUUHWRM7d4I1eDRN8cX/uMpcOhaLCvjGaZpfjK7/3yf/0zdp3zuSmdl04ufWpr1z+909s827KFA3sHo+NFtQO/SDr6IjgjUAUjlhctjOHmuQCPDeUyEv6O6niaEVEhKVnSQ6433sqEDIPxXb6GX2mEQ8MGv7Xnm0ZunaocP7oygfGp770q53eDe7igB3ngniHYAyafaqlpcV7PnKA+8EDZebSW8DXYXOv3GNzcXyJqLBvjKLZ5eK2J6688pt13o/z+xH86nDIaWnG/TdKHZ3D50suJG9WOXzgvBOHQnJU5q1AzdE4Ew2ZUKg5Hpn16BOjkwttYoQjcJd4UX7OqWJiwBmkamF6ZFAhVAzqBIsBZ0cFiRE7oxgtzCaGHIfJDb9c3Xs6c3MNHwN0Ph+5L9ub6XTCoQfb3sJ/MprJhTrrkTl8woXYxNiE+cSQB4ghDxAjvBQxz27KLAmPrfVkJv0xWjHgaFm4TQw46xhHBseDlDhEiYylf+RrLx/y9p8PeRv+oK1bcOdXQpeYtNmO0Q99tkNu80Cb7YDn2g5AMcKF2MSA54rBRPDDVb+nGPQelRjhNjFHTnX/z3kPyzRkGxnNA8SQFyQGnJ1qYVrMflOCPg6Tz9w14zeLm6QcVhBqO6gTie0wr4O2g0L5XhC3te96+R65YrAZg35sS986rcWQazHgWgy59kBw8UAgwJzRlHA9ShwZ4UIqIMY3SsJ9YoTbxOCQcEF8cajIlfhvfFYIzvmWI/uDOc5/GoqNozLeEszF2gRGbhOgea4ARvCL93oGZBOgeSRiwH1ijJyd2sSku7LXzm3CWMcnwMhFAE5jGNmDqzu1GHKbGPKqqqq/vf1n7e1ev/pCCDnO/3Sn98ZcLvsFMmgoNo7KYigB3CgAyFOMcJsAzW0CNI9WzObDAzLryNsjFwPIr30BNjHg7FQLIIenS4lDlLi0/4WJH/lvD27o83bmMFzqqPvWfxp379pu73lR0D/2ZDvrI/FDbS82bhOgeYliUE2ch9+MqowYkG8tfUq6xqssB2wCNI9WTAA3CsDZ/YkvfOOFRfVSjlPeaDVFWxBq2myHXNvOvmPnq173QvMNB86y3CgAr/5weNCPbdHgwgCRiLFxoxgfj3xkbNwmQPOCxLggvmi4nPgCAPOiaXpFDkOQlQq5vmSh6OnpaWryPhcVAcwN2C8T66Z5zx0sgIHKrINQ3iuKJVwQXx5cOLr07o+lPnnDlN8tfaMl3Ta4OM3RI++91bzm5em3f/q/XP53T+3sL8nwKzwZjyw4I8hWsexKRMmTlj2tu07WlDRp0iQcJ7t37/aexwAIT+9b2aVjzQBIZTFSbBLBO5QCF8SXgvKvTjMq5mMXwQejxCC+RLgvtuYDRvDxn3VGh2nEEZdOvfXKT740zO0FfzT+lqc2DN0uLxpoaIwE8b4IXrYKxPG5EbxsCZqYqqqqcJzE4YutGryEnA8Yx7sIPhJU2DdG6+xStnXif3qzkJ7+vntXzyav2eSl0LUc2T9rywrhza37mE7XcHAnV6pCIfP5UJl369AI79ahcebzaT5l3RwYH4hPgObTGhcIN4qhX4tHr3hnM4XZxKDBYDF4BJdCmxi0pkdJjwzX/NJiUCFUzANrXwgVgzrkeYqRALF6/SHjLstnZKY2zBMxMNPZW70PA33nPuAHA83hoYt2nxae7jz/m+Z3sHcQxO89ep65fS3tA1w2C4XM51u69zTv4qER5vChcSMPFQM+d4f3X6BltC/cJ4bpmAFieL8yQIxMNvmI0aO0ZO9pRvBaDAhHySYGDQaL8e0y/s65TQx6MY4MxcDTpcShHLh0ruvdnVveWPnq4K3XZWs37UwfPePt7NKgc+JDz/QADyT32Y5xpvB5oG2mMIrRPFQMuIiBKpkRcrenm18rWsx9w8XIKPkEfH7+o74eucl79ciIOQsPEBNqzraZAnUkVgA3zhRGMQjiP3/PM8u2HpJyWEGo7cBSIrEdmrPNA33mHOCBeOn1t8/QD31ibOZsFDNS01ZUYjhKAWJkl9nEuCA+1khNGO8xHCuWZGuaiOYgmouJ+DgaIdfZ3rbMb2MdtBAghhG8znpkpxUWIxxEc3aquRZjE6bFlCis4cBZBIiL9wzLiWenNmHGjgB9W5MJ1oAt2Xrj4UPYQQjiwWkoIJqLifg4GiE3dgQUKoadag6iOTvVvHxi8Hivum6Ep1IuvMJifBwkl7sgPqFIXXuVMSfedqaPiB9GImb6m4tkXtBbzabXyi1m99GDxivx/JoWWtYCyiqGHC3kv5sQxH/iC9/Y8/a7Uo5TviDbKbcFUYDmI+WH7FTz0SfGBfGxRqLnYxiTWGTF8h0TCgniR+qn+zGXYB+5dBojYLiJu/PrgviEosKT8cgCk4LMDhWeIxAZJzonPp7pNA4jCBfExxrJnY/be7vGz32wku6cXIxsEF+f3up2kxGM4Gc09vB6SfzhgviEYkwF8QDj+AqbD+L4W4fi+GRF8IAL4h18cEF8rJF6/FtCevr7Ji17Wjji47vrfye85ch+ptM1t+7jcrML97zBX3hGIRMNZ7y5mHfu0Ajv6KFx5vDdvvwZ8s/NfxSWB6IFgKOOcIhhOcWg8M9f/AksUq7vQglz+0oRg/JgMeDGkQHnyKB3oxhwisEbKQYNUsDk15/NFSOXdqQQr6IOOcvRmk1MRsNgEP94wx4thimYeKMeJQrwjYxwxJpTVnvr3PWd++CpppPk/CG91pMXntnklac7z99Tn/n5rbo9jS3tA1x6dv3+s/yFZxQyn2/ujj7eRkQjvF2IxpnDp7kWQwFaGFpgOVpmOiZ61GKYaIhCJhou2DlMDG8vagHoSIuRWDwfMc2H++9ansmDR0lL+7mCxOC/CBWDcqOYmRuzu0zvJo4MOMWgd4oBETEuiE8oUvf8y44jXppE6JkukagUokR7oLYd7YfwW+FiO8JhhnqmsNmO5HIARjEAZgohPjHkMm1JrEExCN9/uOr3FJPntEUxWsAdhUxb+7uP/OmLP5YIHi3TnH1zaLmnLRkNcL2bIAbCUFPvJnARgyD+n6YtZU48rCDUdmAp2naEw3xstsNytKZtBxYnXM8UtB0AhbaZggJ8HkgxMGcZDZTQkLUYmLP2Q6OYQqctLUZz2xxK7hPDUfJNW1oMRynyacsF8bFG6tqrPDZogh4bPO2FwB1sXIwDQKGNCwF048aOgNA6IgCPMCDEhTe/9kvpC4+6UxsXAkQoxshtAjQXAmhuE2Ork6cwCeJXp61ijMJsHfHkB+hWgOasA3eY07JBgnhwXS7GAaDQxoUAoR0B+YixcZsAzYUApYtBieTBwzSld75Xngr3CdBcCFC6GMAnQHN2Su6C+IQidc1HmROfz5leUJ1c2yG3WY3mQgAnxseFAFGJWfHOZhgytluWPnXklBdNUgyC+D/56wnMiYcV0AHysZSyWhAKbVwI4MT4uBCgaDEuiI81Ejcfw2gkgp9YN41O5xCM0tNpBgYGJk6cyN97KghVq57D/uK1JYfWkxeSmEVDuCA+oajwZOwQQzQNX3yTV/EJSaeZNm1aXV2dV1QG6MDRIeZwQXyskbj5uHrDy7Ce8XMf1JcZHIJRehDf1NSEQ6W6utp7XgjwcQu7jDeFxzh2Da0HP2d79oevk4XEmYaDoMKTsUPc4IvgZfPF8RLEC7yiqCEeqBdFcYgzcCS4ID6+SD39XSGIiZlsDc7FyBF7kS/Zt3HeznXk2ISjkByVGa5pjsYZdk9Y8BhdgxyP4FLoE0M+rXGB+A4KfWLIKyZGjww4VAm3iUGFUDGoEywGnB3lL0ZM86E1ByjGNkpajOZ/O/fh1BV/CH9H3PnwGu8OrOadpy8y67H15AWuCgwOMaKn6b3+NWnvgwQ4NuEoJMcbmcMHzjt6aJwcnTL8DRVjE+YTQx4ghjxAjHCbmA2Dn6awLdqdyS6tvBhw9C7cNjLgrGMUU77Z3aGsSP305ne62oTrsxsOwHQLbTtfUrZDqwmwHXKbB9psB9xoOxQjXAhKyLUYcLQjR79NDHjRYjAaWozwADHGUfKJIQ8QQ67FgAeLwQ7Fe2U0RAxelaUgcreaTa9RDEz+Sw/O+bfHX8Fpnk6nYQVMsLbZDurwynqo7dADscFStO0w29vmgeBMQ7eJMfqhTwy59kBwLYZciwHXYsi1GPBgMcKFVECMcZR8YoTbxLggPtZIXfNRjw1PrTNyuACNw8ZDGwGK47yKIN8WsgnQvLiOBIXyUDEkQGgjQD6dhnIRgNMYjvnrjT1aDHk+DR7p6cSZDIDrO6GhHPMHdhkmD3B4BI3DxgtqHCia2wRoXnTjQC7nNXiuJsk6NgGa59+RwMbZIBBaRwsgl8PAIXGA23MyzuesL5pre7HxohsHCuI2AZoX3ThQELcJ0LzoxoFgDjfOjePlSjwFIIj/g49fM+m738dp3tLSoh0gH3sJ5vRAbvxRJ4D1dac2nn+ngqK5TYDmRTcOFMRtAjQvunHAyHEkuCA+vkjKfCyxIDZ+nd8hf0gQzx9gKw44VICBAe8r8Hki7RaJH8Trb5+RSStB68HbkBTTcPABO86l04xx+OJ4W058TU0NHqNNi8+N4GVzeTUxR4V9w80uhSER83FPf5/4TvWGl70ih0LQefoivHLquhPe86Ig5l7o+sF1exqx48b4Ry8E7jJdlfK1hPggEabhkIsKT8ajHk2H9mBiQljsPU8IGMfnRvCA+Pxzzz2HR4TyXmkUmNHYIzbo20bBdY3RjQr7hptdCgNz4hEoXzff+9oiTnIuKwufmtowT/ja/TumNc4XrhfcRSFeEo7Kku4C6DVu0Tjv7mmuF9ylAJ+YP33xx+I46MUmhmEiyIp3Ngu3iUFTwWLweMPiJ6XQJwbvFY7WpqybIxy9hIpBBZsYTgMTFjxmFKPXSNZZj1qM3mUUg95FjNilbZcZxeiRuenV6Q//7FGczFu279Jr3D40lEIHzmVlW9U68bcs+S32nfzj29oG5u04JeV6jVsU4iXhL247xQszesFddMS7e5rbxJCjBa59i5bRvnCfGK6GHiCGyYUBYuSeJgXg6XNbemXw0ZQWg9Zmb/XujdjEgPB2s00MGgwWg8fH1nuf3/Cqzno0ikEvNjGyy3AYSIlDspC6/0bmxAec6bSdzyvboQeCczV0n+0YzRn+k89MYRSjufZALYYcLaAdiTVsYqCkaDFfGC4G74WzYfvfn/+h1PeJoTkHiOFMESBGmzMF+EaGu8w3bcloaDFoDdMWSqo3vIzZIVcMgvgvPzL/2RU7cZqDwwpstkNzhqUYbUebsyRe411ihtweGKqDXrQ559oO4DNnoxjtgY83nNBiZDTwqpizj6MFTls+MdoPbWL0KBnF+MxZSAXEcJR8Yk7l7DIRkDtKLoiPNVJX/KHHBi3AY4MW4LHh5eQgmgsBNA9tBAitI7+6N37ug1LTWAdEcyGA5pGIAULrgGguBNBcN2JrMJ86tvq5daauOwHHbD3pRYRFNNLe3l5TUzMwMEAjAOTkF2jOOnLJh5Mi64BoLgQwNgKUtQ6I5kIAzYvoCJtMWveu7KKrjpQYjxVYBySXuyA+oYDbczIu3VIEoXVANBcCaJ44MVxqXTZejy+oHRDNhQCaV35kELj/wcevSafTtbW1eOTpD2i7sFlHcB086jh+0e6+Qi1ICKB5aCNAJHVANBcCaD76xLggPtaI+XzcNPRlVrfKeImY1Zy5HswP5ZUBZg7Zfd7zsYTO0xdlMXg88sLM6IAL4hOKCk/GoxWclfSWxLwaI4pLm8wfCA0ljndZNEmBC+JjjThfiYcnynVc3nMEjO2AaC4E0DwfMZHzot8IRMvli5XMyS6uEUH+H+7x0Qu77wf12W+1sg6I5kKA3EYEZa0DorkQQPOCOtrVcY4/yIoIvqB2QDQXAow4J3FBfEKhr8SX4gAFcRDNhQCalzhTeCyPOiCaCwE0D21EZqXcrXrDywW1A6K5EGBkOa/ES2FBFgHkw/vOfbj5sJf7EVo/tAIQFa/8TAEUXQdEcyGA5pF05IL4WEPnxDPpENGzznRk5rcvhU4nFzLz25bPh8ZpasZ8Pi0A/POvPCo/EnT78md0ciHFBCQXFi3mhsVPGsUw0xHcKAacYtC7UQw4xeCNxkxHX068cEjSmY46J54iJdNRuE+McISViCmr1x+SchQyBRNvpLCAtEvhOLFt+Xwsbx3Kicc4YA/etmyJlG861B+azzd7a6/O5+M1bDROr/FxIVqA5mgBkbRwtByaho7C0DR0LUAnGqIc4yM/rYVtVnMvnuJVjlJUYvDGUDGPrffyQVGiR4Y58eBGMeAUg951cqqIcUF8QpG6/8bGQ7uFh57psJ2vmr4XBG6zHWZ+03YAmICeKYy2Y0tDpxjhQnxiyGXaklhDi/HNFPlMWxSjBTAnHq/+b8//kLG7bBjPI6e6tRjjTFHotIU3ljJtyWiAh4pB7yIGQfwNv1y9aPNhKYcVaNshf1DZji8nXjjMx/hVHHDaEUxM2w4zv/VMQdsBUGicKeBjFOAzZKMY47QFczamoWsxhU5bWoxPmBCfGHKfGI6Sb6bQYjhKeU5bxpx4cDlmtBgXxMcasZ2P5ZdZEceLPTmUCJgCwsr7Vlb0hi9mDuzEsZMKBSvkQjSj+GaxC+ITigpPxqMYiNH19XgY3aiZp8qdTuOQOLggPtaI53xcn94q5sgrIg6lQ1K0eZGg3OgZSogfIx/DMLAzhr6zxQshoxIuiE8oXBAfIRjHVyCCR/s1m16rjJG6IN7BBxfExxox/MVWmiNCeV0u0DxUDAkQ2ggQSR0QGxcCRNIREFoHhPz5rScRX0oyYikd8ZYcILfhBLocvGnw619Vq55jHRAbFwL4GvFYGXiAGM2FALYGpU6687zva6y5dQTB7QixcSFAaCNAJHVAcrkL4hMK2y+2luIGxjogodzWSOTcJkDz4hrHVFW94eUjp7ysAyCf94aKIQHwRjyVW5o3v/ZLWx2PWToC8hcjOfF73n5Xynn6A5FYChBaB8TGhQCRdATY6pD7BBh5aCNAJNwmQPOiGwc0Z4MuiI81mBMPP+Lqv+B3D+XEp7va7109W/iSfRuZw6eTC1GIl4SjMnP4NEfjaFb4dfOr6R3keJSEQjGsq196YPD1YcK0mLX7d1CMFqbFTFUroNvEcF1kIFcMAMvTI2MUg4CVyYU2MajATEebGJ0TbxPDnPhCxTzxxk5EmXO2ZzLqUMjkVJsY8FwxOLGZKgf+eIOXaIjIVa8TP6u5V9YGfXZzA5MLm97LJljrfD4UMrkQb2QOn04uROPkEEB/YXKhFqbFgDPzW4QJ12I0B8FT4VBOMVqYFoMRWPrWabkAf9fyzr5zH6JQi4EtajG+URKOfz8qMRwZjpJPDJNTbWJ2qZx4oxgXxCcUqZ/ezHXiQ890PH5hyHbA4ZPCbbYDzjR0mwdqrm1Hp6FrYRQDMNsbJfRDLQacOfFamBaTz7RlE4PRoBg9SjYxxlHKZ9q6ddnMKeteFP6D+t/fsPhJGKls2Av9g/3mOW3JaASIyZ0pEMR/+ZH5C5pbpRxWwPuKNtvROfFF2w64cabQHghunCm0GHCbGBkNcOO0Bc40dC1Mi/FNWxSmxUQ1bUUixjZK6PScZaaQUj1tuSA+1ojbfAwfgVWNH1oV3iFC4LSUWJNWUgRqa2vb273ZLhjyvWROgaMSGEmm0Lw+5K2jHi6ITygqPBk7FAG5gYlN8mfkkpbeyp29o9Np8FhfXy/lDmMWLoiPNWI1H6e72sWn3KrwZYJEnEVnbMPTccDA5b3ndiB2x37EhzHv+WiETqEB90rHAGJlGg75o8KTsUOhYAQv21/Pe0g/5Va94WXvDWWADuI1dxizqLBvuNmlMKSuvcpjg4GXx1TaHD702zivB6DQxoUAunFbR9fNr4ZD1Wx6DU+LFqM5KmguBNDc2BFQUB30ojk71RwVNBcCaF5uMY0HM4kfs5p7UaEIMQMDAzif/+SvJ0ghwNtzAG9iAr/ZXC+78vzgGotS6OO8IYBCGxcC6I5snYbW8QnQ3CZAcyFA+8kLsu4+tscbTrAvXScfweQ2MZqjguZCAM1DOwJKF4NjQEockgVbTvxIeaDmQgDdka3T0Dpo2cZtAjQXAlRMDMja/TsYpgds4wd/VcomxibMWMcoBoE7c+LB4fZbtu8arFK8pQCJ9kDNbWI0FwLojmydhtbxCdDcJkBzIUDRYlwQH2ukHv+WEJzMOp+POfEtR/bPeHOx8ObWfTObvTW/dXIhCvGScFTmdXQ0wkRDNE6/0PxzQ+vEoxE4lKwp6RMzaWiN2wAxOrmw4eBO4TYx4MFi8MhObWLQ2rTGBcLRS6gYVDCKQYN028mvP2sUo1f/RR1y7ia0Rq7FYJS0mJdaNkno+cs3V+ldZhTj22UiBv5+6/yDiObBcfIzbQ6ceXutJy98cs5j2JtQku48v2Cn18jeo+cX7/G4zudDIV4Sjsq8qu1LLqTXaM7kQp8YcrTAnPgAMUw0DBAjyYVo8AcrMhfgsSGU94kR98xHDFqbuyNEDEhLu5cDahQjnAKMYvDITvHqzI0hYtCLTYzsMhfEJxSpe/6FOfGhZzoeP69shx4IzqRqn+1oc9a2k89MYRNDrj1QiyFHC2hHYg2fGG3ORYu5Y7gYGaUAMZwpAsRwlFDIMD1g+4uXprQNatPCAqYtGQ0tRk9bRjEI3L/8yPyXN2Vy4uvq6v5p2tLfLt4wWGWY7cA6aM6wFKPtaHPWtoN2hKM1cp8559oO4DNnoxjtgeBajIwGXtXmzGlLCwuYKWxitDnbxJDrkdFiyCMUw1EKEMNRMopxQXysEZP5GM4iJsVo0qFMkIXMi17FPJ8brJgzsCtHZS4Nf8jpvpVdNMexBhfEJxQVnowdCoIvl0a2mk2vsVyuwXu1ywbt8PX19eA1NTXyksPYRIV9w80uhSEO8/HAhfPyJUhelnAoHxB6ShgqH74LRXV1NY6ZpqYm77kJ2I8y/XjPRwU6T1+c1dwrQzdn+6niRm90IA6m4VAEKjwZjz4gni6rrfniePaF8spE8IAE8S0tLeD5fwnKYRSjwr7hZpfCkJow3mODl8OFIKrmvUVweofmIJrjpVyORsj1JXbNYU8S8yGO33X0oFc6QmIK4jYxmtvEaF60AIDcJkBzdirB6Oq0dzG+IDF1dXWpb3wWj/JUX40m//LCzEcy2WsIdnlvUXMQzRkTa57uPE9u7AjQX9I11kELvLeoBWgOojk7JdcX4DcfHhhZMT5uE1MQt4nRnJ26ID6hSF17Vf/73iEaeqYDobwg2wngec4UHrOLKetMMW/nOsbWkYjRnAIYx0sEr4UZOwIK4qFi4O2f+MI3XqnL9N7T0wP+15/1vgQ1srYTwIsWAJCjtUjMOT7TFhCJGBfExxqpn94spEclWIPXbPJS5eBE5A0Hd/JiOTizvVFIPmvLCpoX3kiPQOPM4bt39Wzy777+rHjWlra3tQCmXYLr1HOKaVZpl+h9xTubhZciZsq6OeKYKClIDHioGHAthhwNUsADa18gp0hIgjApRAnqkFMk/jWbGHKoEjE4sRGP3r3iuGTF2cTokaGY/YcO/ukv7pBVJvF2JhSCSw4fmsLe/OgL3jL/6Gvp3tPCW9qzq6GDM9sbhcznW7T7NM0LnHl7aNzIZ2/1C8jlOtsbbQr3idl0KLsUMYVBefPh/hlDi0gyj1ALwAiQQ4w4pk+AHiWjGPz7+YjRI0P7LlTMc1tCxIBrMeRQJWJcEJ9QpO78yo5270d8Qs90n+1oD7TZDvxWuNF2ABQyDV3bDniwGCBUDLhRjJ4pFuze8HSzd3kbhRTmmylyBSC2vmzoAjm2v1/wWHEzRT7T1n2rZ2MTjjeWMm1J5JWnGOEI4r/8yPyZr3qL1k+Zu+mpeV4dWAQtSNsOLIWc5TAfbc7admhHMDFtO8aZgrYDoNA4U8DHKEB7oE1M7rQlPFQMeKgYcAowigFsYjTXYsh9M4UWQx7VTEExLoiPNUZ8Pp40uA5uWdfMcsgFzk9EpUVnxgegZvA3njg3JBfwNX0Bvuh1OUcfXBCfUFR4Mo4bEA2PH/wtcH0dPR/w6rjeyppXM4LI3GtNpXiv1QaEhs4SxwhcEB9rjOx8XJ/eCjeEscqFBIeKoXUoM17fPisd2I8yw/HqUUKR7jw/dd0JGaIxngGfCxfEJxRjOYhnBC9b/nF8T38f3+XbCv0wkAjkE8QjgpefyHBx/FiAC+JjDebEI/zi/UQbhw8yOLNxVGZEbuPifXgqropQXpcLdA6fUQx4qBgQdmoToxMHtYBRL+aVnZmL8TMae7a0HihaDD8DIMxF4IuXsEO/tfRp3s5DOW/ngdg4o2S8MZTrmcPIUVMLMHKbmAPd7z/VdFLC94fWdPOGqU2M/hRkE+YbJSM3ivFxo4DKi3FBfEKRuv5TzIkfKdthp1qAjdvEkKOmTQw5Ot3S9o6O4GVbvLeJwmwChKM733ux6W+dCgGMAnxcj4aN+wTk8vLtMoTvn/jCN15Y5P1QK055n9WgRCJ42eAtY9ADfdwmRnObGHKfACO3CdDcJkDzUDEAR8kF8bFG6v4bhfT093EtW3CmzeHE1smFzOFrUDnxKGSmIyrTF3Q+HxpHs8KnNsyDfUjexbiXpogx4RHlUsEnhtwmRnObGM1zxfh4oWJgi0wgsYlBBbqnTYzOibeJ0TnxRYsBb3zvbfHin67daxSjuVEMHOHFbaeE9537YMHOPkmOWrpvJ3P44CxMLkRAzGxvnc+HQsbKqEwz0smFaJwcndKMmFyYK4acmd8BYsDRAvNnsIEv3t1HMVqYTQx5gBhymxjNbSNTihidnGoUA69n2qVRjAviE4rUnV9pO9kpvKAz3WdBRtvRPMB2yLUHYqYIFgMwJ94mBtw4ba1Kb/34iz9m8K232u2rpU6oGATHOif+HxY+njtKPjHGUdIjYxslLUZz28iQ+8TonHibmNyZAkH85+955jeLvfXHYAWMIGER+455P1Ottyc39ORaUBG2Q27zQJsfag80+qEW4xNGMeCxmrYiEWMbJS2G3CbGBfGxxkjNx2m3MHwMgI/a4sK06VIg+zShyVG7Os4xf0Z/6cchFy6ITygqPBnHB3LByLdNWvZ0fyFOxevxozUbXhCQTgNXzI3gZYtkBnGIJ1wQH2uM1Hwsl2xHtxsmAq+/fQYWDGvm5/WiITNl4vYpPskwfAdxs1EoXBCfUIzZIB7wxfGYgIq41oA4ftTPWQFBPCC/FejbZjT28LKuw+iDC+JjjdStfy8EjrZkn7eqFDhTZdp7u3ibT/P93UewCUchb/lpjkZolGicfFrjfNioXLLl/USfgKLFgISKsQmjGMAmjGI0DxBDXg4x7BTcKAY8VMxDa47CiBHHw4htYtbu3yEEoBjUb3rPu7V3tO+UzI49/X0o520+fDbgbT7N23svYBOOQn6E0ByNcG5AR0bOe4tajI/bxKx796ys0oPtntczC8CjvGJiwLUYcj0yIKFibMIoBrAJ02LIA8QId0F8QqFz4gs60/Fq5LYDzk5tYjS3idHcJkY443iJ4H1iyAsVwxEDN4oBzxUD6JEBCRVjE0YxgG2UtBhyoxiE71f/0x2zF62V8lzb8cXxiODX7z8bre2A59oOoMWAs1MRJlx74LY2r3HAJoadgpcihtwmRnObGM1tYsgjFwNwxLQYF8THGqk7vyIE5zbT4xCHkeM8py/gJKdh4eTn+Y9CmhEq04DQiOY0nWtemgInrdvTCI6AXsq1AJ+Ymc3ZTEebGPJCxWhetBhwmxg9SkYxaBDNCp+3c51RDLgUgqMOOYWhNc0pQI+STwxHacm+rT9b79lxzaYVFIMGKYZcxLS0tLS3t+M8Z/L077ZmfrGratVz4HAQloPTI+A49AgYDc0IhTQjVKYBoRGmtYDTdDSftyOb6chONUcLi/d4/xHFtJ688Muh1d/x6WXujj6KDBCjuU2M8ILEAL6RIS+HmDXps8J9YlgH3CZGdpkL4hMKnROvbSfgTJdCcNqL5j7bMZqzzXZ85hwsBggVgxbIbWJ+uOr3X6mbJm2WKEa4FqA5WojttMVyoxgE8Z+5awZz4nHWt3aflR9wpe0wjpdr8LAUo+1oc87Hdox+SNsRbvRDNBg8U/jEsFPN0UKoGCgJFYNGgsUAlRSjuU2McJsYF8THGpWfjxG7I9qbWDfNe+4QA8AyJNkxzxuj4wfhPRmcMGTxh/h/wwHhO6++Y8NsRMN1yBMuiE8oKjwZxxOMfR2MyE2nqampQYnE8QSc02XRjBFU2Dfc7FIYKjwfM9rTK2E5xAH4vC5x/NR1J/jZ3QYcNsDAgHdJQL7yFfMPZi58jwoVNg2HqIAd54J4h2DkBvG5JQIXwY8RVNg33OxSGGzpNLz9F3ArMPQmqe+2ILqQy/DXDC0ryXIQLcDGbWI0z19MALcJ0FyLAQ8VAx4qRqfT2MTY0mkKFZM7Sojd713ZigAX0TxCXi3MJ6aqqgon9p6335U7bgjfsVunN24ZrDvs9p/mvluBvP1nuxWoUy1ttwJ5ZxYlxluB4M9t6eVXVxm+azGa28T47lEaxZD7BBi5bWTKLYb3tXW5FgMeLAa7XkockoXUNz7LdBrj2a25nOlSaOM+2yEvyHaAhXveyBXg45Gk0+QzbaGR0HQacgrA2x9e/9Jvt74++Lp1lLQYzW1ifMLyFBPAQ8UgWP/MXTOYE4+zfuHKRpzyNTU1NtvR6TSl2A65zQM1L8UDjRyTQqiYfKYtNMjLQxTg4xVLp/EJM4oht4lxQXysob/YCicl1999Icd5TgcEp+mgkByVaTrgaEo4Gj9yqhuhHranNr3GchqKT4DxSzlaDHioGHCbGHL9DSGW49EmhuUBYsgDxJDHSszLu9588g0v3v3Vm+/kigGwy6qrq3Fir2/ciDhbLsN/eeE0cKmA819/KYccLkPTAafpaGdEZZqO/lKODuiN36NCiRYADh9sOHD23qE10fDJZMHOvjcPenWiEmP8hpBPjO3rSpqHigHXYshtYliOR5sYlgeIIacYF8QnFKnrP8UgPtR2AG3ORtsB17ZDrm0HXNsOubYdcKMAmxgtIA5i8F65w/y5Vx6VOng0igEPFQMeKkbvsnzmUJYHiBGOIP5Tt07VX2xt3n0Ap3xVVdXI2o5wCtBiwHMF+HjATEGuxZBrMeBaDPmoFMNd5oL4WKOS87EsDiDffXSILXD2ztl+SgJf24rp+garXIaPVX5UuvM8/wVsU9ed2Hw462UOJcIF8QlFhSfjMQKEwhLBy1bc4pXxgfZ2QU9PD0r0l6AcxhQq7BtudikMFZuP4WtJ+e6jA7Cr45ykyOOx4UD2U7ugqakJR051dXWssuHxeeP1t8/ozBl8CHHrvkeOipmGQ7So8GQ8FuCL4GUr9GekYoXcIB5ACeA9cRhjwK53QXx8wZx4vQqVL7mQvFktiQXOO3EoJEdlvCWX37psJtxNLsNzSSzN8WjMetTCtJj9wzMdybWYFcMTCslty6sVLQY8VAx4qJiClpgsUQzv3trE/HZLw683eusw3rW8bWtr5pefRUxPT8/48eOX16/563k/w25FKI8AOnThsL1qvUJw3hbU+Xx4I28FgvM+gF5EjEtiCUf55sMDv3jDk4rt4TXdTwz9ErhNmE8MOQiFQbkWQ25b0Uyv1WXMerSJwb9fMTH5rPUWLMZN5wlFPktMluKBzOso1HbAg8UIF6KFaTHgWgy5FgOuxZDbxOhR8okRPm5uZrnk3O3+tS8YRynCaQu8esPLeJVi9MiAs1PUzF8MwnffEpMwhJqamkmTJtlsR+fEl2I7xpmCtiPcOFMU6oHsVIsBDxUDHioGnGK0MIoRLkQLCxBDHiCG3Cem9FFyQXyskfrGZ4XgnKeJgDNtTpfj/KcFg2hOo0FlvEU48/nw+Ocv/gTWJpfhaRwAfR9gue7UxrUYnzCjGBvXYozcJkBz9Ki5TUyoMJ3paBOjMx3Zqeb5iMl/lHZ1nOO1bRA8XbJvK14dGBiQy/DjB3+0C+c8TQScOXy6HG5C1wPRnEaDyniLcJ3Pp8vFxeBHiN0fWtPN2B3bnO2n0p0jIEZg5LpTG9difMKMYmw8HzE6OdUmRvNcMS6ITyj0jz3pMz3UdoBC/bAg29GZ37pcC8hnpoh22gJsYsjFA30bLPFdlYhvE+MTZhRj4xgN+dVz9PXyrgYpBPTIFDdTIIi/+p/ueGFRvZTDCuSs7+np0Vajuc6JL5/tAKigOTu18Xz8kJ2CV2ym4CcEoKxibLygkXFBfKxRmflYFqVx2fAJBc7nhgNnJbsGmyTYHD89IPeR69OZmL4ygBLE6K+/fWbG0E81yYbYHZ8u6FAOZYUL4hOKCk/GYwS+OB6uyHC8TEAgLhF8OXo0ptM4jGW4ID7WqMB8DMeRaM9lwycaCJH1VXls//7awX97tYkXAMoE9Nt68gI+NuhV3mVzsfuIwAXxCYUL4ssExvGVj+Aj79cF8Q4+uCA+1kj99GYhPf19966eTV6zyUuhazmyf9aWFcKbW/cxna7h4E7eu0Qh78qhMt4iHI3AWcTgPvbij5jPh47Ip6ybA1cC8QnQfFrjAuFozSaGN1tBAsQIn/Hm4mAxeASXwgAxepRsYvQoGcWgQQp4YO0LoWJQhxz/iHCbGAyFTYweJaMYPTJTG+ZRzH2r1zy/9aQOpu9b2fXclt5fNZ1EtI06COsX7c4k0APpzvNL93p879HzTLNraR/g7UIU8s4dKu9oH5Co/ZG1Jx4eni2D7f9v792jrCrPrN+d//nGGX7/dGeckwGxxOGX0TmJ2nR/5rNjTEeT4Il0TGxzUaPd2Ei3JppY0ahojFZaJMELGhIT7yIKlhhRI3hDKQUFBQWNJV4ChSSAJSByiZDKmVXPYtZk1fvutfeutTd7bZ7f2IMx66231pq1Vq35Puz11KqrF/Ze9ti7/NpblmwysWXHblT5QX3Xi8l3UcYM72+mzPD3YvEd8b8r+tAe1TBj/6PAv3csHex0DJrB1jLNQGSamb18sNMxZkaPEs4UtZrRUxYzY4fdi/iCoj3xlVzpsQyMxY6Gc1Wxg42UNwNiZlTHzGg4x8xoOKsB6vMjKwXmQGCZO3TGpIkP/3Lg8/1mcl+27JTZQ96GvlDHDz1lVnmlzPAoBc2gfP/CedNvuD9pxUEUBGMH0cGoQaTkEjuah0NjB6TCOWhGMxAhHDSjgYz8pM40AyeZZrCRoJlUOJvAiJpRHTOj4UwzT676QM0ET1klK0Vw2fIivqkpjR18bhTfKUcWMESgGSKqIVTjU0M1NgJtjyCcufxJGwT6ljyyL1F7j9fJjOngjkC1ZoLGUmZUB83EjKmZZjtKWEj+5taLz/3d49MXvcc2G75QfP/sqd7f/X4rCvGut7YtW7sDRTleb2z8MzWEacxB6DzW3f9Ge6pJhi+MI6ZfemeH5Q6+ypwADCZq73FqBBMTDZqJphpCtSVaSmMj1MEdgaY1EzSGLaiZoLGUGdNexBcU7Ymv8EpPVGQOtjDM2MELJWaTmDHdzGag8Rr6TjxeZiloDF+iZoLGaAZF/Ce+eDJ74nHJB2MnFkG5xI5qxo5p7lR1zEzMWHAOtuBmgnO8iG9q6r0eIy+QL/YmQTLkFBwsurZscJFAajz3h+13vrBZm21qfuF/BSjo73t5C7apmeI0CV7EF5QGL8aZWD3agBaUFsOOm4WwvbR2HybeTuOk8CK+qan3etw+/2ZEDO/ZOS2AndMyv6aMmh7F94I3PsALtTgq8jIve8Mer+71O71kLwRexBeUpiritRL1Or5a9OjlWMEDL+KdFF7ENzWlK0830bttC0LBNPKULXTL1q6iXvDmcj5u9t4VT7OfD4NsNMRk3q279MkZljK2cfxr4yltb9KrgZQ+d95vTKuZxatfpRnsnf9PUDNXPzOHZvCFfOdYDZz50HQ1YzplAHOoOa5moNUMtZqBVjPUaubs3/2KOmYGc6iHY4YtmDEzQY2v4jn903sf/Oypd23Clh27r17Yaxq1OLseUZpTL+vZzufgPrnqA/bzYZAak3kb8ZYlg3172HhMm1ADKT190XumY2ag2WgYMwPN/2OUMWP3LlMGrutKDMTMrFy3M9PM7OV7maFWA9iRmjGNf9XMDc8OmuG4moFWM9Q040V8QSmd97UX175uWq/umjMQiaqxQ62xg2TW2DGNzP+Hvf9G0qEzJlkdr8ZS2kTKGDW+HCuF1RoxM1i28DKteagZiI3wfxRq4Iy9zezzZWvt5o0YQQXP8ZQBzLGjoeNlzJhG+f7VyXPZE4+rnlFzY9cfg7GDSKEeTuywPT0YO6bZ+R3LwKBGLKuZoF7//i41Q61m8lq2Jj260UQZM5nLFszgZTpmBnr4y5YX8U1N6ahPJmogBBM1cNmbQFTFtKUYwGBQIxSQzh1P3Q2tGw/uCGTOSRlQHTSQ0iZAbEdV6ZSBoE4ZCOqaDQDqmAHVMQOqy+8I0+w3HDpXLMSH48eP//w3/mv79iQ7kDsmAAMC6RDTFhwAgzFtAujGgzsCmXNSBlTHDKg2AZrBDHVsR1VpbC1mhpo79SK+oJQOO4g98eWvdKMSHYyalGa8WNTghYKY5Ttf9n585o5AjmaC2gQohJmqdMrAUI0i/uNHjL2n87c2zqt+2bJlGH9yYVLc1xw1gLqq2CmjK9kpNwgy58TMQAcNpLQJ0BpmvIhvauq6HiOUEc18U8EpOva8f9Txtsa0t7fj56e7u9s+6+wneBFfUBq8GMdAsZh6G54vXyz2ObF2mnnz5mF82rRpycfOfkODc8NXl+qo33qMOEYoo+BLPnYKDpbe1ELb0dGBn5+uruQPdDv7CfULDaeuNHgxLkPPpg32Fo++8u3tdmojVsR3d3djvL29PfnY2W9ocG746lId7IlHqrLrEZr9fN0bevgg3gdefZY9fNpciEH+hWdMth6+jqfuRi6z/Q4b5x29Y2d18HbhP8+6wjT+xbgNol7kTtWYmlksz7hVY2rm6mfmsKGQxoCagaYZGkuZ0SMTNIO6ls2FMTOYwPI3ZkZ74mNm2BM/HDPQ7ImPmcG4msGPBE4o/sUps8GZ984q/ewMi/v17+9iC93q9z5kPx80Ox273trGbm/t59MH7t64eBN7+LAR3tHDxqkvfWwjbxeyuRAjGDetZqDZ54ctY/umU2aoIfgXwuFczVCrGWg1Y1rNbJEH7qoxNaNP/1VjMTN6lFJmeG+URyllhs2pMTPd0hMfNONFfEEpXXbKaxvWmNYrHToYO1+sJgOh+fz4SmJn4sO//OSdF7GCn7MyeS8gFTtmBjB2MBI0A410sktRjamZzGULYCN6ZKgnVrBScKexo5TjshU8ZWoGc+xolDEzdKWYN2/eV34y67I7Ftg4osAarHt7e7/1y2ePOf0CG9fY0Z744cROcKXQDISZ4EqhZjAeM2NHA5oG1Ax07stW0AyoZNlSMzxKS9cM/sZUygyPUoUrBc0EjxJsc6dexDc1pcMOStTAZZ+oiEZGWFiU0TYZH1o082szNw6q0jEDqmveOFDN6ATBOdij6pgZ1SaA6swdgVzMqI7tSDVWPpzNMXddgkGOd3V14eenoyNZNphWIKiREQyOmM7cCMhFxwyornnjoCodM6C6kg0yo0HNc7BH1UPNeBFfUHC1cjHWqzuX2AHUsahRjcnYpr0fz2ckgMyNg6p0zIDqmjcOMjW+zQVvJL+0GjOgupKN53LKsEfVZqC7u/tvDj7svAsvtXFEARPg40eM5bVfVaSA4ccOwATVJkBddcyM6po3DqrSMQOqa944CGov4puaOq3H87qXIJrLPIXQKRAIeltrcVqToQH8Buv+iRfxBaXBi3EloNDk/cmWhP9RKUqzUJlUHz9+PD7lvwS1v9Hg3PDVpTrqtB6PH3j4gPc4tgaxB8Nv3759zJgxSPbkY2f/oE6h4dSbBi/GdeK2F+bre8zNDCt4exViQSxTxE+bNg2f6u1NuhOd/YQG54avLtVRuv4/TfTu3fWoPfGXL5hp+vFVL7KHL9VciE+ZxuTn1rxmmTXx4enaz8c7d8fO6qDWnvhv3j/VBvFZ9vbBDJ9xmzIzeeEs03BCYxBsLsRk5ia+o2BzYcyMNhfGzLC5EHvJNIMJNKOdjtggzYyd/VM9SjTDflB8FnNM46u005GnTM2k2i55yjCBpyxmxo6M3VTBa+3m/ta9lJmj7/6JPWJy/d6djuzne+mdHXcs3Ww61s8388XN+JRpTA42F2LjvLt35YJ3eetQmwsxbhoztblQe+LVDPZrGk5oDELN8E9Sw4w2F9LMpY9tpNaeeDWjXY/BBv0yZtjpWMYMj1LMDA3gsz/OMoO9xMzYKfMivqBoT/zQK52asfMFudI1A2OxE1wpYrGDyYwdbUNXM1gRzAyw2Jm26LfIov/r1h/YfMxMLVuWCykzGs40A2NqhuGsZnTZ+mKVyxbGtYK317XP3q9m9CjFzPAo1bBs2dHAVwWXLT0yXClQxH/lJ7POueFBG0cUMHYQEc+/9o5pjR1EiuYhY4fhnIodhjNiJ7hSpHrigyuFdnsjx4IZmDJjRwOf1TzUlSL3ZUvNBJetlBlqNYMtqxkNZ5qBQzUTWyloBjvaHFopgsuWF/FNTenAv03UQAQkaiACErX3ODWEahMAGgGEtEJqZG4E5DIHIqZNAN1IbIO5zIGIaRMglx2BzDkQMW0ClNkIXrYOcbEBMTMMCKCayQWoIVSbAKozNwJymQOh2gRQXQ8zwfkQMW0CZG4E5DIHYqj2Ir6gxHriK0yDRFU2hxpCtQmgOnMjAHOsgrcXcskq2qq2A6HaBFCd2gh2ipdpGwSZO8KEQ2dMolt9Lf5D8qu9mMz5wY0A3VFsp7nMgTCNIl574nn5g1wiBWTOgYhpEyCXHYHY/OAcCNUmgOpcdgSax4wX8cOlb8emP/5x0476HMN6rMf2XJpU/7RTRKyRhu/iOA7wIr6u1C/wG7wY54tW8PZiHV8/uFOr4ysHBTFik1b5aoDnYVKmncbZP/Eifhj0bX7lnguPaxtRKo1oO+5Hdy79U3KT5q+7N8w9e8SIs+duGPwvVG3E3onP1LEJ+F++pRVE5kZA7rrmLwS565q/EOSuq/3CB159lqtOJfNj/9EP6qomg4bpmr8Q5K5r/kKQu6bwIr5e1DnwkfZcjCu5onPRNX8hoL7thfm2rKReSKfYe8+ZOnNC6r8NP3/mPhsHmV8LYCxVx5fJ0ko22Bht78SziK8qIkDuuuYvBLnrmr8Q1FXX/IUgU3sRXzMfrpt77ujSp06c9Ku77731qtM+M2LEidct3zRwLHet65xQKk3oXLcn5GtFe+LZ64ygmfTEnaa73l5B/fBrz2k/H58LhkHq0+ZOQ1rZe7f4QvbzYeNMW9UnzvmZZYcaSGm+E6xmtJ8Pe2e/h5rR5sKYmVRzoemUAW005LiagVYz1GoGWs1QqxntiY+ZYU+8jtdghjpoBj8DtvDYHRWO42ThlPVP3dvAlh272ee3+r0Pb1ky2GBNvejtbdrPhw9NY5Aak7Wfj3f6sPGg/umTgz182miomp3fMTPQ7HqMmYFmc2EZMxZ81ZrRTseYGe10VGNqQFswOZ4ywOZUG7dsVjPQaoaaZryIrw91D/zSRd9Y+PbLpnlFg1gGBnvioXnVp2KHWmMHyZwZO+fO+81QA6oRR//z1vMskfSFrdGMLVv28xwzoz3xMTPQ2NTQN/7xuvLpZDsVLluYwzreKvgali1qPTIVLlt2NHRcj0zKjGkU8Sde8+g51yfPj8dVH4ydSyR2tCe+wtgxnYoddn4HY8c0O79jGRjUtlM7GmpA9fr3d6kZajXTsGUr1aAfNAOtDfpBM9CxZYs98alli0fJe+KHTd+q28eNOuT8x3rt6O16q/PMw0eMu6n7Q3ycXxGf93ps2de5YmHysVNAuPZ0PHV3MuQ4e/Aivi7UP/AbvBjnCypg1MFWENuL1W3udG/o0R3pq8KdIkLt0ZmWpVbB26eaHG+ncVJ4EV8ru5ZOaWs7tTN5mAAy/sPum8aNOHzi3DV9TVzEj+ucjKTje95OEbGb11h47N0mx1G8iK8L9Q/8QhfxQOv4+lXwBrZvO9JXhZ3xiM0z5CHL+JDvmjc/XsQ7KbyIr5l35k445KMT567n0evrXdRxbGnMJY9v2JFbES898Ro0QY0wYlUX1JhpYWfjmRsEMc2Ng8w5NDBUmwC57AhkzoGIaRMglx2BzDkQMW0CpDaybO0qO4kvr3szGc3akT1lkrfqgGq21kHEtAkQ20juuowZ1SZAbIO5z4GIaRMglx2BzDkQQ7UX8fWh7oHfsKfTQMS0CVDbjqyO59MYQeZ2UgZi2gTgRlJ1vPbEl9kpXmyhwcvq+GqNmQBldpSonOZAmLae+DJPpxma9kPnGDXPgYhpEyCXHYHMORAxbQLksiMQmxOcDxHTJsBwdso5XsTXzK71j5x/SOljn5vw3zfds/CtgacV9G1ZPOWYUW3Hff+K7x2TTxE/9T9MIBxTD9w1rY+V1YeOa3MhBu1p6PZMcX5t7Bm3qaf/msa/2napZpCJptUMcpxmUk9DNzPgcnkUsT4NPfbAXeigGWo9SmoGSc3mwpgZTLBABzEzsefEq5nYc+KrMgPNhVDNnPLbaz8142KcREzAxoNm2F4JjVPZ2dk5bty47p53g0//hWanoz79N/aMW336LzbCB+7qY4kv3fP0X8AmQoywhw8z9em/waehp8xQQ+ij2dUMtZrRp/9eEnk0e6YZfPs0kHpGspphp6MepdSRYQrzKKXMxB7YTDPYC9sug2a8iK8PdQ98fU58JRn4xWoyEBp5a7ra2MFKQTPB2AGp2DGtZqCxHbsUY2aCyxawlQLJiZea+ZfOq6wWn7bot5UsW2c8eINW8PaaufwJHqUKl63MlSJ2ytQMtB0NPUrYmpoZulKgiC/znPgVf3h3zJgx8+bN09jRnvjhxE5wpdAMhJngSqFmoGNm7GhA82noaga6HsvWUDNAl61KzPAo6UqRMsOjpMtW7CjpshU8SrBNM17ED4PBhxUwvvt2reuaPuFIDOVTxOe6HvvDJQsN1gBbgfi/pkro6OjAT1FXV1fysdPq5BsaziB1DnxsotDtNHUFdbPV3CygDXzIUrs8zM+hr9Q2m5ny7TT8rP8g7T80ODdacXXZtXVj6rHBfTvee/uVpYtfWjPshwnj9CQqD7whvtDYLyVX2wrf2dmJnyL8m3zstDr5hoaTpm6B3+DFuECwgrdXbTX3/lDE9/b24rNjxozxH6T9hwbnRquvLjveenpOcqe1cnAOohz1yWTSwA24REU0Qorl3VCNlwWWDYLYBnlPENQ8B7tTjddQjQmqTQDVbsYmcxnj/8EqNNPV1YWfo46ODt43BNQ7d/Wp5i081Zig2gSoq46ZUY3Jqk0A1bxBCWqeg72o5k5VY4JqE0B1Y8zgdNuIU3eqD/yBWI8Q6Ynfh7FjqM7FDKCOmaFOVfD2srK72p2u2rh2aB2PTamZTGOYoNoEUF2/U5bqiUcUMAEsFuxHafP2wRjZDzMQYIJqE0B1LmYANfaomgZUY4JqE0B1VcZwur2Iz491nafm0UVDSleebgIXM1vlcPGzrx0l3dXPzDG9ePWrvLGYai7Ep+wXIj9/z+WsArUnHhtnXpz50HSGlDYXsm8PM7XTkd0dKTM3LE6eZQsnNAbB5kJMtud8ATWjzYXQNFZzgz72QjOxTkdMoBntdMQGaebs3/2KZrTTkf2g+CzmmMZX0Ri2xlNWxgxPGSbgAJqGmafefNnWmy/MuiJ4ZGJmMMfeufnBT65hC91q6YnvXr9z9vJkIyvX7Qz2881ZsQWfMo3JwebCGxdvYr5gRwwpbS6kAcxkEyG2oG3oMTPUEGoG/k3DjDYaqhlq7YlXM9QpMzSJPeIgmE6ZYadjzAw2zqOkZnBkaOZSaU694dlBMzSmZrAXmkk1p9opw+m2Eafu5Br42hOvsRO70vU58ZqBsdhhOFcSO5jMDMRGgmagzQxIxQ51atmyXFAz5ZctfJVF39AXNqLL1sTISqFmzLDW8ajg8W3uq2XLjkbqlPGIqRmeMuS59sQjChg7iAgExfjx45EAHfPfYewgUhg72mDNcC4TO8GVIhg7QFcKM2MaoRrMwJQZOxr4LA2oGejcly01A21mgB4ZGoBmCKsZbFnN6EpBM3CoZoIrBTauZqh1pVAz1F7E50ruRXx+63HnioXILKaSUxQQ/fbgttqeCr99+3b8FOX4g+Q0OX6uG0e+Rby304QI/l0nFOJWGdcAvlAfMVksyrfTAHwKE158cfABQU5r0+Dc8CK+OnJcj9vn31zQ2NqfwXpj7xsNZ9EaM0DygdPq5BgaTgZexDeEVB0/nDA08OV8N71YZBbx9ktQjzzySPKx0+o0ODe8iK8O7YnnrToEEG/VxTQEY860/Vbrij++lRo3zY2DmrUaiGndaUzXbABQxwyojhlQXbMBQB0zoDpowFavw2dMsk1VtVOQfFVPz7Jly3gPcefefXtBDWG38MpobhDkomNmVMfMqK7ZAKCOGVAdM6C6ZgOAOmZANXfqRXzjyLeIP+ygbX9OHhdY25VuUNccOyldswFAHTOQ0txpyszUZ+6zCv6U317D+TWbAdRlzFBDxIxR12wAUMcMUKOI//gRY2M98aa7urpqjhpAHYsa1UEDKV2zAUAdM6A6ZkB1JTvlBkHmnJgZ1RBBM6orMRbUXsTnSu5F/GWnmMAFzO5G6GmLkla5ZWtXUS94czm7ZaDxMo1BaEtATOY7ENDMDmyceaF60hN3WkilDKievHC26TJmHn7tOdNmxnTKjLZg0oB2PXI8ZYBNhDquZqDVDLWagVYz1Grm4sdvp46ZwRzq4ZiBtg4ovO5f+YyNq5mgxsnCKbNBNYCwYA8fLv77Xn7fdPf6ndTLegafcQuNl2kMUmMy+/mgGVLYeFDfsiRpIlQDKX3Xi8l3UcbMoreT1vMyZhhqZcxYYlZrRtsusXftdKSZuSv3MkOtBrTrkeMpAzc/HzhiagZazVDTjBfxjSPfIv6s41/sed20Xt15ZSB1+dgxrRkIPdRASgdjJ6UzzUCXMTNt0W/HP3j91c/cFzTw/b3NZC5bNKxmtEFfjamZG59/WI8MtZqp8JRZ5aXjmWasJ/7ca5I1F1d9ZuwgUqiHEzuIONPB2DHNzu+YmaDWnZbRaoZazUCrGWo1A207BUEzoJJlKy8zmcsWdcoAG/S9iM+V3Iv4nNZjFOuoBcd1Tk4+dpqershzkR2nPF7EN458i3hvp8nCSvP9mcx2Gmd/w4v4XGnWIr57Qw/Kwfb5NycfO80N/tNlv8w6bdFvkyHHqQwv4huHF/FOY/Ei3knhRXyu1PSc+DKUxg7+PiK7TbbLL+VAazsdNYTqmcufQEV42wvzoflmBjZCzY0D1fo2cHBOykzQWMqM6qCZmDE1EzSWMlBQM/j3UzMuxvmyx9HkYmbnrj7ewktp3s5TDaHaulBSGhuh5nOygGr+SXAQnIMt7BMzQWPYQuZRSplRHTQTM1Y/M17EN45cA7/09SPZE9/42DHNneYSOyBmjDtVHTOjOhdj+Co1EzSWMqM6aKAxZlDEf+KLJ//gJ9fYOC75YNQ0PnZMBw0UwkzMWHBOzIzqlBm2x0AHzcSMZR4lL+KbGu2J57Nsodk2hwv7xucfNr149atsPV8gzYUYvPLpWSgKO1csxGTmAjZCjY1js6YvXzCTYcTmQvyLcRu0fj5q9sSnzGg/H41B4FOmU82FQTPaXEhjZczwKKkZ7IVm9CipGUygGT1KakZ74mNmtCdezfCUlTGDA4Wt2Xvwx3dOtu2rGRxqGogdGW1O5ZFBgvBZtggR7edjp+PKdTvZep7q52OnIyYzmLARBhM2Tn3H0s0MIzYXYgTjptUMNNvQseWYGWoINcMk1eZCNaNt6OyJT5lhc2EZM9rpmGlGj1LMDI9Syow2p+opoxnshWb0KNGMF/EFpXTW8WveW2+65isdOhY7Gs6p2DGNXNJwZuxgIzSgeUgzgGYwonlIM9A0gy0HzaSWreGY4VFSM3qUGrZslTFjKQmtpyxohkcJRfwXzpt+7tS7bBxRkBk72hOvsaOd37HYyVwpIDJXCoQqDcQyUM1oINMMdFXL1pOrPgiayWvZohkN55gZhjNImaFWM1UtW17ENzV5rcf2fElGj9OcIOWH/0BJZz/Hi/iC0uDF2Cki3k7jpPAivqnJt4jXe3xOs8EKfsxdl/BdHMepFi/iC4oX8U4mXsQ7KbyIb2pKZ3zJBCo83s6D5j1HHe/ZtGHVxrWmIVSf+dB0K+IxmW/xYiPUOv74qsE/9sb7iYDjmMm/QQ0dM0OdMsP7j5hAHTODHVFXYoY7Va1mUkcpaEYNqDE1EzxK+GzMDI9SzMylT9xpFbxNyNfMqrff/Oy5p/T09P8vbueuPt7mW//+Lt7mg+7ZlLTZQVBjAm/5QfOeIzZCreNL1yQbB7y3CDiOmdypmtHxmBkINUMdM9P11jbqmBnMoY6Zoc7LjB6lmBnuVLWagVYzpr2ILyjaE9+w2IGgzj12oINmdDxmBiLTjI6rsUpWipgZ6jJmqPMyw52qVjPQZgZF/Ke/OpE98Ro7GjXfn3rXkwuT7cdih3lYJnaYh5mxA2JmNA+LZQZoOAfN6HjMDISaoVYzalKNZS5bXsQ3NaWzjjeBa5vtcb3btlDj2mZG4CJnRuDi5/WPQVSHeGEjmMwAwkZU47ND9eSFs0yrAdUwc8PiwU7HmBlqCBqLmcEG+VZ0zAy0DZYxw3HoTDPQmWZmLn8i0wzmmK7KjP1Rp/91x4W2Xwxy/YiZwXimGe70ttkzSxee1NnZCY0EYVM1NDMCQcOMQKAwmDDIMMJkBhA2wr49aIaO6pkvJj18GOFOVWMLc1Yk31EZM9RlzKiOmTFdoRmOlzHDoxQzgw0Gj5Ka0aP0WHfyEPqYGejyZryILyjaE1+PDGQ4l8nAYOxAB82oDppJGaNWM2WWLZpJrRSVmDGNf6s6Sk21bAXNoIg/+rtXsyceV/3Q2Ont7T1h8tzPHn+yjSNScokdhnMsA6EZzsPJQO5UzUBnmoEOmkmFc9BMypgJNZMyRq1mUitFJWZUx8yYxr9BY17ENzV5rcdWxCcfOE0G/6i4PrsgX7q6uvCz1NHRkXzstC5exBeUBi/GThFBgY6fkzFjBh9bF+QjH/mI58B+QoNzw3+qqiOv69CL+KalARU88E7K/QdfvAtKgxdjp6Dg5yTzGj/jjDMwB7GffOy0LjjRXsQ3L9oTf++Kp033btvCfr6eTRuoV21cy1t+L697k/ciMcgiHpN5+081Ns7bf0GtBmI6ZkY1BI01zAx0phnoTDPa6Rgzo52OmWasD94q+JSZ4FFSM0GtO1Xdu2Vz6ezjLfrXv79LmwupezZ9yNt/b2z8M2//YZAak3n7b9Hbg317T64avGOb0iYwkqljZlTHzKhOGRiqYwZU7ysz2g8aNANd3kzmAu80J6WvH8l2mpqvdNWp2KEuk4HB2Hn4teeGGhiqTcTMQGeagc40A82ulTJmTKcMBHUZM9RlzFAHDaiOGVBdiZkjz7j801+daBpXfTB2zp3+yN8cfNiyZcugtcF6OLFDHctA1cPJwKDesmN3ppm8li22x8TMQGeagc40ozpmhjplgNqL+KYmWMRD8zovc80zdDAYK+KxKdMMmpRm52LKQLVm8J8K0xiksZQZajWQe92sxtQMdIPNpN6DT5kJHiU1E9OxU2ZF/Pbt/b9Jk1cADQ2alG5kGgYN1MMMtZqBVjPUaiCv1bS8GS/iC0qsiM8rdqjLZGAwdqCHGkjpvFaKhpmhTh0lNUOtZqDVDLUayHelAGqmkiJ+6v0voIi3X4JqTOyYDprhTmNad1pGqxlqNQOtZqjVDLTtFATNgEYuW2zQj5mhThmg9iK+qclrPWYR7zQJjemiUdrb2/Hj5DdYWx4v4gtKgxdjp6Dg5yTzGp83bx7m3HbbbcnHTuuCE+1FfPOSea1WiBfxTUXjK3jQ09Pjmb4/kFdoOA2mwYuxU1Dwc5J5jW/fvh1p39vbm3zstC4Nzg1fXaoj30dMQmMyb/9hI6rtll9K6+OxuNOUGX08VswMNQSNxczk/qwu6Ewz0JlmcnnE5OULZrKCL2OGd29jZjCeaYY7VTPr/RGTu/q40zJmOF7GDI9SzEy1j1fzR0zutxTuEZM0Y9qEmkkZo6aZ7g09ZZYtmkmtFEEzqms+Sk21bMXMHP3dq48843LTuOozY8cfMalmoINmVAfNpIxRq5nUShE0k9dKQQNexDc1ef2xJ6sabTL+tXFtLtRxhgVg7gOOY6b288XMUKfMMPUwgTpmRpsLKzHDnapWM6mjFDSjBlSrmeBRwmdjZuwopd6DT5mhjpnRo1SzGVz/2s/HoIFm0EBQYwKDBprhgo1Q6zhTDDDdAMcxkztVMzoeMwOhZqhjZrQfNGZG+0FjZqjzMqNHKWaGO1WtZqDVjGkv4gtKy/yxJw3noBkbRwYiCS9fMDNoBiLTjI7zCIBKVoqUGdN6lMqYoS5jhroSM9ypajUDTTOf/urET3wxeQa8xo5GjepY7DAP8dlY7DAPM2MHxMxoHjaVGRhQbQIUa9nyIr6pyWs9bp9/M+Kye0P/H+x09glI5/EPXq8VvOPUAy/iC0qDF+N9i1Xw9pq26LfJqFMB+Dnxa9whDc4N/8mrjryuVS/i9y2s4MfcdYmfBaeu+AJfUBq8GO9DtIK3l9fxlYOfE7/GHdLg3PCfvOooXXaKid5tW65+Zg71tEWDLXQ3Pv+w6cWrX+WduwVvLuftQgye/NtrEJTL1q7CZN4KxEaosXH2812+YCaKTtOTnrjTNP7FuA1i5g8fvYV68sLZplNm2NsHJzQGwVuEmAxLpmNmsKOhxsqY4VFSM9gLzehRUjOYQDN6lNTMxY/fHjSDo2SD+CzmUJsZbOrYWR04/qjgocuY4SnDBD1KNINDTQOxI6Nmgkdm/fu77nv5fdPd63fOXZnolet28s7dsp7tvF34yO+38nYhJvNWIDbCHr7Zywf7+e5YmvTwgVuWbDKBEYybxkzMp77rxURjyzEz1BBqBv5NwwyNqZkbF2+ihhkzljKDOdQxM2xArMSMHqWYGR6llJmbnx80w6OkZrAXmtGjRDO+wBcU7YnP5UpHbnClsPA3XW3sYCPlzQCawYiGM81Am5mhFby9UMenlq1MMxrOKTM8SmpGj1LDlq0yZiwlofWUBc1A00xpwtjStz5nGlGQGTuIlGDsMJzLxE7mSgGRuVIgVGkgloFqRgOZZqCbatmiGQ3nmBmGM0iZoVYzVS1bXsQ3NaWxg39dme/gIgsYItAMEdUQqmcufwIp2bliIbQFCsBGqPXtYdXa+BGckzKj4zEzqoNmYsbUTNAYvkrNqI4ZUB00MEwz2Cxqdxz8r3ZeZfvah2ZMIwuY+9AMEdUQqi1EUhoboV79XtL8B1S/9E7S4wuCc7CFfWImaAxbUDNBYykzqoNmYsbqZ8aL+IKiPfG5XOkpHYsa1dypGqjZDBhqDDNZuOtr/IPXx8zEjAV3BIp1lFIGMs2UjvokXqZxyQejpvGxYzpooBBmYsaCc2JmVMfMqK7EWOZR8iK+qclrPZ7XvQQp6bcsGwwi2yp4rE/Md8epK17EF5QGL8b7EAQja3d7eUJWDn5O/Bp3SINzw3/yqiOvaxX/6UdQts+/OfnYqT+dKxba+tTx1N3Nsz5Nmzatp2fwXSKn9fAFvqA0eDHet2gd7xV8VeDnpMJrvGuA5AOnRWlwbvjqUh3aE3/uvN9Qa6cj9YI3l2s/H5sLMfjAq88iK8fcdQkm826d9vNh4+zhU81+vpQB1WwuLGOG/XwYpLGUGWo1oM2FHE8Z0E5HjqsZaDVDrWagM81oT3zMDObgiPFRknb3owYzwaOkZoIau9ZOWTUGvWzZMlzwP776N9pcSL2sZ7t2fmtzITUm8zYiNPv2pi96L6i10xHjQc029DJm2GhYxgzvXZYxY/crh2mGWs3M3btBn1oNaKcjx1MGtDmV42oGuryZChd4p9konXX8iz2vm9arO68MpK42dqCHGkjpMrFDnTJjdfxx9/73r5f8zsax95rNfH9vM5nLFrUemVRPfPAopXriqdVMhafMKi8dr8RM6byvlb5zjGlc9WVip7/YL5W0J344scPO71gGQrPzO5aBQa07LaPVDLWagVYz1GoG2nYKgmZAJctWXmYyly3qlAHviS8GbH0DLLgRTwyImIawFKO2vo433l2bGjfNjYOatRqIad1pTNdsAFDHDKiOGVBdrYFVG9fag2jwmrMyeRckZkB1zIDqas2kdHd3Ny748y68lAGBojaoIdifF9NMH5CLjplRHTOjumYDgDpmQHXMgOqaDQDqmAHV3ClOsY04xaJ02EHsia/h6k6U6FjUqI5FjeqaDQDVQw2gZoXQ8UwzqodjhhpbUwNBHTOgumYDgDpmQDV+TkoH/q1pjRrVFh3jx49HGix++Q0bBPWLnTK6qp2CoI4ZUB0zoLqSnXKDIHNOzIxqiKAZ1ZUYC2ov4puaHNdje8qk/mKNkzvIYvvPEv7V321qErZv346fqBx/qJwmxM9vQcGJ23/aaZyaGYjwiq7x9vZ2zFy2bHVEdNIAADbgSURBVFnysdOK4BR7Ed+8VHitVoK1aPvvttYP/TVWfZelqeiP/1IJ1XzysdNy5BgaTiPBifMi3slkIMIrusY7OzsxE/8mHzutCE6xF/HNS+nK0030StcjCkS20HVv6OEjZrWF7t4VT+NlGoP4lP1u69/deRHfIcZGqLWH78yHpvMW4T/PusI0/sW4DWImNcygZjWdMnPD4qS3D05oDIJ/bhqTtaGQZrBxFsHQNKZmjp3VYYNlzPCIYS80g70HzWACzeALaUYr8rN/9yuagQGaOfqey9kEf8TMS20cX0Vj2Jp2PcbM8JRhAg6g6ZgZPTJqBkfJBlNHxnR7e/uhXzvrqsfesfHu9Tv57NuV8jT0J1d9gJfpOSu2sNMRk/lkq+mL3uMdPe32vq7rPd4inPToRhMYwbhpzGQ/H7Zw9cJe09hyzAw1hJphcyHM0FjKDPUlj240Yykz1CkzNIk94iCYTpnh376OmcHGeZTUzKWPDZqBtkF89oZnB83QmJrBXmgGe1czdsoqXOCdZqN02SmvbVhjupIr/Qtlr3SQih2Gc7Wxg40EzUCbGRCMHWiGMLaA7VguYMsVLlumMTloBhunmYmRleKb90+1QTWGLQRXigYvW3Y08FU0FjOjp6y/J37icaYRBYwdREQqdubNm4c0OO/e7mDsMJzLxA6bsHWlCMYO0JVCzSBUMzMQZuxo4LM0oGagM83ASdAMJtOMLltqBtrMgEqWLZrBlmkmtWzRDAZrXrZghkcJR2zoUfIivqnRnniGAghqZISFRUxblcn5mRsEMc20AsE52KPqoWYAJqg2AVRn7gjsWzMQpwz8LS287En8Ng6C28FeVHOnqjFBtQmgurYj09HRgWv+0aeT3zNGLjAsoC0sUhoTVJsAddUxM6oxWbUJoJp5DWqeg72o5k5VY4JqE0B1Y8x4EV9QSocdxMV4+Fe6QY08Uc14UY0Jqk0A1bmYAdQxM6ozNwJa7yhhL6q509KBfxvriTcBTNsvQf3gJ9fYIBg6x2ixDASYoNoEUF2Jmao09qiaBlRjgmoTQHVVR8mL+KYm3/W446m7UWjO616SfOwMm2VrVzVzE/xQenp6xo0b5+00LYwX8QWlwYuxU1Dwc1LhNY6c7+jo8KdMtjYNzg1fXaqjwmu1QuyRXryN6AyT216Yb2/A45DqWymOsw/JNzSchtHgxdgpKPg58WvcIQ3ODf/Jq47S9f9pAjWi9vOx07F7Q8/lC2aafnzVi2ybSzUX4lMQ2z/caUWnVZypfj6Wod+8fyrv3MX6+ahhJthciD1OXjjLdKy5EM75tJxYcyF2RGPaDxozE2wuxF5oJtUPSjOYQDP4wqCZsbN/amYw8n/f9kM7mL9e8rCawRzTNZjhKcMEO2VAzWinbOzIaHNq8Mhop+NL7+y4Y+lm00vXDD7jVvv5Zr64GZ8yjcmZzYVXLniXtwu1uRDjpjGT/XzYgrahx8xQQ6gZ/hlqbS7Exmns0sc20pj2xGsbOnXKDDsgsUccBNMpM+yJVzNDm1NNqxnooJkfixkeJTWDvdBMqjnVzPgCX1BiPfGxK1174oNXOnKDKwVihytFLHZuWPxAMHawEZrBxoeaAYwdjMTa0LEdywVsuZJlS1eKmBnqb1WwbKmZhi1bZdZQOxr4KhqLmdFTpj3xiILM2EGkBGNHe+JjsRNcKWI98bpSqBntiY9loPbEMw/VDHSmGV22MBg0k9eyRTMazqllS83oSqFmqPWUpczwKOHIDD1KXsQ3NWx9A0wowIAAOk4NodoE+PGTM1B32jNqMjcCdE5sfuYciJg2AXLZEcicAxHTJkD5jczrXmLl+5i7LrHfcNqHZoxq5zC5AMMCUEOoNgFUZ24E5DIHQrUJoFo3EttgLnMgYtoEyGVHIHMOxFDtRXxBifXE554GEDFtAuSyIxCbH5wDodoEUJ2Xscw5EDFtAuSyI5A5B4Jae+J5+YNcIgVkzoGIaRMglx2BzDkQMW0CVLKj2Pya50DEtAlQibHMOV7ENzW5r8f4j75Vn5ogToXgoNnj9vGC8GPoNCFexBeUBi/GTkHBz4lf4w5pcG74T1511ONaHT/w90Q7VyxMPnYqg7/Dipf/crDTtPgCX1AavBg7BQU/J36NO6TBueE/edWhPfFsOuzZtGHSE3ea7np7BfXDrz2n/Xz40DQGqTF5+nMPogwd1zkZmv182Djv4qk+cc7P7P1mNZDSbC6MmYFmP1/KDJsLY2ZSzYWmUwa00ZDjagZazVCrGWg1Q40NvvHuWnuwD16n/PYaa3yMmWFP/DDNBI8SdxrTOFk4ZTaIEe2apRkcZ5p56Z0dtyxJ+vkWvb1NO7/xoWkMUmMyWzCnL9rrWbZB/dMnBxsK2WiY0mxDj5mBZqNhzAw0mwvLmLFbkNWa0Z74mBntiVdjakD7QTmeMsDmVBu3bFYz0GqGmmZ8gS8opYu+sfDtl03r1R3LwGBPPDSv9FTsUGvs3LD4gczYOXfeb4YaSGmNHRpQbcuW/TzHzECzJz5mBpqt52oAR0PN1LZsaRu6GlMz2hOvxtRMhcuWHQ0dr8RM6ccnlyaMNY2rPhg7l0jsaE98hbFjOhU7bEMPxo5ptqHHMjCobad2NNSA6vXv71Iz1GqmkcsWe+JjZqDZEx8zAx1btjaLGV22eJS8J74Y1Gk9RgWPetTfjK+Eed1L+Aa8HzGn+fEivqA0eDF2Cgp+Tvwad0iDc8N/8qqjTtcq/ruPktQ748vTu20LO+D1YREtQFdXlz8qvlXxBb6gNHgxdgoKfk5A5QHe09OzbNmy5AOn5WhwbvjqUh25P52G2spTe0wNCM4BmTsC1ZpRbQLoRmIbzGUOREybAO9s3ti5YqGV74fOuJgd8DqnYWZy2RHgODK9dNhB7e3t9qH+Ijw1hGoTQDXv/YG6zoFQbQKoroeZ4HyImDYBMjcCcpkDMVQj023EKRZN9XQa1bEd5T4HQrUJoHpfmVFtAuhGYhvMZQ4E9bkXtKMw6O7uhublD2JxcfmVP0cmIPahMyMFZM5h1AzVJkAuOwKVzFEDqk0A1ZkbAbnMgVBtAqjOZUdexDc1+T4nHvCBu/jXilT7EBtndqT6+Sw78K8+/ZctmDCjD9xVM+zha8ADd02nzFTyaHaawQQzs2ztqtF3XGAHB//VYRM84HPiAXZKM9rpGHtOPE9ZGTPaD8pTNpznxH9RjgzNvNyzqjT536zUe6lFnxNPM9qGrs+JVzNsLkyZ0af/atulmtGn/8bM8CileuJphgbw2dgDm2kGe6GZ4AObvYgvKPv8OfGMHWyQKwXARoJmUn9RxISagaYZbAHbsVxQMxUuWxbOQM1g4zSDrKMuyrJlRwNfpacs8znxY6eeV5p4nBXxiALGjj4NXWPnvzrf/vgRY+3NeEQNY4fhXCZ2tPOb4dxUz4lPrRRBM5hMM7psqZngsqVmoINmsGU1oysFzcChmomtFHpk2BOvK0Vw2fIivqmp63qMUECd6k01BMHK/plxnZPtGfAtCX6ugHfUtCR1DQ2nfuDENUM7DWrKf7jrEt6kdZqN9vZ2/KhYEV8JnZ2dmI9/k4+d1qLBueGrS3XUdT1G7W6/4drx1N3J0P4KDoX9l8ZenSsWtvZ/bKpdBpwCUdfQcOpHgxfjIKjg+Xv8Xsc3J9Wm97x58zB/2rRpycdOa9Hg3PDVpTpKhx2UqIH3iRMV0ag7WXrGdOoLEdmW17yJCTJ3BDJ1zIDqmjcOVPMmJgjOwR5VqxmMo2TnutU+/2aMBDcCMncEhmMmqGM7Go6+6MrLceV3dXVB8xbezninIzUng7rqmAHVNW8cVKVjBlRXskHexgU1z8EeVQ81gzNrI06xiPXE5xI7gDoWNas2rj38rkmWhPYa+re9c9cxM6pr3jioSscMqMZk1SaA6rquFNoTjyhgAgTjAix++Q1kgv0SVGzO8GMHYIJqE6CuOmZGdc0bB1XpmAHVNW8cBLUX8U1N6crTTeCCTzUXmtYWOm2bSzUXsp9PG6ytn29e9xLL6zkr+0s6cOyetksQ6+fjTmEm2Ia+ePWrNJNqwaSZq5+ZQzNqTJsLoWmGxlJm9MgEmwuXrV11w+IHTKuZix+//R/vutS+/c/M/PH9K5+x8ZiZs3/3K6ZqzAzmmK7WjB4ZaBxA0ykza/aYwXjQDJtToSdGjsxXbv8JrvzOzs7V7304e3myEe10TPXzrVyXnALtdNTmQm3BvHRPpyNgcyFG2MOHmdpcGGxDT5mhhmAbOpyrGW0uVGM0oz3x2unIncbM4NungVQ/aNCMHqWUGSYvj1LKzA3PDh4ZHiU1071+55wVgVNGM17EFxTtidfYgQ5e6fyNl0oyEBp5azoYO/jCj9+e/C6QvlDHaxt6MHaAxk7QDDS2Y5eiGlMzsWUr1qCPjVMj69QMj5KGM3eqxtRMhcsWOy3xhTSmZqCDp0zNYI4djTJmgiuF9sQjChAINh6LnalPbfj4EWPHjBkDPZzYCa4UmoEwE1wp1AzGYxloRwOaBtQMtLah57JsBc0AXbbYhl7GDI+SrhQpMzxKFa4UNBM8SrDNnXoR39Q0Zj1GTFteM49anq63V1grEV4Q/EWl/QQsAMh0f+5YS+JFfEFp8GKcAjWi5WHqNeauS1iPOs1ADc2Q+JKOjuT/D06L4UV8U9Ow9djqeOR1y9fxWr7j+/W/3+S0GF7EF5R9W8QDvpvDFxKS7y47TYL/RpOjeBHf1JSO+mSiBm66JWrgZpyJ7Xu3zam2W3gAgzFtAmDj4x+83oKbfTUgNSdR9TeTqGHolAHooeX7O5s3Zhqr2QCgHmpmqI4ZUF3JTrlBkDln596djqrtFh7AYEybALwPCFRXNSdlQHXMgGoToBnMUMd2VJXG1mJmqLlTL+ILSumwg7b9OXn2XCVXeqaORU1KM14wOPWZ+ywh8Tr8rkm2KU4GsZ1WNadCMzFtAjSDGerYjqrS2FrMDPXZF0V74qlrjhpAHYsa1TEDqms2AFQHDaR00EBKmwCZOwLNb8aL+KaGPfG4gNl6jgt+8sLZppetXUW94M3lbKG7d8XT+NA0Bqkxmf180HzfHRvHLvhODBsTMW4hpQZSmg36akb7+bB39vOpGW0uHGrGtDYXcjxlgA2FOk4z8P/zrs6Rt59v39ohd/zojAdvsG9KzUCrGWo1oz3xMTPsiddxPTLQemSoU2aoU2beHWJANb4vNRPUOM40071+510vJhtZ1rOdzdZPrvoAH5rGIDUmswXzliWDDYVXL+yNaRMYiWk2F8bMQLPRMGYGms2FZcxYeqYMsNMxZmblusE29JiZ2cv3MkOtBrAjNWMa/6oZNqfquJqBVjPUNONFfEEpnfe1F9e+blqv7uFnYEpr7CCZU7GDVeAjt3z//7nth4+8lvyRu0lP3DnUwFBtQg2oxrKF7VitETOjPfGxDIRmyasGztjbTMOWLWo1U+Eps6Oh42XMUB9zzQ9K3zlmaE98LHYQKdTDiR22oQdjxzTb0GNmglp3GtOoWdUMtZrJa9nS58THzFSybLEnPmYGevjLlhfxTU3j12PW8R1P3W05WFyQ9XqDeFzn5HndS4r+TTlOebyILygNXozLgOKVhbLTbHg7jaN4Ed/U7JP1mM+rKWiLPMr0rrdX8M824QW9v/3qqrPf4kV8QWmeIt5pZryIdxQv4pua0tj+x0IZrKdRpPIWHjTfMlENoZpvP6vGRqi1WIfGtPF7WuSnLfqt3Q1MzTGBLVRrRnXQTMyYFuKqOefldW9e8Oit+L8Hy3eYt73EDKjO1wy+So+M6pgB1UEDuZvZuauPrXWqIVSzh0919/qd1LwnCFTz70uD4BxsgfcW1YBqCNXcqep6mAkaS5lRHTQTM6ZmgsZSBio340V8QSl9/Uj2xNd8pYPYVc94UR2LHdUxMzFj+6eZmLHMU4avUjNBY2rmzEvOKx31SSvicckHo6bxsWM6aCBmhhsH1YYzd6o6ZkZ1zIzqYpnxIr6pKV12igmU0XzKL/S0RUl7HC7sG59/2PTi1a8+/Npzphe8uZw9fBjEp0xjMjMCG2EuYONWqYMfDjwJGAnCh46hLJ65/IlLnrjTJuCzfJYtNHv4UmbYUAgnNFabGdOTnrjTUhL/Xr5gpg3isxMfnt65YiF/aRUv6BnLHmcTIfaSaQYTgmbw3dHAxY/fTg0DNANjNojPYg41Txm2xlOmZvSUQfCUYYIepaAZPTIxM3qagmYQInNXvm965bqdi95OnmW7rGc7e/j0gbuYzGC67+X32bc3e/kW6juWbmYw3bIkeZYtRjBuGjPZXgnNhkJsWc2w9RxOaAxCzTBJYYbG1Iw+CRhmzFjKDB+42wxmbn4+wwz2EjNjp8yL+IJSOuv4Ne+tN537lY7YCa4UlcQONlLeDIiZUR0zo+FMMxrOqZWCBnSlOL+ClULN7PNlC3MsJSsxA00zX598Xulbn7MiHlHA2EFEBGMHkULNcMa/DOdU7DCcsTVEmenYSsHYAbGVAjlGA5qBMTMayLpSZJqBk0wzumypmVQ4m8CImlFNMxrO2KOGM83AoZrJZaWgGS/im5p9vh53b+hhX4o90YWpvc9B3iHjtHaHQ3vrPZnhlKWnp2f79iRlnJbBi/iC0uDF2CkoNbfTeAdOS+JFfFPTJOvxsrWrtFbeh4Uy/gsBMzCgfvDqeOpuvVPpVMKYMWPGjRuXfOC0Cl7EFxQv4p1KqK2Iv+2222r4Kqf5aXBu+OpSHaWTP28CxStv50HznqOOo7BetXGtaQjVrLkxmW+lYyPUOv74qhdNAN7CA9c+e7/+tijK6NtemI+Nq7GgmZSxoJmYhhno7g09nSsWjp3939w7Xva+OybzD2KrAdXYo+qYmUxj2BG1HiVqfDYXMzUcJRNAT5ka406h7ecHF//fHHzYC38YvHnasylps4NQzVt+K9cN9vAt69lOreNL1wy+u88bnYDjmMl7i9C856jj9TAT1LrTmFYzKWNBMzHd9dY26pgZ/nVu6JgZ1UPN4LTaiFMstCder+5cYkd1tbFT7UpRPnZMx8wEjVVrJnaU1ExQq5mUsaCZmK7rSnHGjwd74hEFmRFksdPZ2YlkuH7OYhsE+cYOwIRMM6qDGQjUGHcK3bCVomHLVkxXdWS8iG9qSmcdb6J32xZ2eEOzVQ7XtrbNMSOgef1jkBqTGUaqsXH28E1eOIsBRI1/oSFQT0995r6P73nsOl7/750XdTx197zuJc+veY1mkDhqhlrNIPeDZq55ds7za36PDWKzh82YxB3Za/yD1/96ycPt82+yyTDGnepR0iMDnWkGOmhGj8zM5U+UOTKmMcf0MM0wsmNmMJ5phjsNmmlvb//EF0++77k/2DhCgRkBzYzAIMPokd9vZRhBs29vzorBfr6ZLw72xEObwAg1ZvJhuqqxZTYUpsxQQ9AYolbNUKsZjKsZ02oGmjuNmcG33zAzj3UnjxaOmYEub8aL+IKiPfH5XummWWdXGzvQ5c2YNqHG1Ay0mqFWM9BqhjpmJvejNJxlq2FmTrpysCceV31m7CBSECzz5s1DMlxwz/KaY4elbSwDoYMrRbUZyJ2qGehMM9CZZqDLmzFtQo2VMUNdxgx17suWF/FNTTOvx9bWoo+CYZHdPv/mzhULUYWj4rcXE41gxD6F7WAyXijZ9Z1+fWGbiDbMHLodp2Y6OjrwA9bVNfgHep0WwIv4gtLgxdgpKLW102A+vgpfm3zstAoNzg1fXaqjEOtxz6YN9q55qk99OC9U8/gfgv03INmNkzd2gxX/Jh87LUEhQsMZSoMXY6eg1FbE9/b24qvGjBl8aLXTGjQ4N3x1qY7SGV8ysf3Dnfx71NBsLkQBTb1K2tOheWMUg9SYzNt/2lyIjQc178CmDGg/n5qZ93p/2d319oobn3/4zIemoxbH64wHb0jV6PY6vnOyzbnthfk/WXDX46tetPfs1YA2F3Lc5tggtJrhuB4ZaD0y1HpkoPXIUBfLDIidMtVmpqur6xNfPPmiX/JO7oe85QfNe5EYpF7WM3j3VpsLn1zVf8d2qOZNT4zwb1CnNJsLsWXqvMxoG3rMjPaDBs1AZ5qBVjPUMTMcx78xMxwvY4aaZryILyilrx/JdprMKz11RQdjB1pjh1pjB1pjh1pjB9p2CtSY6spjBzStGehMM9CZZuq6UpzccV7pS4cP7YnPjB0kw5cvutW0xgv08GPHdKaZmN7nK0XhzPCUeRHf1LAnHte5ttAxpHCdU+M61xY6XvMYZABhMgNINTZuQRPTaiCmY2ZU7xMz0JlmoDPNaE98zAx74nW8BjPBo6Rmglp3GtM009PT8/lv/NdV9yTtNEgZ7edj6GhzIQIlGM3aw5fSJjCSqbFlBpaaUR0zozplYKiOGVC9r8ywOVXH1Qx0eTNexBeU0smfZxEfvLpVx65u1anYoa42drQ8DZoBwW5v1Vi2gsbUTCXLFjYSbD0P6pgZ1TEzqmNmUsaGGlAdM6C6EjP9PfF7inhc9ZmxYz3xEO3t7f965ZxN7/cnSQ2xQx3LQNXDycCg3rJjd6aZSpYtbDDYeq462HqeMkNdxgwL+piZlLGgGeqYGS/ic2V3991nTZzydHJVDx9fj5260tvb64+KbzE8NBrIrq0b12/a8Zfko+HR4MXYKSi1tdMYCPxEOa2CF/E1g/j+47oUPY9MGjXqxJuW9us/btox7APr67HjOFXhodE4di2d0tZ2auea5MPh4UW8UwnDKeKd1sOL+Frpj28cvTJM6FyX3CipmVg7TebdtwrvS2beCtTHY3GnKTP6eKyYGepGmtFGw5gZPUpBM/rgsKoeManGsDXVNKBHKWUmeJRiTzGjTpnhTsuY4Smr9lbgIzndl9QnmsXuS1KXMZN5X1Kf1dW0Zip51lvMjJ0yRI+NOHnSt2H5Q3M6U8yecupHP/q5H97Yr+csfGt4b9tU8ojJXK70amMHGylvBmSawRaoY2bgJC8zpsuY2SfLVvAopcxwPGamtkdMmtbY0XCuJHaCecjYMR3MQzWjGUidMsOdqsYWMs3ASaYZbKS8GdBIM6pjZkzHzCDwvYivjZ3rnr3h1NEjSiOOnHDNjIFEzznTgf5iq/4eTPB3X1Tj+mfoYJBBo1p/KUd/EUc10y1loGYzEJlmME4dNANixmhGdRkz1DEzqqs1w51CB81AZ5qB5k5jZpjvoGYzSBOGDhKHoYNBBo1q/aUc/ZVN1Uw3jOjvTqnW3xCigX1uBjrTDESmmZgxmgExY2qGuowZ017E14Xdv7/pSx/rf3MmynDftdE/9lTXKz3H2KGOmVEdM0Ndxgx1zIxqDWcesZgZ6EwzEJlmYsbUTOwoqRnqmJn+P/YU+cVWxktdYwd6aOwANQPNncbMsN4FMTPcKfRwzLBwj5kJHiWMqBnVMTPUZcxQqxmMUwfNAB4xNYPo8SK+Zvp2bXjupjOPPGDMxOnPvtN/WnK9uwpwehLlOI5TAR4a9aFv13vLZ55zzIgRR575m6ffHGifzLd/ssGLsVNQvJ3GUbyIHza7/rT09h98bsSnTpry2Oqtz3kR7zjOPsRDo470be7uvPDz/+OQ46946M2tu70n3mk8XsQ7ihfxufDhe8vvOudzo0af8LUvH5BrEX/RN0z0btty9TNzqKctGmyhu/H5h00vXv0q79YteHM578phkHflMJm3ArERamycjYaXL5jJW4HU+BfaBlNmqGNmVMfMqM7dzLK1q9hoGDODCZhmOmbm4sdvH2osZQZzqGs2EztKakZ10EzsKGFrwZ+flet28s7dsp7tvF2IQd4inLvyfd4KvO/l93mPcvbywa7HO5YmPXzgliWbTGAE46YxE/Op73ox0dgytm86ZYY6ZkZ1zAx1GTPUMTOq62Hm5ueTIxYz071+J7shg2a8iK8zu7e++dAVxx8y4ugLO1fOvyrHIl564lNXd81XOq9u1dXGDuKCBoKxAyY9caeJmBnovJatTDPUZcwEj5KaUR0zo7paMz989BbLgjJmgivFd66dVPrW5+wvbSMKEAg2HosdRMrQCKohdqhjGQgzwTxUM8E8VDMpYzQDjRXHtBpTM41ctnIxEztKaoY6ZsaL+Nzo2/r7zvO/NKJ0yIS57yRDw6Y0Nvn7arj+WWLGNK5/BkpMY7IFShnd9fYKEyCm+YdUY2agM81ABA2o1r/Y6mbqYWbVn9bYUyaRJgyUlGagIMoz9UvvJH29IKgxkwtPTJcxozpoQPXq95KuRBAzxjkxM9AxA6qDBhpvxov4BtC3ddUjU749Gse6lF8RLz3x9bjSY1GjmjtVAykz1DEz1JgZM0Ndxgx1zIzqTDOgkUfJBMjdzI2z7igd9cnOgb+0jUs+GDVlYofPFG7hDDTNmjhmRnXMDHXKQFCXMUMdM5DSJkDmUfIivqnx9dipN9OmTRs/frw/Lb5l8NBoEH0frH7itilTrr17efK+3TBp8GLsFBSU7/hRsSK+Wrq7u/G1y5YtSz52ik+Dc6PVV5cdbz1d/UNpcA7KkExynPrgHZYthodG46g+8AdCPYoX8U4mwyni582bh6+dNm1a8rFTfBqcG62+uqzrPDWPx8OT0mWnmOjdtuXceb+hZnPhsrWrqBe8uZwtdNpciEFqTObdOmjeocPG2c+netITd9otwpSBHz56C/XkhbNNqxnt58Pe2c+nZm58/uFMM9gRNcfxb8wMx9UMtJqhVjPQaoZazWhPfMyM9sQPxwxbMGNmgkcGJ4vNqWpANY6zmvnKL36EFOjq6lrWs53N1trPh0Hq+15+n3f6tLlw+qL3gprNhRjBeFCzJx5bZqNhygwbDdXM3JV7meH9SjVw4+LBflCYsfuVKQOYQx00s3LdYBt6hWaoY2Y4jn/VjDanclzNQKsZaprB2bQRp+7kGvils45/sed109Ve6cEMTF3p1Bo7SGaNHWqNHeihBlI6M3agM81A12zm+3ubCS5bqhu2bJVZQ63y0vEyZqjPnjG19J1jrIjHVZ8ZO9oTf9Vj73z8iLHt7e01xA47v4OxY5qd32oGoUoDaowasVzJSqFmqNUMtJqhVjPQQw2kdCPNBJetlJnyy5YX8bmSexG/pycexFroGCKqIVRbiJTR2sNXs46ZUR0zoLpmA4A6ZkB1zIDqmg0A6pgB1TEDqms2AKhTBvo7LAfe10FSaA8f+/NiWrsbYzrYwweCWg3EdMyM6swdgUwdM6A6ZkB1zQYAdcyAau7Ui/jGkW8Rf9Qn2RNf89UNqFNXelBrvMQ0NqjaBFAd7PYGaiaXZQsboY6ZqUrHzKiOmVFdswFAHTOguj+xD/xbK+I1alTHImXFH95FPowZ019X5Bs7ZXTmjkCmjhlQDcHaVw2oRgFNHdtp5rKFLbAQVwOqIVRzpzEdM5OpvYjPldyLeF+PnTrT1dWFH7OOjo7kY6fgeGg0jnyLeG+ncSpgOO00AF8Lkg+c4oOz6UV8fngR7xQN+1Wn9vZ2LyBaAw+NxuFFvNNwhlnEjx8/Hl/uvwTVMjQ4N7yIr47Slaeb6N225cyHppvu2bRBW+j4iNnFq1+9YXHSTnfviqfxMo1BNlhjMu9pYiO8i4eNs4dP9T/PusJuF6qBlJnxD15vuowZ9vNBZJqBLm8G/3KnMTPYmnY9xsyw0xETgmawQd7HPPt3vwqagbZBfBZzqHmasDVqNaNdjxCxU6Zm1uwxo0cGOmiGRwaaXbMpM1c9PQspMG7cuBXv7JizItngk6s+wMs0BtnpOHv5Ft5GnL7oPd4uvK5rsIdP9aRHN5rACMaHamzh6oW9prFlPvsWe1QzbDQsY4a3F2NmLnl0o927rMQMtpZpRjsdY2a0u1HN4MiYGfzLneKzNzwbNqPN+jEzdspwNm3EqTv5FvGXnfLahuRplRo7sSv9C1Ve6RrOlcSO5mHMDHUsdqixBWzHao2UGQ3nms1M3NuMHaUyZrhSlDGjRylmhuEMTQNqTFcK7tTM2NFQM3rKYmb6e+LPPt6KeERBMHYQHQxnRIrGzuVX/hwR8eYfejScY7GDbZpOhfPQ2AGpcA6aSYUzMxBm7GjgsxrO7PzGFmJmNA9jZvQoxcxQV7Js5WWGR6mMGR6loBkv4nMl9yL+qE8mauBST9RABJhALsS0BQfAYEybALrx4I5A5pyUAdXcqWpMUG0CqI6ZqWoO9qKaO1WNCapNANWtaqZnAGQEgwPaggNgMKZNAMYiUF3VnJQB1TEDqk2AXMwA6pgZ1Zig2gRQnbkjMHwzXsQ3jnyL+MMO4mJc1VUM6hE7qk0A3VFsp5lzsOWYjhlQbQLkYgZQx8yoxgTVJoDqzB2Bms3MvHcWe+IRBUyAYFyAVKRs377dHjFZZk6iRGMvqrlT1Zig2gRQXY8MVB0zo9oE0B3Fdpo5J2VAdcyAahOgEjPB+V7E50ruRbyvx47jVIOHRuPIt4j3dhqnAobZTuO0GF7E50pNz4kvg6/HjuNUhYdG48g18L2IdyrBi3hH8SK+qSld/58mejZt0H4+ts11b+hhB+QDrz7LtjltLsQgPmUak9nDpxob5929Y2d18M4dNf6FtsHevZsLqdXM46tepBk1pmYuXzAz08w37586fDNdb6+YvHCW6ZgZTOBT0mJmxs7+Ke9vxsxgjunhmIHGATSdMhPsiQ+agf7W/VNNp8zozw/Ogumut7ax01H7+TC4dE3S+X3j4k3s4Us1F1Jf+ljSwwfYXIgRjJvGTPbzQWsLJjsg1YxqCHxo+o6lm2lGjamZKxe8SzM0pma27N3pSK1m8O03zMyPQ0dJzbz0zo6ZL242HTTjRXxB0Z54jZ3Ylf5FudKRk6ZjsaNXerWxg7hQM9Q0A9gTjxFGkJqBxnbsp1+NqZlKlq2YGRwNmgnmYcpM8Cg1eNmyo1HGTHCl6O+Jn3icFfGIAj4PMRY7iBS2YQwndhBxpmMZCB1cKdQMdMyMHQ1o5OSATK8UbENXY2omtWzRmJrJa9nKxUzsKGGnOyIrhY3qsuVFfFNTOuygREmrHAhqZASDI6YzNwIq0dwgyJyjBlLaBMhlRyBzDkRMmwC57AhkzoGIaRMglx2BzDnICKZYSpsAzF9QV13GjGoTILbB3OdAxLQJkMuOQOYciKHai/iCEuuJz/1Kh8jUsY3krmMGVNe8cVCtzjRDATI3AnKZA0GtPfG8/EEukQIy50DEtAmQy45AbA51ykBQZ24E5KJjBlTXvHGgmhv0Ir6p8fXYcZyq8NAoKA1ejJ2C4u00juJFfFPj67HjOFXhoVFQvIh3KsGLeEfxIr6pKV3/nzhD/Rx20KA+6pOly05J9MmfL130jYA+40v9LwOD+NRQjY2MHZNobBy7COoD/7ZfqIGUmStPT3QZM2cdn+jhmJn6HxlmoDPNQGeagaYZbDBohhqWYMxImaHG1mJmqOEqZoa6EjNBAykzoZ+fz5750xOuetD0P597PV6mMfjZM/97qP7X6574xBdPNv3vM7s/fsTYoDaBkaDGFr79q0WmseUBAx8R3Q+cfOnCW0yXMXPo184yHTVz12t/c/BhEJWZGTwa1ZqBzjTznVuXlzcD3W/mI+mjkdI0A0EDSXw4haLqKz2v2KlkpUDOG0Ezpo2YmRyXraCZaXubGf6yBV3VSqFmVJdZtvov7gFdiRlqMRCLIGRdMHaoET6IIBtMxQ41QiwWO9QaOzEzyLGKzAxkXcwMwhkhbzpmJrpsTZ5LndeyVbsZ0WWXreOo91ophhwl4EV84cFZTFQr0vLfXQu//eY/mY6TO35ZFZcW/u5a+8R95CMfSdT+ja95dcFTr7jgu/MivqC09nfnNC1+WRWXFv7uWvvEeRFv+JpXFzz1igu+Oy/iC0prf3dO0+KXVXFp4e+utU+cF/GGr3l1wVOvuOC78yK+oLT2d+c0LX5ZFZcW/u5a+8R5EW/4mlcXPPWKC747L+ILSmt/d07T4pdVcWnh7661T5wX8YaveXXBU6+44LvzIr6gtPZ35zQtflkVlxb+7lr7xHkRb/iaVxc89YoLvjsv4gtKa393TtPil1VxaeHvrrVPnBfxhq95dcFTr7jgu/MivqC09nfnNC1+WRWXFv7uWvvEeRFv+JpXFzz1igu+Oy/iC0prf3dO0+KXVXFp4e+utU+cF/GGr3mO4ziO4ziOUzC8iHccx3Ecx3GcguFFvOM4juM4juMUDC/iHcdxHMdxHKdgeBHvOI7jOI7jOAXDi3jHcRzHcRzHKRhexDuO4ziO4zhOwfAi3nEcx3Ecx3EKhhfxjuM4juM4jlMwvIh3HMdxHMdxnILhRbzjOI7jOI7jFAwv4h3HcRzHcRynYHgR7ziO4ziO4zgFw4v4BtC3a3XnmaNHn9q5JhloCfq2/n7OFd8+fESpn7Zx59+zYmtf8qlisnPdU9edNuajrfLt7E3f5u45HScdPvDdlQ457vx7Xtm6O/lU6zB4obXSqXMKxq63Os88vHRq57rk45YgHSCzCh4gfbvWLbj2tM8MLF8t8O2k2L21+/4rThoz8N2NaDvuwnte2dyKkbhjdef3RpcmdK7blQzsl3gRX38+7L79m6NRGLZUEd+3Zu7Ew0ttJ0y6ff6iJU/e2/Gt0aXDJ84tbvHUt235dceM+NjR5894asmzv7v29IJ/Oyk+XDf33NGlQ46fdNtjixY/de9PTxp9wOiJD6xrsVyXC82LeGcfse2N208/ALVTSxXxDJBbWyRAtr1w7TEfG3H0j2Y+tXjR7649tbXysG/dAxNHH9B2/KTbH3t2yVOzOk76VGn0uXPXfZh8ukXo+/CNO7/Zf6V5Ee/Ulb5Ny6878YC2tlGtVcT3res8bcRHj5m+IgmGvrVzz/y70rE3df/FPi4cGx//4eGlY375yocDQd73x0fOObR05PRXWuPdmb7VnaeNHvzu/rpr/dxzDiideFP3joEPW4K9LzQv4p19we6ty284/oBRbaNGtFQRvydAVv6ZAfK9IgfIX7Y8/qOPlk6Y/soHAx/u7n2k/aOlcdNf2TbwYdHZta7zzBGD391f+9bPPfOAjx570++LujiH6Nu69LpxB7e1fcyLeC/i68ruLUuuPuaAE697YPrJrVXE715+7aGlL127PImJv/5186Irjiwdeu3ygla9u5ZOaSu1TVm6JwyQgxNaJx36z9YBcnL6di7qGLXX6Ss66QvNi3in8fRtWTzlmL87/rp7fnNyW0sV8XsCZE8aFj1Ati6d8jmN+7+u6zy1dXLjg+XXfmmvtXjnoitGjSju4hygr3fJlHH/8/irH/jN6V7EexFfR/o2PHrBmL876aaVO/ZkRPKJVqNv1ztzzznkgEMmPbUlGSkaQ07QQFXfSmWusGv13HM+Uzrkx09vaZG3ZoZeaF7EO42mb93jFxx9wEm3vLZjdeeprVXEp+gPkCOKHCBr0ieoP+77y9xWLAZ3vjO3/ZDSkZOefjcZKDy7Njx+yZgDTr3p9++11HttteJFfN0YKJVGn373mx/2Da0RW4e+LW89/osJYz464ujLH1u3MxksHOEi/nNTlm5NPm4Rdm/tP1tH/o8RX77ksZ4WSb7QheZFvNNY+kul/3XwxLvf3BaoEVuHJEBGFDtAgkV8/1vzrdY2vvWNx38xccyIjx19yfx1u1ojFO0dw8NPv/v1P7fYDfNa8SK+Tuxc3XnW6EPa574zUNe2ZhHPX/A/5LjzZyzdUNgKHmyYO2HE0CK+td6J37X2qWvHjxkxou24H92x5E+tEnvhC82LeKeR/GX1vf82+jPnPPCHgcuqRYt4CZA7lxY6QN6ZO+GQVn8nfs/D1trGnX/nkg0tUsHjSnu7898OP+Scue/0f0dexPfjRfxwsJ+hoaCMeKW/6y5AgX7gynx3KHZ3b11562n9vwJ/6T3L1xf+GtrzTsyeb6TV0qFv60s3nXZoqe2ES+55sXUCvZ+B9tYA+3uyO3lTLg8H8mMoe70v0NyUT/skQD7SIgHS2j3xOFubV950Rv/ThC6ZtbzQb64NJXKlteiNr4rwIr5O7N66ZsVS8siU40ofO27KQ0uXvr6xNUqobc9POeKje/5D3AKEnk5T4IftpNi8dMqXSny7uqUIX2hLWuZCc4pA39Y1LyU/guChKcd9rHTclEeWLuve2BpXXBIgD6xtjedZBZ9O0zJP6+rbtvRnR5SOOGfu6hZ8G2OvK23xI1NOKJVOmPLI4qXdG/fb92y8iG8IrdZO0/fB05d+rDT6xCtu6xTmPP1WYVPQnhN/6KnXPrho6bOP3Xb+0SNa6DnxHzw96WOlA0684q7kRA0wZ+FbO1quzPV2Gmff03LtNHsCZEaSHQMUOkD6nxM/avSp1/5u0fOLHrv1h0ePaqHnxPc+PemI0gEnXXHXvcmZ6ueBp99qvYc0tNoN89rwIr4htFoR/+Gau09PbmMpxV63WvYvtvatufukgfOzN62YfV7EO/ueViviWzFAWvcvtva9ffdJowZOkNJK5QfxIr4fL+Idx3Ecx3Ecp2B4Ee84juM4juM4BcOLeMdxHMdxHMcpGF7EO47jOI7jOE7B8CLecRzHcRzHcQqGF/GO4ziO4ziOUzC8iHccx3Ecx3GcguFFvOM4juM4juMUDC/iHcdxHMdxHKdgeBHvOI7jOI7jOAXDi3jHcRzHcRzHKRhexDuO4ziO4zhOwfAi3nEcx3Ecx3EKhhfxjuM4juM4jlMwvIh3HMdxHMdxnILhRbzjOI7jOI7jFAwv4h3HcRzHcRynYHgR7ziO4ziO4zgFw4t4x3Ecx3EcxykYXsQ7juM4juM4TsHwIt5xauPDdfOvmvBvJxx14Ki2kXh94qgTLpj9+o7kk+8vvv5fP3tw//iotk9/+ZTv3v7y9r7kU47jOE6h6Fs3/4r/OO3r//SJgbQfdfA/nXjurO7dySd7n5t22p6F4PCx3/7hrS9tST7jOHXGi3jHGQ4frptzziHI7uNvef0vyZDR1zPrO4edfvX8N7Z69e44jlN8+tbNOfMgVOrfvpXv1xh9f5h96he+M3X+W1v3FPaO0xC8iHec4fH+wp/8fVvbgafd2r0tGQEfrpp9zgW3vbLZC3jHcZxWobfrsmPbRn7qG7e8+udkBGx/a9bF59z6sr9f4zQeL+IdZ5hsffn6E9pGjv7C1KXbbWDX2icvb79m6Xse6Y7jOC1E359fuuHYkaPaPn/N0m0W8DvXPTFl4jXPv+9x7+wLvIh3nOHyl7dmfPPAUW1/f9mT7+3+a9+ml35x4RVPrN2VfNJxHMdpFf6yasZJn2ob+YVJT/yp76+7t770m3Muf2zdLi/hnX2DF/GOM2z6Vt8/YUzbyDFnznlp5a0XnDPj1b37JR3HcZzW4MN1c753yMhRh0yY/drKO8757szXd3gF7+wzvIh3nOHzl/e7rvjHkaMO/j9fbb/dOyMdx3Fal+T3oD7z/5034xX/TVZnn+JFvOPkwfalV39+dNvIf7n6BX+4mOM4Tguz5YWp/3KQ/h6U4+wjvIh3nOGze+srd0w4rK1tZNs/Xrbw/WTQcRzHaTX6tr58238c2f9U+L+/ouv9vR8t7DiNxYt4xxkmfbvWPXzJOXesfO3e/kcIH3Tewxuiv9Tat/WlX5/afv8f/bdeHcdxCsiu1Q9Puvi2lS/NmfAPbSP/9/ceeifePrl768qbvzNhzh+TDx0nf7yId5zhgAr+sSsmXLe4/7k0f5rffmTbyE99c8aqoW/O/KXnyV9cdvbX/+nQg0ee7UW84zhO8eh/fPD3r1q8se+vu3vnX/jJkaMOPmnGW4H34nf2PPnrn5x14lGfHt32717EO3XEi3jHqZ3+d9a/d+X8dTvto22Lr/rMyFFtX7jh5T+H353Z9cLUw72IdxzHKRx9m1/59YWXzu9J4nvb4sn/u61t5Ak3vLTVBoaw9YWpX/Yi3qkrXsQ7Tq3seHXGdy+47ZVNgwX7hytv/Mon2kZ+efLiTcnI3ngR7ziOU0C2vj7jwr3/LOu2V2/8ZtvIts9cuVj+WLfiRbxTd7yId5yaGLyvqvx5zawzDx456pCzH9oQei/ei3jHcZyi0f9nWc+86pnUX+HuWzPrtAPL/B6UF/FO3fEi3nGqpW/XhudvPfvYw69cbG00Sl/PrO+MHNV24H/MeCvwF5+8iHccxykSu9a/cMu5R3968nM7h7wx0/eH2ad+qm3kod+Z8Xoo072Id+qOF/GOUzk71zz00zNO+OzBKNPx+vRXzp3zpvypD3z28n/9p0/0f2rkqIP/6YTx/37Z/W/tVed7Ee84jlMI/rLmoUv//YSjDhxI+5GHjz1nztvyO6z47CUn7lkLDvzs1/9twgVz3tz7d1y9iHfqjhfxjtM4vIh3HMfZP/Ai3qk7XsQ7TuPwIt5xHGf/wIt4p+54Ee84jcOLeMdxnP0DL+KduuNFvOM0gr/0PPnLqT+/8qyxB4/8zCkXXXX11Z0vb/W/1+04jtN67Ox58uarp17+3S/9Xdth377451OvmRV9mLzjDAcv4h3HcRzHcRynYHgR7ziO4ziO4zgFw4t4x3Ecx3EcxykYXsQ7juM4juM4TsHwIt5xHMdxHMdxCoYX8Y7jOI7jOI5TMLyIdxzHcRzHcZyC4UW84ziO4ziO4xQML+Idx3Ecx3Ecp2B4Ee84juM4juM4BcOLeMdxHMdxHMcpGF7EO47jOI7jOE7B8CLecRzHcRzHcQqGF/GO4ziO4ziOUzC8iHccx3Ecx3GcguFFvOM4juM4juMUDC/iHcdxHMdxHKdgeBHvOI7jOI7jOIXir3/9/wEoXiWwcZYDEwAAAABJRU5ErkJggg==\" width=\"700\" alt=\"\" />"
   ]
  },
  {
   "cell_type": "markdown",
   "metadata": {},
   "source": [
    "데이터로부터 $\\hat \\delta_k (x)$가 추정되면, 이 추정치를 각 클래스에 대한 확률 추정에 사용할 수 있다.\n",
    "\n",
    "$$ \\hat{\\mathbb P} (Y=k | X=x) = \\frac{e^{\\hat \\delta_k (x)}}{\\sum_{l = 1}^{K} e^{\\hat \\delta_{l}(x)}} $$"
   ]
  },
  {
   "cell_type": "code",
   "execution_count": 41,
   "metadata": {},
   "outputs": [],
   "source": [
    "from sklearn import datasets\n",
    "import pandas as pd\n",
    "raw_wine = datasets.load_wine()"
   ]
  },
  {
   "cell_type": "code",
   "execution_count": 42,
   "metadata": {},
   "outputs": [
    {
     "data": {
      "text/plain": [
       "{'data': array([[1.423e+01, 1.710e+00, 2.430e+00, ..., 1.040e+00, 3.920e+00,\n",
       "         1.065e+03],\n",
       "        [1.320e+01, 1.780e+00, 2.140e+00, ..., 1.050e+00, 3.400e+00,\n",
       "         1.050e+03],\n",
       "        [1.316e+01, 2.360e+00, 2.670e+00, ..., 1.030e+00, 3.170e+00,\n",
       "         1.185e+03],\n",
       "        ...,\n",
       "        [1.327e+01, 4.280e+00, 2.260e+00, ..., 5.900e-01, 1.560e+00,\n",
       "         8.350e+02],\n",
       "        [1.317e+01, 2.590e+00, 2.370e+00, ..., 6.000e-01, 1.620e+00,\n",
       "         8.400e+02],\n",
       "        [1.413e+01, 4.100e+00, 2.740e+00, ..., 6.100e-01, 1.600e+00,\n",
       "         5.600e+02]]),\n",
       " 'target': array([0, 0, 0, 0, 0, 0, 0, 0, 0, 0, 0, 0, 0, 0, 0, 0, 0, 0, 0, 0, 0, 0,\n",
       "        0, 0, 0, 0, 0, 0, 0, 0, 0, 0, 0, 0, 0, 0, 0, 0, 0, 0, 0, 0, 0, 0,\n",
       "        0, 0, 0, 0, 0, 0, 0, 0, 0, 0, 0, 0, 0, 0, 0, 1, 1, 1, 1, 1, 1, 1,\n",
       "        1, 1, 1, 1, 1, 1, 1, 1, 1, 1, 1, 1, 1, 1, 1, 1, 1, 1, 1, 1, 1, 1,\n",
       "        1, 1, 1, 1, 1, 1, 1, 1, 1, 1, 1, 1, 1, 1, 1, 1, 1, 1, 1, 1, 1, 1,\n",
       "        1, 1, 1, 1, 1, 1, 1, 1, 1, 1, 1, 1, 1, 1, 1, 1, 1, 1, 1, 1, 2, 2,\n",
       "        2, 2, 2, 2, 2, 2, 2, 2, 2, 2, 2, 2, 2, 2, 2, 2, 2, 2, 2, 2, 2, 2,\n",
       "        2, 2, 2, 2, 2, 2, 2, 2, 2, 2, 2, 2, 2, 2, 2, 2, 2, 2, 2, 2, 2, 2,\n",
       "        2, 2]),\n",
       " 'frame': None,\n",
       " 'target_names': array(['class_0', 'class_1', 'class_2'], dtype='<U7'),\n",
       " 'DESCR': '.. _wine_dataset:\\n\\nWine recognition dataset\\n------------------------\\n\\n**Data Set Characteristics:**\\n\\n    :Number of Instances: 178\\n    :Number of Attributes: 13 numeric, predictive attributes and the class\\n    :Attribute Information:\\n \\t\\t- Alcohol\\n \\t\\t- Malic acid\\n \\t\\t- Ash\\n\\t\\t- Alcalinity of ash  \\n \\t\\t- Magnesium\\n\\t\\t- Total phenols\\n \\t\\t- Flavanoids\\n \\t\\t- Nonflavanoid phenols\\n \\t\\t- Proanthocyanins\\n\\t\\t- Color intensity\\n \\t\\t- Hue\\n \\t\\t- OD280/OD315 of diluted wines\\n \\t\\t- Proline\\n\\n    - class:\\n            - class_0\\n            - class_1\\n            - class_2\\n\\t\\t\\n    :Summary Statistics:\\n    \\n    ============================= ==== ===== ======= =====\\n                                   Min   Max   Mean     SD\\n    ============================= ==== ===== ======= =====\\n    Alcohol:                      11.0  14.8    13.0   0.8\\n    Malic Acid:                   0.74  5.80    2.34  1.12\\n    Ash:                          1.36  3.23    2.36  0.27\\n    Alcalinity of Ash:            10.6  30.0    19.5   3.3\\n    Magnesium:                    70.0 162.0    99.7  14.3\\n    Total Phenols:                0.98  3.88    2.29  0.63\\n    Flavanoids:                   0.34  5.08    2.03  1.00\\n    Nonflavanoid Phenols:         0.13  0.66    0.36  0.12\\n    Proanthocyanins:              0.41  3.58    1.59  0.57\\n    Colour Intensity:              1.3  13.0     5.1   2.3\\n    Hue:                          0.48  1.71    0.96  0.23\\n    OD280/OD315 of diluted wines: 1.27  4.00    2.61  0.71\\n    Proline:                       278  1680     746   315\\n    ============================= ==== ===== ======= =====\\n\\n    :Missing Attribute Values: None\\n    :Class Distribution: class_0 (59), class_1 (71), class_2 (48)\\n    :Creator: R.A. Fisher\\n    :Donor: Michael Marshall (MARSHALL%PLU@io.arc.nasa.gov)\\n    :Date: July, 1988\\n\\nThis is a copy of UCI ML Wine recognition datasets.\\nhttps://archive.ics.uci.edu/ml/machine-learning-databases/wine/wine.data\\n\\nThe data is the results of a chemical analysis of wines grown in the same\\nregion in Italy by three different cultivators. There are thirteen different\\nmeasurements taken for different constituents found in the three types of\\nwine.\\n\\nOriginal Owners: \\n\\nForina, M. et al, PARVUS - \\nAn Extendible Package for Data Exploration, Classification and Correlation. \\nInstitute of Pharmaceutical and Food Analysis and Technologies,\\nVia Brigata Salerno, 16147 Genoa, Italy.\\n\\nCitation:\\n\\nLichman, M. (2013). UCI Machine Learning Repository\\n[https://archive.ics.uci.edu/ml]. Irvine, CA: University of California,\\nSchool of Information and Computer Science. \\n\\n.. topic:: References\\n\\n  (1) S. Aeberhard, D. Coomans and O. de Vel, \\n  Comparison of Classifiers in High Dimensional Settings, \\n  Tech. Rep. no. 92-02, (1992), Dept. of Computer Science and Dept. of  \\n  Mathematics and Statistics, James Cook University of North Queensland. \\n  (Also submitted to Technometrics). \\n\\n  The data was used with many others for comparing various \\n  classifiers. The classes are separable, though only RDA \\n  has achieved 100% correct classification. \\n  (RDA : 100%, QDA 99.4%, LDA 98.9%, 1NN 96.1% (z-transformed data)) \\n  (All results using the leave-one-out technique) \\n\\n  (2) S. Aeberhard, D. Coomans and O. de Vel, \\n  \"THE CLASSIFICATION PERFORMANCE OF RDA\" \\n  Tech. Rep. no. 92-01, (1992), Dept. of Computer Science and Dept. of \\n  Mathematics and Statistics, James Cook University of North Queensland. \\n  (Also submitted to Journal of Chemometrics).\\n',\n",
       " 'feature_names': ['alcohol',\n",
       "  'malic_acid',\n",
       "  'ash',\n",
       "  'alcalinity_of_ash',\n",
       "  'magnesium',\n",
       "  'total_phenols',\n",
       "  'flavanoids',\n",
       "  'nonflavanoid_phenols',\n",
       "  'proanthocyanins',\n",
       "  'color_intensity',\n",
       "  'hue',\n",
       "  'od280/od315_of_diluted_wines',\n",
       "  'proline']}"
      ]
     },
     "execution_count": 42,
     "metadata": {},
     "output_type": "execute_result"
    }
   ],
   "source": [
    "raw_wine"
   ]
  },
  {
   "cell_type": "code",
   "execution_count": 43,
   "metadata": {},
   "outputs": [
    {
     "data": {
      "text/plain": [
       "['alcohol',\n",
       " 'malic_acid',\n",
       " 'ash',\n",
       " 'alcalinity_of_ash',\n",
       " 'magnesium',\n",
       " 'total_phenols',\n",
       " 'flavanoids',\n",
       " 'nonflavanoid_phenols',\n",
       " 'proanthocyanins',\n",
       " 'color_intensity',\n",
       " 'hue',\n",
       " 'od280/od315_of_diluted_wines',\n",
       " 'proline']"
      ]
     },
     "execution_count": 43,
     "metadata": {},
     "output_type": "execute_result"
    }
   ],
   "source": [
    "raw_wine[\"feature_names\"]"
   ]
  },
  {
   "cell_type": "code",
   "execution_count": 44,
   "metadata": {},
   "outputs": [
    {
     "data": {
      "text/html": [
       "<div>\n",
       "<style scoped>\n",
       "    .dataframe tbody tr th:only-of-type {\n",
       "        vertical-align: middle;\n",
       "    }\n",
       "\n",
       "    .dataframe tbody tr th {\n",
       "        vertical-align: top;\n",
       "    }\n",
       "\n",
       "    .dataframe thead th {\n",
       "        text-align: right;\n",
       "    }\n",
       "</style>\n",
       "<table border=\"1\" class=\"dataframe\">\n",
       "  <thead>\n",
       "    <tr style=\"text-align: right;\">\n",
       "      <th></th>\n",
       "      <th>alcohol</th>\n",
       "      <th>malic_acid</th>\n",
       "      <th>ash</th>\n",
       "      <th>alcalinity_of_ash</th>\n",
       "      <th>magnesium</th>\n",
       "      <th>total_phenols</th>\n",
       "      <th>flavanoids</th>\n",
       "      <th>nonflavanoid_phenols</th>\n",
       "      <th>proanthocyanins</th>\n",
       "      <th>color_intensity</th>\n",
       "      <th>hue</th>\n",
       "      <th>od280/od315_of_diluted_wines</th>\n",
       "      <th>proline</th>\n",
       "    </tr>\n",
       "  </thead>\n",
       "  <tbody>\n",
       "    <tr>\n",
       "      <th>0</th>\n",
       "      <td>14.23</td>\n",
       "      <td>1.71</td>\n",
       "      <td>2.43</td>\n",
       "      <td>15.6</td>\n",
       "      <td>127.0</td>\n",
       "      <td>2.80</td>\n",
       "      <td>3.06</td>\n",
       "      <td>0.28</td>\n",
       "      <td>2.29</td>\n",
       "      <td>5.64</td>\n",
       "      <td>1.04</td>\n",
       "      <td>3.92</td>\n",
       "      <td>1065.0</td>\n",
       "    </tr>\n",
       "    <tr>\n",
       "      <th>1</th>\n",
       "      <td>13.20</td>\n",
       "      <td>1.78</td>\n",
       "      <td>2.14</td>\n",
       "      <td>11.2</td>\n",
       "      <td>100.0</td>\n",
       "      <td>2.65</td>\n",
       "      <td>2.76</td>\n",
       "      <td>0.26</td>\n",
       "      <td>1.28</td>\n",
       "      <td>4.38</td>\n",
       "      <td>1.05</td>\n",
       "      <td>3.40</td>\n",
       "      <td>1050.0</td>\n",
       "    </tr>\n",
       "    <tr>\n",
       "      <th>2</th>\n",
       "      <td>13.16</td>\n",
       "      <td>2.36</td>\n",
       "      <td>2.67</td>\n",
       "      <td>18.6</td>\n",
       "      <td>101.0</td>\n",
       "      <td>2.80</td>\n",
       "      <td>3.24</td>\n",
       "      <td>0.30</td>\n",
       "      <td>2.81</td>\n",
       "      <td>5.68</td>\n",
       "      <td>1.03</td>\n",
       "      <td>3.17</td>\n",
       "      <td>1185.0</td>\n",
       "    </tr>\n",
       "    <tr>\n",
       "      <th>3</th>\n",
       "      <td>14.37</td>\n",
       "      <td>1.95</td>\n",
       "      <td>2.50</td>\n",
       "      <td>16.8</td>\n",
       "      <td>113.0</td>\n",
       "      <td>3.85</td>\n",
       "      <td>3.49</td>\n",
       "      <td>0.24</td>\n",
       "      <td>2.18</td>\n",
       "      <td>7.80</td>\n",
       "      <td>0.86</td>\n",
       "      <td>3.45</td>\n",
       "      <td>1480.0</td>\n",
       "    </tr>\n",
       "    <tr>\n",
       "      <th>4</th>\n",
       "      <td>13.24</td>\n",
       "      <td>2.59</td>\n",
       "      <td>2.87</td>\n",
       "      <td>21.0</td>\n",
       "      <td>118.0</td>\n",
       "      <td>2.80</td>\n",
       "      <td>2.69</td>\n",
       "      <td>0.39</td>\n",
       "      <td>1.82</td>\n",
       "      <td>4.32</td>\n",
       "      <td>1.04</td>\n",
       "      <td>2.93</td>\n",
       "      <td>735.0</td>\n",
       "    </tr>\n",
       "    <tr>\n",
       "      <th>...</th>\n",
       "      <td>...</td>\n",
       "      <td>...</td>\n",
       "      <td>...</td>\n",
       "      <td>...</td>\n",
       "      <td>...</td>\n",
       "      <td>...</td>\n",
       "      <td>...</td>\n",
       "      <td>...</td>\n",
       "      <td>...</td>\n",
       "      <td>...</td>\n",
       "      <td>...</td>\n",
       "      <td>...</td>\n",
       "      <td>...</td>\n",
       "    </tr>\n",
       "    <tr>\n",
       "      <th>173</th>\n",
       "      <td>13.71</td>\n",
       "      <td>5.65</td>\n",
       "      <td>2.45</td>\n",
       "      <td>20.5</td>\n",
       "      <td>95.0</td>\n",
       "      <td>1.68</td>\n",
       "      <td>0.61</td>\n",
       "      <td>0.52</td>\n",
       "      <td>1.06</td>\n",
       "      <td>7.70</td>\n",
       "      <td>0.64</td>\n",
       "      <td>1.74</td>\n",
       "      <td>740.0</td>\n",
       "    </tr>\n",
       "    <tr>\n",
       "      <th>174</th>\n",
       "      <td>13.40</td>\n",
       "      <td>3.91</td>\n",
       "      <td>2.48</td>\n",
       "      <td>23.0</td>\n",
       "      <td>102.0</td>\n",
       "      <td>1.80</td>\n",
       "      <td>0.75</td>\n",
       "      <td>0.43</td>\n",
       "      <td>1.41</td>\n",
       "      <td>7.30</td>\n",
       "      <td>0.70</td>\n",
       "      <td>1.56</td>\n",
       "      <td>750.0</td>\n",
       "    </tr>\n",
       "    <tr>\n",
       "      <th>175</th>\n",
       "      <td>13.27</td>\n",
       "      <td>4.28</td>\n",
       "      <td>2.26</td>\n",
       "      <td>20.0</td>\n",
       "      <td>120.0</td>\n",
       "      <td>1.59</td>\n",
       "      <td>0.69</td>\n",
       "      <td>0.43</td>\n",
       "      <td>1.35</td>\n",
       "      <td>10.20</td>\n",
       "      <td>0.59</td>\n",
       "      <td>1.56</td>\n",
       "      <td>835.0</td>\n",
       "    </tr>\n",
       "    <tr>\n",
       "      <th>176</th>\n",
       "      <td>13.17</td>\n",
       "      <td>2.59</td>\n",
       "      <td>2.37</td>\n",
       "      <td>20.0</td>\n",
       "      <td>120.0</td>\n",
       "      <td>1.65</td>\n",
       "      <td>0.68</td>\n",
       "      <td>0.53</td>\n",
       "      <td>1.46</td>\n",
       "      <td>9.30</td>\n",
       "      <td>0.60</td>\n",
       "      <td>1.62</td>\n",
       "      <td>840.0</td>\n",
       "    </tr>\n",
       "    <tr>\n",
       "      <th>177</th>\n",
       "      <td>14.13</td>\n",
       "      <td>4.10</td>\n",
       "      <td>2.74</td>\n",
       "      <td>24.5</td>\n",
       "      <td>96.0</td>\n",
       "      <td>2.05</td>\n",
       "      <td>0.76</td>\n",
       "      <td>0.56</td>\n",
       "      <td>1.35</td>\n",
       "      <td>9.20</td>\n",
       "      <td>0.61</td>\n",
       "      <td>1.60</td>\n",
       "      <td>560.0</td>\n",
       "    </tr>\n",
       "  </tbody>\n",
       "</table>\n",
       "<p>178 rows × 13 columns</p>\n",
       "</div>"
      ],
      "text/plain": [
       "     alcohol  malic_acid   ash  alcalinity_of_ash  magnesium  total_phenols  \\\n",
       "0      14.23        1.71  2.43               15.6      127.0           2.80   \n",
       "1      13.20        1.78  2.14               11.2      100.0           2.65   \n",
       "2      13.16        2.36  2.67               18.6      101.0           2.80   \n",
       "3      14.37        1.95  2.50               16.8      113.0           3.85   \n",
       "4      13.24        2.59  2.87               21.0      118.0           2.80   \n",
       "..       ...         ...   ...                ...        ...            ...   \n",
       "173    13.71        5.65  2.45               20.5       95.0           1.68   \n",
       "174    13.40        3.91  2.48               23.0      102.0           1.80   \n",
       "175    13.27        4.28  2.26               20.0      120.0           1.59   \n",
       "176    13.17        2.59  2.37               20.0      120.0           1.65   \n",
       "177    14.13        4.10  2.74               24.5       96.0           2.05   \n",
       "\n",
       "     flavanoids  nonflavanoid_phenols  proanthocyanins  color_intensity   hue  \\\n",
       "0          3.06                  0.28             2.29             5.64  1.04   \n",
       "1          2.76                  0.26             1.28             4.38  1.05   \n",
       "2          3.24                  0.30             2.81             5.68  1.03   \n",
       "3          3.49                  0.24             2.18             7.80  0.86   \n",
       "4          2.69                  0.39             1.82             4.32  1.04   \n",
       "..          ...                   ...              ...              ...   ...   \n",
       "173        0.61                  0.52             1.06             7.70  0.64   \n",
       "174        0.75                  0.43             1.41             7.30  0.70   \n",
       "175        0.69                  0.43             1.35            10.20  0.59   \n",
       "176        0.68                  0.53             1.46             9.30  0.60   \n",
       "177        0.76                  0.56             1.35             9.20  0.61   \n",
       "\n",
       "     od280/od315_of_diluted_wines  proline  \n",
       "0                            3.92   1065.0  \n",
       "1                            3.40   1050.0  \n",
       "2                            3.17   1185.0  \n",
       "3                            3.45   1480.0  \n",
       "4                            2.93    735.0  \n",
       "..                            ...      ...  \n",
       "173                          1.74    740.0  \n",
       "174                          1.56    750.0  \n",
       "175                          1.56    835.0  \n",
       "176                          1.62    840.0  \n",
       "177                          1.60    560.0  \n",
       "\n",
       "[178 rows x 13 columns]"
      ]
     },
     "execution_count": 44,
     "metadata": {},
     "output_type": "execute_result"
    }
   ],
   "source": [
    "pd.DataFrame(raw_wine[\"data\"], columns = raw_wine[\"feature_names\"])"
   ]
  },
  {
   "cell_type": "markdown",
   "metadata": {},
   "source": [
    "alcohol과 malic_acid를 이용하여 와인의 종류를 예측하는 예제를 진행해 보자."
   ]
  },
  {
   "cell_type": "code",
   "execution_count": 45,
   "metadata": {},
   "outputs": [],
   "source": [
    "X, y  = raw_wine.data[:,:2], raw_wine.target"
   ]
  },
  {
   "cell_type": "code",
   "execution_count": 46,
   "metadata": {},
   "outputs": [
    {
     "data": {
      "text/html": [
       "<div>\n",
       "<style scoped>\n",
       "    .dataframe tbody tr th:only-of-type {\n",
       "        vertical-align: middle;\n",
       "    }\n",
       "\n",
       "    .dataframe tbody tr th {\n",
       "        vertical-align: top;\n",
       "    }\n",
       "\n",
       "    .dataframe thead th {\n",
       "        text-align: right;\n",
       "    }\n",
       "</style>\n",
       "<table border=\"1\" class=\"dataframe\">\n",
       "  <thead>\n",
       "    <tr style=\"text-align: right;\">\n",
       "      <th></th>\n",
       "      <th>alcohol</th>\n",
       "      <th>malic_acid</th>\n",
       "      <th>y</th>\n",
       "    </tr>\n",
       "  </thead>\n",
       "  <tbody>\n",
       "    <tr>\n",
       "      <th>0</th>\n",
       "      <td>14.23</td>\n",
       "      <td>1.71</td>\n",
       "      <td>0.0</td>\n",
       "    </tr>\n",
       "    <tr>\n",
       "      <th>1</th>\n",
       "      <td>13.20</td>\n",
       "      <td>1.78</td>\n",
       "      <td>0.0</td>\n",
       "    </tr>\n",
       "    <tr>\n",
       "      <th>2</th>\n",
       "      <td>13.16</td>\n",
       "      <td>2.36</td>\n",
       "      <td>0.0</td>\n",
       "    </tr>\n",
       "    <tr>\n",
       "      <th>3</th>\n",
       "      <td>14.37</td>\n",
       "      <td>1.95</td>\n",
       "      <td>0.0</td>\n",
       "    </tr>\n",
       "    <tr>\n",
       "      <th>4</th>\n",
       "      <td>13.24</td>\n",
       "      <td>2.59</td>\n",
       "      <td>0.0</td>\n",
       "    </tr>\n",
       "    <tr>\n",
       "      <th>...</th>\n",
       "      <td>...</td>\n",
       "      <td>...</td>\n",
       "      <td>...</td>\n",
       "    </tr>\n",
       "    <tr>\n",
       "      <th>173</th>\n",
       "      <td>13.71</td>\n",
       "      <td>5.65</td>\n",
       "      <td>2.0</td>\n",
       "    </tr>\n",
       "    <tr>\n",
       "      <th>174</th>\n",
       "      <td>13.40</td>\n",
       "      <td>3.91</td>\n",
       "      <td>2.0</td>\n",
       "    </tr>\n",
       "    <tr>\n",
       "      <th>175</th>\n",
       "      <td>13.27</td>\n",
       "      <td>4.28</td>\n",
       "      <td>2.0</td>\n",
       "    </tr>\n",
       "    <tr>\n",
       "      <th>176</th>\n",
       "      <td>13.17</td>\n",
       "      <td>2.59</td>\n",
       "      <td>2.0</td>\n",
       "    </tr>\n",
       "    <tr>\n",
       "      <th>177</th>\n",
       "      <td>14.13</td>\n",
       "      <td>4.10</td>\n",
       "      <td>2.0</td>\n",
       "    </tr>\n",
       "  </tbody>\n",
       "</table>\n",
       "<p>178 rows × 3 columns</p>\n",
       "</div>"
      ],
      "text/plain": [
       "     alcohol  malic_acid    y\n",
       "0      14.23        1.71  0.0\n",
       "1      13.20        1.78  0.0\n",
       "2      13.16        2.36  0.0\n",
       "3      14.37        1.95  0.0\n",
       "4      13.24        2.59  0.0\n",
       "..       ...         ...  ...\n",
       "173    13.71        5.65  2.0\n",
       "174    13.40        3.91  2.0\n",
       "175    13.27        4.28  2.0\n",
       "176    13.17        2.59  2.0\n",
       "177    14.13        4.10  2.0\n",
       "\n",
       "[178 rows x 3 columns]"
      ]
     },
     "execution_count": 46,
     "metadata": {},
     "output_type": "execute_result"
    }
   ],
   "source": [
    "pd.DataFrame(np.c_[X, y],  columns = [\"alcohol\", \"malic_acid\", \"y\"])"
   ]
  },
  {
   "cell_type": "markdown",
   "metadata": {},
   "source": [
    "앞의 예제에서는 데이터의 전부를 모형 훈련에 사용하였지만, 이 예제에서는 훈련 데이터와 테스트 데이터를 분할하여 사용한다.  \n",
    "\n",
    "```sklearn.model_selection.train_test_split```을 이용하면, 데이터를 쉽게 분할할 수 있다."
   ]
  },
  {
   "cell_type": "code",
   "execution_count": 47,
   "metadata": {},
   "outputs": [],
   "source": [
    "# 트레이닝 테스트 데이터 분할\n",
    "from sklearn.model_selection import train_test_split\n",
    "X_tn, X_te, y_tn, y_te = train_test_split(X, y)"
   ]
  },
  {
   "cell_type": "code",
   "execution_count": 48,
   "metadata": {},
   "outputs": [
    {
     "data": {
      "text/html": [
       "<div>\n",
       "<style scoped>\n",
       "    .dataframe tbody tr th:only-of-type {\n",
       "        vertical-align: middle;\n",
       "    }\n",
       "\n",
       "    .dataframe tbody tr th {\n",
       "        vertical-align: top;\n",
       "    }\n",
       "\n",
       "    .dataframe thead th {\n",
       "        text-align: right;\n",
       "    }\n",
       "</style>\n",
       "<table border=\"1\" class=\"dataframe\">\n",
       "  <thead>\n",
       "    <tr style=\"text-align: right;\">\n",
       "      <th></th>\n",
       "      <th>alcohol</th>\n",
       "      <th>malic_acid</th>\n",
       "      <th>y</th>\n",
       "    </tr>\n",
       "  </thead>\n",
       "  <tbody>\n",
       "    <tr>\n",
       "      <th>0</th>\n",
       "      <td>13.48</td>\n",
       "      <td>1.67</td>\n",
       "      <td>2.0</td>\n",
       "    </tr>\n",
       "    <tr>\n",
       "      <th>1</th>\n",
       "      <td>14.16</td>\n",
       "      <td>2.51</td>\n",
       "      <td>2.0</td>\n",
       "    </tr>\n",
       "    <tr>\n",
       "      <th>2</th>\n",
       "      <td>12.08</td>\n",
       "      <td>1.13</td>\n",
       "      <td>1.0</td>\n",
       "    </tr>\n",
       "    <tr>\n",
       "      <th>3</th>\n",
       "      <td>13.36</td>\n",
       "      <td>2.56</td>\n",
       "      <td>2.0</td>\n",
       "    </tr>\n",
       "    <tr>\n",
       "      <th>4</th>\n",
       "      <td>14.22</td>\n",
       "      <td>1.70</td>\n",
       "      <td>0.0</td>\n",
       "    </tr>\n",
       "    <tr>\n",
       "      <th>...</th>\n",
       "      <td>...</td>\n",
       "      <td>...</td>\n",
       "      <td>...</td>\n",
       "    </tr>\n",
       "    <tr>\n",
       "      <th>128</th>\n",
       "      <td>11.76</td>\n",
       "      <td>2.68</td>\n",
       "      <td>1.0</td>\n",
       "    </tr>\n",
       "    <tr>\n",
       "      <th>129</th>\n",
       "      <td>13.68</td>\n",
       "      <td>1.83</td>\n",
       "      <td>0.0</td>\n",
       "    </tr>\n",
       "    <tr>\n",
       "      <th>130</th>\n",
       "      <td>13.51</td>\n",
       "      <td>1.80</td>\n",
       "      <td>0.0</td>\n",
       "    </tr>\n",
       "    <tr>\n",
       "      <th>131</th>\n",
       "      <td>12.22</td>\n",
       "      <td>1.29</td>\n",
       "      <td>1.0</td>\n",
       "    </tr>\n",
       "    <tr>\n",
       "      <th>132</th>\n",
       "      <td>13.24</td>\n",
       "      <td>3.98</td>\n",
       "      <td>0.0</td>\n",
       "    </tr>\n",
       "  </tbody>\n",
       "</table>\n",
       "<p>133 rows × 3 columns</p>\n",
       "</div>"
      ],
      "text/plain": [
       "     alcohol  malic_acid    y\n",
       "0      13.48        1.67  2.0\n",
       "1      14.16        2.51  2.0\n",
       "2      12.08        1.13  1.0\n",
       "3      13.36        2.56  2.0\n",
       "4      14.22        1.70  0.0\n",
       "..       ...         ...  ...\n",
       "128    11.76        2.68  1.0\n",
       "129    13.68        1.83  0.0\n",
       "130    13.51        1.80  0.0\n",
       "131    12.22        1.29  1.0\n",
       "132    13.24        3.98  0.0\n",
       "\n",
       "[133 rows x 3 columns]"
      ]
     },
     "execution_count": 48,
     "metadata": {},
     "output_type": "execute_result"
    }
   ],
   "source": [
    "pd.DataFrame(np.c_[X_tn, y_tn],  columns = [\"alcohol\", \"malic_acid\", \"y\"])"
   ]
  },
  {
   "cell_type": "code",
   "execution_count": 49,
   "metadata": {},
   "outputs": [
    {
     "data": {
      "text/html": [
       "<div>\n",
       "<style scoped>\n",
       "    .dataframe tbody tr th:only-of-type {\n",
       "        vertical-align: middle;\n",
       "    }\n",
       "\n",
       "    .dataframe tbody tr th {\n",
       "        vertical-align: top;\n",
       "    }\n",
       "\n",
       "    .dataframe thead th {\n",
       "        text-align: right;\n",
       "    }\n",
       "</style>\n",
       "<table border=\"1\" class=\"dataframe\">\n",
       "  <thead>\n",
       "    <tr style=\"text-align: right;\">\n",
       "      <th></th>\n",
       "      <th>alcohol</th>\n",
       "      <th>malic_acid</th>\n",
       "      <th>y</th>\n",
       "    </tr>\n",
       "  </thead>\n",
       "  <tbody>\n",
       "    <tr>\n",
       "      <th>0</th>\n",
       "      <td>13.58</td>\n",
       "      <td>1.66</td>\n",
       "      <td>0.0</td>\n",
       "    </tr>\n",
       "    <tr>\n",
       "      <th>1</th>\n",
       "      <td>12.16</td>\n",
       "      <td>1.61</td>\n",
       "      <td>1.0</td>\n",
       "    </tr>\n",
       "    <tr>\n",
       "      <th>2</th>\n",
       "      <td>13.34</td>\n",
       "      <td>0.94</td>\n",
       "      <td>1.0</td>\n",
       "    </tr>\n",
       "    <tr>\n",
       "      <th>3</th>\n",
       "      <td>12.96</td>\n",
       "      <td>3.45</td>\n",
       "      <td>2.0</td>\n",
       "    </tr>\n",
       "    <tr>\n",
       "      <th>4</th>\n",
       "      <td>13.11</td>\n",
       "      <td>1.90</td>\n",
       "      <td>2.0</td>\n",
       "    </tr>\n",
       "    <tr>\n",
       "      <th>5</th>\n",
       "      <td>12.72</td>\n",
       "      <td>1.81</td>\n",
       "      <td>1.0</td>\n",
       "    </tr>\n",
       "    <tr>\n",
       "      <th>6</th>\n",
       "      <td>12.45</td>\n",
       "      <td>3.03</td>\n",
       "      <td>2.0</td>\n",
       "    </tr>\n",
       "    <tr>\n",
       "      <th>7</th>\n",
       "      <td>11.61</td>\n",
       "      <td>1.35</td>\n",
       "      <td>1.0</td>\n",
       "    </tr>\n",
       "    <tr>\n",
       "      <th>8</th>\n",
       "      <td>13.05</td>\n",
       "      <td>1.77</td>\n",
       "      <td>0.0</td>\n",
       "    </tr>\n",
       "    <tr>\n",
       "      <th>9</th>\n",
       "      <td>13.05</td>\n",
       "      <td>5.80</td>\n",
       "      <td>1.0</td>\n",
       "    </tr>\n",
       "    <tr>\n",
       "      <th>10</th>\n",
       "      <td>12.58</td>\n",
       "      <td>1.29</td>\n",
       "      <td>2.0</td>\n",
       "    </tr>\n",
       "    <tr>\n",
       "      <th>11</th>\n",
       "      <td>12.29</td>\n",
       "      <td>2.83</td>\n",
       "      <td>1.0</td>\n",
       "    </tr>\n",
       "    <tr>\n",
       "      <th>12</th>\n",
       "      <td>12.70</td>\n",
       "      <td>3.87</td>\n",
       "      <td>1.0</td>\n",
       "    </tr>\n",
       "    <tr>\n",
       "      <th>13</th>\n",
       "      <td>13.05</td>\n",
       "      <td>1.73</td>\n",
       "      <td>0.0</td>\n",
       "    </tr>\n",
       "    <tr>\n",
       "      <th>14</th>\n",
       "      <td>12.08</td>\n",
       "      <td>1.33</td>\n",
       "      <td>1.0</td>\n",
       "    </tr>\n",
       "    <tr>\n",
       "      <th>15</th>\n",
       "      <td>12.99</td>\n",
       "      <td>1.67</td>\n",
       "      <td>1.0</td>\n",
       "    </tr>\n",
       "    <tr>\n",
       "      <th>16</th>\n",
       "      <td>14.13</td>\n",
       "      <td>4.10</td>\n",
       "      <td>2.0</td>\n",
       "    </tr>\n",
       "    <tr>\n",
       "      <th>17</th>\n",
       "      <td>14.10</td>\n",
       "      <td>2.16</td>\n",
       "      <td>0.0</td>\n",
       "    </tr>\n",
       "    <tr>\n",
       "      <th>18</th>\n",
       "      <td>13.77</td>\n",
       "      <td>1.90</td>\n",
       "      <td>0.0</td>\n",
       "    </tr>\n",
       "    <tr>\n",
       "      <th>19</th>\n",
       "      <td>12.93</td>\n",
       "      <td>3.80</td>\n",
       "      <td>0.0</td>\n",
       "    </tr>\n",
       "    <tr>\n",
       "      <th>20</th>\n",
       "      <td>12.51</td>\n",
       "      <td>1.73</td>\n",
       "      <td>1.0</td>\n",
       "    </tr>\n",
       "    <tr>\n",
       "      <th>21</th>\n",
       "      <td>13.20</td>\n",
       "      <td>1.78</td>\n",
       "      <td>0.0</td>\n",
       "    </tr>\n",
       "    <tr>\n",
       "      <th>22</th>\n",
       "      <td>13.49</td>\n",
       "      <td>1.66</td>\n",
       "      <td>1.0</td>\n",
       "    </tr>\n",
       "    <tr>\n",
       "      <th>23</th>\n",
       "      <td>12.84</td>\n",
       "      <td>2.96</td>\n",
       "      <td>2.0</td>\n",
       "    </tr>\n",
       "    <tr>\n",
       "      <th>24</th>\n",
       "      <td>13.87</td>\n",
       "      <td>1.90</td>\n",
       "      <td>0.0</td>\n",
       "    </tr>\n",
       "    <tr>\n",
       "      <th>25</th>\n",
       "      <td>11.66</td>\n",
       "      <td>1.88</td>\n",
       "      <td>1.0</td>\n",
       "    </tr>\n",
       "    <tr>\n",
       "      <th>26</th>\n",
       "      <td>11.65</td>\n",
       "      <td>1.67</td>\n",
       "      <td>1.0</td>\n",
       "    </tr>\n",
       "    <tr>\n",
       "      <th>27</th>\n",
       "      <td>13.27</td>\n",
       "      <td>4.28</td>\n",
       "      <td>2.0</td>\n",
       "    </tr>\n",
       "    <tr>\n",
       "      <th>28</th>\n",
       "      <td>13.78</td>\n",
       "      <td>2.76</td>\n",
       "      <td>2.0</td>\n",
       "    </tr>\n",
       "    <tr>\n",
       "      <th>29</th>\n",
       "      <td>12.00</td>\n",
       "      <td>3.43</td>\n",
       "      <td>1.0</td>\n",
       "    </tr>\n",
       "    <tr>\n",
       "      <th>30</th>\n",
       "      <td>12.72</td>\n",
       "      <td>1.75</td>\n",
       "      <td>1.0</td>\n",
       "    </tr>\n",
       "    <tr>\n",
       "      <th>31</th>\n",
       "      <td>13.29</td>\n",
       "      <td>1.97</td>\n",
       "      <td>0.0</td>\n",
       "    </tr>\n",
       "    <tr>\n",
       "      <th>32</th>\n",
       "      <td>12.93</td>\n",
       "      <td>2.81</td>\n",
       "      <td>2.0</td>\n",
       "    </tr>\n",
       "    <tr>\n",
       "      <th>33</th>\n",
       "      <td>12.33</td>\n",
       "      <td>0.99</td>\n",
       "      <td>1.0</td>\n",
       "    </tr>\n",
       "    <tr>\n",
       "      <th>34</th>\n",
       "      <td>12.42</td>\n",
       "      <td>4.43</td>\n",
       "      <td>1.0</td>\n",
       "    </tr>\n",
       "    <tr>\n",
       "      <th>35</th>\n",
       "      <td>11.81</td>\n",
       "      <td>2.12</td>\n",
       "      <td>1.0</td>\n",
       "    </tr>\n",
       "    <tr>\n",
       "      <th>36</th>\n",
       "      <td>12.67</td>\n",
       "      <td>0.98</td>\n",
       "      <td>1.0</td>\n",
       "    </tr>\n",
       "    <tr>\n",
       "      <th>37</th>\n",
       "      <td>13.05</td>\n",
       "      <td>1.65</td>\n",
       "      <td>0.0</td>\n",
       "    </tr>\n",
       "    <tr>\n",
       "      <th>38</th>\n",
       "      <td>14.22</td>\n",
       "      <td>3.99</td>\n",
       "      <td>0.0</td>\n",
       "    </tr>\n",
       "    <tr>\n",
       "      <th>39</th>\n",
       "      <td>13.84</td>\n",
       "      <td>4.12</td>\n",
       "      <td>2.0</td>\n",
       "    </tr>\n",
       "    <tr>\n",
       "      <th>40</th>\n",
       "      <td>12.29</td>\n",
       "      <td>1.61</td>\n",
       "      <td>1.0</td>\n",
       "    </tr>\n",
       "    <tr>\n",
       "      <th>41</th>\n",
       "      <td>14.38</td>\n",
       "      <td>1.87</td>\n",
       "      <td>0.0</td>\n",
       "    </tr>\n",
       "    <tr>\n",
       "      <th>42</th>\n",
       "      <td>14.02</td>\n",
       "      <td>1.68</td>\n",
       "      <td>0.0</td>\n",
       "    </tr>\n",
       "    <tr>\n",
       "      <th>43</th>\n",
       "      <td>12.25</td>\n",
       "      <td>1.73</td>\n",
       "      <td>1.0</td>\n",
       "    </tr>\n",
       "    <tr>\n",
       "      <th>44</th>\n",
       "      <td>13.16</td>\n",
       "      <td>3.57</td>\n",
       "      <td>2.0</td>\n",
       "    </tr>\n",
       "  </tbody>\n",
       "</table>\n",
       "</div>"
      ],
      "text/plain": [
       "    alcohol  malic_acid    y\n",
       "0     13.58        1.66  0.0\n",
       "1     12.16        1.61  1.0\n",
       "2     13.34        0.94  1.0\n",
       "3     12.96        3.45  2.0\n",
       "4     13.11        1.90  2.0\n",
       "5     12.72        1.81  1.0\n",
       "6     12.45        3.03  2.0\n",
       "7     11.61        1.35  1.0\n",
       "8     13.05        1.77  0.0\n",
       "9     13.05        5.80  1.0\n",
       "10    12.58        1.29  2.0\n",
       "11    12.29        2.83  1.0\n",
       "12    12.70        3.87  1.0\n",
       "13    13.05        1.73  0.0\n",
       "14    12.08        1.33  1.0\n",
       "15    12.99        1.67  1.0\n",
       "16    14.13        4.10  2.0\n",
       "17    14.10        2.16  0.0\n",
       "18    13.77        1.90  0.0\n",
       "19    12.93        3.80  0.0\n",
       "20    12.51        1.73  1.0\n",
       "21    13.20        1.78  0.0\n",
       "22    13.49        1.66  1.0\n",
       "23    12.84        2.96  2.0\n",
       "24    13.87        1.90  0.0\n",
       "25    11.66        1.88  1.0\n",
       "26    11.65        1.67  1.0\n",
       "27    13.27        4.28  2.0\n",
       "28    13.78        2.76  2.0\n",
       "29    12.00        3.43  1.0\n",
       "30    12.72        1.75  1.0\n",
       "31    13.29        1.97  0.0\n",
       "32    12.93        2.81  2.0\n",
       "33    12.33        0.99  1.0\n",
       "34    12.42        4.43  1.0\n",
       "35    11.81        2.12  1.0\n",
       "36    12.67        0.98  1.0\n",
       "37    13.05        1.65  0.0\n",
       "38    14.22        3.99  0.0\n",
       "39    13.84        4.12  2.0\n",
       "40    12.29        1.61  1.0\n",
       "41    14.38        1.87  0.0\n",
       "42    14.02        1.68  0.0\n",
       "43    12.25        1.73  1.0\n",
       "44    13.16        3.57  2.0"
      ]
     },
     "execution_count": 49,
     "metadata": {},
     "output_type": "execute_result"
    }
   ],
   "source": [
    "pd.DataFrame(np.c_[X_te, y_te],  columns = [\"alcohol\", \"malic_acid\", \"y\"])"
   ]
  },
  {
   "cell_type": "markdown",
   "metadata": {},
   "source": [
    "모형을 훈련할 때, 훈련 데이터를 표준화하여 훈련하면 성능 향상을 기대할 수 있다.  \n",
    "$X$의 값들만 표준화하면 된다.\n",
    "\n",
    "```sklearn.preprocessing.StandardScaler```를 이용하면 쉽게 표준화할 수 있다.  \n",
    "\n",
    "전체 ```X```를 StandardScaler에 fitting 한 후, transform method를 훈련 데이터와 테스트 데이터에 적용한다."
   ]
  },
  {
   "cell_type": "code",
   "execution_count": 50,
   "metadata": {},
   "outputs": [
    {
     "data": {
      "text/html": [
       "<style>#sk-container-id-6 {color: black;background-color: white;}#sk-container-id-6 pre{padding: 0;}#sk-container-id-6 div.sk-toggleable {background-color: white;}#sk-container-id-6 label.sk-toggleable__label {cursor: pointer;display: block;width: 100%;margin-bottom: 0;padding: 0.3em;box-sizing: border-box;text-align: center;}#sk-container-id-6 label.sk-toggleable__label-arrow:before {content: \"▸\";float: left;margin-right: 0.25em;color: #696969;}#sk-container-id-6 label.sk-toggleable__label-arrow:hover:before {color: black;}#sk-container-id-6 div.sk-estimator:hover label.sk-toggleable__label-arrow:before {color: black;}#sk-container-id-6 div.sk-toggleable__content {max-height: 0;max-width: 0;overflow: hidden;text-align: left;background-color: #f0f8ff;}#sk-container-id-6 div.sk-toggleable__content pre {margin: 0.2em;color: black;border-radius: 0.25em;background-color: #f0f8ff;}#sk-container-id-6 input.sk-toggleable__control:checked~div.sk-toggleable__content {max-height: 200px;max-width: 100%;overflow: auto;}#sk-container-id-6 input.sk-toggleable__control:checked~label.sk-toggleable__label-arrow:before {content: \"▾\";}#sk-container-id-6 div.sk-estimator input.sk-toggleable__control:checked~label.sk-toggleable__label {background-color: #d4ebff;}#sk-container-id-6 div.sk-label input.sk-toggleable__control:checked~label.sk-toggleable__label {background-color: #d4ebff;}#sk-container-id-6 input.sk-hidden--visually {border: 0;clip: rect(1px 1px 1px 1px);clip: rect(1px, 1px, 1px, 1px);height: 1px;margin: -1px;overflow: hidden;padding: 0;position: absolute;width: 1px;}#sk-container-id-6 div.sk-estimator {font-family: monospace;background-color: #f0f8ff;border: 1px dotted black;border-radius: 0.25em;box-sizing: border-box;margin-bottom: 0.5em;}#sk-container-id-6 div.sk-estimator:hover {background-color: #d4ebff;}#sk-container-id-6 div.sk-parallel-item::after {content: \"\";width: 100%;border-bottom: 1px solid gray;flex-grow: 1;}#sk-container-id-6 div.sk-label:hover label.sk-toggleable__label {background-color: #d4ebff;}#sk-container-id-6 div.sk-serial::before {content: \"\";position: absolute;border-left: 1px solid gray;box-sizing: border-box;top: 0;bottom: 0;left: 50%;z-index: 0;}#sk-container-id-6 div.sk-serial {display: flex;flex-direction: column;align-items: center;background-color: white;padding-right: 0.2em;padding-left: 0.2em;position: relative;}#sk-container-id-6 div.sk-item {position: relative;z-index: 1;}#sk-container-id-6 div.sk-parallel {display: flex;align-items: stretch;justify-content: center;background-color: white;position: relative;}#sk-container-id-6 div.sk-item::before, #sk-container-id-6 div.sk-parallel-item::before {content: \"\";position: absolute;border-left: 1px solid gray;box-sizing: border-box;top: 0;bottom: 0;left: 50%;z-index: -1;}#sk-container-id-6 div.sk-parallel-item {display: flex;flex-direction: column;z-index: 1;position: relative;background-color: white;}#sk-container-id-6 div.sk-parallel-item:first-child::after {align-self: flex-end;width: 50%;}#sk-container-id-6 div.sk-parallel-item:last-child::after {align-self: flex-start;width: 50%;}#sk-container-id-6 div.sk-parallel-item:only-child::after {width: 0;}#sk-container-id-6 div.sk-dashed-wrapped {border: 1px dashed gray;margin: 0 0.4em 0.5em 0.4em;box-sizing: border-box;padding-bottom: 0.4em;background-color: white;}#sk-container-id-6 div.sk-label label {font-family: monospace;font-weight: bold;display: inline-block;line-height: 1.2em;}#sk-container-id-6 div.sk-label-container {text-align: center;}#sk-container-id-6 div.sk-container {/* jupyter's `normalize.less` sets `[hidden] { display: none; }` but bootstrap.min.css set `[hidden] { display: none !important; }` so we also need the `!important` here to be able to override the default hidden behavior on the sphinx rendered scikit-learn.org. See: https://github.com/scikit-learn/scikit-learn/issues/21755 */display: inline-block !important;position: relative;}#sk-container-id-6 div.sk-text-repr-fallback {display: none;}</style><div id=\"sk-container-id-6\" class=\"sk-top-container\"><div class=\"sk-text-repr-fallback\"><pre>StandardScaler()</pre><b>In a Jupyter environment, please rerun this cell to show the HTML representation or trust the notebook. <br />On GitHub, the HTML representation is unable to render, please try loading this page with nbviewer.org.</b></div><div class=\"sk-container\" hidden><div class=\"sk-item\"><div class=\"sk-estimator sk-toggleable\"><input class=\"sk-toggleable__control sk-hidden--visually\" id=\"sk-estimator-id-6\" type=\"checkbox\" checked><label for=\"sk-estimator-id-6\" class=\"sk-toggleable__label sk-toggleable__label-arrow\">StandardScaler</label><div class=\"sk-toggleable__content\"><pre>StandardScaler()</pre></div></div></div></div></div>"
      ],
      "text/plain": [
       "StandardScaler()"
      ]
     },
     "execution_count": 50,
     "metadata": {},
     "output_type": "execute_result"
    }
   ],
   "source": [
    "# 표준화\n",
    "from sklearn.preprocessing import StandardScaler\n",
    "std_scale = StandardScaler()\n",
    "std_scale"
   ]
  },
  {
   "cell_type": "code",
   "execution_count": 51,
   "metadata": {},
   "outputs": [],
   "source": [
    "X_tn_std = std_scale.fit(X).transform(X_tn)\n",
    "X_te_std = std_scale.fit(X).transform(X_te)"
   ]
  },
  {
   "cell_type": "markdown",
   "metadata": {},
   "source": [
    "### ```sklearn.discriminant_analysis.LinearDiscriminantAnalysis```"
   ]
  },
  {
   "cell_type": "code",
   "execution_count": 52,
   "metadata": {},
   "outputs": [],
   "source": [
    "from sklearn.discriminant_analysis import LinearDiscriminantAnalysis\n",
    "lda = LinearDiscriminantAnalysis()"
   ]
  },
  {
   "cell_type": "markdown",
   "metadata": {},
   "source": [
    "훈련 데이터만을 이용하여 ```fit```을 진행한다."
   ]
  },
  {
   "cell_type": "code",
   "execution_count": 53,
   "metadata": {},
   "outputs": [
    {
     "data": {
      "text/html": [
       "<style>#sk-container-id-7 {color: black;background-color: white;}#sk-container-id-7 pre{padding: 0;}#sk-container-id-7 div.sk-toggleable {background-color: white;}#sk-container-id-7 label.sk-toggleable__label {cursor: pointer;display: block;width: 100%;margin-bottom: 0;padding: 0.3em;box-sizing: border-box;text-align: center;}#sk-container-id-7 label.sk-toggleable__label-arrow:before {content: \"▸\";float: left;margin-right: 0.25em;color: #696969;}#sk-container-id-7 label.sk-toggleable__label-arrow:hover:before {color: black;}#sk-container-id-7 div.sk-estimator:hover label.sk-toggleable__label-arrow:before {color: black;}#sk-container-id-7 div.sk-toggleable__content {max-height: 0;max-width: 0;overflow: hidden;text-align: left;background-color: #f0f8ff;}#sk-container-id-7 div.sk-toggleable__content pre {margin: 0.2em;color: black;border-radius: 0.25em;background-color: #f0f8ff;}#sk-container-id-7 input.sk-toggleable__control:checked~div.sk-toggleable__content {max-height: 200px;max-width: 100%;overflow: auto;}#sk-container-id-7 input.sk-toggleable__control:checked~label.sk-toggleable__label-arrow:before {content: \"▾\";}#sk-container-id-7 div.sk-estimator input.sk-toggleable__control:checked~label.sk-toggleable__label {background-color: #d4ebff;}#sk-container-id-7 div.sk-label input.sk-toggleable__control:checked~label.sk-toggleable__label {background-color: #d4ebff;}#sk-container-id-7 input.sk-hidden--visually {border: 0;clip: rect(1px 1px 1px 1px);clip: rect(1px, 1px, 1px, 1px);height: 1px;margin: -1px;overflow: hidden;padding: 0;position: absolute;width: 1px;}#sk-container-id-7 div.sk-estimator {font-family: monospace;background-color: #f0f8ff;border: 1px dotted black;border-radius: 0.25em;box-sizing: border-box;margin-bottom: 0.5em;}#sk-container-id-7 div.sk-estimator:hover {background-color: #d4ebff;}#sk-container-id-7 div.sk-parallel-item::after {content: \"\";width: 100%;border-bottom: 1px solid gray;flex-grow: 1;}#sk-container-id-7 div.sk-label:hover label.sk-toggleable__label {background-color: #d4ebff;}#sk-container-id-7 div.sk-serial::before {content: \"\";position: absolute;border-left: 1px solid gray;box-sizing: border-box;top: 0;bottom: 0;left: 50%;z-index: 0;}#sk-container-id-7 div.sk-serial {display: flex;flex-direction: column;align-items: center;background-color: white;padding-right: 0.2em;padding-left: 0.2em;position: relative;}#sk-container-id-7 div.sk-item {position: relative;z-index: 1;}#sk-container-id-7 div.sk-parallel {display: flex;align-items: stretch;justify-content: center;background-color: white;position: relative;}#sk-container-id-7 div.sk-item::before, #sk-container-id-7 div.sk-parallel-item::before {content: \"\";position: absolute;border-left: 1px solid gray;box-sizing: border-box;top: 0;bottom: 0;left: 50%;z-index: -1;}#sk-container-id-7 div.sk-parallel-item {display: flex;flex-direction: column;z-index: 1;position: relative;background-color: white;}#sk-container-id-7 div.sk-parallel-item:first-child::after {align-self: flex-end;width: 50%;}#sk-container-id-7 div.sk-parallel-item:last-child::after {align-self: flex-start;width: 50%;}#sk-container-id-7 div.sk-parallel-item:only-child::after {width: 0;}#sk-container-id-7 div.sk-dashed-wrapped {border: 1px dashed gray;margin: 0 0.4em 0.5em 0.4em;box-sizing: border-box;padding-bottom: 0.4em;background-color: white;}#sk-container-id-7 div.sk-label label {font-family: monospace;font-weight: bold;display: inline-block;line-height: 1.2em;}#sk-container-id-7 div.sk-label-container {text-align: center;}#sk-container-id-7 div.sk-container {/* jupyter's `normalize.less` sets `[hidden] { display: none; }` but bootstrap.min.css set `[hidden] { display: none !important; }` so we also need the `!important` here to be able to override the default hidden behavior on the sphinx rendered scikit-learn.org. See: https://github.com/scikit-learn/scikit-learn/issues/21755 */display: inline-block !important;position: relative;}#sk-container-id-7 div.sk-text-repr-fallback {display: none;}</style><div id=\"sk-container-id-7\" class=\"sk-top-container\"><div class=\"sk-text-repr-fallback\"><pre>LinearDiscriminantAnalysis()</pre><b>In a Jupyter environment, please rerun this cell to show the HTML representation or trust the notebook. <br />On GitHub, the HTML representation is unable to render, please try loading this page with nbviewer.org.</b></div><div class=\"sk-container\" hidden><div class=\"sk-item\"><div class=\"sk-estimator sk-toggleable\"><input class=\"sk-toggleable__control sk-hidden--visually\" id=\"sk-estimator-id-7\" type=\"checkbox\" checked><label for=\"sk-estimator-id-7\" class=\"sk-toggleable__label sk-toggleable__label-arrow\">LinearDiscriminantAnalysis</label><div class=\"sk-toggleable__content\"><pre>LinearDiscriminantAnalysis()</pre></div></div></div></div></div>"
      ],
      "text/plain": [
       "LinearDiscriminantAnalysis()"
      ]
     },
     "execution_count": 53,
     "metadata": {},
     "output_type": "execute_result"
    }
   ],
   "source": [
    "lda.fit(X_tn, y_tn)"
   ]
  },
  {
   "cell_type": "markdown",
   "metadata": {},
   "source": [
    "앞에서 했던 것처럼 meshigrid를 생성하여 gird의 모든 point에 대해 예측을 진행한다."
   ]
  },
  {
   "cell_type": "code",
   "execution_count": 54,
   "metadata": {
    "scrolled": true
   },
   "outputs": [
    {
     "data": {
      "text/html": [
       "<div>\n",
       "<style scoped>\n",
       "    .dataframe tbody tr th:only-of-type {\n",
       "        vertical-align: middle;\n",
       "    }\n",
       "\n",
       "    .dataframe tbody tr th {\n",
       "        vertical-align: top;\n",
       "    }\n",
       "\n",
       "    .dataframe thead th {\n",
       "        text-align: right;\n",
       "    }\n",
       "</style>\n",
       "<table border=\"1\" class=\"dataframe\">\n",
       "  <thead>\n",
       "    <tr style=\"text-align: right;\">\n",
       "      <th></th>\n",
       "      <th>0</th>\n",
       "      <th>1</th>\n",
       "      <th>2</th>\n",
       "      <th>3</th>\n",
       "      <th>4</th>\n",
       "      <th>5</th>\n",
       "      <th>6</th>\n",
       "      <th>7</th>\n",
       "      <th>8</th>\n",
       "      <th>9</th>\n",
       "      <th>...</th>\n",
       "      <th>990</th>\n",
       "      <th>991</th>\n",
       "      <th>992</th>\n",
       "      <th>993</th>\n",
       "      <th>994</th>\n",
       "      <th>995</th>\n",
       "      <th>996</th>\n",
       "      <th>997</th>\n",
       "      <th>998</th>\n",
       "      <th>999</th>\n",
       "    </tr>\n",
       "  </thead>\n",
       "  <tbody>\n",
       "    <tr>\n",
       "      <th>0</th>\n",
       "      <td>11.0</td>\n",
       "      <td>11.004004</td>\n",
       "      <td>11.008008</td>\n",
       "      <td>11.012012</td>\n",
       "      <td>11.016016</td>\n",
       "      <td>11.02002</td>\n",
       "      <td>11.024024</td>\n",
       "      <td>11.028028</td>\n",
       "      <td>11.032032</td>\n",
       "      <td>11.036036</td>\n",
       "      <td>...</td>\n",
       "      <td>14.963964</td>\n",
       "      <td>14.967968</td>\n",
       "      <td>14.971972</td>\n",
       "      <td>14.975976</td>\n",
       "      <td>14.97998</td>\n",
       "      <td>14.983984</td>\n",
       "      <td>14.987988</td>\n",
       "      <td>14.991992</td>\n",
       "      <td>14.995996</td>\n",
       "      <td>15.0</td>\n",
       "    </tr>\n",
       "    <tr>\n",
       "      <th>1</th>\n",
       "      <td>11.0</td>\n",
       "      <td>11.004004</td>\n",
       "      <td>11.008008</td>\n",
       "      <td>11.012012</td>\n",
       "      <td>11.016016</td>\n",
       "      <td>11.02002</td>\n",
       "      <td>11.024024</td>\n",
       "      <td>11.028028</td>\n",
       "      <td>11.032032</td>\n",
       "      <td>11.036036</td>\n",
       "      <td>...</td>\n",
       "      <td>14.963964</td>\n",
       "      <td>14.967968</td>\n",
       "      <td>14.971972</td>\n",
       "      <td>14.975976</td>\n",
       "      <td>14.97998</td>\n",
       "      <td>14.983984</td>\n",
       "      <td>14.987988</td>\n",
       "      <td>14.991992</td>\n",
       "      <td>14.995996</td>\n",
       "      <td>15.0</td>\n",
       "    </tr>\n",
       "    <tr>\n",
       "      <th>2</th>\n",
       "      <td>11.0</td>\n",
       "      <td>11.004004</td>\n",
       "      <td>11.008008</td>\n",
       "      <td>11.012012</td>\n",
       "      <td>11.016016</td>\n",
       "      <td>11.02002</td>\n",
       "      <td>11.024024</td>\n",
       "      <td>11.028028</td>\n",
       "      <td>11.032032</td>\n",
       "      <td>11.036036</td>\n",
       "      <td>...</td>\n",
       "      <td>14.963964</td>\n",
       "      <td>14.967968</td>\n",
       "      <td>14.971972</td>\n",
       "      <td>14.975976</td>\n",
       "      <td>14.97998</td>\n",
       "      <td>14.983984</td>\n",
       "      <td>14.987988</td>\n",
       "      <td>14.991992</td>\n",
       "      <td>14.995996</td>\n",
       "      <td>15.0</td>\n",
       "    </tr>\n",
       "    <tr>\n",
       "      <th>3</th>\n",
       "      <td>11.0</td>\n",
       "      <td>11.004004</td>\n",
       "      <td>11.008008</td>\n",
       "      <td>11.012012</td>\n",
       "      <td>11.016016</td>\n",
       "      <td>11.02002</td>\n",
       "      <td>11.024024</td>\n",
       "      <td>11.028028</td>\n",
       "      <td>11.032032</td>\n",
       "      <td>11.036036</td>\n",
       "      <td>...</td>\n",
       "      <td>14.963964</td>\n",
       "      <td>14.967968</td>\n",
       "      <td>14.971972</td>\n",
       "      <td>14.975976</td>\n",
       "      <td>14.97998</td>\n",
       "      <td>14.983984</td>\n",
       "      <td>14.987988</td>\n",
       "      <td>14.991992</td>\n",
       "      <td>14.995996</td>\n",
       "      <td>15.0</td>\n",
       "    </tr>\n",
       "    <tr>\n",
       "      <th>4</th>\n",
       "      <td>11.0</td>\n",
       "      <td>11.004004</td>\n",
       "      <td>11.008008</td>\n",
       "      <td>11.012012</td>\n",
       "      <td>11.016016</td>\n",
       "      <td>11.02002</td>\n",
       "      <td>11.024024</td>\n",
       "      <td>11.028028</td>\n",
       "      <td>11.032032</td>\n",
       "      <td>11.036036</td>\n",
       "      <td>...</td>\n",
       "      <td>14.963964</td>\n",
       "      <td>14.967968</td>\n",
       "      <td>14.971972</td>\n",
       "      <td>14.975976</td>\n",
       "      <td>14.97998</td>\n",
       "      <td>14.983984</td>\n",
       "      <td>14.987988</td>\n",
       "      <td>14.991992</td>\n",
       "      <td>14.995996</td>\n",
       "      <td>15.0</td>\n",
       "    </tr>\n",
       "    <tr>\n",
       "      <th>...</th>\n",
       "      <td>...</td>\n",
       "      <td>...</td>\n",
       "      <td>...</td>\n",
       "      <td>...</td>\n",
       "      <td>...</td>\n",
       "      <td>...</td>\n",
       "      <td>...</td>\n",
       "      <td>...</td>\n",
       "      <td>...</td>\n",
       "      <td>...</td>\n",
       "      <td>...</td>\n",
       "      <td>...</td>\n",
       "      <td>...</td>\n",
       "      <td>...</td>\n",
       "      <td>...</td>\n",
       "      <td>...</td>\n",
       "      <td>...</td>\n",
       "      <td>...</td>\n",
       "      <td>...</td>\n",
       "      <td>...</td>\n",
       "      <td>...</td>\n",
       "    </tr>\n",
       "    <tr>\n",
       "      <th>995</th>\n",
       "      <td>11.0</td>\n",
       "      <td>11.004004</td>\n",
       "      <td>11.008008</td>\n",
       "      <td>11.012012</td>\n",
       "      <td>11.016016</td>\n",
       "      <td>11.02002</td>\n",
       "      <td>11.024024</td>\n",
       "      <td>11.028028</td>\n",
       "      <td>11.032032</td>\n",
       "      <td>11.036036</td>\n",
       "      <td>...</td>\n",
       "      <td>14.963964</td>\n",
       "      <td>14.967968</td>\n",
       "      <td>14.971972</td>\n",
       "      <td>14.975976</td>\n",
       "      <td>14.97998</td>\n",
       "      <td>14.983984</td>\n",
       "      <td>14.987988</td>\n",
       "      <td>14.991992</td>\n",
       "      <td>14.995996</td>\n",
       "      <td>15.0</td>\n",
       "    </tr>\n",
       "    <tr>\n",
       "      <th>996</th>\n",
       "      <td>11.0</td>\n",
       "      <td>11.004004</td>\n",
       "      <td>11.008008</td>\n",
       "      <td>11.012012</td>\n",
       "      <td>11.016016</td>\n",
       "      <td>11.02002</td>\n",
       "      <td>11.024024</td>\n",
       "      <td>11.028028</td>\n",
       "      <td>11.032032</td>\n",
       "      <td>11.036036</td>\n",
       "      <td>...</td>\n",
       "      <td>14.963964</td>\n",
       "      <td>14.967968</td>\n",
       "      <td>14.971972</td>\n",
       "      <td>14.975976</td>\n",
       "      <td>14.97998</td>\n",
       "      <td>14.983984</td>\n",
       "      <td>14.987988</td>\n",
       "      <td>14.991992</td>\n",
       "      <td>14.995996</td>\n",
       "      <td>15.0</td>\n",
       "    </tr>\n",
       "    <tr>\n",
       "      <th>997</th>\n",
       "      <td>11.0</td>\n",
       "      <td>11.004004</td>\n",
       "      <td>11.008008</td>\n",
       "      <td>11.012012</td>\n",
       "      <td>11.016016</td>\n",
       "      <td>11.02002</td>\n",
       "      <td>11.024024</td>\n",
       "      <td>11.028028</td>\n",
       "      <td>11.032032</td>\n",
       "      <td>11.036036</td>\n",
       "      <td>...</td>\n",
       "      <td>14.963964</td>\n",
       "      <td>14.967968</td>\n",
       "      <td>14.971972</td>\n",
       "      <td>14.975976</td>\n",
       "      <td>14.97998</td>\n",
       "      <td>14.983984</td>\n",
       "      <td>14.987988</td>\n",
       "      <td>14.991992</td>\n",
       "      <td>14.995996</td>\n",
       "      <td>15.0</td>\n",
       "    </tr>\n",
       "    <tr>\n",
       "      <th>998</th>\n",
       "      <td>11.0</td>\n",
       "      <td>11.004004</td>\n",
       "      <td>11.008008</td>\n",
       "      <td>11.012012</td>\n",
       "      <td>11.016016</td>\n",
       "      <td>11.02002</td>\n",
       "      <td>11.024024</td>\n",
       "      <td>11.028028</td>\n",
       "      <td>11.032032</td>\n",
       "      <td>11.036036</td>\n",
       "      <td>...</td>\n",
       "      <td>14.963964</td>\n",
       "      <td>14.967968</td>\n",
       "      <td>14.971972</td>\n",
       "      <td>14.975976</td>\n",
       "      <td>14.97998</td>\n",
       "      <td>14.983984</td>\n",
       "      <td>14.987988</td>\n",
       "      <td>14.991992</td>\n",
       "      <td>14.995996</td>\n",
       "      <td>15.0</td>\n",
       "    </tr>\n",
       "    <tr>\n",
       "      <th>999</th>\n",
       "      <td>11.0</td>\n",
       "      <td>11.004004</td>\n",
       "      <td>11.008008</td>\n",
       "      <td>11.012012</td>\n",
       "      <td>11.016016</td>\n",
       "      <td>11.02002</td>\n",
       "      <td>11.024024</td>\n",
       "      <td>11.028028</td>\n",
       "      <td>11.032032</td>\n",
       "      <td>11.036036</td>\n",
       "      <td>...</td>\n",
       "      <td>14.963964</td>\n",
       "      <td>14.967968</td>\n",
       "      <td>14.971972</td>\n",
       "      <td>14.975976</td>\n",
       "      <td>14.97998</td>\n",
       "      <td>14.983984</td>\n",
       "      <td>14.987988</td>\n",
       "      <td>14.991992</td>\n",
       "      <td>14.995996</td>\n",
       "      <td>15.0</td>\n",
       "    </tr>\n",
       "  </tbody>\n",
       "</table>\n",
       "<p>1000 rows × 1000 columns</p>\n",
       "</div>"
      ],
      "text/plain": [
       "      0          1          2          3          4         5          6    \\\n",
       "0    11.0  11.004004  11.008008  11.012012  11.016016  11.02002  11.024024   \n",
       "1    11.0  11.004004  11.008008  11.012012  11.016016  11.02002  11.024024   \n",
       "2    11.0  11.004004  11.008008  11.012012  11.016016  11.02002  11.024024   \n",
       "3    11.0  11.004004  11.008008  11.012012  11.016016  11.02002  11.024024   \n",
       "4    11.0  11.004004  11.008008  11.012012  11.016016  11.02002  11.024024   \n",
       "..    ...        ...        ...        ...        ...       ...        ...   \n",
       "995  11.0  11.004004  11.008008  11.012012  11.016016  11.02002  11.024024   \n",
       "996  11.0  11.004004  11.008008  11.012012  11.016016  11.02002  11.024024   \n",
       "997  11.0  11.004004  11.008008  11.012012  11.016016  11.02002  11.024024   \n",
       "998  11.0  11.004004  11.008008  11.012012  11.016016  11.02002  11.024024   \n",
       "999  11.0  11.004004  11.008008  11.012012  11.016016  11.02002  11.024024   \n",
       "\n",
       "           7          8          9    ...        990        991        992  \\\n",
       "0    11.028028  11.032032  11.036036  ...  14.963964  14.967968  14.971972   \n",
       "1    11.028028  11.032032  11.036036  ...  14.963964  14.967968  14.971972   \n",
       "2    11.028028  11.032032  11.036036  ...  14.963964  14.967968  14.971972   \n",
       "3    11.028028  11.032032  11.036036  ...  14.963964  14.967968  14.971972   \n",
       "4    11.028028  11.032032  11.036036  ...  14.963964  14.967968  14.971972   \n",
       "..         ...        ...        ...  ...        ...        ...        ...   \n",
       "995  11.028028  11.032032  11.036036  ...  14.963964  14.967968  14.971972   \n",
       "996  11.028028  11.032032  11.036036  ...  14.963964  14.967968  14.971972   \n",
       "997  11.028028  11.032032  11.036036  ...  14.963964  14.967968  14.971972   \n",
       "998  11.028028  11.032032  11.036036  ...  14.963964  14.967968  14.971972   \n",
       "999  11.028028  11.032032  11.036036  ...  14.963964  14.967968  14.971972   \n",
       "\n",
       "           993       994        995        996        997        998   999  \n",
       "0    14.975976  14.97998  14.983984  14.987988  14.991992  14.995996  15.0  \n",
       "1    14.975976  14.97998  14.983984  14.987988  14.991992  14.995996  15.0  \n",
       "2    14.975976  14.97998  14.983984  14.987988  14.991992  14.995996  15.0  \n",
       "3    14.975976  14.97998  14.983984  14.987988  14.991992  14.995996  15.0  \n",
       "4    14.975976  14.97998  14.983984  14.987988  14.991992  14.995996  15.0  \n",
       "..         ...       ...        ...        ...        ...        ...   ...  \n",
       "995  14.975976  14.97998  14.983984  14.987988  14.991992  14.995996  15.0  \n",
       "996  14.975976  14.97998  14.983984  14.987988  14.991992  14.995996  15.0  \n",
       "997  14.975976  14.97998  14.983984  14.987988  14.991992  14.995996  15.0  \n",
       "998  14.975976  14.97998  14.983984  14.987988  14.991992  14.995996  15.0  \n",
       "999  14.975976  14.97998  14.983984  14.987988  14.991992  14.995996  15.0  \n",
       "\n",
       "[1000 rows x 1000 columns]"
      ]
     },
     "execution_count": 54,
     "metadata": {},
     "output_type": "execute_result"
    }
   ],
   "source": [
    "xx1, xx2 = np.meshgrid(np.linspace(11, 15, 1000),\n",
    "                         np.linspace(0, 6, 1000))\n",
    "\n",
    "\n",
    "pd.DataFrame(xx1)"
   ]
  },
  {
   "cell_type": "code",
   "execution_count": 55,
   "metadata": {},
   "outputs": [
    {
     "data": {
      "text/plain": [
       "array([[11.        ,  0.        ],\n",
       "       [11.004004  ,  0.        ],\n",
       "       [11.00800801,  0.        ],\n",
       "       ...,\n",
       "       [14.99199199,  6.        ],\n",
       "       [14.995996  ,  6.        ],\n",
       "       [15.        ,  6.        ]])"
      ]
     },
     "execution_count": 55,
     "metadata": {},
     "output_type": "execute_result"
    }
   ],
   "source": [
    "np.c_[xx1.ravel(), xx2.ravel()]"
   ]
  },
  {
   "cell_type": "code",
   "execution_count": 56,
   "metadata": {},
   "outputs": [
    {
     "data": {
      "text/plain": [
       "array([[1.74518010e-06, 9.99993073e-01, 5.18132108e-06],\n",
       "       [1.78903423e-06, 9.99992949e-01, 5.26186095e-06],\n",
       "       [1.83399035e-06, 9.99992822e-01, 5.34365275e-06],\n",
       "       ...,\n",
       "       [1.49363162e-01, 1.50426893e-07, 8.50636688e-01],\n",
       "       [1.50560575e-01, 1.47915879e-07, 8.49439277e-01],\n",
       "       [1.51765874e-01, 1.45445139e-07, 8.48233980e-01]])"
      ]
     },
     "execution_count": 56,
     "metadata": {},
     "output_type": "execute_result"
    }
   ],
   "source": [
    "# xx1과 xx2의 값을 이용하여 세 개의 class에 대해 각 class 별 확률 예측\n",
    "Z = lda.predict_proba(np.c_[xx1.ravel(), xx2.ravel()])   # ravel : Return a contiguous flattened array\n",
    "Z"
   ]
  },
  {
   "cell_type": "markdown",
   "metadata": {},
   "source": [
    "아래 방법에서는 각 행 별로 확률의 값을 최대화 하는 열의 index를 찾는다.  \n",
    "그 index는 곧 class를 의미한다."
   ]
  },
  {
   "cell_type": "code",
   "execution_count": 57,
   "metadata": {},
   "outputs": [
    {
     "data": {
      "text/plain": [
       "array([1, 1, 1, ..., 2, 2, 2], dtype=int64)"
      ]
     },
     "execution_count": 57,
     "metadata": {},
     "output_type": "execute_result"
    }
   ],
   "source": [
    "np.argmax(Z, axis=1)"
   ]
  },
  {
   "cell_type": "code",
   "execution_count": 58,
   "metadata": {},
   "outputs": [
    {
     "data": {
      "text/plain": [
       "array([[1, 1, 1, ..., 0, 0, 0],\n",
       "       [1, 1, 1, ..., 0, 0, 0],\n",
       "       [1, 1, 1, ..., 0, 0, 0],\n",
       "       ...,\n",
       "       [2, 2, 2, ..., 2, 2, 2],\n",
       "       [2, 2, 2, ..., 2, 2, 2],\n",
       "       [2, 2, 2, ..., 2, 2, 2]], dtype=int64)"
      ]
     },
     "execution_count": 58,
     "metadata": {},
     "output_type": "execute_result"
    }
   ],
   "source": [
    "clss = np.argmax(Z, axis=1).reshape(xx1.shape)\n",
    "clss"
   ]
  },
  {
   "cell_type": "markdown",
   "metadata": {},
   "source": [
    "물론 ```predict```로 찾는 것과 동일하다."
   ]
  },
  {
   "cell_type": "code",
   "execution_count": 59,
   "metadata": {},
   "outputs": [
    {
     "data": {
      "text/plain": [
       "array([[1, 1, 1, ..., 0, 0, 0],\n",
       "       [1, 1, 1, ..., 0, 0, 0],\n",
       "       [1, 1, 1, ..., 0, 0, 0],\n",
       "       ...,\n",
       "       [2, 2, 2, ..., 2, 2, 2],\n",
       "       [2, 2, 2, ..., 2, 2, 2],\n",
       "       [2, 2, 2, ..., 2, 2, 2]])"
      ]
     },
     "execution_count": 59,
     "metadata": {},
     "output_type": "execute_result"
    }
   ],
   "source": [
    "clss = lda.predict(np.c_[xx1.ravel(), xx2.ravel()]).reshape(xx1.shape)\n",
    "clss"
   ]
  },
  {
   "cell_type": "markdown",
   "metadata": {},
   "source": [
    "```pcolormesh```를 통해 LDA의 경계선을 표현해 보자.  \n",
    "산점도는 train data를 의미한다."
   ]
  },
  {
   "cell_type": "code",
   "execution_count": 60,
   "metadata": {},
   "outputs": [
    {
     "data": {
      "image/png": "[encoded data removed]",
      "text/plain": [
       "<Figure size 576x432 with 1 Axes>"
      ]
     },
     "metadata": {
      "needs_background": "light"
     },
     "output_type": "display_data"
    }
   ],
   "source": [
    "import matplotlib.pyplot as plt\n",
    "#from matplotlib import colors\n",
    "\n",
    "plt.figure(figsize=(8,6))\n",
    "\n",
    "plt.pcolormesh(xx1, xx2, clss, cmap=\"Pastel1\")  #Create a pseudocolor plot with a non-regular rectangular grid.\n",
    "\n",
    "df = pd.DataFrame(X_tn, columns = raw_wine[\"feature_names\"][:2])\n",
    "df['target'] = y_tn\n",
    "markers = ['o', 's', '^']\n",
    "colors = [\"red\", \"orange\", \"grey\"]\n",
    "\n",
    "for i, mark in enumerate(markers):\n",
    "    X_i = df[df['target'] == i]\n",
    "    class_i = raw_wine.target_names[i]\n",
    "    plt.scatter(X_i[[\"alcohol\"]], X_i[[\"malic_acid\"]], marker = mark, label = class_i, color = colors[i])\n",
    "    \n",
    "plt.xlabel(\"Alcohol\")\n",
    "plt.ylabel(\"Malic Acid\")\n",
    "    \n",
    "    \n",
    "plt.legend()    \n",
    "plt.show()"
   ]
  },
  {
   "cell_type": "markdown",
   "metadata": {},
   "source": [
    "아래는 산점도만 test set으로 바꾸었다."
   ]
  },
  {
   "cell_type": "code",
   "execution_count": 61,
   "metadata": {},
   "outputs": [
    {
     "data": {
      "image/png": "[encoded data removed]",
      "text/plain": [
       "<Figure size 576x432 with 1 Axes>"
      ]
     },
     "metadata": {
      "needs_background": "light"
     },
     "output_type": "display_data"
    }
   ],
   "source": [
    "# Using test set\n",
    "plt.figure(figsize=(8,6))\n",
    "\n",
    "plt.pcolormesh(xx1, xx2, clss, cmap=\"Pastel1\")  #Create a pseudocolor plot with a non-regular rectangular grid.\n",
    "\n",
    "df = pd.DataFrame(X_te, columns = raw_wine[\"feature_names\"][:2])\n",
    "df['target'] = y_te\n",
    "markers = ['o', 's', '^']\n",
    "colors = [\"red\", \"orange\", \"grey\"]\n",
    "\n",
    "\n",
    "for i, mark in enumerate(markers):\n",
    "    X_i = df[df['target'] == i]\n",
    "    class_i = raw_wine.target_names[i]\n",
    "    plt.scatter(X_i[[\"alcohol\"]], X_i[[\"malic_acid\"]], marker = mark, label = class_i, color = colors[i])\n",
    "    \n",
    "plt.xlabel(\"Alcohol\")\n",
    "plt.ylabel(\"Malic Acid\")\n",
    "    \n",
    "plt.legend()    \n",
    "plt.show()"
   ]
  },
  {
   "cell_type": "markdown",
   "metadata": {},
   "source": [
    "## Confusion matrix\n",
    "\n",
    "\n",
    "|            |          | True  status   |                |\n",
    "|------------|----------|----------------|----------------|\n",
    "|            |          | Positive (non-null)       | Negative (null)      |\n",
    "| Prediction | Positive (non-null) | True Positive  | False Positive |\n",
    "|            | Negative (null) | False Negative | True Negative  |\n",
    "|            |          |                |                |\n",
    "\n",
    "\n",
    "Types of errors\n",
    "\n",
    "* False positive rate : 실제 negative 중 positive로 잘못 예상된 False positive에 해당하는 비율, FP/N\n",
    "    * 통계학에서의 1종 오류율, $\\alpha$, 귀무가설(null)이 사실이어도 기각될 확률\n",
    "    * 1 - specificity\n",
    "* False negative rate : 실제 positive 중 negative로 잘못 예상된 False negative에 해당하는 비율, TP/P\n",
    "    * 통계학에서의 2종 오류율, $\\beta$,  귀무가설(null)이 거짓이어도 기각하지 못할 확률\n",
    "    * 1 - sensitivity\n",
    "\n",
    "그 외의 용어들:\n",
    "\n",
    "* 민감도, 재현율, Sensitivity, Recall (True positive rate), Power : 실제 postive 중 올바르게 positive로 예측된 비율, TP/P\n",
    "  * 1 - FNR\n",
    "* 특이도, Specificity (True negative rate) : 실제 negative 중 올바르게 negative로 예측된 비율, TN/N\n",
    "  * 1 - FPR\n",
    "* 정밀도, Precision (Positive predictive rate) : 양성 예측 중 실제 양성의 비율, TP / P*\n",
    "* Negative predictive rate : 음성 예측 중 실제 음성의 비율, TN / N*\n",
    "* 정확도, Accuracy : 전체 데이터 중 정답으로 분류되는 비율\n",
    "* 에러율, Error rate : 전체 데이터 중 오답으로 분류되는 비율\n",
    "\n",
    "정밀도 (precision)와 민감도 (sensitivity)은 트레이드오프를 지닌다. \n",
    "\n",
    "정밀도를 올리면 민감도 (재현율)이 줄고, 민감도를 높이면 정밀도가 낮아지는 경향이 있다.\n",
    "\n",
    "양성으로 판정되는 기준을 높이면 정밀도가 올라가나, 민감도 (재현율)은 떨어진다.\n",
    "\n",
    "양성으로 판정되는 기준을 낮추면 재현율은 올라가나, 정밀도는 떨어진다.\n"
   ]
  },
  {
   "cell_type": "markdown",
   "metadata": {},
   "source": [
    "<img src=\"data:image/png;base64,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\" width=\"600\" alt=\"\" />"
   ]
  },
  {
   "cell_type": "markdown",
   "metadata": {},
   "source": [
    "### ROC (receiver operating characteristic) curve\n",
    "\n",
    "Classification threshold 에 따라 x-축에 FPR (False positive rate, 1 - specificity)을 놓고, y-축에 TPR (True positive rate, 민감도, 재현율)의 값을 놓고 비교하는 것\n",
    "\n",
    "* $\\mathbb P(Y = 1 | X = x) > \\text{threshold}  \\Rightarrow \\hat Y =1 $\n",
    "\n",
    "* FPR이 낮을수록, TPR이 높을수록 좋다.\n",
    "\n",
    "(통계학적 용어로는 제1종 오류율과 검정력의 비교)\n",
    "\n",
    "모형마다 ROC가 다르며, ROC 아래의 면적 (AUC)이 클 수록 좋은 분류기라고 할 수 있다.\n",
    "\n",
    "한편, 아래 ROC 곡선에서 FPR은 낮으면서, 재현율은 높은 지점에 해당하는 적절한 threshold를 선택하는 것이 중요할 것이다."
   ]
  },
  {
   "cell_type": "markdown",
   "metadata": {},
   "source": [
    "<img src=\"data:image/png;base64,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\" width=\"400\" alt=\"\" />"
   ]
  },
  {
   "cell_type": "code",
   "execution_count": 62,
   "metadata": {},
   "outputs": [
    {
     "name": "stdout",
     "output_type": "stream",
     "text": [
      "[0 1 0 2 0 1 1 1 0 2 1 1 2 0 1 1 2 0 0 2 1 0 0 2 0 1 1 2 0 1 1 0 2 1 2 1 1\n",
      " 0 2 2 1 0 0 1 2]\n"
     ]
    }
   ],
   "source": [
    "pred_by_LDA = lda.predict(X_te)\n",
    "print(pred_by_LDA)"
   ]
  },
  {
   "cell_type": "code",
   "execution_count": 63,
   "metadata": {},
   "outputs": [
    {
     "name": "stdout",
     "output_type": "stream",
     "text": [
      "[0 1 1 2 2 1 2 1 0 1 2 1 1 0 1 1 2 0 0 0 1 0 1 2 0 1 1 2 2 1 1 0 2 1 1 1 1\n",
      " 0 0 2 1 0 0 1 2]\n"
     ]
    }
   ],
   "source": [
    "print(y_te)"
   ]
  },
  {
   "cell_type": "markdown",
   "metadata": {},
   "source": [
    "[classification_report](https://scikit-learn.org/stable/modules/generated/sklearn.metrics.classification_report.html)\n",
    "\n",
    "$$ F_1 = 2 \\frac{precision \\times recall}{precision + recall} = \\frac{TP}{ TP + 0.5 (FP + FN) }$$"
   ]
  },
  {
   "cell_type": "code",
   "execution_count": 64,
   "metadata": {},
   "outputs": [
    {
     "name": "stdout",
     "output_type": "stream",
     "text": [
      "              precision    recall  f1-score   support\n",
      "\n",
      "           0       0.73      0.85      0.79        13\n",
      "           1       0.89      0.76      0.82        21\n",
      "           2       0.58      0.64      0.61        11\n",
      "\n",
      "    accuracy                           0.76        45\n",
      "   macro avg       0.74      0.75      0.74        45\n",
      "weighted avg       0.77      0.76      0.76        45\n",
      "\n"
     ]
    }
   ],
   "source": [
    "from sklearn.metrics import classification_report\n",
    "class_report = classification_report(y_te, pred_by_LDA)\n",
    "print(class_report)"
   ]
  },
  {
   "cell_type": "code",
   "execution_count": 65,
   "metadata": {},
   "outputs": [
    {
     "data": {
      "text/plain": [
       "0.7333333333333333"
      ]
     },
     "execution_count": 65,
     "metadata": {},
     "output_type": "execute_result"
    }
   ],
   "source": [
    "# precision for 0 class\n",
    "sum((y_te==0) & (pred_by_LDA==0)) / sum(pred_by_LDA==0)"
   ]
  },
  {
   "cell_type": "code",
   "execution_count": 66,
   "metadata": {},
   "outputs": [
    {
     "data": {
      "text/plain": [
       "0.8888888888888888"
      ]
     },
     "execution_count": 66,
     "metadata": {},
     "output_type": "execute_result"
    }
   ],
   "source": [
    "# precision for 1 class\n",
    "sum((y_te==1) & (pred_by_LDA==1)) / sum(pred_by_LDA==1)"
   ]
  },
  {
   "cell_type": "code",
   "execution_count": 67,
   "metadata": {},
   "outputs": [
    {
     "data": {
      "text/plain": [
       "0.5833333333333334"
      ]
     },
     "execution_count": 67,
     "metadata": {},
     "output_type": "execute_result"
    }
   ],
   "source": [
    "# precision for 2 class\n",
    "sum((y_te==2) & (pred_by_LDA==2)) / sum(pred_by_LDA==2)"
   ]
  },
  {
   "cell_type": "code",
   "execution_count": 68,
   "metadata": {},
   "outputs": [
    {
     "data": {
      "text/plain": [
       "0.8461538461538461"
      ]
     },
     "execution_count": 68,
     "metadata": {},
     "output_type": "execute_result"
    }
   ],
   "source": [
    "# recall for 0 class\n",
    "sum((y_te==0) & (pred_by_LDA==0)) / sum(y_te==0)"
   ]
  },
  {
   "cell_type": "code",
   "execution_count": 69,
   "metadata": {},
   "outputs": [
    {
     "data": {
      "text/plain": [
       "0.7619047619047619"
      ]
     },
     "execution_count": 69,
     "metadata": {},
     "output_type": "execute_result"
    }
   ],
   "source": [
    "# recall for 1 class\n",
    "sum((y_te==1) & (pred_by_LDA==1)) / sum(y_te==1)"
   ]
  },
  {
   "cell_type": "code",
   "execution_count": 70,
   "metadata": {},
   "outputs": [
    {
     "data": {
      "text/plain": [
       "0.6363636363636364"
      ]
     },
     "execution_count": 70,
     "metadata": {},
     "output_type": "execute_result"
    }
   ],
   "source": [
    "# recall for 1 class\n",
    "sum((y_te==2) & (pred_by_LDA==2)) / sum(y_te==2)"
   ]
  },
  {
   "cell_type": "code",
   "execution_count": 71,
   "metadata": {},
   "outputs": [
    {
     "data": {
      "text/plain": [
       "0.7555555555555555"
      ]
     },
     "execution_count": 71,
     "metadata": {},
     "output_type": "execute_result"
    }
   ],
   "source": [
    "# accuracy\n",
    "(sum((y_te==0) & (pred_by_LDA==0)) + sum((y_te==1) & (pred_by_LDA==1)) + sum((y_te==2) & (pred_by_LDA==2))) / len(y_te)"
   ]
  },
  {
   "cell_type": "markdown",
   "metadata": {},
   "source": [
    "## 다른 형태의 discriminant analysis\n",
    "\n",
    "* $f_k(x)$가 Gaussian이며 $\\Sigma_{k}$가 각 클래스 별로 다를 경우, quadratic discriminant analysis라고 한다.\n",
    "\n",
    "* $f_k(x) = \\prod_{j=1}^{p} f_{jk}(x_j)$, 즉, $x$들이 조건부 독립일 때, 이를 naive Bayes라고 한다.\n",
    "\n",
    "* 그 외에, $f_k$를 어떻게 정의하느냐에 따라 다양한 discriminant analysis form이 존재할 수 있다."
   ]
  },
  {
   "cell_type": "markdown",
   "metadata": {},
   "source": [
    "### Quadratic discriminant analysis\n",
    "\n",
    "$$ \\delta_k(x) = -\\frac{1}{2} (x - \\mu_k)^{\\top} \\Sigma_{k}^{-1} (x - \\mu_k) - \\frac{1}{2}\\log |\\Sigma_k| + \\log \\pi_k $$\n",
    "\n",
    "$k$에 따라 $\\Sigma_{k}$가 다르기 때문에, quadratic 형태의 라인이 경계선으로 나타난다."
   ]
  },
  {
   "cell_type": "markdown",
   "metadata": {},
   "source": [
    "<img src=\"data:image/png;base64,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\" width=\"700\" alt=\"\" />"
   ]
  },
  {
   "cell_type": "markdown",
   "metadata": {},
   "source": [
    "```sklearn.discriminant_analysis.QuadraticDiscriminantAnalysis```를 이용하여 quadratic discriminant analysis를 진행해 보자."
   ]
  },
  {
   "cell_type": "code",
   "execution_count": 72,
   "metadata": {},
   "outputs": [],
   "source": [
    "from sklearn.discriminant_analysis import QuadraticDiscriminantAnalysis\n",
    "qda = QuadraticDiscriminantAnalysis()\n",
    "\n",
    "qda.fit(X_tn, y_tn)\n",
    "\n",
    "clss = qda.predict(np.c_[xx1.ravel(), xx2.ravel()]).reshape(xx1.shape)"
   ]
  },
  {
   "cell_type": "code",
   "execution_count": 73,
   "metadata": {},
   "outputs": [
    {
     "data": {
      "image/png": "[encoded data removed]",
      "text/plain": [
       "<Figure size 576x432 with 1 Axes>"
      ]
     },
     "metadata": {
      "needs_background": "light"
     },
     "output_type": "display_data"
    }
   ],
   "source": [
    "plt.figure(figsize=(8,6))\n",
    "\n",
    "plt.pcolormesh(xx1, xx2, clss, cmap=\"Pastel1\")  #Create a pseudocolor plot with a non-regular rectangular grid.\n",
    "\n",
    "df = pd.DataFrame(X_tn, columns = raw_wine[\"feature_names\"][:2])\n",
    "df['target'] = y_tn\n",
    "markers = ['o', 's', '^']\n",
    "colors = [\"red\", \"orange\", \"grey\"]\n",
    "\n",
    "for i, mark in enumerate(markers):\n",
    "    X_i = df[df['target'] == i]\n",
    "    class_i = raw_wine.target_names[i]\n",
    "    plt.scatter(X_i[[\"alcohol\"]], X_i[[\"malic_acid\"]], marker = mark, label = class_i, color = colors[i])\n",
    "    \n",
    "plt.xlabel(\"Alcohol\")\n",
    "plt.ylabel(\"Malic Acid\")\n",
    "    \n",
    "    \n",
    "plt.legend()    \n",
    "plt.show()"
   ]
  },
  {
   "cell_type": "code",
   "execution_count": 74,
   "metadata": {},
   "outputs": [
    {
     "data": {
      "image/png": "[encoded data removed]",
      "text/plain": [
       "<Figure size 576x432 with 1 Axes>"
      ]
     },
     "metadata": {
      "needs_background": "light"
     },
     "output_type": "display_data"
    }
   ],
   "source": [
    "plt.figure(figsize=(8,6))\n",
    "\n",
    "plt.pcolormesh(xx1, xx2, clss, cmap=\"Pastel1\")  #Create a pseudocolor plot with a non-regular rectangular grid.\n",
    "\n",
    "df = pd.DataFrame(X_te, columns = raw_wine[\"feature_names\"][:2])\n",
    "df['target'] = y_te\n",
    "markers = ['o', 's', '^']\n",
    "colors = [\"red\", \"orange\", \"grey\"]\n",
    "\n",
    "for i, mark in enumerate(markers):\n",
    "    X_i = df[df['target'] == i]\n",
    "    class_i = raw_wine.target_names[i]\n",
    "    plt.scatter(X_i[[\"alcohol\"]], X_i[[\"malic_acid\"]], marker = mark, label = class_i, color = colors[i])\n",
    "    \n",
    "plt.xlabel(\"Alcohol\")\n",
    "plt.ylabel(\"Malic Acid\")\n",
    "    \n",
    "    \n",
    "plt.legend()    \n",
    "plt.show()"
   ]
  },
  {
   "cell_type": "code",
   "execution_count": 75,
   "metadata": {},
   "outputs": [
    {
     "name": "stdout",
     "output_type": "stream",
     "text": [
      "              precision    recall  f1-score   support\n",
      "\n",
      "           0       0.73      0.85      0.79        13\n",
      "           1       0.89      0.76      0.82        21\n",
      "           2       0.58      0.64      0.61        11\n",
      "\n",
      "    accuracy                           0.76        45\n",
      "   macro avg       0.74      0.75      0.74        45\n",
      "weighted avg       0.77      0.76      0.76        45\n",
      "\n"
     ]
    }
   ],
   "source": [
    "class_report = classification_report(y_te, qda.predict(X_te))\n",
    "print(class_report)"
   ]
  },
  {
   "cell_type": "markdown",
   "metadata": {},
   "source": [
    "### Naive Bayes\n",
    "\n",
    "$X$들이 모두 독립이라고 가정한 경우를 Naive Bayes라고 부른다.\n",
    "\n",
    "$p$가 클 경우 유용하다.\n",
    "\n",
    "Gaussian naive Bayes에서는 $\\Sigma_k$가 대각 행렬이 된다. 따라서\n",
    "\n",
    "$$ \\delta_k(x) \\propto \\log \\left[ \\pi_k \\prod_{j=1}^{p} f_{kj}(x_j) \\right] = -\\frac{1}{2} \\sum_{j=1}^{p} \\frac{(x_j - \\mu_{kj})^2}{\\sigma_{kj}^2} + \\log \\pi_k $$\n",
    "\n",
    "이 방법은 $x$가 질적 변수, 양적 변수가 섞여 있을 때에도 적용할 수 있다.\n",
    "\n",
    "만약 $X_j$가 질적 변수라면, $f_{kj}(x_j)$ 대신 prabability mass function을 적용한다.\n",
    "\n",
    "Naive Bayes는 강한 조건을 가정하지만, 비교적 좋은 분류 결과를 얻는 경향이 있다고 한다."
   ]
  },
  {
   "cell_type": "code",
   "execution_count": 76,
   "metadata": {},
   "outputs": [
    {
     "data": {
      "text/html": [
       "<style>#sk-container-id-8 {color: black;background-color: white;}#sk-container-id-8 pre{padding: 0;}#sk-container-id-8 div.sk-toggleable {background-color: white;}#sk-container-id-8 label.sk-toggleable__label {cursor: pointer;display: block;width: 100%;margin-bottom: 0;padding: 0.3em;box-sizing: border-box;text-align: center;}#sk-container-id-8 label.sk-toggleable__label-arrow:before {content: \"▸\";float: left;margin-right: 0.25em;color: #696969;}#sk-container-id-8 label.sk-toggleable__label-arrow:hover:before {color: black;}#sk-container-id-8 div.sk-estimator:hover label.sk-toggleable__label-arrow:before {color: black;}#sk-container-id-8 div.sk-toggleable__content {max-height: 0;max-width: 0;overflow: hidden;text-align: left;background-color: #f0f8ff;}#sk-container-id-8 div.sk-toggleable__content pre {margin: 0.2em;color: black;border-radius: 0.25em;background-color: #f0f8ff;}#sk-container-id-8 input.sk-toggleable__control:checked~div.sk-toggleable__content {max-height: 200px;max-width: 100%;overflow: auto;}#sk-container-id-8 input.sk-toggleable__control:checked~label.sk-toggleable__label-arrow:before {content: \"▾\";}#sk-container-id-8 div.sk-estimator input.sk-toggleable__control:checked~label.sk-toggleable__label {background-color: #d4ebff;}#sk-container-id-8 div.sk-label input.sk-toggleable__control:checked~label.sk-toggleable__label {background-color: #d4ebff;}#sk-container-id-8 input.sk-hidden--visually {border: 0;clip: rect(1px 1px 1px 1px);clip: rect(1px, 1px, 1px, 1px);height: 1px;margin: -1px;overflow: hidden;padding: 0;position: absolute;width: 1px;}#sk-container-id-8 div.sk-estimator {font-family: monospace;background-color: #f0f8ff;border: 1px dotted black;border-radius: 0.25em;box-sizing: border-box;margin-bottom: 0.5em;}#sk-container-id-8 div.sk-estimator:hover {background-color: #d4ebff;}#sk-container-id-8 div.sk-parallel-item::after {content: \"\";width: 100%;border-bottom: 1px solid gray;flex-grow: 1;}#sk-container-id-8 div.sk-label:hover label.sk-toggleable__label {background-color: #d4ebff;}#sk-container-id-8 div.sk-serial::before {content: \"\";position: absolute;border-left: 1px solid gray;box-sizing: border-box;top: 0;bottom: 0;left: 50%;z-index: 0;}#sk-container-id-8 div.sk-serial {display: flex;flex-direction: column;align-items: center;background-color: white;padding-right: 0.2em;padding-left: 0.2em;position: relative;}#sk-container-id-8 div.sk-item {position: relative;z-index: 1;}#sk-container-id-8 div.sk-parallel {display: flex;align-items: stretch;justify-content: center;background-color: white;position: relative;}#sk-container-id-8 div.sk-item::before, #sk-container-id-8 div.sk-parallel-item::before {content: \"\";position: absolute;border-left: 1px solid gray;box-sizing: border-box;top: 0;bottom: 0;left: 50%;z-index: -1;}#sk-container-id-8 div.sk-parallel-item {display: flex;flex-direction: column;z-index: 1;position: relative;background-color: white;}#sk-container-id-8 div.sk-parallel-item:first-child::after {align-self: flex-end;width: 50%;}#sk-container-id-8 div.sk-parallel-item:last-child::after {align-self: flex-start;width: 50%;}#sk-container-id-8 div.sk-parallel-item:only-child::after {width: 0;}#sk-container-id-8 div.sk-dashed-wrapped {border: 1px dashed gray;margin: 0 0.4em 0.5em 0.4em;box-sizing: border-box;padding-bottom: 0.4em;background-color: white;}#sk-container-id-8 div.sk-label label {font-family: monospace;font-weight: bold;display: inline-block;line-height: 1.2em;}#sk-container-id-8 div.sk-label-container {text-align: center;}#sk-container-id-8 div.sk-container {/* jupyter's `normalize.less` sets `[hidden] { display: none; }` but bootstrap.min.css set `[hidden] { display: none !important; }` so we also need the `!important` here to be able to override the default hidden behavior on the sphinx rendered scikit-learn.org. See: https://github.com/scikit-learn/scikit-learn/issues/21755 */display: inline-block !important;position: relative;}#sk-container-id-8 div.sk-text-repr-fallback {display: none;}</style><div id=\"sk-container-id-8\" class=\"sk-top-container\"><div class=\"sk-text-repr-fallback\"><pre>GaussianNB()</pre><b>In a Jupyter environment, please rerun this cell to show the HTML representation or trust the notebook. <br />On GitHub, the HTML representation is unable to render, please try loading this page with nbviewer.org.</b></div><div class=\"sk-container\" hidden><div class=\"sk-item\"><div class=\"sk-estimator sk-toggleable\"><input class=\"sk-toggleable__control sk-hidden--visually\" id=\"sk-estimator-id-8\" type=\"checkbox\" checked><label for=\"sk-estimator-id-8\" class=\"sk-toggleable__label sk-toggleable__label-arrow\">GaussianNB</label><div class=\"sk-toggleable__content\"><pre>GaussianNB()</pre></div></div></div></div></div>"
      ],
      "text/plain": [
       "GaussianNB()"
      ]
     },
     "execution_count": 76,
     "metadata": {},
     "output_type": "execute_result"
    }
   ],
   "source": [
    "from sklearn.naive_bayes import GaussianNB\n",
    "gnb = GaussianNB()\n",
    "gnb.fit(X_tn, y_tn)"
   ]
  },
  {
   "cell_type": "code",
   "execution_count": 77,
   "metadata": {},
   "outputs": [
    {
     "name": "stdout",
     "output_type": "stream",
     "text": [
      "[0 1 0 2 0 1 1 1 0 2 1 1 2 0 1 1 2 0 0 2 1 0 0 2 0 1 1 2 0 1 1 0 2 1 2 1 1\n",
      " 0 2 2 1 0 0 1 2]\n"
     ]
    }
   ],
   "source": [
    "pred_by_gnb = gnb.predict(X_te)\n",
    "print(pred_by_gnb)"
   ]
  },
  {
   "cell_type": "code",
   "execution_count": 78,
   "metadata": {},
   "outputs": [
    {
     "name": "stdout",
     "output_type": "stream",
     "text": [
      "              precision    recall  f1-score   support\n",
      "\n",
      "           0       0.73      0.85      0.79        13\n",
      "           1       0.89      0.76      0.82        21\n",
      "           2       0.58      0.64      0.61        11\n",
      "\n",
      "    accuracy                           0.76        45\n",
      "   macro avg       0.74      0.75      0.74        45\n",
      "weighted avg       0.77      0.76      0.76        45\n",
      "\n"
     ]
    }
   ],
   "source": [
    "class_report_gnb = classification_report(y_te, pred_by_gnb)\n",
    "print(class_report_gnb)"
   ]
  },
  {
   "cell_type": "code",
   "execution_count": 79,
   "metadata": {},
   "outputs": [
    {
     "data": {
      "image/png": "[encoded data removed]",
      "text/plain": [
       "<Figure size 576x432 with 1 Axes>"
      ]
     },
     "metadata": {
      "needs_background": "light"
     },
     "output_type": "display_data"
    }
   ],
   "source": [
    "Z = gnb.predict_proba(np.c_[xx1.ravel(), xx2.ravel()])   \n",
    "\n",
    "clss = gnb.predict(np.c_[xx1.ravel(), xx2.ravel()]).reshape(xx1.shape)\n",
    "\n",
    "\n",
    "plt.figure(figsize=(8,6))\n",
    "\n",
    "plt.pcolormesh(xx1, xx2, clss, cmap=\"Pastel1\")  \n",
    "\n",
    "df = pd.DataFrame(X_tn, columns = raw_wine[\"feature_names\"][:2])\n",
    "df['target'] = y_tn\n",
    "markers = ['o', 's', '^']\n",
    "colors = [\"red\", \"orange\", \"grey\"]\n",
    "\n",
    "\n",
    "for i, mark in enumerate(markers):\n",
    "    X_i = df[df['target'] == i]\n",
    "    class_i = raw_wine.target_names[i]\n",
    "    plt.scatter(X_i[[\"alcohol\"]], X_i[[\"malic_acid\"]], marker = mark, label = class_i, color = colors[i])\n",
    "\n",
    "plt.xlabel(\"Alcohol\")\n",
    "plt.ylabel(\"Malic Acid\")\n",
    "    \n",
    "plt.legend()    \n",
    "plt.show()"
   ]
  }
 ],
 "metadata": {
  "kernelspec": {
   "display_name": "Python 3 (ipykernel)",
   "language": "python",
   "name": "python3"
  },
  "language_info": {
   "codemirror_mode": {
    "name": "ipython",
    "version": 3
   },
   "file_extension": ".py",
   "mimetype": "text/x-python",
   "name": "python",
   "nbconvert_exporter": "python",
   "pygments_lexer": "ipython3",
   "version": "3.9.13"
  }
 },
 "nbformat": 4,
 "nbformat_minor": 4
}

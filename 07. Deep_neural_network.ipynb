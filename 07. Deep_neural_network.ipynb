{
 "cells": [
  {
   "cell_type": "markdown",
   "metadata": {},
   "source": [
    "# 심층 신경망 훈련하기\n",
    "\n",
    "심층 신경망 훈련 도중 다음과 같은 상황을 마주할 수 있다.\n",
    "\n",
    "* 까다로운 그레디언트 소실 또는 그레디언트 폭주 문제에 직면할 수 있음. 심층 신경망 아래쪽으로 갈수록 그레디언트가 점점 작아지거나 커지는 현상\n",
    "\n",
    "* 대규모 신경망을 훈련하기 위한 데이터가 충분치 않거나 레이블을 만드는데 비용이 많이 듬\n",
    "\n",
    "* 훈련이 극단적으로 느려짐\n",
    "\n",
    "* 수백만개의 파라미터를 가진 모델은 과적합될 수 있음"
   ]
  },
  {
   "cell_type": "markdown",
   "metadata": {},
   "source": [
    "## 그레디언트 소실, 폭주 문제\n",
    "\n",
    "역전파 알고리즘이 하위층으로 진행될수록 그레디언트가 작아지거나 커지는 현상은 훈련을 어렵게 한다.\n",
    "\n",
    "의심되는 원인으로서 많이 사용되는 로지스틱 시그모이드 활성화 함수와, 표준정규분포 가중치 초기화 방법이 거론된다.\n",
    "\n",
    "로지스틱 함수는 입력이 양수나 음수로 커지면 기울기가 0에 매우 가까워진다.\n",
    "\n",
    "역전파가 될 때, 전달될 그레디언트가 거의 없고, 조금 있는 그레디언트는 최상위층으로부터 진행되며 점점 약해진다."
   ]
  },
  {
   "cell_type": "markdown",
   "metadata": {},
   "source": [
    "### 가중치 초기화 방법\n",
    "\n",
    "로지스틱 함수를 이용할 때, 각 층의 연결 가중치를 아래의 식대로 무작위로 초기화하면 그레디언트 문제를 완화할 수 있다.\n",
    "\n",
    "이를 Xavier initialization라고 한다.\n",
    "\n",
    "$$ \\text{Normal distribution with mean 0 and sd } \\sigma = \\sqrt{\\frac{1}{\\text{fan}_{\\mathrm{avg}}}} $$\n",
    "$$ \\text{ or a uniform distribution between } -r \\text{ and } r, \\text{ with } r = \\sqrt{\\frac{3}{\\text{fan}_{\\mathrm{avg}}}} $$\n",
    "\n",
    "여기서 $\\text{fan}_{\\mathrm{avg}}$은 층의 입력과 출력의 연결 개수인 $\\text{fan}_{\\mathrm{in}}$과 $\\text{fan}_{\\mathrm{out}}$의 평균이다.\n",
    "\n",
    "그 외에 다음과 같은 초기화 전략들이 있다.\n",
    "\n",
    "  \n",
    "| 초기화 전략 | 활성화 함수 | 정규분포 분산 |\n",
    "|--|--|--|\n",
    "| Glorot | 활성화 함수 없음, 하이퍼볼릭 탄젠트, 로지스틱, 소프트맥스 | $1/\\text{fan}_{\\mathrm{avg}}$ |\n",
    "| He | ReLu 함수와 그 변종들 | $2 / \\text{fan}_{\\mathrm{in}}$ |\n",
    "| LuCun | SELU | $1/\\text{fan}_{\\mathrm{in}}$ |\n",
    "\n",
    "케라스는 기본적으로 균등분포의 글로럿 초기화를 사용한다. \n",
    "\n",
    "다음과 같이 층을 만들 때, ```kernerl_initializer=\"he_uniform\"```로 바꾸어 쓸 수 있다. \n",
    "\n",
    "``` keras.layer.Dense(10, activation=\"relu\", kernel_initializer=\"he_normal\")```\n"
   ]
  },
  {
   "cell_type": "markdown",
   "metadata": {},
   "source": [
    "### 활성화 함수 문제\n",
    "\n",
    "활성화 함수를 잘못 선택하면 그레디언트 소실이나 폭주로 이어질 수 있다.\n",
    "\n",
    "초기에는 생물학적 뉴런과 비슷한 시그모이드 함수가 잘 작동할 것이라고 생각되었지만, ReLu 같은 활성화 함수가 심층 신경망에서 더 잘 작동하는 경향이 있다.\n",
    "\n",
    "하지만 ReLu도 완벽하지 않고, 죽은 ReLu 문제가 알려져 있다.\n",
    "\n",
    "훈련 중 일부 뉴런이 0만 출력하는 현상이다.\n",
    "\n",
    "이 문제를 해결하기 위해 LeakyReLu, ELU, SELU 같은 변종을 사용한다.\n",
    "\n",
    "$$ \\mathrm{LeakyReLu}_{\\alpha}(z) = \\max(\\alpha z, z) $$\n",
    "\n",
    "$$ \\mathrm{ELU}_{\\alpha}(z) = \n",
    "\\left\\{ \\begin{array}{ll} \\alpha (\\exp(z) - 1) & z < 0 \\\\\n",
    "z & z \\geq 0 \\end{array} \\right.\n",
    "$$\n",
    "\n",
    "케라스에서 LeakyReLu를 사용하려면 다음과 같이 코드를 작성한다.\n",
    "\n",
    "```\n",
    "model = keras.models.Sequential([\n",
    "  [...]\n",
    "  keras.layers.Dense(10, kernel_initializer=\"he_normal\"),\n",
    "  keras.layers.LeakyReLU(alpha=0.2)\n",
    "  [...]\n",
    "])\n",
    "```\n",
    "\n",
    "SELU 함수를 사용하려면 다음과 같이 코드를 작성한다.\n",
    "\n",
    "``` lyaer = keras.layers.Dense(10, activation=\"selu\", kernel_initializer=\"lecun_normal\") ```"
   ]
  },
  {
   "cell_type": "code",
   "execution_count": 1,
   "metadata": {},
   "outputs": [],
   "source": [
    "import tensorflow as tf\n",
    "from tensorflow import keras\n",
    "import numpy as np"
   ]
  },
  {
   "cell_type": "code",
   "execution_count": 2,
   "metadata": {},
   "outputs": [],
   "source": [
    "(X_train_full, y_train_full), (X_test, y_test) = keras.datasets.fashion_mnist.load_data()\n",
    "X_train_full = X_train_full / 255.0\n",
    "X_test = X_test / 255.0\n",
    "X_valid, X_train = X_train_full[:5000], X_train_full[5000:]\n",
    "y_valid, y_train = y_train_full[:5000], y_train_full[5000:]"
   ]
  },
  {
   "cell_type": "code",
   "execution_count": 3,
   "metadata": {},
   "outputs": [],
   "source": [
    "model = keras.models.Sequential([\n",
    "    keras.layers.Flatten(input_shape=[28, 28]),\n",
    "    keras.layers.Dense(300, kernel_initializer=\"he_normal\"),\n",
    "    keras.layers.LeakyReLU(),\n",
    "    keras.layers.Dense(100, kernel_initializer=\"he_normal\"),\n",
    "    keras.layers.LeakyReLU(),\n",
    "    keras.layers.Dense(10, activation=\"softmax\")\n",
    "])"
   ]
  },
  {
   "cell_type": "code",
   "execution_count": 4,
   "metadata": {},
   "outputs": [],
   "source": [
    "model.compile(loss=\"sparse_categorical_crossentropy\",\n",
    "              optimizer=keras.optimizers.SGD(learning_rate=1e-3),\n",
    "              metrics=[\"accuracy\"])"
   ]
  },
  {
   "cell_type": "code",
   "execution_count": 5,
   "metadata": {},
   "outputs": [
    {
     "name": "stdout",
     "output_type": "stream",
     "text": [
      "Epoch 1/10\n",
      "1719/1719 [==============================] - 2s 1ms/step - loss: 1.2723 - accuracy: 0.5989 - val_loss: 0.8806 - val_accuracy: 0.7072\n",
      "Epoch 2/10\n",
      "1719/1719 [==============================] - 2s 1ms/step - loss: 0.7917 - accuracy: 0.7319 - val_loss: 0.7127 - val_accuracy: 0.7700\n",
      "Epoch 3/10\n",
      "1719/1719 [==============================] - 2s 1ms/step - loss: 0.6792 - accuracy: 0.7760 - val_loss: 0.6374 - val_accuracy: 0.7916\n",
      "Epoch 4/10\n",
      "1719/1719 [==============================] - 2s 1ms/step - loss: 0.6191 - accuracy: 0.7969 - val_loss: 0.5902 - val_accuracy: 0.8060\n",
      "Epoch 5/10\n",
      "1719/1719 [==============================] - 2s 1ms/step - loss: 0.5800 - accuracy: 0.8076 - val_loss: 0.5620 - val_accuracy: 0.8152\n",
      "Epoch 6/10\n",
      "1719/1719 [==============================] - 2s 1ms/step - loss: 0.5522 - accuracy: 0.8162 - val_loss: 0.5348 - val_accuracy: 0.8250\n",
      "Epoch 7/10\n",
      "1719/1719 [==============================] - 2s 1ms/step - loss: 0.5313 - accuracy: 0.8217 - val_loss: 0.5186 - val_accuracy: 0.8308\n",
      "Epoch 8/10\n",
      "1719/1719 [==============================] - 2s 1ms/step - loss: 0.5153 - accuracy: 0.8254 - val_loss: 0.5025 - val_accuracy: 0.8338\n",
      "Epoch 9/10\n",
      "1719/1719 [==============================] - 2s 1ms/step - loss: 0.5019 - accuracy: 0.8294 - val_loss: 0.4944 - val_accuracy: 0.8340\n",
      "Epoch 10/10\n",
      "1719/1719 [==============================] - 2s 1ms/step - loss: 0.4908 - accuracy: 0.8328 - val_loss: 0.4809 - val_accuracy: 0.8364\n"
     ]
    }
   ],
   "source": [
    "history = model.fit(X_train, y_train, epochs=10,\n",
    "                    validation_data=(X_valid, y_valid))"
   ]
  },
  {
   "cell_type": "code",
   "execution_count": 6,
   "metadata": {},
   "outputs": [],
   "source": [
    "model = keras.models.Sequential([\n",
    "    keras.layers.Flatten(input_shape=[28, 28]),\n",
    "    keras.layers.Dense(300, kernel_initializer=\"he_normal\"),\n",
    "    keras.layers.PReLU(),\n",
    "    keras.layers.Dense(100, kernel_initializer=\"he_normal\"),\n",
    "    keras.layers.PReLU(),\n",
    "    keras.layers.Dense(10, activation=\"softmax\")\n",
    "])"
   ]
  },
  {
   "cell_type": "code",
   "execution_count": 7,
   "metadata": {},
   "outputs": [],
   "source": [
    "model.compile(loss=\"sparse_categorical_crossentropy\",\n",
    "              optimizer=keras.optimizers.SGD(learning_rate=1e-3),\n",
    "              metrics=[\"accuracy\"])"
   ]
  },
  {
   "cell_type": "code",
   "execution_count": 8,
   "metadata": {},
   "outputs": [
    {
     "name": "stdout",
     "output_type": "stream",
     "text": [
      "Epoch 1/10\n",
      "1719/1719 [==============================] - 3s 1ms/step - loss: 1.3401 - accuracy: 0.6111 - val_loss: 0.9042 - val_accuracy: 0.7158\n",
      "Epoch 2/10\n",
      "1719/1719 [==============================] - 2s 1ms/step - loss: 0.8066 - accuracy: 0.7439 - val_loss: 0.7262 - val_accuracy: 0.7722\n",
      "Epoch 3/10\n",
      "1719/1719 [==============================] - 2s 1ms/step - loss: 0.6926 - accuracy: 0.7769 - val_loss: 0.6500 - val_accuracy: 0.7954\n",
      "Epoch 4/10\n",
      "1719/1719 [==============================] - 2s 1ms/step - loss: 0.6327 - accuracy: 0.7946 - val_loss: 0.6036 - val_accuracy: 0.8078\n",
      "Epoch 5/10\n",
      "1719/1719 [==============================] - 2s 1ms/step - loss: 0.5924 - accuracy: 0.8051 - val_loss: 0.5732 - val_accuracy: 0.8164\n",
      "Epoch 6/10\n",
      "1719/1719 [==============================] - 2s 1ms/step - loss: 0.5632 - accuracy: 0.8126 - val_loss: 0.5480 - val_accuracy: 0.8210\n",
      "Epoch 7/10\n",
      "1719/1719 [==============================] - 2s 1ms/step - loss: 0.5412 - accuracy: 0.8174 - val_loss: 0.5278 - val_accuracy: 0.8276\n",
      "Epoch 8/10\n",
      "1719/1719 [==============================] - 2s 1ms/step - loss: 0.5239 - accuracy: 0.8225 - val_loss: 0.5147 - val_accuracy: 0.8308\n",
      "Epoch 9/10\n",
      "1719/1719 [==============================] - 2s 1ms/step - loss: 0.5098 - accuracy: 0.8265 - val_loss: 0.5014 - val_accuracy: 0.8354\n",
      "Epoch 10/10\n",
      "1719/1719 [==============================] - 2s 1ms/step - loss: 0.4979 - accuracy: 0.8298 - val_loss: 0.4880 - val_accuracy: 0.8384\n"
     ]
    }
   ],
   "source": [
    "history = model.fit(X_train, y_train, epochs=10,\n",
    "                    validation_data=(X_valid, y_valid))"
   ]
  },
  {
   "cell_type": "markdown",
   "metadata": {},
   "source": [
    "### 배치 정규화\n",
    "\n",
    "각 층에서 활성화 함수를 통과하기 전이나 후에 정규화 연산을 추가한다.\n",
    "\n",
    "이 연산은 단순히 입력을 원점에 맞추어 정규화한 다음, 각 층에서 두 개의 새로운 파라미터로 결과값을 스케일링하고 이동시킨다.\n",
    "\n",
    "미니배치별 배치정규화층에 사용될 입력값의 표본평균과 표본표준편차를 계산한다.\n",
    "\n",
    "평균과 표준편차를 이용하여 입력값을 정규화한다. \n",
    "\n",
    "배치정규화층에는 스케일 파라미터 $\\mathbf{\\gamma}$와 오프셋 파라미터 $\\mathbf{\\beta}$가 있어 이를 이용해 배치 정규화 출력값을 계산한다.\n",
    "\n",
    "$$ \\mathbf{\\gamma} \\circ \\mathbf{\\hat x} + \\mathbf{\\beta} $$\n",
    "\n",
    "배치정규화는 신경망의 성능을 크게 향상시킨다고 알려져 있다.\n",
    "\n",
    "케라스에서는 다음의 코드로 배치 정규화를 구현한다."
   ]
  },
  {
   "cell_type": "code",
   "execution_count": 9,
   "metadata": {},
   "outputs": [],
   "source": [
    "model = keras.models.Sequential([\n",
    "    keras.layers.Flatten(input_shape=[28, 28]),\n",
    "    keras.layers.BatchNormalization(),\n",
    "    keras.layers.Dense(300, activation=\"relu\"),\n",
    "    keras.layers.BatchNormalization(),\n",
    "    keras.layers.Dense(100, activation=\"relu\"),\n",
    "    keras.layers.BatchNormalization(),\n",
    "    keras.layers.Dense(10, activation=\"softmax\")\n",
    "])"
   ]
  },
  {
   "cell_type": "code",
   "execution_count": 10,
   "metadata": {},
   "outputs": [
    {
     "name": "stdout",
     "output_type": "stream",
     "text": [
      "Model: \"sequential_2\"\n",
      "_________________________________________________________________\n",
      " Layer (type)                Output Shape              Param #   \n",
      "=================================================================\n",
      " flatten_2 (Flatten)         (None, 784)               0         \n",
      "                                                                 \n",
      " batch_normalization (BatchN  (None, 784)              3136      \n",
      " ormalization)                                                   \n",
      "                                                                 \n",
      " dense_6 (Dense)             (None, 300)               235500    \n",
      "                                                                 \n",
      " batch_normalization_1 (Batc  (None, 300)              1200      \n",
      " hNormalization)                                                 \n",
      "                                                                 \n",
      " dense_7 (Dense)             (None, 100)               30100     \n",
      "                                                                 \n",
      " batch_normalization_2 (Batc  (None, 100)              400       \n",
      " hNormalization)                                                 \n",
      "                                                                 \n",
      " dense_8 (Dense)             (None, 10)                1010      \n",
      "                                                                 \n",
      "=================================================================\n",
      "Total params: 271,346\n",
      "Trainable params: 268,978\n",
      "Non-trainable params: 2,368\n",
      "_________________________________________________________________\n"
     ]
    }
   ],
   "source": [
    "model.summary()"
   ]
  },
  {
   "cell_type": "code",
   "execution_count": 11,
   "metadata": {},
   "outputs": [
    {
     "data": {
      "text/plain": [
       "[('batch_normalization/gamma:0', True),\n",
       " ('batch_normalization/beta:0', True),\n",
       " ('batch_normalization/moving_mean:0', False),\n",
       " ('batch_normalization/moving_variance:0', False)]"
      ]
     },
     "execution_count": 11,
     "metadata": {},
     "output_type": "execute_result"
    }
   ],
   "source": [
    "bn1 = model.layers[1]\n",
    "[(var.name, var.trainable) for var in bn1.variables]"
   ]
  },
  {
   "cell_type": "code",
   "execution_count": 12,
   "metadata": {},
   "outputs": [
    {
     "name": "stderr",
     "output_type": "stream",
     "text": [
      "C:\\Users\\Owner\\AppData\\Local\\Programs\\Python\\Python39\\lib\\site-packages\\keras\\optimizers\\optimizer_v2\\gradient_descent.py:108: UserWarning: The `lr` argument is deprecated, use `learning_rate` instead.\n",
      "  super(SGD, self).__init__(name, **kwargs)\n"
     ]
    }
   ],
   "source": [
    "model.compile(loss=\"sparse_categorical_crossentropy\",\n",
    "              optimizer=keras.optimizers.SGD(lr=1e-3),\n",
    "              metrics=[\"accuracy\"])"
   ]
  },
  {
   "cell_type": "code",
   "execution_count": 13,
   "metadata": {},
   "outputs": [
    {
     "name": "stdout",
     "output_type": "stream",
     "text": [
      "Epoch 1/10\n",
      "1719/1719 [==============================] - 4s 2ms/step - loss: 0.8446 - accuracy: 0.7138 - val_loss: 0.5414 - val_accuracy: 0.8156\n",
      "Epoch 2/10\n",
      "1719/1719 [==============================] - 3s 2ms/step - loss: 0.5711 - accuracy: 0.8017 - val_loss: 0.4708 - val_accuracy: 0.8366\n",
      "Epoch 3/10\n",
      "1719/1719 [==============================] - 3s 2ms/step - loss: 0.5144 - accuracy: 0.8205 - val_loss: 0.4388 - val_accuracy: 0.8488\n",
      "Epoch 4/10\n",
      "1719/1719 [==============================] - 3s 2ms/step - loss: 0.4811 - accuracy: 0.8298 - val_loss: 0.4175 - val_accuracy: 0.8562\n",
      "Epoch 5/10\n",
      "1719/1719 [==============================] - 3s 2ms/step - loss: 0.4572 - accuracy: 0.8395 - val_loss: 0.4015 - val_accuracy: 0.8594\n",
      "Epoch 6/10\n",
      "1719/1719 [==============================] - 3s 2ms/step - loss: 0.4397 - accuracy: 0.8452 - val_loss: 0.3888 - val_accuracy: 0.8670\n",
      "Epoch 7/10\n",
      "1719/1719 [==============================] - 3s 2ms/step - loss: 0.4245 - accuracy: 0.8486 - val_loss: 0.3808 - val_accuracy: 0.8678\n",
      "Epoch 8/10\n",
      "1719/1719 [==============================] - 3s 2ms/step - loss: 0.4108 - accuracy: 0.8557 - val_loss: 0.3738 - val_accuracy: 0.8688\n",
      "Epoch 9/10\n",
      "1719/1719 [==============================] - 3s 2ms/step - loss: 0.4040 - accuracy: 0.8573 - val_loss: 0.3666 - val_accuracy: 0.8712\n",
      "Epoch 10/10\n",
      "1719/1719 [==============================] - 3s 2ms/step - loss: 0.3926 - accuracy: 0.8606 - val_loss: 0.3618 - val_accuracy: 0.8740\n"
     ]
    }
   ],
   "source": [
    "history = model.fit(X_train, y_train, epochs=10,\n",
    "                    validation_data=(X_valid, y_valid))"
   ]
  },
  {
   "cell_type": "code",
   "execution_count": 14,
   "metadata": {},
   "outputs": [],
   "source": [
    "#### 활성화 함수 전에 사용하는 방법\n",
    "\n",
    "\n",
    "model = keras.models.Sequential([\n",
    "    keras.layers.Flatten(input_shape=[28, 28]),\n",
    "    keras.layers.BatchNormalization(),\n",
    "    keras.layers.Dense(300, use_bias=False),\n",
    "    keras.layers.BatchNormalization(),\n",
    "    keras.layers.Activation(\"relu\"),\n",
    "    keras.layers.Dense(100, use_bias=False),\n",
    "    keras.layers.BatchNormalization(),\n",
    "    keras.layers.Activation(\"relu\"),\n",
    "    keras.layers.Dense(10, activation=\"softmax\")\n",
    "])"
   ]
  },
  {
   "cell_type": "code",
   "execution_count": 15,
   "metadata": {},
   "outputs": [],
   "source": [
    "model.compile(loss=\"sparse_categorical_crossentropy\",\n",
    "              optimizer=keras.optimizers.SGD(lr=1e-3),\n",
    "              metrics=[\"accuracy\"])"
   ]
  },
  {
   "cell_type": "code",
   "execution_count": 16,
   "metadata": {},
   "outputs": [
    {
     "name": "stdout",
     "output_type": "stream",
     "text": [
      "Epoch 1/10\n",
      "1719/1719 [==============================] - 3s 2ms/step - loss: 1.0236 - accuracy: 0.6790 - val_loss: 0.6711 - val_accuracy: 0.7940\n",
      "Epoch 2/10\n",
      "1719/1719 [==============================] - 3s 2ms/step - loss: 0.6769 - accuracy: 0.7825 - val_loss: 0.5532 - val_accuracy: 0.8192\n",
      "Epoch 3/10\n",
      "1719/1719 [==============================] - 3s 2ms/step - loss: 0.5889 - accuracy: 0.8065 - val_loss: 0.4974 - val_accuracy: 0.8312\n",
      "Epoch 4/10\n",
      "1719/1719 [==============================] - 3s 2ms/step - loss: 0.5437 - accuracy: 0.8156 - val_loss: 0.4637 - val_accuracy: 0.8434\n",
      "Epoch 5/10\n",
      "1719/1719 [==============================] - 3s 2ms/step - loss: 0.5120 - accuracy: 0.8251 - val_loss: 0.4395 - val_accuracy: 0.8508\n",
      "Epoch 6/10\n",
      "1719/1719 [==============================] - 3s 2ms/step - loss: 0.4890 - accuracy: 0.8332 - val_loss: 0.4229 - val_accuracy: 0.8560\n",
      "Epoch 7/10\n",
      "1719/1719 [==============================] - 3s 2ms/step - loss: 0.4711 - accuracy: 0.8373 - val_loss: 0.4088 - val_accuracy: 0.8598\n",
      "Epoch 8/10\n",
      "1719/1719 [==============================] - 3s 2ms/step - loss: 0.4544 - accuracy: 0.8427 - val_loss: 0.3984 - val_accuracy: 0.8610\n",
      "Epoch 9/10\n",
      "1719/1719 [==============================] - 3s 2ms/step - loss: 0.4428 - accuracy: 0.8456 - val_loss: 0.3891 - val_accuracy: 0.8634\n",
      "Epoch 10/10\n",
      "1719/1719 [==============================] - 3s 2ms/step - loss: 0.4297 - accuracy: 0.8512 - val_loss: 0.3823 - val_accuracy: 0.8678\n"
     ]
    }
   ],
   "source": [
    "history = model.fit(X_train, y_train, epochs=10,\n",
    "                    validation_data=(X_valid, y_valid))"
   ]
  },
  {
   "cell_type": "markdown",
   "metadata": {},
   "source": [
    "### 그레이디언트 클리핑\n",
    "\n",
    "그레디언트 폭주 문제를 완화하는 방법으로 역전파 수행 시 그레디언트가 일정 임계값을 넘지 못하도록 하는 것이다.\n",
    "\n",
    "```optimizer = keras.optimizers.SGD(clipvalue=1.0)```\n",
    "\n",
    "```optimizer = keras.optimizers.SGD(clipnorm=1.0)```"
   ]
  },
  {
   "cell_type": "markdown",
   "metadata": {},
   "source": [
    "### 훈련된 층 재사용 하기\n",
    "\n",
    "아주 큰 DNN을 처음부터 훈련하는 것인 시간이 오래 걸리기 때문에 비슷한 유형의 문제를 처리한 신경망의 하위층을 재사용할 수 있다.\n",
    "\n",
    "(상위 층은 덜 유용함)\n",
    "\n",
    "이를 전이 학습 (transfer learning)이라 한다.\n",
    "\n",
    "먼저 재사용 층의 가중치들을 동결한다.\n",
    "\n",
    "그 다음 모델을 학습하고 평가한다.\n",
    "\n",
    "맨 위 한 두개의 은닉층의 동결을 해제하고 역전파를 통해 가중치를 조정하여 성능이 향상되는지 확인한다."
   ]
  },
  {
   "cell_type": "markdown",
   "metadata": {},
   "source": [
    "#### 케라스를 이용한 전이 학습\n",
    "\n",
    "패션 MNIST 훈련 세트를 두 개로 나눈다.\n",
    "\n",
    "* X_train_A: 샌달과 셔츠(클래스 5와 6)을 제외한 모든 이미지\n",
    "* X_train_B: 샌달과 셔츠 이미지 중 처음 200개만 가진 작은 훈련 세트\n",
    "\n",
    "\n",
    "A 세트(8개의 클래스를 가진 분류 문제)에서 모델을 훈련하고 이를 재사용하여 B 세트(이진 분류)를 해결해 보자. \n",
    "\n",
    "A 세트의 클래스(스니커즈, 앵클 부츠, 코트, 티셔츠 등)가 B 세트에 있는 클래스(샌달과 셔츠)와 조금 비슷함. "
   ]
  },
  {
   "cell_type": "code",
   "execution_count": 17,
   "metadata": {},
   "outputs": [],
   "source": [
    "def split_dataset(X, y):\n",
    "    y_5_or_6 = (y == 5) | (y == 6) # sandals or shirts\n",
    "    y_A = y[~y_5_or_6]\n",
    "    y_A[y_A > 6] -= 2 # class indices 7, 8, 9 should be moved to 5, 6, 7\n",
    "    y_B = (y[y_5_or_6] == 6).astype(np.float32) # binary classification task: is it a shirt (class 6)?\n",
    "    return ((X[~y_5_or_6], y_A),\n",
    "            (X[y_5_or_6], y_B))\n",
    "\n",
    "(X_train_A, y_train_A), (X_train_B, y_train_B) = split_dataset(X_train, y_train)\n",
    "(X_valid_A, y_valid_A), (X_valid_B, y_valid_B) = split_dataset(X_valid, y_valid)\n",
    "(X_test_A, y_test_A), (X_test_B, y_test_B) = split_dataset(X_test, y_test)\n",
    "X_train_B = X_train_B[:200]\n",
    "y_train_B = y_train_B[:200]"
   ]
  },
  {
   "cell_type": "code",
   "execution_count": 18,
   "metadata": {},
   "outputs": [],
   "source": [
    "model_A = keras.models.Sequential()\n",
    "model_A.add(keras.layers.Flatten(input_shape=[28, 28]))\n",
    "for n_hidden in (300, 100, 50, 50, 50):\n",
    "    model_A.add(keras.layers.Dense(n_hidden, activation=\"selu\"))\n",
    "model_A.add(keras.layers.Dense(8, activation=\"softmax\"))"
   ]
  },
  {
   "cell_type": "code",
   "execution_count": 19,
   "metadata": {},
   "outputs": [],
   "source": [
    "model_A.compile(loss=\"sparse_categorical_crossentropy\",\n",
    "                optimizer=keras.optimizers.SGD(lr=1e-3),\n",
    "                metrics=[\"accuracy\"])"
   ]
  },
  {
   "cell_type": "code",
   "execution_count": 20,
   "metadata": {},
   "outputs": [
    {
     "name": "stdout",
     "output_type": "stream",
     "text": [
      "Epoch 1/20\n",
      "1375/1375 [==============================] - 2s 1ms/step - loss: 0.6065 - accuracy: 0.7978 - val_loss: 0.3960 - val_accuracy: 0.8632\n",
      "Epoch 2/20\n",
      "1375/1375 [==============================] - 2s 1ms/step - loss: 0.3653 - accuracy: 0.8727 - val_loss: 0.3378 - val_accuracy: 0.8844\n",
      "Epoch 3/20\n",
      "1375/1375 [==============================] - 2s 1ms/step - loss: 0.3229 - accuracy: 0.8878 - val_loss: 0.3069 - val_accuracy: 0.8954\n",
      "Epoch 4/20\n",
      "1375/1375 [==============================] - 2s 1ms/step - loss: 0.3008 - accuracy: 0.8957 - val_loss: 0.2920 - val_accuracy: 0.9026\n",
      "Epoch 5/20\n",
      "1375/1375 [==============================] - 2s 1ms/step - loss: 0.2862 - accuracy: 0.9018 - val_loss: 0.2795 - val_accuracy: 0.9086\n",
      "Epoch 6/20\n",
      "1375/1375 [==============================] - 2s 1ms/step - loss: 0.2754 - accuracy: 0.9052 - val_loss: 0.2713 - val_accuracy: 0.9108\n",
      "Epoch 7/20\n",
      "1375/1375 [==============================] - 2s 1ms/step - loss: 0.2668 - accuracy: 0.9093 - val_loss: 0.2680 - val_accuracy: 0.9113\n",
      "Epoch 8/20\n",
      "1375/1375 [==============================] - 2s 1ms/step - loss: 0.2599 - accuracy: 0.9115 - val_loss: 0.2648 - val_accuracy: 0.9093\n",
      "Epoch 9/20\n",
      "1375/1375 [==============================] - 2s 1ms/step - loss: 0.2542 - accuracy: 0.9138 - val_loss: 0.2582 - val_accuracy: 0.9150\n",
      "Epoch 10/20\n",
      "1375/1375 [==============================] - 2s 1ms/step - loss: 0.2491 - accuracy: 0.9147 - val_loss: 0.2524 - val_accuracy: 0.9155\n",
      "Epoch 11/20\n",
      "1375/1375 [==============================] - 2s 1ms/step - loss: 0.2447 - accuracy: 0.9165 - val_loss: 0.2539 - val_accuracy: 0.9150\n",
      "Epoch 12/20\n",
      "1375/1375 [==============================] - 2s 1ms/step - loss: 0.2408 - accuracy: 0.9179 - val_loss: 0.2477 - val_accuracy: 0.9173\n",
      "Epoch 13/20\n",
      "1375/1375 [==============================] - 2s 1ms/step - loss: 0.2369 - accuracy: 0.9197 - val_loss: 0.2471 - val_accuracy: 0.9180\n",
      "Epoch 14/20\n",
      "1375/1375 [==============================] - 2s 1ms/step - loss: 0.2338 - accuracy: 0.9200 - val_loss: 0.2412 - val_accuracy: 0.9200\n",
      "Epoch 15/20\n",
      "1375/1375 [==============================] - 2s 1ms/step - loss: 0.2303 - accuracy: 0.9212 - val_loss: 0.2411 - val_accuracy: 0.9178\n",
      "Epoch 16/20\n",
      "1375/1375 [==============================] - 2s 1ms/step - loss: 0.2276 - accuracy: 0.9223 - val_loss: 0.2394 - val_accuracy: 0.9200\n",
      "Epoch 17/20\n",
      "1375/1375 [==============================] - 2s 1ms/step - loss: 0.2250 - accuracy: 0.9228 - val_loss: 0.2404 - val_accuracy: 0.9165\n",
      "Epoch 18/20\n",
      "1375/1375 [==============================] - 2s 1ms/step - loss: 0.2221 - accuracy: 0.9236 - val_loss: 0.2385 - val_accuracy: 0.9175\n",
      "Epoch 19/20\n",
      "1375/1375 [==============================] - 2s 1ms/step - loss: 0.2202 - accuracy: 0.9243 - val_loss: 0.2344 - val_accuracy: 0.9203\n",
      "Epoch 20/20\n",
      "1375/1375 [==============================] - 2s 1ms/step - loss: 0.2175 - accuracy: 0.9252 - val_loss: 0.2310 - val_accuracy: 0.9225\n"
     ]
    }
   ],
   "source": [
    "history = model_A.fit(X_train_A, y_train_A, epochs=20,\n",
    "                    validation_data=(X_valid_A, y_valid_A))"
   ]
  },
  {
   "cell_type": "code",
   "execution_count": 21,
   "metadata": {},
   "outputs": [],
   "source": [
    "model_A.save(\"my_model_A.h5\")"
   ]
  },
  {
   "cell_type": "markdown",
   "metadata": {},
   "source": [
    "model B는 자체 훈련으로 생성"
   ]
  },
  {
   "cell_type": "code",
   "execution_count": 22,
   "metadata": {},
   "outputs": [],
   "source": [
    "model_B = keras.models.Sequential()\n",
    "model_B.add(keras.layers.Flatten(input_shape=[28, 28]))\n",
    "for n_hidden in (300, 100, 50, 50, 50):\n",
    "    model_B.add(keras.layers.Dense(n_hidden, activation=\"selu\"))\n",
    "model_B.add(keras.layers.Dense(1, activation=\"sigmoid\"))"
   ]
  },
  {
   "cell_type": "code",
   "execution_count": 23,
   "metadata": {},
   "outputs": [],
   "source": [
    "model_B.compile(loss=\"binary_crossentropy\",\n",
    "                optimizer=keras.optimizers.SGD(lr=1e-3),\n",
    "                metrics=[\"accuracy\"])"
   ]
  },
  {
   "cell_type": "code",
   "execution_count": 24,
   "metadata": {},
   "outputs": [
    {
     "name": "stdout",
     "output_type": "stream",
     "text": [
      "Epoch 1/20\n",
      "7/7 [==============================] - 0s 20ms/step - loss: 0.6688 - accuracy: 0.6100 - val_loss: 0.4655 - val_accuracy: 0.7759\n",
      "Epoch 2/20\n",
      "7/7 [==============================] - 0s 8ms/step - loss: 0.3733 - accuracy: 0.8450 - val_loss: 0.3425 - val_accuracy: 0.8763\n",
      "Epoch 3/20\n",
      "7/7 [==============================] - 0s 8ms/step - loss: 0.2762 - accuracy: 0.9350 - val_loss: 0.2842 - val_accuracy: 0.9128\n",
      "Epoch 4/20\n",
      "7/7 [==============================] - 0s 8ms/step - loss: 0.2250 - accuracy: 0.9500 - val_loss: 0.2449 - val_accuracy: 0.9310\n",
      "Epoch 5/20\n",
      "7/7 [==============================] - 0s 8ms/step - loss: 0.1899 - accuracy: 0.9600 - val_loss: 0.2184 - val_accuracy: 0.9422\n",
      "Epoch 6/20\n",
      "7/7 [==============================] - 0s 8ms/step - loss: 0.1661 - accuracy: 0.9700 - val_loss: 0.1981 - val_accuracy: 0.9493\n",
      "Epoch 7/20\n",
      "7/7 [==============================] - 0s 8ms/step - loss: 0.1485 - accuracy: 0.9750 - val_loss: 0.1823 - val_accuracy: 0.9523\n",
      "Epoch 8/20\n",
      "7/7 [==============================] - 0s 8ms/step - loss: 0.1338 - accuracy: 0.9750 - val_loss: 0.1689 - val_accuracy: 0.9594\n",
      "Epoch 9/20\n",
      "7/7 [==============================] - 0s 8ms/step - loss: 0.1216 - accuracy: 0.9800 - val_loss: 0.1581 - val_accuracy: 0.9625\n",
      "Epoch 10/20\n",
      "7/7 [==============================] - 0s 8ms/step - loss: 0.1116 - accuracy: 0.9800 - val_loss: 0.1501 - val_accuracy: 0.9625\n",
      "Epoch 11/20\n",
      "7/7 [==============================] - 0s 8ms/step - loss: 0.1039 - accuracy: 0.9850 - val_loss: 0.1427 - val_accuracy: 0.9645\n",
      "Epoch 12/20\n",
      "7/7 [==============================] - 0s 8ms/step - loss: 0.0970 - accuracy: 0.9900 - val_loss: 0.1364 - val_accuracy: 0.9645\n",
      "Epoch 13/20\n",
      "7/7 [==============================] - 0s 8ms/step - loss: 0.0912 - accuracy: 0.9900 - val_loss: 0.1308 - val_accuracy: 0.9665\n",
      "Epoch 14/20\n",
      "7/7 [==============================] - 0s 8ms/step - loss: 0.0858 - accuracy: 0.9900 - val_loss: 0.1259 - val_accuracy: 0.9675\n",
      "Epoch 15/20\n",
      "7/7 [==============================] - 0s 8ms/step - loss: 0.0813 - accuracy: 0.9900 - val_loss: 0.1215 - val_accuracy: 0.9696\n",
      "Epoch 16/20\n",
      "7/7 [==============================] - 0s 8ms/step - loss: 0.0769 - accuracy: 0.9950 - val_loss: 0.1176 - val_accuracy: 0.9696\n",
      "Epoch 17/20\n",
      "7/7 [==============================] - 0s 8ms/step - loss: 0.0732 - accuracy: 0.9950 - val_loss: 0.1140 - val_accuracy: 0.9706\n",
      "Epoch 18/20\n",
      "7/7 [==============================] - 0s 8ms/step - loss: 0.0701 - accuracy: 0.9950 - val_loss: 0.1110 - val_accuracy: 0.9706\n",
      "Epoch 19/20\n",
      "7/7 [==============================] - 0s 8ms/step - loss: 0.0670 - accuracy: 0.9950 - val_loss: 0.1081 - val_accuracy: 0.9706\n",
      "Epoch 20/20\n",
      "7/7 [==============================] - 0s 8ms/step - loss: 0.0645 - accuracy: 0.9950 - val_loss: 0.1054 - val_accuracy: 0.9706\n"
     ]
    }
   ],
   "source": [
    "history = model_B.fit(X_train_B, y_train_B, epochs=20,\n",
    "                      validation_data=(X_valid_B, y_valid_B))"
   ]
  },
  {
   "cell_type": "code",
   "execution_count": 25,
   "metadata": {},
   "outputs": [
    {
     "name": "stdout",
     "output_type": "stream",
     "text": [
      "Model: \"sequential_5\"\n",
      "_________________________________________________________________\n",
      " Layer (type)                Output Shape              Param #   \n",
      "=================================================================\n",
      " flatten_5 (Flatten)         (None, 784)               0         \n",
      "                                                                 \n",
      " dense_18 (Dense)            (None, 300)               235500    \n",
      "                                                                 \n",
      " dense_19 (Dense)            (None, 100)               30100     \n",
      "                                                                 \n",
      " dense_20 (Dense)            (None, 50)                5050      \n",
      "                                                                 \n",
      " dense_21 (Dense)            (None, 50)                2550      \n",
      "                                                                 \n",
      " dense_22 (Dense)            (None, 50)                2550      \n",
      "                                                                 \n",
      " dense_23 (Dense)            (None, 1)                 51        \n",
      "                                                                 \n",
      "=================================================================\n",
      "Total params: 275,801\n",
      "Trainable params: 275,801\n",
      "Non-trainable params: 0\n",
      "_________________________________________________________________\n"
     ]
    }
   ],
   "source": [
    "model_B.summary()"
   ]
  },
  {
   "cell_type": "markdown",
   "metadata": {},
   "source": [
    "model_A와 model_B_on_A는 일부 층을 공유한다."
   ]
  },
  {
   "cell_type": "code",
   "execution_count": 26,
   "metadata": {},
   "outputs": [],
   "source": [
    "model_A = keras.models.load_model(\"my_model_A.h5\")\n",
    "model_B_on_A = keras.models.Sequential(model_A.layers[:-1])\n",
    "model_B_on_A.add(keras.layers.Dense(1, activation=\"sigmoid\"))"
   ]
  },
  {
   "cell_type": "markdown",
   "metadata": {},
   "source": [
    "model_B_on_A를 훈련할 때 model_A도 영향을 받는다. 이를 원치 않으면 ```clone_model()``` 메쏘드로 구조를 복제한 뒤 가중치를 복사해둔다."
   ]
  },
  {
   "cell_type": "code",
   "execution_count": 27,
   "metadata": {},
   "outputs": [],
   "source": [
    "model_A_clone = keras.models.clone_model(model_A)\n",
    "model_A_clone.set_weights(model_A.get_weights())"
   ]
  },
  {
   "cell_type": "markdown",
   "metadata": {},
   "source": [
    "이제 model_B_on_A를 훈련할 수 있는데, 새로운 출력층이 랜덤하게 초기화되었으므로, 큰 오차를 생성할 수 있음.\n",
    "\n",
    "큰 오차 그레디언트가 재사용된 가중치를 망치지 않도록, 처음 몇 번의 에포크 동안은 재사용된 층을 동결하고 새로운 층에 적절한 가중치를 학습할 시간을 준다."
   ]
  },
  {
   "cell_type": "code",
   "execution_count": 28,
   "metadata": {},
   "outputs": [],
   "source": [
    "for layer in model_B_on_A.layers[:-1]:\n",
    "    layer.trainable = False\n",
    "\n",
    "model_B_on_A.compile(loss=\"binary_crossentropy\",\n",
    "                     optimizer=keras.optimizers.SGD(lr=1e-3),\n",
    "                     metrics=[\"accuracy\"])"
   ]
  },
  {
   "cell_type": "markdown",
   "metadata": {},
   "source": [
    "모델을 몇번 훈련하고, 재사용된 층의 동결을 해제한 뒤, 다시 컴파일한 다음, 훈련을 계속한다.\n",
    "\n",
    "일반적으로 재사용된 층의 동결을 해제한 후 학습률을 낮추는 것이 좋다."
   ]
  },
  {
   "cell_type": "code",
   "execution_count": 29,
   "metadata": {},
   "outputs": [
    {
     "name": "stdout",
     "output_type": "stream",
     "text": [
      "Epoch 1/4\n",
      "7/7 [==============================] - 0s 19ms/step - loss: 0.3043 - accuracy: 0.9550 - val_loss: 0.3111 - val_accuracy: 0.9361\n",
      "Epoch 2/4\n",
      "7/7 [==============================] - 0s 7ms/step - loss: 0.2922 - accuracy: 0.9550 - val_loss: 0.2998 - val_accuracy: 0.9381\n",
      "Epoch 3/4\n",
      "7/7 [==============================] - 0s 7ms/step - loss: 0.2811 - accuracy: 0.9600 - val_loss: 0.2893 - val_accuracy: 0.9422\n",
      "Epoch 4/4\n",
      "7/7 [==============================] - 0s 7ms/step - loss: 0.2708 - accuracy: 0.9600 - val_loss: 0.2791 - val_accuracy: 0.9452\n",
      "Epoch 1/16\n",
      "7/7 [==============================] - 0s 19ms/step - loss: 0.2420 - accuracy: 0.9600 - val_loss: 0.2244 - val_accuracy: 0.9686\n",
      "Epoch 2/16\n",
      "7/7 [==============================] - 0s 8ms/step - loss: 0.1951 - accuracy: 0.9850 - val_loss: 0.1877 - val_accuracy: 0.9767\n",
      "Epoch 3/16\n",
      "7/7 [==============================] - 0s 8ms/step - loss: 0.1633 - accuracy: 0.9850 - val_loss: 0.1628 - val_accuracy: 0.9828\n",
      "Epoch 4/16\n",
      "7/7 [==============================] - 0s 8ms/step - loss: 0.1410 - accuracy: 0.9850 - val_loss: 0.1449 - val_accuracy: 0.9838\n",
      "Epoch 5/16\n",
      "7/7 [==============================] - 0s 8ms/step - loss: 0.1246 - accuracy: 0.9900 - val_loss: 0.1314 - val_accuracy: 0.9868\n",
      "Epoch 6/16\n",
      "7/7 [==============================] - 0s 8ms/step - loss: 0.1117 - accuracy: 0.9900 - val_loss: 0.1196 - val_accuracy: 0.9878\n",
      "Epoch 7/16\n",
      "7/7 [==============================] - 0s 8ms/step - loss: 0.1013 - accuracy: 0.9900 - val_loss: 0.1099 - val_accuracy: 0.9909\n",
      "Epoch 8/16\n",
      "7/7 [==============================] - 0s 8ms/step - loss: 0.0929 - accuracy: 0.9900 - val_loss: 0.1021 - val_accuracy: 0.9939\n",
      "Epoch 9/16\n",
      "7/7 [==============================] - 0s 8ms/step - loss: 0.0858 - accuracy: 0.9900 - val_loss: 0.0941 - val_accuracy: 0.9949\n",
      "Epoch 10/16\n",
      "7/7 [==============================] - 0s 8ms/step - loss: 0.0789 - accuracy: 0.9900 - val_loss: 0.0886 - val_accuracy: 0.9949\n",
      "Epoch 11/16\n",
      "7/7 [==============================] - 0s 8ms/step - loss: 0.0739 - accuracy: 0.9950 - val_loss: 0.0838 - val_accuracy: 0.9949\n",
      "Epoch 12/16\n",
      "7/7 [==============================] - 0s 8ms/step - loss: 0.0695 - accuracy: 1.0000 - val_loss: 0.0794 - val_accuracy: 0.9959\n",
      "Epoch 13/16\n",
      "7/7 [==============================] - 0s 8ms/step - loss: 0.0655 - accuracy: 1.0000 - val_loss: 0.0754 - val_accuracy: 0.9959\n",
      "Epoch 14/16\n",
      "7/7 [==============================] - 0s 8ms/step - loss: 0.0620 - accuracy: 1.0000 - val_loss: 0.0720 - val_accuracy: 0.9970\n",
      "Epoch 15/16\n",
      "7/7 [==============================] - 0s 8ms/step - loss: 0.0589 - accuracy: 1.0000 - val_loss: 0.0689 - val_accuracy: 0.9970\n",
      "Epoch 16/16\n",
      "7/7 [==============================] - 0s 8ms/step - loss: 0.0560 - accuracy: 1.0000 - val_loss: 0.0663 - val_accuracy: 0.9970\n"
     ]
    }
   ],
   "source": [
    "history = model_B_on_A.fit(X_train_B, y_train_B, epochs=4,\n",
    "                           validation_data=(X_valid_B, y_valid_B))\n",
    "\n",
    "for layer in model_B_on_A.layers[:-1]:\n",
    "    layer.trainable = True\n",
    "\n",
    "model_B_on_A.compile(loss=\"binary_crossentropy\",\n",
    "                     optimizer=keras.optimizers.SGD(lr=1e-3),\n",
    "                     metrics=[\"accuracy\"])\n",
    "history = model_B_on_A.fit(X_train_B, y_train_B, epochs=16,\n",
    "                           validation_data=(X_valid_B, y_valid_B))"
   ]
  },
  {
   "cell_type": "code",
   "execution_count": 30,
   "metadata": {},
   "outputs": [
    {
     "name": "stdout",
     "output_type": "stream",
     "text": [
      "63/63 [==============================] - 0s 855us/step - loss: 0.0917 - accuracy: 0.9800\n"
     ]
    },
    {
     "data": {
      "text/plain": [
       "[0.0917210504412651, 0.9800000190734863]"
      ]
     },
     "execution_count": 30,
     "metadata": {},
     "output_type": "execute_result"
    }
   ],
   "source": [
    "model_B.evaluate(X_test_B, y_test_B)"
   ]
  },
  {
   "cell_type": "code",
   "execution_count": 31,
   "metadata": {},
   "outputs": [
    {
     "name": "stdout",
     "output_type": "stream",
     "text": [
      "63/63 [==============================] - 0s 903us/step - loss: 0.0703 - accuracy: 0.9940\n"
     ]
    },
    {
     "data": {
      "text/plain": [
       "[0.0703151747584343, 0.9940000176429749]"
      ]
     },
     "execution_count": 31,
     "metadata": {},
     "output_type": "execute_result"
    }
   ],
   "source": [
    "model_B_on_A.evaluate(X_test_B, y_test_B)"
   ]
  },
  {
   "cell_type": "markdown",
   "metadata": {},
   "source": [
    "### 고속 옵티마이저\n",
    "\n",
    "아주 큰 심층 신경망의 훈련 속도는 심각하게 느릴 수 있다.  \n",
    "\n",
    "표준적인 경사 하강법 외에 속도 향상을 위해 특별하게 구현된 옵티마이저들을 이용할 수 있다.  \n",
    "\n",
    "이러한 옵티마이저들에 대해 자세히 다루지는 않겠지만 대략 어떤 종류의 것들이 있는지 살펴본다."
   ]
  },
  {
   "cell_type": "markdown",
   "metadata": {},
   "source": [
    "#### 모멘텀 옵티마이저\n",
    "\n",
    "일반적인 경사 하강법은 그레디언트가 작으면 천천히 수렴한다.  \n",
    "\n",
    "모멘텀 옵타마이저는 그레디언트가 작을 경우 높은 학습률을, 그레디언트가 클 경우 상대적으로 작은 학습률을 부여한다.\n",
    "\n",
    "보통 ```momentum=0.9``` 정도로 설정하면 잘 작동한다고 한다."
   ]
  },
  {
   "cell_type": "code",
   "execution_count": 32,
   "metadata": {},
   "outputs": [],
   "source": [
    "optimizer = keras.optimizers.SGD(lr=0.001, momentum=0.9)"
   ]
  },
  {
   "cell_type": "markdown",
   "metadata": {},
   "source": [
    "#### 네스테로프 가속 경사\n",
    "\n",
    "모멘텀 옵티마이저를 더 향상시킨 방법이다."
   ]
  },
  {
   "cell_type": "code",
   "execution_count": 33,
   "metadata": {},
   "outputs": [],
   "source": [
    "optimizer = keras.optimizers.SGD(lr=0.001, momentum=0.9, nesterov=True)"
   ]
  },
  {
   "cell_type": "markdown",
   "metadata": {},
   "source": [
    "#### AdaGrad\n",
    "\n",
    "문제에 따라 경사 하강법은 전역 최적점으로 곧장 향하지 않고, 국소적으로 가장 가파른 경사를 따라 진행하는 경우가 있다.  \n",
    "AdaGrad 알고리즘은 이를 감지하고 전역 최적점으로 더 정확한 방향을 잡도록 도와 준다."
   ]
  },
  {
   "cell_type": "code",
   "execution_count": 34,
   "metadata": {},
   "outputs": [],
   "source": [
    "optimizer = keras.optimizers.Adagrad(learning_rate=0.001)"
   ]
  },
  {
   "cell_type": "markdown",
   "metadata": {},
   "source": [
    "#### RMSProp\n",
    "\n",
    "AdaGrad는 너무 빨리 느려져서 전역 최적점에 수렴하지 못하는 경우가 있기 때문에 이를 개선한 방법이다.\n",
    "\n",
    "RMSProp는 Root Mean Squared Propagation을 뜻한다."
   ]
  },
  {
   "cell_type": "code",
   "execution_count": 35,
   "metadata": {},
   "outputs": [],
   "source": [
    "optimizer = keras.optimizers.RMSprop(learning_rate=0.001, rho=0.9)"
   ]
  },
  {
   "cell_type": "markdown",
   "metadata": {},
   "source": [
    "#### Adam 옵티마이저\n",
    "\n",
    "Adam은 adaptive moment estimation을 뜻하며 모멘텀 최적화와 RMSProp을 합친 개념이다."
   ]
  },
  {
   "cell_type": "code",
   "execution_count": 36,
   "metadata": {},
   "outputs": [],
   "source": [
    "optimizer = keras.optimizers.Adam(learning_rate=0.001, beta_1=0.9, beta_2=0.999)"
   ]
  },
  {
   "cell_type": "markdown",
   "metadata": {},
   "source": [
    "#### Adamax 옵티마이저\n",
    "\n",
    "Adam의 변종으로 만약 Adam이 잘 작동하지 않는다면 시도해 볼만한 옵티마이저이다."
   ]
  },
  {
   "cell_type": "code",
   "execution_count": 37,
   "metadata": {},
   "outputs": [],
   "source": [
    "optimizer = keras.optimizers.Adamax(learning_rate=0.001, beta_1=0.9, beta_2=0.999)"
   ]
  },
  {
   "cell_type": "markdown",
   "metadata": {},
   "source": [
    "#### Nadam 옵티마이저\n",
    "\n",
    "마찬가지로 Adam의 변종으로 종종 Adam보다 조금 더 빠르게 수렴한다고 알려져 있다."
   ]
  },
  {
   "cell_type": "code",
   "execution_count": 38,
   "metadata": {},
   "outputs": [],
   "source": [
    "optimizer = keras.optimizers.Nadam(learning_rate=0.001, beta_1=0.9, beta_2=0.999)"
   ]
  },
  {
   "cell_type": "markdown",
   "metadata": {},
   "source": [
    "## 학습률 스케쥴링\n",
    "\n",
    "학습률을 너무 크게 잡으면 훈련이 발산할 수 있고, 너무 작게 잡으면 수렴 시간이 오래 걸릴 것이다.\n",
    "\n",
    "큰 학습률로 시작하고 학습 속도가 느려질 때 학습률을 낮추는 전략을 취할 수 있다.\n",
    "\n",
    "훈련하는 동안 학습률을 감소시키는 학습 스케쥴에는 여러가지가 있다.\n",
    "\n",
    "### 거듭제곱 기반 스케쥴링\n",
    "\n",
    "반복횟수 $t$에 대해 학습률을 다음과 같이 정의한다.\n",
    "\n",
    "$$\\eta(t) = \\frac{\\eta_0}{(1 + t / s)^c}$$\n",
    "\n",
    "거듭제곱 스케쥴링은 옵티마이저를 만들 때 ```decay``` (s의 역수) 만 설정해 주면 된다. c=1임."
   ]
  },
  {
   "cell_type": "code",
   "execution_count": 39,
   "metadata": {},
   "outputs": [],
   "source": [
    "optimizer = keras.optimizers.SGD(learning_rate=0.01, decay=1e-4)"
   ]
  },
  {
   "cell_type": "code",
   "execution_count": 40,
   "metadata": {},
   "outputs": [],
   "source": [
    "model = keras.models.Sequential([\n",
    "    keras.layers.Flatten(input_shape=[28, 28]),\n",
    "    keras.layers.Dense(300, activation=\"selu\", kernel_initializer=\"lecun_normal\"),\n",
    "    keras.layers.Dense(100, activation=\"selu\", kernel_initializer=\"lecun_normal\"),\n",
    "    keras.layers.Dense(10, activation=\"softmax\")\n",
    "])\n",
    "model.compile(loss=\"sparse_categorical_crossentropy\", optimizer=optimizer, metrics=[\"accuracy\"])"
   ]
  },
  {
   "cell_type": "code",
   "execution_count": 41,
   "metadata": {},
   "outputs": [],
   "source": [
    "pixel_means = X_train.mean(axis=0, keepdims=True)\n",
    "pixel_stds = X_train.std(axis=0, keepdims=True)\n",
    "X_train_scaled = (X_train - pixel_means) / pixel_stds\n",
    "X_valid_scaled = (X_valid - pixel_means) / pixel_stds\n",
    "X_test_scaled = (X_test - pixel_means) / pixel_stds"
   ]
  },
  {
   "cell_type": "code",
   "execution_count": 42,
   "metadata": {},
   "outputs": [
    {
     "name": "stdout",
     "output_type": "stream",
     "text": [
      "Epoch 1/25\n",
      "1719/1719 [==============================] - 3s 1ms/step - loss: 0.4888 - accuracy: 0.8273 - val_loss: 0.4114 - val_accuracy: 0.8594\n",
      "Epoch 2/25\n",
      "1719/1719 [==============================] - 2s 1ms/step - loss: 0.3814 - accuracy: 0.8652 - val_loss: 0.3877 - val_accuracy: 0.8696\n",
      "Epoch 3/25\n",
      "1719/1719 [==============================] - 2s 1ms/step - loss: 0.3484 - accuracy: 0.8770 - val_loss: 0.3597 - val_accuracy: 0.8774\n",
      "Epoch 4/25\n",
      "1719/1719 [==============================] - 2s 1ms/step - loss: 0.3265 - accuracy: 0.8830 - val_loss: 0.3535 - val_accuracy: 0.8736\n",
      "Epoch 5/25\n",
      "1719/1719 [==============================] - 2s 1ms/step - loss: 0.3107 - accuracy: 0.8895 - val_loss: 0.3498 - val_accuracy: 0.8760\n",
      "Epoch 6/25\n",
      "1719/1719 [==============================] - 2s 1ms/step - loss: 0.2980 - accuracy: 0.8931 - val_loss: 0.3424 - val_accuracy: 0.8792\n",
      "Epoch 7/25\n",
      "1719/1719 [==============================] - 2s 1ms/step - loss: 0.2876 - accuracy: 0.8971 - val_loss: 0.3415 - val_accuracy: 0.8830\n",
      "Epoch 8/25\n",
      "1719/1719 [==============================] - 2s 1ms/step - loss: 0.2787 - accuracy: 0.9007 - val_loss: 0.3350 - val_accuracy: 0.8810\n",
      "Epoch 9/25\n",
      "1719/1719 [==============================] - 2s 1ms/step - loss: 0.2708 - accuracy: 0.9039 - val_loss: 0.3325 - val_accuracy: 0.8838\n",
      "Epoch 10/25\n",
      "1719/1719 [==============================] - 2s 1ms/step - loss: 0.2640 - accuracy: 0.9066 - val_loss: 0.3373 - val_accuracy: 0.8798\n",
      "Epoch 11/25\n",
      "1719/1719 [==============================] - 2s 1ms/step - loss: 0.2575 - accuracy: 0.9085 - val_loss: 0.3309 - val_accuracy: 0.8856\n",
      "Epoch 12/25\n",
      "1719/1719 [==============================] - 2s 1ms/step - loss: 0.2518 - accuracy: 0.9106 - val_loss: 0.3331 - val_accuracy: 0.8854\n",
      "Epoch 13/25\n",
      "1719/1719 [==============================] - 2s 1ms/step - loss: 0.2463 - accuracy: 0.9135 - val_loss: 0.3246 - val_accuracy: 0.8882\n",
      "Epoch 14/25\n",
      "1719/1719 [==============================] - 2s 1ms/step - loss: 0.2424 - accuracy: 0.9139 - val_loss: 0.3280 - val_accuracy: 0.8866\n",
      "Epoch 15/25\n",
      "1719/1719 [==============================] - 2s 1ms/step - loss: 0.2376 - accuracy: 0.9160 - val_loss: 0.3250 - val_accuracy: 0.8876\n",
      "Epoch 16/25\n",
      "1719/1719 [==============================] - 2s 1ms/step - loss: 0.2337 - accuracy: 0.9181 - val_loss: 0.3250 - val_accuracy: 0.8868\n",
      "Epoch 17/25\n",
      "1719/1719 [==============================] - 2s 1ms/step - loss: 0.2293 - accuracy: 0.9200 - val_loss: 0.3287 - val_accuracy: 0.8886\n",
      "Epoch 18/25\n",
      "1719/1719 [==============================] - 2s 1ms/step - loss: 0.2262 - accuracy: 0.9206 - val_loss: 0.3268 - val_accuracy: 0.8880\n",
      "Epoch 19/25\n",
      "1719/1719 [==============================] - 2s 1ms/step - loss: 0.2232 - accuracy: 0.9225 - val_loss: 0.3210 - val_accuracy: 0.8916\n",
      "Epoch 20/25\n",
      "1719/1719 [==============================] - 2s 1ms/step - loss: 0.2196 - accuracy: 0.9234 - val_loss: 0.3243 - val_accuracy: 0.8890\n",
      "Epoch 21/25\n",
      "1719/1719 [==============================] - 2s 1ms/step - loss: 0.2170 - accuracy: 0.9242 - val_loss: 0.3214 - val_accuracy: 0.8922\n",
      "Epoch 22/25\n",
      "1719/1719 [==============================] - 2s 1ms/step - loss: 0.2138 - accuracy: 0.9255 - val_loss: 0.3205 - val_accuracy: 0.8914\n",
      "Epoch 23/25\n",
      "1719/1719 [==============================] - 2s 1ms/step - loss: 0.2116 - accuracy: 0.9267 - val_loss: 0.3204 - val_accuracy: 0.8942\n",
      "Epoch 24/25\n",
      "1719/1719 [==============================] - 2s 1ms/step - loss: 0.2086 - accuracy: 0.9270 - val_loss: 0.3202 - val_accuracy: 0.8896\n",
      "Epoch 25/25\n",
      "1719/1719 [==============================] - 2s 1ms/step - loss: 0.2060 - accuracy: 0.9289 - val_loss: 0.3206 - val_accuracy: 0.8914\n"
     ]
    }
   ],
   "source": [
    "n_epochs = 25\n",
    "history = model.fit(X_train_scaled, y_train, epochs=n_epochs,\n",
    "                    validation_data=(X_valid_scaled, y_valid))"
   ]
  },
  {
   "cell_type": "code",
   "execution_count": 43,
   "metadata": {},
   "outputs": [
    {
     "data": {
      "image/png": "[encoded data removed]",
      "text/plain": [
       "<Figure size 432x288 with 1 Axes>"
      ]
     },
     "metadata": {
      "needs_background": "light"
     },
     "output_type": "display_data"
    }
   ],
   "source": [
    "import math\n",
    "import matplotlib.pyplot as plt\n",
    "\n",
    "learning_rate = 0.01\n",
    "decay = 1e-4\n",
    "batch_size = 32\n",
    "n_steps_per_epoch = math.ceil(len(X_train) / batch_size)\n",
    "epochs = np.arange(n_epochs)\n",
    "lrs = learning_rate / (1 + decay * epochs * n_steps_per_epoch)\n",
    "\n",
    "plt.plot(epochs, lrs,  \"o-\")\n",
    "plt.axis([0, n_epochs - 1, 0, 0.01])\n",
    "plt.xlabel(\"Epoch\")\n",
    "plt.ylabel(\"Learning Rate\")\n",
    "plt.title(\"Power Scheduling\", fontsize=14)\n",
    "plt.grid(True)\n",
    "plt.show()"
   ]
  },
  {
   "cell_type": "markdown",
   "metadata": {},
   "source": [
    "#### 지수 기반 스케쥴링\n",
    "\n",
    "```lr = lr0 * 0.1**(epoch / s)```"
   ]
  },
  {
   "cell_type": "code",
   "execution_count": 44,
   "metadata": {},
   "outputs": [],
   "source": [
    "def exponential_decay_fn(epoch):\n",
    "    return 0.01 * 0.1**(epoch / 20)"
   ]
  },
  {
   "cell_type": "code",
   "execution_count": 45,
   "metadata": {},
   "outputs": [],
   "source": [
    "model = keras.models.Sequential([\n",
    "    keras.layers.Flatten(input_shape=[28, 28]),\n",
    "    keras.layers.Dense(300, activation=\"selu\", kernel_initializer=\"lecun_normal\"),\n",
    "    keras.layers.Dense(100, activation=\"selu\", kernel_initializer=\"lecun_normal\"),\n",
    "    keras.layers.Dense(10, activation=\"softmax\")\n",
    "])\n",
    "model.compile(loss=\"sparse_categorical_crossentropy\", optimizer=\"nadam\", metrics=[\"accuracy\"])\n",
    "n_epochs = 25"
   ]
  },
  {
   "cell_type": "code",
   "execution_count": 46,
   "metadata": {},
   "outputs": [
    {
     "name": "stdout",
     "output_type": "stream",
     "text": [
      "Epoch 1/25\n",
      "1719/1719 [==============================] - 5s 2ms/step - loss: 0.8468 - accuracy: 0.7548 - val_loss: 0.9087 - val_accuracy: 0.6616 - lr: 0.0100\n",
      "Epoch 2/25\n",
      "1719/1719 [==============================] - 4s 2ms/step - loss: 0.7042 - accuracy: 0.7862 - val_loss: 0.7514 - val_accuracy: 0.7754 - lr: 0.0089\n",
      "Epoch 3/25\n",
      "1719/1719 [==============================] - 4s 2ms/step - loss: 0.6795 - accuracy: 0.7944 - val_loss: 0.7080 - val_accuracy: 0.7590 - lr: 0.0079\n",
      "Epoch 4/25\n",
      "1719/1719 [==============================] - 4s 2ms/step - loss: 0.6142 - accuracy: 0.8160 - val_loss: 0.8681 - val_accuracy: 0.8156 - lr: 0.0071\n",
      "Epoch 5/25\n",
      "1719/1719 [==============================] - 4s 2ms/step - loss: 0.5675 - accuracy: 0.8249 - val_loss: 0.7166 - val_accuracy: 0.8172 - lr: 0.0063\n",
      "Epoch 6/25\n",
      "1719/1719 [==============================] - 4s 2ms/step - loss: 0.5087 - accuracy: 0.8419 - val_loss: 0.5299 - val_accuracy: 0.8380 - lr: 0.0056\n",
      "Epoch 7/25\n",
      "1719/1719 [==============================] - 4s 2ms/step - loss: 0.4594 - accuracy: 0.8536 - val_loss: 0.5538 - val_accuracy: 0.8462 - lr: 0.0050\n",
      "Epoch 8/25\n",
      "1719/1719 [==============================] - 4s 2ms/step - loss: 0.4000 - accuracy: 0.8668 - val_loss: 0.5204 - val_accuracy: 0.8546 - lr: 0.0045\n",
      "Epoch 9/25\n",
      "1719/1719 [==============================] - 4s 2ms/step - loss: 0.3921 - accuracy: 0.8708 - val_loss: 0.4771 - val_accuracy: 0.8516 - lr: 0.0040\n",
      "Epoch 10/25\n",
      "1719/1719 [==============================] - 4s 2ms/step - loss: 0.3584 - accuracy: 0.8795 - val_loss: 0.4634 - val_accuracy: 0.8654 - lr: 0.0035\n",
      "Epoch 11/25\n",
      "1719/1719 [==============================] - 4s 2ms/step - loss: 0.3310 - accuracy: 0.8878 - val_loss: 0.4811 - val_accuracy: 0.8578 - lr: 0.0032\n",
      "Epoch 12/25\n",
      "1719/1719 [==============================] - 4s 2ms/step - loss: 0.3097 - accuracy: 0.8924 - val_loss: 0.5350 - val_accuracy: 0.8608 - lr: 0.0028\n",
      "Epoch 13/25\n",
      "1719/1719 [==============================] - 4s 2ms/step - loss: 0.2880 - accuracy: 0.9003 - val_loss: 0.4307 - val_accuracy: 0.8766 - lr: 0.0025\n",
      "Epoch 14/25\n",
      "1719/1719 [==============================] - 4s 2ms/step - loss: 0.2662 - accuracy: 0.9080 - val_loss: 0.4363 - val_accuracy: 0.8840 - lr: 0.0022\n",
      "Epoch 15/25\n",
      "1719/1719 [==============================] - 4s 2ms/step - loss: 0.2488 - accuracy: 0.9127 - val_loss: 0.4884 - val_accuracy: 0.8812 - lr: 0.0020\n",
      "Epoch 16/25\n",
      "1719/1719 [==============================] - 4s 2ms/step - loss: 0.2332 - accuracy: 0.9172 - val_loss: 0.4750 - val_accuracy: 0.8746 - lr: 0.0018\n",
      "Epoch 17/25\n",
      "1719/1719 [==============================] - 4s 2ms/step - loss: 0.2206 - accuracy: 0.9231 - val_loss: 0.4362 - val_accuracy: 0.8846 - lr: 0.0016\n",
      "Epoch 18/25\n",
      "1719/1719 [==============================] - 4s 2ms/step - loss: 0.2035 - accuracy: 0.9292 - val_loss: 0.4997 - val_accuracy: 0.8858 - lr: 0.0014\n",
      "Epoch 19/25\n",
      "1719/1719 [==============================] - 4s 2ms/step - loss: 0.1921 - accuracy: 0.9331 - val_loss: 0.5810 - val_accuracy: 0.8846 - lr: 0.0013\n",
      "Epoch 20/25\n",
      "1719/1719 [==============================] - 4s 2ms/step - loss: 0.1783 - accuracy: 0.9382 - val_loss: 0.4422 - val_accuracy: 0.8908 - lr: 0.0011\n",
      "Epoch 21/25\n",
      "1719/1719 [==============================] - 4s 2ms/step - loss: 0.1719 - accuracy: 0.9411 - val_loss: 0.5026 - val_accuracy: 0.8886 - lr: 0.0010\n",
      "Epoch 22/25\n",
      "1719/1719 [==============================] - 4s 2ms/step - loss: 0.1601 - accuracy: 0.9441 - val_loss: 0.5054 - val_accuracy: 0.8906 - lr: 8.9125e-04\n",
      "Epoch 23/25\n",
      "1719/1719 [==============================] - 4s 2ms/step - loss: 0.1521 - accuracy: 0.9480 - val_loss: 0.5139 - val_accuracy: 0.8874 - lr: 7.9433e-04\n",
      "Epoch 24/25\n",
      "1719/1719 [==============================] - 4s 2ms/step - loss: 0.1413 - accuracy: 0.9511 - val_loss: 0.5676 - val_accuracy: 0.8874 - lr: 7.0795e-04\n",
      "Epoch 25/25\n",
      "1719/1719 [==============================] - 4s 2ms/step - loss: 0.1382 - accuracy: 0.9538 - val_loss: 0.6133 - val_accuracy: 0.8904 - lr: 6.3096e-04\n"
     ]
    }
   ],
   "source": [
    "lr_scheduler = keras.callbacks.LearningRateScheduler(exponential_decay_fn)\n",
    "history = model.fit(X_train_scaled, y_train, epochs=n_epochs,\n",
    "                    validation_data=(X_valid_scaled, y_valid),\n",
    "                    callbacks=[lr_scheduler])"
   ]
  },
  {
   "cell_type": "code",
   "execution_count": 47,
   "metadata": {},
   "outputs": [
    {
     "data": {
      "image/png": "[encoded data removed]",
      "text/plain": [
       "<Figure size 432x288 with 1 Axes>"
      ]
     },
     "metadata": {
      "needs_background": "light"
     },
     "output_type": "display_data"
    }
   ],
   "source": [
    "plt.plot(history.epoch, history.history[\"lr\"], \"o-\")\n",
    "plt.axis([0, n_epochs - 1, 0, 0.011])\n",
    "plt.xlabel(\"Epoch\")\n",
    "plt.ylabel(\"Learning Rate\")\n",
    "plt.title(\"Exponential Scheduling\", fontsize=14)\n",
    "plt.grid(True)\n",
    "plt.show()"
   ]
  },
  {
   "cell_type": "markdown",
   "metadata": {},
   "source": [
    "그 외에\n",
    "\n",
    "* 구간별 고정 스케쥴링\n",
    "* 성능 기반 스케쥴링\n",
    "* 1 사이클 스케쥴링"
   ]
  },
  {
   "cell_type": "markdown",
   "metadata": {},
   "source": [
    "## 규제를 통한 과대적합 피하기"
   ]
  },
  {
   "cell_type": "markdown",
   "metadata": {},
   "source": [
    "#### $\\ell_1$과 $\\ell_2$ 규제\n",
    "\n",
    "선형 모델에서 했던 것처럼 신경망의 연결 가중치를 제한하기 위해  $\\ell_2$ 규제를 사용하거나, 아예 일부 가중치를 0으로 만들기 위해  $\\ell_1$ 규제를 적용할 수 있다."
   ]
  },
  {
   "cell_type": "code",
   "execution_count": 48,
   "metadata": {},
   "outputs": [],
   "source": [
    "layer = keras.layers.Dense(100, activation=\"elu\",\n",
    "                           kernel_initializer=\"he_normal\",\n",
    "                           kernel_regularizer=keras.regularizers.l2(0.01))\n",
    "# or l1(0.1) for ℓ1 regularization with a factor or 0.1\n",
    "# or l1_l2(0.1, 0.01) for both ℓ1 and ℓ2 regularization, with factors 0.1 and 0.01 respectively"
   ]
  },
  {
   "cell_type": "code",
   "execution_count": 49,
   "metadata": {},
   "outputs": [
    {
     "name": "stdout",
     "output_type": "stream",
     "text": [
      "Epoch 1/2\n",
      "1719/1719 [==============================] - 4s 2ms/step - loss: 1.6391 - accuracy: 0.8130 - val_loss: 0.7551 - val_accuracy: 0.8098\n",
      "Epoch 2/2\n",
      "1719/1719 [==============================] - 4s 2ms/step - loss: 0.7221 - accuracy: 0.8261 - val_loss: 0.6970 - val_accuracy: 0.8392\n"
     ]
    }
   ],
   "source": [
    "model = keras.models.Sequential([\n",
    "    keras.layers.Flatten(input_shape=[28, 28]),\n",
    "    keras.layers.Dense(300, activation=\"elu\",\n",
    "                       kernel_initializer=\"he_normal\",\n",
    "                       kernel_regularizer=keras.regularizers.l2(0.01)),\n",
    "    keras.layers.Dense(100, activation=\"elu\",\n",
    "                       kernel_initializer=\"he_normal\",\n",
    "                       kernel_regularizer=keras.regularizers.l2(0.01)),\n",
    "    keras.layers.Dense(10, activation=\"softmax\",\n",
    "                       kernel_regularizer=keras.regularizers.l2(0.01))\n",
    "])\n",
    "model.compile(loss=\"sparse_categorical_crossentropy\", optimizer=\"nadam\", metrics=[\"accuracy\"])\n",
    "n_epochs = 2\n",
    "history = model.fit(X_train_scaled, y_train, epochs=n_epochs,\n",
    "                    validation_data=(X_valid_scaled, y_valid))"
   ]
  },
  {
   "cell_type": "markdown",
   "metadata": {},
   "source": [
    "### 드롭아웃\n",
    "\n",
    "드롭아웃은 심층 신경망에서 인기 있는 규제로 잘 작동된다고 입증되었다.\n",
    "\n",
    "매 훈련 각 스텝에서 각 뉴런은 임시적으로 드롭아웃될 확률 $p$를 가진다.\n",
    "\n",
    "* 드롭아웃 비율은 보통 10-50% 사이를 지정한다.\n",
    "* 순환 신경망에서는 20-30%에 가깝고, 합성곱 신경망에서는 40-50%에 가깝다.\n",
    "\n",
    "즉, 이번 훈련에는 무시되어도 다음 훈련에서는 활성화 될 수 있다.\n",
    "\n",
    "훈련이 끝난 후에는 드랍아웃을 적용하지 않는다.\n",
    "\n",
    "각 훈련에서 고유한 네트워크가 생성되는 것처럼 간주할 수 있다.\n",
    "\n",
    "케라스에서는 ```keras.layers.Dropout```을 이용해 구현한다.  \n",
    "\n",
    "이 층은 훈련하는 동안 일부 입력을 랜덤하게 버린다 (0으로 설정).\n",
    "\n",
    "그 다음 남은 입력을 $1-p$로 나눈다."
   ]
  },
  {
   "cell_type": "markdown",
   "metadata": {},
   "source": [
    "<img src=\"data:image/png;base64,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\" width=\"600\" alt=\"\" />"
   ]
  },
  {
   "cell_type": "code",
   "execution_count": 50,
   "metadata": {},
   "outputs": [
    {
     "name": "stdout",
     "output_type": "stream",
     "text": [
      "Epoch 1/2\n",
      "1719/1719 [==============================] - 5s 2ms/step - loss: 0.5721 - accuracy: 0.8040 - val_loss: 0.3915 - val_accuracy: 0.8590\n",
      "Epoch 2/2\n",
      "1719/1719 [==============================] - 4s 2ms/step - loss: 0.4187 - accuracy: 0.8467 - val_loss: 0.3465 - val_accuracy: 0.8736\n"
     ]
    }
   ],
   "source": [
    "model = keras.models.Sequential([\n",
    "    keras.layers.Flatten(input_shape=[28, 28]),\n",
    "    keras.layers.Dropout(rate=0.2),\n",
    "    keras.layers.Dense(300, activation=\"elu\", kernel_initializer=\"he_normal\"),\n",
    "    keras.layers.Dropout(rate=0.2),\n",
    "    keras.layers.Dense(100, activation=\"elu\", kernel_initializer=\"he_normal\"),\n",
    "    keras.layers.Dropout(rate=0.2),\n",
    "    keras.layers.Dense(10, activation=\"softmax\")\n",
    "])\n",
    "model.compile(loss=\"sparse_categorical_crossentropy\", optimizer=\"nadam\", metrics=[\"accuracy\"])\n",
    "n_epochs = 2\n",
    "history = model.fit(X_train_scaled, y_train, epochs=n_epochs,\n",
    "                    validation_data=(X_valid_scaled, y_valid))"
   ]
  },
  {
   "cell_type": "markdown",
   "metadata": {},
   "source": [
    "간단하게 더 살펴보자.\n",
    "\n",
    "Dropout layer에 ```training=True```로 설정하여 값을 통과시키면 랜덤하게 일부가 0으로 설정되는 것을 볼 수 있다."
   ]
  },
  {
   "cell_type": "code",
   "execution_count": 51,
   "metadata": {},
   "outputs": [],
   "source": [
    "dropmodel = keras.models.Sequential([\n",
    "    keras.layers.Dense(10, input_shape=(None, 5), activation=\"relu\"),\n",
    "    keras.layers.Dropout(rate=0.5),\n",
    "    keras.layers.Dense(3, activation=\"softmax\")\n",
    "])"
   ]
  },
  {
   "cell_type": "code",
   "execution_count": 52,
   "metadata": {},
   "outputs": [
    {
     "name": "stdout",
     "output_type": "stream",
     "text": [
      "tf.Tensor(\n",
      "[[0.26126933 0.         0.         0.61318904 0.         1.132799\n",
      "  0.         0.         0.         1.6130712 ]], shape=(1, 10), dtype=float32)\n"
     ]
    }
   ],
   "source": [
    "output1 = dropmodel.layers[0](np.array([[1, 2, 3, 4, 5]]))\n",
    "print(output1)"
   ]
  },
  {
   "cell_type": "code",
   "execution_count": 53,
   "metadata": {},
   "outputs": [
    {
     "name": "stdout",
     "output_type": "stream",
     "text": [
      "tf.Tensor(\n",
      "[[0.       0.       0.       0.       0.       2.265598 0.       0.\n",
      "  0.       0.      ]], shape=(1, 10), dtype=float32)\n"
     ]
    }
   ],
   "source": [
    "output2 = dropmodel.layers[1](output1, training=True)\n",
    "print(output2)"
   ]
  },
  {
   "cell_type": "markdown",
   "metadata": {},
   "source": [
    "훈련이 아닐 경우에는 입력이 출력으로 그대로 전달된다."
   ]
  },
  {
   "cell_type": "code",
   "execution_count": 54,
   "metadata": {},
   "outputs": [
    {
     "name": "stdout",
     "output_type": "stream",
     "text": [
      "tf.Tensor(\n",
      "[[0.26126933 0.         0.         0.61318904 0.         1.132799\n",
      "  0.         0.         0.         1.6130712 ]], shape=(1, 10), dtype=float32)\n"
     ]
    }
   ],
   "source": [
    "print(dropmodel.layers[1](output1))"
   ]
  },
  {
   "cell_type": "markdown",
   "metadata": {},
   "source": [
    "모델이 과대적합 되었다면 드롭아웃 비율을 늘릴 수 있다.  \n",
    "반대로 모델이 과소적합 되었다면 드롭아웃 비율을 낮추어야 한다.  \n",
    "층이 클 때는 드롭아웃 비율을 늘리고 작은 층에는 드롭아웃 비율을 낮추는 것도 도움이 된다.  \n",
    "또한 많은 최신의 신경망 구조는 마지막 은닉층에만 드롭아웃을 사용하기도 한다."
   ]
  }
 ],
 "metadata": {
  "kernelspec": {
   "display_name": "Python 3 (ipykernel)",
   "language": "python",
   "name": "python3"
  },
  "language_info": {
   "codemirror_mode": {
    "name": "ipython",
    "version": 3
   },
   "file_extension": ".py",
   "mimetype": "text/x-python",
   "name": "python",
   "nbconvert_exporter": "python",
   "pygments_lexer": "ipython3",
   "version": "3.9.13"
  }
 },
 "nbformat": 4,
 "nbformat_minor": 4
}
